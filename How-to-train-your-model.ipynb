{
 "cells": [
  {
   "cell_type": "markdown",
   "metadata": {},
   "source": [
    "## How to train your model"
   ]
  },
  {
   "cell_type": "code",
   "execution_count": 1,
   "metadata": {},
   "outputs": [],
   "source": [
    "from fastai.basics import *\n",
    "from pathlib import Path\n",
    "from IPython.core.debugger import set_trace\n",
    "from fastai import datasets\n",
    "import pickle, gzip, math\n",
    "import matplotlib as mpl\n",
    "import torch\n",
    "import matplotlib.pyplot as plt\n",
    "from torch import tensor\n",
    "\n",
    "import time\n",
    "\n",
    "def timeit(func):\n",
    "    def wrapper(*args, **kwargs):\n",
    "        now = time.time()\n",
    "        retval = func(*args, **kwargs)\n",
    "        print('{} took {:.5f}s'.format(func.__name__, time.time() - now))\n",
    "        return retval\n",
    "    return wrapper\n",
    "\n",
    "\n",
    "# if not exist, download mnist dataset\n",
    "import torchvision\n",
    "import torchvision.datasets as dset\n",
    "import torchvision.transforms as transforms\n",
    "import torch.nn.functional as F\n",
    "import torch.optim as optim"
   ]
  },
  {
   "cell_type": "code",
   "execution_count": 2,
   "metadata": {},
   "outputs": [],
   "source": [
    "def get_data():\n",
    "    path = \"/work2/05515/bflynn/frontera/data/mnist.pkl.gz\"\n",
    "    with gzip.open(path, 'rb') as f:\n",
    "        ((x_train, y_train), (x_valid, y_valid), _) = pickle.load(f, encoding='latin-1')\n",
    "    return map(tensor, (x_train,y_train,x_valid,y_valid))"
   ]
  },
  {
   "cell_type": "code",
   "execution_count": 3,
   "metadata": {},
   "outputs": [],
   "source": [
    "def normalize(x, m, s): return (x-m)/s"
   ]
  },
  {
   "cell_type": "code",
   "execution_count": 4,
   "metadata": {},
   "outputs": [],
   "source": [
    "x_train,y_train,x_valid,y_valid = get_data()"
   ]
  },
  {
   "cell_type": "code",
   "execution_count": 5,
   "metadata": {},
   "outputs": [
    {
     "data": {
      "text/plain": [
       "torch.Size([50000, 784])"
      ]
     },
     "execution_count": 5,
     "metadata": {},
     "output_type": "execute_result"
    }
   ],
   "source": [
    "x_train.shape"
   ]
  },
  {
   "cell_type": "code",
   "execution_count": 6,
   "metadata": {},
   "outputs": [
    {
     "data": {
      "text/plain": [
       "torch.Size([50000])"
      ]
     },
     "execution_count": 6,
     "metadata": {},
     "output_type": "execute_result"
    }
   ],
   "source": [
    "y_train.shape"
   ]
  },
  {
   "cell_type": "code",
   "execution_count": 7,
   "metadata": {},
   "outputs": [
    {
     "data": {
      "text/plain": [
       "torch.Size([10000, 784])"
      ]
     },
     "execution_count": 7,
     "metadata": {},
     "output_type": "execute_result"
    }
   ],
   "source": [
    "x_valid.shape"
   ]
  },
  {
   "cell_type": "code",
   "execution_count": 8,
   "metadata": {
    "scrolled": true
   },
   "outputs": [
    {
     "data": {
      "text/plain": [
       "torch.Size([10000])"
      ]
     },
     "execution_count": 8,
     "metadata": {},
     "output_type": "execute_result"
    }
   ],
   "source": [
    "y_valid.shape"
   ]
  },
  {
   "cell_type": "code",
   "execution_count": 9,
   "metadata": {},
   "outputs": [
    {
     "data": {
      "text/plain": [
       "(tensor(0.1304), tensor(0.3073))"
      ]
     },
     "execution_count": 9,
     "metadata": {},
     "output_type": "execute_result"
    }
   ],
   "source": [
    "train_mean,train_std = x_train.mean(),x_train.std()\n",
    "train_mean,train_std"
   ]
  },
  {
   "cell_type": "code",
   "execution_count": 10,
   "metadata": {},
   "outputs": [],
   "source": [
    "x_train = normalize(x_train, train_mean, train_std)\n",
    "# NB: Use training, not validation mean for validation set\n",
    "# Why? If you normalize the two datasets with differently, they'll be on \n",
    "# totally different scales from one another - won't be able to tell \n",
    "# the differences between images in both sets \n",
    "x_valid = normalize(x_valid, train_mean, train_std)"
   ]
  },
  {
   "cell_type": "code",
   "execution_count": 11,
   "metadata": {},
   "outputs": [],
   "source": [
    "mpl.rcParams['image.cmap'] = 'gray'"
   ]
  },
  {
   "cell_type": "code",
   "execution_count": 12,
   "metadata": {},
   "outputs": [],
   "source": [
    "img = x_train[0]"
   ]
  },
  {
   "cell_type": "code",
   "execution_count": 13,
   "metadata": {},
   "outputs": [
    {
     "data": {
      "image/png": "[encoded data removed]",
      "text/plain": [
       "<Figure size 432x288 with 1 Axes>"
      ]
     },
     "metadata": {
      "needs_background": "light"
     },
     "output_type": "display_data"
    }
   ],
   "source": [
    "plt.imshow(img.view((28,28)));"
   ]
  },
  {
   "cell_type": "markdown",
   "metadata": {},
   "source": [
    "# Why the hell do inits matter?\n",
    "\n",
    "And why you need a good one"
   ]
  },
  {
   "cell_type": "code",
   "execution_count": 14,
   "metadata": {},
   "outputs": [],
   "source": [
    "x = torch.randn(512)\n",
    "a = torch.randn(512,512)"
   ]
  },
  {
   "cell_type": "code",
   "execution_count": 15,
   "metadata": {},
   "outputs": [],
   "source": [
    "for i in range(100): x = a @ x"
   ]
  },
  {
   "cell_type": "code",
   "execution_count": 16,
   "metadata": {},
   "outputs": [
    {
     "data": {
      "text/plain": [
       "(tensor(nan), tensor(nan))"
      ]
     },
     "execution_count": 16,
     "metadata": {},
     "output_type": "execute_result"
    }
   ],
   "source": [
    "x.mean(), x.std()"
   ]
  },
  {
   "cell_type": "markdown",
   "metadata": {},
   "source": [
    "### What the heck happened? Activation explosion!\n",
    "Let's ask the loop to break when our activations explode"
   ]
  },
  {
   "cell_type": "code",
   "execution_count": 17,
   "metadata": {},
   "outputs": [],
   "source": [
    "x = torch.randn(512)\n",
    "a = torch.randn(512,512)"
   ]
  },
  {
   "cell_type": "code",
   "execution_count": 18,
   "metadata": {},
   "outputs": [],
   "source": [
    "for i in range(100):\n",
    "    x = a @ x\n",
    "    if x.std() != x.std(): break"
   ]
  },
  {
   "cell_type": "code",
   "execution_count": 19,
   "metadata": {},
   "outputs": [
    {
     "data": {
      "text/plain": [
       "28"
      ]
     },
     "execution_count": 19,
     "metadata": {},
     "output_type": "execute_result"
    }
   ],
   "source": [
    "i"
   ]
  },
  {
   "cell_type": "markdown",
   "metadata": {},
   "source": [
    "It only takes 28 iterations until our activations explode!\n",
    "\n",
    "What about if we initialize our activations with a scale that is really low?"
   ]
  },
  {
   "cell_type": "code",
   "execution_count": 20,
   "metadata": {},
   "outputs": [],
   "source": [
    "x = torch.randn(512)\n",
    "a = torch.randn(512,512)*0.01"
   ]
  },
  {
   "cell_type": "code",
   "execution_count": 21,
   "metadata": {},
   "outputs": [],
   "source": [
    "for i in range(100): x = a @ x"
   ]
  },
  {
   "cell_type": "code",
   "execution_count": 22,
   "metadata": {},
   "outputs": [
    {
     "data": {
      "text/plain": [
       "(tensor(0.), tensor(0.))"
      ]
     },
     "execution_count": 22,
     "metadata": {},
     "output_type": "execute_result"
    }
   ],
   "source": [
    "x.mean(), x.std()"
   ]
  },
  {
   "cell_type": "markdown",
   "metadata": {},
   "source": [
    "So now every activation has vanished, to zero. **This is the reason why we couldn't train deep neural networks for so long - initializing them is challenging and you need to pick the right initialization or your activations get too big to handle (nan) or vanish entirely!**\n",
    "\n",
    "Some strategies to properly initialize - \n",
    "\n",
    "- use stdev that will make sure x and ax have the *same* scale\n",
    "- orthogonal matrix initializes weight, so x and ax would have same sum of squares by preserving the L2 norm\n",
    "- spectral normalization on matrix A (spectral norm is least possible number M such that ```torch.norm(A@x) <= M*torch.norm(x)``` so dividing A by this M insures you don't overflow. You can still vanish with this)"
   ]
  },
  {
   "cell_type": "markdown",
   "metadata": {},
   "source": [
    "# Xavier initialization\n",
    "\n",
    "TLDR: scale equal to ```1/math.sqrt(n_in)```, where ```n_in``` is the **number of inputs of our matrix**."
   ]
  },
  {
   "cell_type": "code",
   "execution_count": 23,
   "metadata": {},
   "outputs": [],
   "source": [
    "import math\n",
    "\n",
    "x = torch.randn(512)\n",
    "a = torch.randn(512,512)/math.sqrt(512)"
   ]
  },
  {
   "cell_type": "code",
   "execution_count": 24,
   "metadata": {},
   "outputs": [],
   "source": [
    "for i in range(100): x = a @ x"
   ]
  },
  {
   "cell_type": "code",
   "execution_count": 25,
   "metadata": {},
   "outputs": [
    {
     "data": {
      "text/plain": [
       "(tensor(-0.1363), tensor(7.0877))"
      ]
     },
     "execution_count": 25,
     "metadata": {},
     "output_type": "execute_result"
    }
   ],
   "source": [
    "x.mean(), x.std()"
   ]
  },
  {
   "cell_type": "markdown",
   "metadata": {},
   "source": [
    "# Kaiming initialization\n",
    "\n",
    "PyTorch kaiming init for reference ( just an example )"
   ]
  },
  {
   "cell_type": "code",
   "execution_count": 26,
   "metadata": {},
   "outputs": [],
   "source": [
    "nh = 32 # number of hidden layers just an example\n",
    "l1 = nn.Conv2d(1, nh, 5)"
   ]
  },
  {
   "cell_type": "code",
   "execution_count": 27,
   "metadata": {},
   "outputs": [],
   "source": [
    "nn.init.kaiming_normal_(l1.weight, a=1.);"
   ]
  },
  {
   "cell_type": "markdown",
   "metadata": {},
   "source": [
    "# All you need is a good init - paper"
   ]
  },
  {
   "cell_type": "code",
   "execution_count": 28,
   "metadata": {},
   "outputs": [],
   "source": [
    "# layering matrix multiplication, relu, fully connect it forward and then backward to pass back the gradients"
   ]
  },
  {
   "cell_type": "code",
   "execution_count": 29,
   "metadata": {},
   "outputs": [],
   "source": [
    "# Model Data (vars initialized above)"
   ]
  },
  {
   "cell_type": "code",
   "execution_count": 30,
   "metadata": {},
   "outputs": [],
   "source": [
    "n, m = x_train.shape\n",
    "c = y_train.max()+1\n",
    "nh = 50"
   ]
  },
  {
   "cell_type": "code",
   "execution_count": 31,
   "metadata": {},
   "outputs": [],
   "source": [
    "class Model(nn.Module):\n",
    "    def __init__(self, n_in, nh, n_out):\n",
    "        super().__init__()\n",
    "        self.layers = [nn.Linear(n_in, nh), nn.ReLU(), nn.Linear(nh, n_out)]\n",
    "        \n",
    "    def __call__(self, x):\n",
    "        for l in self.layers: x = l(x)\n",
    "        return x"
   ]
  },
  {
   "cell_type": "code",
   "execution_count": 32,
   "metadata": {},
   "outputs": [],
   "source": [
    "model = Model(m, nh, 10)"
   ]
  },
  {
   "cell_type": "code",
   "execution_count": 33,
   "metadata": {
    "scrolled": true
   },
   "outputs": [],
   "source": [
    "pred = model(x_train)"
   ]
  },
  {
   "cell_type": "code",
   "execution_count": 34,
   "metadata": {},
   "outputs": [],
   "source": [
    "# Need a loss function, without it we can't train"
   ]
  },
  {
   "cell_type": "markdown",
   "metadata": {},
   "source": [
    "# Cross Entropy Loss\n",
    "\n",
    "First, we will need to compute the softmax of our activations. This is defined by:\n",
    "\n",
    "$$\\hbox{softmax(x)}_{i} = \\frac{e^{x_{i}}}{e^{x_{0}} + e^{x_{1}} + \\cdots + e^{x_{n-1}}}$$\n",
    "\n",
    "or more concisely:\n",
    "\n",
    "$$\\hbox{softmax(x)}_{i} = \\frac{e^{x_{i}}}{\\sum_{0 \\leq j \\leq n-1} e^{x_{j}}}$$ \n",
    "\n",
    "In practice, we will need the log of the softmax when we calculate the loss."
   ]
  },
  {
   "cell_type": "code",
   "execution_count": 35,
   "metadata": {},
   "outputs": [],
   "source": [
    "# in code form: \n",
    "\n",
    "def log_softmax(x): return (x.exp()/(x.exp().sum(-1,keepdim=True))).log()"
   ]
  },
  {
   "cell_type": "code",
   "execution_count": 36,
   "metadata": {},
   "outputs": [],
   "source": [
    "sm_pred = log_softmax(pred)"
   ]
  },
  {
   "cell_type": "code",
   "execution_count": 37,
   "metadata": {},
   "outputs": [],
   "source": [
    "# when you multiply by zero in a one hot encoded vector, doing nothing and also slow\n",
    "# faster way - what is the location of what you care about? which is one\n",
    "# Use the index of our actual! (the one in a one hot encoded matrix or vector)"
   ]
  },
  {
   "cell_type": "code",
   "execution_count": 38,
   "metadata": {},
   "outputs": [
    {
     "data": {
      "text/plain": [
       "tensor([5, 0, 4])"
      ]
     },
     "execution_count": 38,
     "metadata": {},
     "output_type": "execute_result"
    }
   ],
   "source": [
    "y_train[:3]"
   ]
  },
  {
   "cell_type": "code",
   "execution_count": 39,
   "metadata": {},
   "outputs": [
    {
     "data": {
      "text/plain": [
       "torch.Size([50000, 10])"
      ]
     },
     "execution_count": 39,
     "metadata": {},
     "output_type": "execute_result"
    }
   ],
   "source": [
    "sm_pred.shape # sm = softmax predictions\n",
    "# 50,000 for all images in training set, 10 for number of pred categories"
   ]
  },
  {
   "cell_type": "code",
   "execution_count": 40,
   "metadata": {},
   "outputs": [
    {
     "data": {
      "text/plain": [
       "tensor(-1.9466, grad_fn=<SelectBackward>)"
      ]
     },
     "execution_count": 40,
     "metadata": {},
     "output_type": "execute_result"
    }
   ],
   "source": [
    "sm_pred[0][5]"
   ]
  },
  {
   "cell_type": "code",
   "execution_count": 41,
   "metadata": {},
   "outputs": [
    {
     "data": {
      "text/plain": [
       "tensor([-1.9466, -2.2533, -2.4473], grad_fn=<IndexBackward>)"
      ]
     },
     "execution_count": 41,
     "metadata": {},
     "output_type": "execute_result"
    }
   ],
   "source": [
    "sm_pred[[0,1,2], [5,0,4]] \n",
    "# works because pytorch does numpy advanced indexing!\n",
    "# integer array indexing\n",
    "\n",
    "# can pass a list for each dimension(2 dims, 2 lists)\n",
    "# first is the row indexes you want\n",
    "# second is the column indexes you want\n",
    "\n",
    "# returns 0,5 - 1,0 - 2,4\n",
    "# check that above and below 0,5 are the same"
   ]
  },
  {
   "cell_type": "code",
   "execution_count": 42,
   "metadata": {},
   "outputs": [
    {
     "data": {
      "text/plain": [
       "50000"
      ]
     },
     "execution_count": 42,
     "metadata": {},
     "output_type": "execute_result"
    }
   ],
   "source": [
    "y_train.shape[0]"
   ]
  },
  {
   "cell_type": "code",
   "execution_count": 43,
   "metadata": {},
   "outputs": [],
   "source": [
    "# negative log likelihood function\n",
    "def nll(input, target): return -input[range(target.shape[0]), target].mean()\n",
    "\n",
    "# all row indexes, and targets is columns we want\n",
    "# include \"-\" before input - because negative log likelihood\n",
    "# then, take the mean"
   ]
  },
  {
   "cell_type": "code",
   "execution_count": 44,
   "metadata": {},
   "outputs": [],
   "source": [
    "# loss is the negative log likelihood of softmax predictions, compared \n",
    "# to actual training (y_training)\n",
    "\n",
    "loss = nll(sm_pred, y_train)"
   ]
  },
  {
   "cell_type": "code",
   "execution_count": 45,
   "metadata": {},
   "outputs": [
    {
     "data": {
      "text/plain": [
       "tensor(2.3448, grad_fn=<NegBackward>)"
      ]
     },
     "execution_count": 45,
     "metadata": {},
     "output_type": "execute_result"
    }
   ],
   "source": [
    "loss"
   ]
  },
  {
   "cell_type": "markdown",
   "metadata": {},
   "source": [
    "Note that the formula \n",
    "\n",
    "$$\\log \\left ( \\frac{a}{b} \\right ) = \\log(a) - \\log(b)$$ \n",
    "\n",
    "gives a simplification when we compute the log softmax, which was previously defined as `(x.exp()/(x.exp().sum(-1,keepdim=True))).log()`"
   ]
  },
  {
   "cell_type": "code",
   "execution_count": 46,
   "metadata": {},
   "outputs": [],
   "source": [
    "def log_softmax(x): return x - x.exp().sum(-1, keepdim=True).log()"
   ]
  },
  {
   "cell_type": "markdown",
   "metadata": {},
   "source": [
    "Then, there is a way to compute the log of the sum of exponentials in a more stable way, called the [LogSumExp trick](https://en.wikipedia.org/wiki/LogSumExp). The idea is to use the following formula:\n",
    "\n",
    "$$\\log \\left ( \\sum_{j=1}^{n} e^{x_{j}} \\right ) = \\log \\left ( e^{a} \\sum_{j=1}^{n} e^{x_{j}-a} \\right ) = a + \\log \\left ( \\sum_{j=1}^{n} e^{x_{j}-a} \\right )$$\n",
    "\n",
    "where a is the maximum of the $x_{j}$."
   ]
  },
  {
   "cell_type": "code",
   "execution_count": 47,
   "metadata": {},
   "outputs": [],
   "source": [
    "# when you go x.exp() - can get very big numbers\n",
    "# huge numbers in floating numbers on a computer, wildly inprecise\n",
    "# computer could thing two huge numbers 1000 apart are exactly the same"
   ]
  },
  {
   "cell_type": "code",
   "execution_count": 48,
   "metadata": {},
   "outputs": [],
   "source": [
    "def logsumexp(x):\n",
    "    m = x.max(-1)[0]\n",
    "    return m + (x-m[:, None]).exp().sum(-1).log()"
   ]
  },
  {
   "cell_type": "markdown",
   "metadata": {},
   "source": [
    "### In PyTorch, `F.log_softmax` and `F.nll_loss` are combined in one optimized function, `F.cross_entropy`."
   ]
  },
  {
   "cell_type": "markdown",
   "metadata": {},
   "source": [
    "____"
   ]
  },
  {
   "cell_type": "markdown",
   "metadata": {},
   "source": [
    "# Basic Training\n",
    "\n",
    "Basically the training loop repeats over the following steps:\n",
    "- get the output of the model on a batch of inputs\n",
    "- compare the output to the labels we have and compute a loss\n",
    "- calculate the gradients of the loss with respect to every parameter of the model\n",
    "- update said parameters with those gradients to make them a little bit better"
   ]
  },
  {
   "cell_type": "code",
   "execution_count": 49,
   "metadata": {},
   "outputs": [],
   "source": [
    "loss_func = F.cross_entropy"
   ]
  },
  {
   "cell_type": "code",
   "execution_count": 50,
   "metadata": {},
   "outputs": [],
   "source": [
    "def accuracy(out, yb): return (torch.argmax(out, dim=1) == yb).float().mean()\n",
    "# grab argmax, which number in softmax is highest, index of that is our prediction\n",
    "# (index would be what category was predicted in the one hot encoded matrix)\n",
    "# check whether that's equal to the actual\n",
    "# take the mean, convert it to a float first (can't take mean of int in pytorch)"
   ]
  },
  {
   "cell_type": "code",
   "execution_count": 51,
   "metadata": {},
   "outputs": [
    {
     "data": {
      "text/plain": [
       "(tensor([ 0.1760, -0.3334,  0.6334, -0.0093, -0.2983,  0.5190, -0.2911,  0.5797,\n",
       "         -0.0902,  0.1106], grad_fn=<SelectBackward>),\n",
       " torch.Size([64, 10]))"
      ]
     },
     "execution_count": 51,
     "metadata": {},
     "output_type": "execute_result"
    }
   ],
   "source": [
    "bs = 64\n",
    "xb = x_train[0:bs]\n",
    "preds = model(xb)\n",
    "preds[0], preds.shape"
   ]
  },
  {
   "cell_type": "code",
   "execution_count": 52,
   "metadata": {},
   "outputs": [
    {
     "data": {
      "text/plain": [
       "tensor(2.3418, grad_fn=<NllLossBackward>)"
      ]
     },
     "execution_count": 52,
     "metadata": {},
     "output_type": "execute_result"
    }
   ],
   "source": [
    "yb = y_train[0:bs]\n",
    "loss_func(preds, yb)"
   ]
  },
  {
   "cell_type": "code",
   "execution_count": 53,
   "metadata": {},
   "outputs": [
    {
     "data": {
      "text/plain": [
       "tensor(0.0312)"
      ]
     },
     "execution_count": 53,
     "metadata": {},
     "output_type": "execute_result"
    }
   ],
   "source": [
    "accuracy(preds, yb) \n",
    "# haven't trained our model yet, so the accuracy based on the \n",
    "# randomly initialized parameters is 10 ish percent"
   ]
  },
  {
   "cell_type": "code",
   "execution_count": 54,
   "metadata": {},
   "outputs": [],
   "source": [
    "lr = 0.5 # learning rate\n",
    "epochs = 1 # how many epochs to train for"
   ]
  },
  {
   "cell_type": "markdown",
   "metadata": {},
   "source": [
    "## Training loop\n",
    "\n",
    "- calculate predictions\n",
    "- calculate your loss\n",
    "- do backward pass\n",
    "- **subtract learning rate times gradients**\n",
    "- and then **zero the gradients**"
   ]
  },
  {
   "cell_type": "code",
   "execution_count": 55,
   "metadata": {},
   "outputs": [],
   "source": [
    "for epoch in range(epochs):\n",
    "    for i in range((n-1)//bs+1):\n",
    "        start_i = i*bs\n",
    "        end_i = start_i+bs\n",
    "        xb = x_train[start_i : end_i]\n",
    "        yb = y_train[start_i : end_i]\n",
    "        loss = loss_func(model(xb), yb)\n",
    "        \n",
    "        loss.backward()\n",
    "        with torch.no_grad():\n",
    "            for l in model.layers:\n",
    "                if hasattr(l, 'weight'):\n",
    "                    l.weight -= l.weight.grad*lr\n",
    "                    l.bias -= l.bias.grad*lr\n",
    "                    l.weight.grad.zero_()\n",
    "                    l.bias  .grad.zero_()"
   ]
  },
  {
   "cell_type": "code",
   "execution_count": 56,
   "metadata": {},
   "outputs": [
    {
     "data": {
      "text/plain": [
       "(tensor(0.2007, grad_fn=<NllLossBackward>), tensor(0.9375))"
      ]
     },
     "execution_count": 56,
     "metadata": {},
     "output_type": "execute_result"
    }
   ],
   "source": [
    "loss_func(model(xb), yb), accuracy(model(xb), yb)"
   ]
  },
  {
   "cell_type": "markdown",
   "metadata": {},
   "source": [
    "# Using parameters and optim"
   ]
  },
  {
   "cell_type": "code",
   "execution_count": 57,
   "metadata": {},
   "outputs": [],
   "source": [
    "def fit():\n",
    "    for epoch in range(epochs):\n",
    "        for i in range((n-1)//bs + 1):\n",
    "            start_i = i*bs\n",
    "            end_i = start_i+bs\n",
    "            xb = x_train[start_i:end_i]\n",
    "            yb = y_train[start_i:end_i]\n",
    "            loss = loss_func(model(xb), yb)\n",
    "\n",
    "            loss.backward()\n",
    "            ## with torch.no_grad() refactoring, replace with\n",
    "            # model.parameters\n",
    "            with torch.no_grad():\n",
    "                for p in model.parameters(): p -= p.grad * lr\n",
    "                model.zero_grad()"
   ]
  },
  {
   "cell_type": "code",
   "execution_count": 58,
   "metadata": {},
   "outputs": [
    {
     "data": {
      "text/plain": [
       "(tensor(0.2007, grad_fn=<NllLossBackward>), tensor(0.9375))"
      ]
     },
     "execution_count": 58,
     "metadata": {},
     "output_type": "execute_result"
    }
   ],
   "source": [
    "fit()\n",
    "loss_func(model(xb), yb), accuracy(model(xb), yb)"
   ]
  },
  {
   "cell_type": "markdown",
   "metadata": {},
   "source": [
    "Behind the scenes, PyTorch overrides the `__setattr__` function in `nn.Module` so that the submodules you define are properly registered as parameters of the model."
   ]
  },
  {
   "cell_type": "code",
   "execution_count": 59,
   "metadata": {},
   "outputs": [],
   "source": [
    "class DummyModule():\n",
    "    def __init__(self, n_in, nh, n_out):\n",
    "        self._modules = {}\n",
    "        self.l1 = nn.Linear(n_in,nh)\n",
    "        self.l2 = nn.Linear(nh,n_out)\n",
    "        # every time set an attribute, update a list of _modules wiht list of all modules I have\n",
    "    def __setattr__(self,k,v):\n",
    "        if not k.startswith(\"_\"): self._modules[k] = v\n",
    "        super().__setattr__(k,v)\n",
    "        \n",
    "    def __repr__(self): return f'{self._modules}'\n",
    "    \n",
    "    def parameters(self):\n",
    "        for l in self._modules.values():\n",
    "            for p in l.parameters(): yield p"
   ]
  },
  {
   "cell_type": "code",
   "execution_count": 60,
   "metadata": {},
   "outputs": [
    {
     "data": {
      "text/plain": [
       "{'l1': Linear(in_features=784, out_features=50, bias=True), 'l2': Linear(in_features=50, out_features=10, bias=True)}"
      ]
     },
     "execution_count": 60,
     "metadata": {},
     "output_type": "execute_result"
    }
   ],
   "source": [
    "mdl = DummyModule(m,nh,10)\n",
    "mdl"
   ]
  },
  {
   "cell_type": "code",
   "execution_count": 61,
   "metadata": {},
   "outputs": [],
   "source": [
    "class Model(nn.Module):\n",
    "    def __init__(self, n_in, nh, n_out):\n",
    "        super().__init__() ## it has to set up dummy modules _modules dictionary\n",
    "        self.l1 = nn.Linear(n_in,nh)\n",
    "        self.l2 = nn.Linear(nh,n_out)\n",
    "        \n",
    "    def __call__(self, x): return self.l2(F.relu(self.l1(x)))"
   ]
  },
  {
   "cell_type": "code",
   "execution_count": 62,
   "metadata": {},
   "outputs": [],
   "source": [
    "model = Model(m, nh, 10)"
   ]
  },
  {
   "cell_type": "code",
   "execution_count": 63,
   "metadata": {},
   "outputs": [
    {
     "name": "stdout",
     "output_type": "stream",
     "text": [
      "l1:Linear(in_features=784, out_features=50, bias=True)\n",
      "l2:Linear(in_features=50, out_features=10, bias=True)\n"
     ]
    }
   ],
   "source": [
    "for name, l in model.named_children(): print(f\"{name}:{l}\")"
   ]
  },
  {
   "cell_type": "code",
   "execution_count": 64,
   "metadata": {},
   "outputs": [
    {
     "data": {
      "text/plain": [
       "Linear(in_features=784, out_features=50, bias=True)"
      ]
     },
     "execution_count": 64,
     "metadata": {},
     "output_type": "execute_result"
    }
   ],
   "source": [
    "model.l1"
   ]
  },
  {
   "cell_type": "markdown",
   "metadata": {},
   "source": [
    "# Registering modules"
   ]
  },
  {
   "cell_type": "code",
   "execution_count": 65,
   "metadata": {},
   "outputs": [],
   "source": [
    "layers = [nn.Linear(m, nh), nn.ReLU(), nn.Linear(nh, 10)]"
   ]
  },
  {
   "cell_type": "code",
   "execution_count": 66,
   "metadata": {},
   "outputs": [],
   "source": [
    "class Model(nn.Module):\n",
    "    def __init__(self, layers):\n",
    "        super().__init__() # needed to set up module dictionary\n",
    "        self.layers = layers\n",
    "        for i,l in enumerate(self.layers): self.add_module(f'layer_{i}', l)\n",
    "        \n",
    "    def __call__(self, x):\n",
    "        for l in self.layers: x = l(x)\n",
    "        return x"
   ]
  },
  {
   "cell_type": "code",
   "execution_count": 67,
   "metadata": {},
   "outputs": [],
   "source": [
    "model = Model(layers)"
   ]
  },
  {
   "cell_type": "code",
   "execution_count": 68,
   "metadata": {},
   "outputs": [
    {
     "data": {
      "text/plain": [
       "Model(\n",
       "  (layer_0): Linear(in_features=784, out_features=50, bias=True)\n",
       "  (layer_1): ReLU()\n",
       "  (layer_2): Linear(in_features=50, out_features=10, bias=True)\n",
       ")"
      ]
     },
     "execution_count": 68,
     "metadata": {},
     "output_type": "execute_result"
    }
   ],
   "source": [
    "model"
   ]
  },
  {
   "cell_type": "markdown",
   "metadata": {},
   "source": [
    "## nn.ModuleList"
   ]
  },
  {
   "cell_type": "code",
   "execution_count": 69,
   "metadata": {},
   "outputs": [],
   "source": [
    "class SequentialModel(nn.Module):\n",
    "    def __init__(self, layers):\n",
    "        super().__init__()\n",
    "        self.layers = nn.ModuleList(layers)\n",
    "        \n",
    "    def __call__(self, x):\n",
    "        for l in self.layers: x = l(x)\n",
    "        return x"
   ]
  },
  {
   "cell_type": "code",
   "execution_count": 70,
   "metadata": {},
   "outputs": [],
   "source": [
    "model = SequentialModel(layers)"
   ]
  },
  {
   "cell_type": "code",
   "execution_count": 71,
   "metadata": {},
   "outputs": [
    {
     "data": {
      "text/plain": [
       "SequentialModel(\n",
       "  (layers): ModuleList(\n",
       "    (0): Linear(in_features=784, out_features=50, bias=True)\n",
       "    (1): ReLU()\n",
       "    (2): Linear(in_features=50, out_features=10, bias=True)\n",
       "  )\n",
       ")"
      ]
     },
     "execution_count": 71,
     "metadata": {},
     "output_type": "execute_result"
    }
   ],
   "source": [
    "model"
   ]
  },
  {
   "cell_type": "code",
   "execution_count": 72,
   "metadata": {},
   "outputs": [],
   "source": [
    "nn.Sequential??"
   ]
  },
  {
   "cell_type": "markdown",
   "metadata": {},
   "source": [
    "# Optim\n",
    "\n",
    "**Further refactoring**\n",
    "\n",
    "Let's replace our previous manually coded optimization step:\n",
    "\n",
    "```python\n",
    "with torch.no_grad():\n",
    "    for p in model.parameters(): p -= p.grad * lr\n",
    "    model.zero_grad()\n",
    "```\n",
    "\n",
    "and instead use just:\n",
    "\n",
    "```python\n",
    "opt.step()\n",
    "opt.zero_grad()\n",
    "```"
   ]
  },
  {
   "cell_type": "code",
   "execution_count": 73,
   "metadata": {},
   "outputs": [],
   "source": [
    "class Optimizer():\n",
    "    def __init__(self, params, lr=0.5): \n",
    "        self.params,self.lr=list(params),lr\n",
    "        \n",
    "    def step(self):\n",
    "        with torch.no_grad():\n",
    "            for p in self.params: p -= p.grad * self.lr\n",
    "                \n",
    "    # select only parameters that you want to optimize, and zero \n",
    "    # their gradients\n",
    "\n",
    "    def zero_grad(self):\n",
    "        for p in self.params: p.grad.data.zero_()"
   ]
  },
  {
   "cell_type": "code",
   "execution_count": 74,
   "metadata": {},
   "outputs": [],
   "source": [
    "model = nn.Sequential(nn.Linear(m,nh), nn.ReLU(), nn.Linear(nh,10))"
   ]
  },
  {
   "cell_type": "code",
   "execution_count": 75,
   "metadata": {},
   "outputs": [],
   "source": [
    "opt = Optimizer(model.parameters())"
   ]
  },
  {
   "cell_type": "code",
   "execution_count": 76,
   "metadata": {},
   "outputs": [],
   "source": [
    "for epoch in range(epochs):\n",
    "    for i in range((n-1)//bs + 1):\n",
    "        start_i = i*bs\n",
    "        end_i = start_i+bs\n",
    "        xb = x_train[start_i:end_i]\n",
    "        yb = y_train[start_i:end_i]\n",
    "        pred = model(xb)\n",
    "        loss = loss_func(pred, yb)\n",
    "\n",
    "        loss.backward()\n",
    "        opt.step()\n",
    "        opt.zero_grad()"
   ]
  },
  {
   "cell_type": "code",
   "execution_count": 77,
   "metadata": {},
   "outputs": [
    {
     "data": {
      "text/plain": [
       "(tensor(0.8076, grad_fn=<NllLossBackward>), tensor(0.8125))"
      ]
     },
     "execution_count": 77,
     "metadata": {},
     "output_type": "execute_result"
    }
   ],
   "source": [
    "loss,acc = loss_func(model(xb), yb), accuracy(model(xb), yb)\n",
    "loss,acc"
   ]
  },
  {
   "cell_type": "code",
   "execution_count": 78,
   "metadata": {},
   "outputs": [],
   "source": [
    "from torch import optim"
   ]
  },
  {
   "cell_type": "code",
   "execution_count": 79,
   "metadata": {},
   "outputs": [],
   "source": [
    "def get_model():\n",
    "    model = nn.Sequential(nn.Linear(m,nh), nn.ReLU(), nn.Linear(nh,10))\n",
    "    return model, optim.SGD(model.parameters(), lr=lr)"
   ]
  },
  {
   "cell_type": "code",
   "execution_count": 80,
   "metadata": {},
   "outputs": [
    {
     "data": {
      "text/plain": [
       "tensor(2.3353, grad_fn=<NllLossBackward>)"
      ]
     },
     "execution_count": 80,
     "metadata": {},
     "output_type": "execute_result"
    }
   ],
   "source": [
    "model,opt = get_model()\n",
    "loss_func(model(xb), yb)"
   ]
  },
  {
   "cell_type": "code",
   "execution_count": 81,
   "metadata": {},
   "outputs": [],
   "source": [
    "for epoch in range(epochs):\n",
    "    for i in range((n-1)//bs + 1):\n",
    "        start_i = i*bs\n",
    "        end_i = start_i+bs\n",
    "        xb = x_train[start_i:end_i]\n",
    "        yb = y_train[start_i:end_i]\n",
    "        pred = model(xb)\n",
    "        loss = loss_func(pred, yb)\n",
    "\n",
    "        loss.backward()\n",
    "        opt.step()\n",
    "        opt.zero_grad()"
   ]
  },
  {
   "cell_type": "code",
   "execution_count": 82,
   "metadata": {},
   "outputs": [
    {
     "data": {
      "text/plain": [
       "(tensor(0.9692, grad_fn=<NllLossBackward>), tensor(0.7500))"
      ]
     },
     "execution_count": 82,
     "metadata": {},
     "output_type": "execute_result"
    }
   ],
   "source": [
    "loss,acc = loss_func(model(xb), yb), accuracy(model(xb), yb)\n",
    "loss,acc"
   ]
  },
  {
   "cell_type": "code",
   "execution_count": 83,
   "metadata": {},
   "outputs": [],
   "source": [
    "assert acc>0.7"
   ]
  },
  {
   "cell_type": "markdown",
   "metadata": {},
   "source": [
    "# When you're developing ...\n",
    "\n",
    "Don't set a random seed - if there's variation going on in the model at different times, we want to see it. \n",
    "\n",
    "#### Don't want it to be shielded by setting one random seed that works well\n",
    "\n",
    "Though reproducibility is key, great for doing science, not how you should develop your models at the beginning. Developing your models, you want intuitive sense of:\n",
    "- is it stable?\n",
    "- how much variation do you expect?\n",
    "\n",
    "If you have a test where it fails every 100 times, you want to know that! \n",
    "\n",
    "Can help with verifying stability and working to improve stability"
   ]
  },
  {
   "cell_type": "markdown",
   "metadata": {},
   "source": [
    "# Dataset and DataLoader\n",
    "\n",
    "It's clunky to iterate through minibatches of x and y values separately:\n",
    "\n",
    "```python\n",
    "    xb = x_train[start_i:end_i]\n",
    "    yb = y_train[start_i:end_i]\n",
    "```\n",
    "\n",
    "Instead, let's do these two steps together, by introducing a `Dataset` class:\n",
    "\n",
    "```python\n",
    "    xb,yb = train_ds[i*bs : i*bs+bs]\n",
    "```"
   ]
  },
  {
   "cell_type": "code",
   "execution_count": 84,
   "metadata": {},
   "outputs": [],
   "source": [
    "class Dataset():\n",
    "    def __init__(self, x, y): self.x,self.y = x,y\n",
    "    def __len__(self): return len(self.x) # len of something - length of dataset now stored\n",
    "    def __getitem__(self, i): return self.x[i],self.y[i] # return tuple of x[i] and y[i]"
   ]
  },
  {
   "cell_type": "code",
   "execution_count": 85,
   "metadata": {},
   "outputs": [],
   "source": [
    "train_ds,valid_ds = Dataset(x_train, y_train),Dataset(x_valid, y_valid)\n",
    "assert len(train_ds)==len(x_train)\n",
    "assert len(valid_ds)==len(x_valid)"
   ]
  },
  {
   "cell_type": "code",
   "execution_count": 86,
   "metadata": {},
   "outputs": [
    {
     "data": {
      "text/plain": [
       "(tensor([[-0.4244, -0.4244, -0.4244,  ..., -0.4244, -0.4244, -0.4244],\n",
       "         [-0.4244, -0.4244, -0.4244,  ..., -0.4244, -0.4244, -0.4244],\n",
       "         [-0.4244, -0.4244, -0.4244,  ..., -0.4244, -0.4244, -0.4244],\n",
       "         [-0.4244, -0.4244, -0.4244,  ..., -0.4244, -0.4244, -0.4244],\n",
       "         [-0.4244, -0.4244, -0.4244,  ..., -0.4244, -0.4244, -0.4244]]),\n",
       " tensor([5, 0, 4, 1, 9]))"
      ]
     },
     "execution_count": 86,
     "metadata": {},
     "output_type": "execute_result"
    }
   ],
   "source": [
    "xb,yb = train_ds[0:5]\n",
    "assert xb.shape==(5,28*28)\n",
    "assert yb.shape==(5,)\n",
    "xb,yb"
   ]
  },
  {
   "cell_type": "code",
   "execution_count": 87,
   "metadata": {},
   "outputs": [],
   "source": [
    "model,opt = get_model()"
   ]
  },
  {
   "cell_type": "code",
   "execution_count": 88,
   "metadata": {},
   "outputs": [],
   "source": [
    "for epoch in range(epochs):\n",
    "    for i in range((n-1)//bs + 1):\n",
    "        xb,yb = train_ds[i*bs : i*bs+bs]\n",
    "        pred = model(xb)\n",
    "        loss = loss_func(pred, yb)\n",
    "\n",
    "        loss.backward()\n",
    "        opt.step()\n",
    "        opt.zero_grad()"
   ]
  },
  {
   "cell_type": "code",
   "execution_count": 89,
   "metadata": {},
   "outputs": [
    {
     "data": {
      "text/plain": [
       "tensor(0.8750)"
      ]
     },
     "execution_count": 89,
     "metadata": {},
     "output_type": "execute_result"
    }
   ],
   "source": [
    "loss,acc = loss_func(model(xb), yb), accuracy(model(xb), yb)\n",
    "acc"
   ]
  },
  {
   "cell_type": "code",
   "execution_count": 90,
   "metadata": {},
   "outputs": [],
   "source": [
    "class DataLoader():\n",
    "    def __init__(self,ds, bs): self.ds, self.bs = ds,bs\n",
    "    # class that takes dataset and batch size, stores them away\n",
    "    # loop through range from 0 to size of datase\n",
    "    def __iter__(self):\n",
    "        for i in range(0, len(self.ds), self.bs): # up to 500000\n",
    "            yield self.ds[i:i+self.bs] # end at 1 + self. batch size\n",
    "            \n",
    "    # yield - co-routine \n",
    "    # have a function that doesn't return one thing once, \n",
    "    # return lots of things lots of times - each time you call next, return the next thing that is yielded"
   ]
  },
  {
   "cell_type": "code",
   "execution_count": 91,
   "metadata": {},
   "outputs": [],
   "source": [
    "train_dl = DataLoader(train_ds, bs)\n",
    "valid_dl = DataLoader(valid_ds, bs)"
   ]
  },
  {
   "cell_type": "code",
   "execution_count": 92,
   "metadata": {},
   "outputs": [],
   "source": [
    "xb, yb = next(iter(valid_dl))\n",
    "assert xb.shape == (bs, 28*28)\n",
    "assert yb.shape == (bs, )"
   ]
  },
  {
   "cell_type": "code",
   "execution_count": 93,
   "metadata": {},
   "outputs": [
    {
     "data": {
      "text/plain": [
       "tensor(3)"
      ]
     },
     "execution_count": 93,
     "metadata": {},
     "output_type": "execute_result"
    },
    {
     "data": {
      "image/png": "[encoded data removed]",
      "text/plain": [
       "<Figure size 432x288 with 1 Axes>"
      ]
     },
     "metadata": {
      "needs_background": "light"
     },
     "output_type": "display_data"
    }
   ],
   "source": [
    "plt.imshow(xb[0].view(28,28))\n",
    "yb[0]"
   ]
  },
  {
   "cell_type": "code",
   "execution_count": 94,
   "metadata": {},
   "outputs": [],
   "source": [
    "model,opt = get_model()"
   ]
  },
  {
   "cell_type": "code",
   "execution_count": 95,
   "metadata": {},
   "outputs": [],
   "source": [
    "def fit():\n",
    "    for epoch in range(epochs): # go through each epoch\n",
    "        for xb, yb in train_dl: # go through each batch, grabbing independent and dependent variables\n",
    "            pred = model(xb) # calculate the predictions\n",
    "            loss = loss_func(pred, yb) # calculate the losses\n",
    "            loss.backward() # calculate the gradients\n",
    "            opt.step() # update with the learning rate\n",
    "            opt.zero_grad() # reset the gradients"
   ]
  },
  {
   "cell_type": "code",
   "execution_count": 96,
   "metadata": {},
   "outputs": [],
   "source": [
    "fit()"
   ]
  },
  {
   "cell_type": "markdown",
   "metadata": {},
   "source": [
    "Want code to be this good as a researcher, because it gives you the freedom to try new cool stuff without bugs that you didn't know about, without interpretability by your domain expert colleagues, and so on."
   ]
  },
  {
   "cell_type": "code",
   "execution_count": 97,
   "metadata": {},
   "outputs": [
    {
     "data": {
      "text/plain": [
       "(tensor(0.2686, grad_fn=<NllLossBackward>), tensor(0.9531))"
      ]
     },
     "execution_count": 97,
     "metadata": {},
     "output_type": "execute_result"
    }
   ],
   "source": [
    "loss, acc = loss_func(model(xb), yb), accuracy(model(xb), yb)\n",
    "assert acc > 0.7\n",
    "loss, acc"
   ]
  },
  {
   "cell_type": "markdown",
   "metadata": {},
   "source": [
    "### This is still problematic because it's going through the training set in the same order every time\n",
    "\n",
    "We want the randomness of order for better generalizability"
   ]
  },
  {
   "cell_type": "code",
   "execution_count": 98,
   "metadata": {},
   "outputs": [],
   "source": [
    "class Sampler():\n",
    "    def __init__(self, ds, bs, shuffle=False):\n",
    "        self.n,self.bs,self.shuffle = len(ds),bs,shuffle\n",
    "        \n",
    "    def __iter__(self): # grab random permutation if not already shuffled\n",
    "        self.idxs = torch.randperm(self.n) if self.shuffle else torch.arange(self.n)\n",
    "        for i in range(0, self.n, self.bs): yield self.idxs[i:i+self.bs]"
   ]
  },
  {
   "cell_type": "code",
   "execution_count": 99,
   "metadata": {},
   "outputs": [],
   "source": [
    "small_ds = Dataset(*train_ds[:10])"
   ]
  },
  {
   "cell_type": "code",
   "execution_count": 100,
   "metadata": {},
   "outputs": [],
   "source": [
    "s = Sampler(small_ds, 3, False)"
   ]
  },
  {
   "cell_type": "code",
   "execution_count": 101,
   "metadata": {},
   "outputs": [
    {
     "data": {
      "text/plain": [
       "[tensor([0, 1, 2]), tensor([3, 4, 5]), tensor([6, 7, 8]), tensor([9])]"
      ]
     },
     "execution_count": 101,
     "metadata": {},
     "output_type": "execute_result"
    }
   ],
   "source": [
    "[o for o in s]"
   ]
  },
  {
   "cell_type": "code",
   "execution_count": 102,
   "metadata": {},
   "outputs": [],
   "source": [
    "s = Sampler(small_ds, 3, True)"
   ]
  },
  {
   "cell_type": "code",
   "execution_count": 103,
   "metadata": {},
   "outputs": [
    {
     "data": {
      "text/plain": [
       "[tensor([4, 2, 7]), tensor([5, 6, 1]), tensor([0, 9, 3]), tensor([8])]"
      ]
     },
     "execution_count": 103,
     "metadata": {},
     "output_type": "execute_result"
    }
   ],
   "source": [
    "[o for o in s]"
   ]
  },
  {
   "cell_type": "code",
   "execution_count": 104,
   "metadata": {},
   "outputs": [],
   "source": [
    "def collate(b):\n",
    "    xs,ys = zip(*b)\n",
    "    return torch.stack(xs),torch.stack(ys)\n",
    "# could change this if you want to add padding, etc\n",
    "class DataLoader():\n",
    "    def __init__(self, ds, sampler, collate_fn=collate):\n",
    "        self.ds,self.sampler,self.collate_fn = ds,sampler,collate_fn\n",
    "    # pass dataloader sampler, looping through with yield avoids memory issues\n",
    "    # grab indexes and ds at index, gives list of tensors, collate them into a single pair of tensors\n",
    "    # collate grabs x and y and glues them together on a new axis\n",
    "    def __iter__(self):\n",
    "        for s in self.sampler: yield self.collate_fn([self.ds[i] for i in s])"
   ]
  },
  {
   "cell_type": "code",
   "execution_count": 105,
   "metadata": {},
   "outputs": [],
   "source": [
    "train_samp = Sampler(train_ds, bs, shuffle=True)\n",
    "valid_samp = Sampler(valid_ds, bs, shuffle=False)"
   ]
  },
  {
   "cell_type": "code",
   "execution_count": 106,
   "metadata": {},
   "outputs": [],
   "source": [
    "train_dl = DataLoader(train_ds, sampler=train_samp, collate_fn=collate)\n",
    "valid_dl = DataLoader(valid_ds, sampler=valid_samp, collate_fn=collate)"
   ]
  },
  {
   "cell_type": "code",
   "execution_count": 107,
   "metadata": {},
   "outputs": [
    {
     "data": {
      "text/plain": [
       "tensor(3)"
      ]
     },
     "execution_count": 107,
     "metadata": {},
     "output_type": "execute_result"
    },
    {
     "data": {
      "image/png": "[encoded data removed]",
      "text/plain": [
       "<Figure size 432x288 with 1 Axes>"
      ]
     },
     "metadata": {
      "needs_background": "light"
     },
     "output_type": "display_data"
    }
   ],
   "source": [
    "xb,yb = next(iter(valid_dl))\n",
    "plt.imshow(xb[0].view(28,28))\n",
    "yb[0]"
   ]
  },
  {
   "cell_type": "code",
   "execution_count": 108,
   "metadata": {},
   "outputs": [
    {
     "data": {
      "text/plain": [
       "tensor(2)"
      ]
     },
     "execution_count": 108,
     "metadata": {},
     "output_type": "execute_result"
    },
    {
     "data": {
      "image/png": "[encoded data removed]",
      "text/plain": [
       "<Figure size 432x288 with 1 Axes>"
      ]
     },
     "metadata": {
      "needs_background": "light"
     },
     "output_type": "display_data"
    }
   ],
   "source": [
    "xb,yb = next(iter(train_dl))\n",
    "plt.imshow(xb[0].view(28,28))\n",
    "yb[0]"
   ]
  },
  {
   "cell_type": "code",
   "execution_count": 109,
   "metadata": {},
   "outputs": [
    {
     "data": {
      "text/plain": [
       "tensor(5)"
      ]
     },
     "execution_count": 109,
     "metadata": {},
     "output_type": "execute_result"
    },
    {
     "data": {
      "image/png": "[encoded data removed]",
      "text/plain": [
       "<Figure size 432x288 with 1 Axes>"
      ]
     },
     "metadata": {
      "needs_background": "light"
     },
     "output_type": "display_data"
    }
   ],
   "source": [
    "xb,yb = next(iter(train_dl))\n",
    "plt.imshow(xb[0].view(28,28))\n",
    "yb[0]"
   ]
  },
  {
   "cell_type": "code",
   "execution_count": 110,
   "metadata": {},
   "outputs": [
    {
     "data": {
      "text/plain": [
       "(tensor(0.2532, grad_fn=<NllLossBackward>), tensor(0.9375))"
      ]
     },
     "execution_count": 110,
     "metadata": {},
     "output_type": "execute_result"
    }
   ],
   "source": [
    "model,opt = get_model()\n",
    "fit()\n",
    "\n",
    "loss,acc = loss_func(model(xb), yb), accuracy(model(xb), yb)\n",
    "assert acc>0.7\n",
    "loss,acc"
   ]
  },
  {
   "cell_type": "code",
   "execution_count": 111,
   "metadata": {},
   "outputs": [],
   "source": [
    "# pytorch's dataloader"
   ]
  },
  {
   "cell_type": "code",
   "execution_count": 112,
   "metadata": {},
   "outputs": [],
   "source": [
    "#export\n",
    "from torch.utils.data import DataLoader, SequentialSampler, RandomSampler"
   ]
  },
  {
   "cell_type": "code",
   "execution_count": 113,
   "metadata": {},
   "outputs": [],
   "source": [
    "train_dl = DataLoader(train_ds, bs, sampler=RandomSampler(train_ds), collate_fn=collate)\n",
    "valid_dl = DataLoader(valid_ds, bs, sampler=SequentialSampler(valid_ds), collate_fn=collate)"
   ]
  },
  {
   "cell_type": "code",
   "execution_count": 114,
   "metadata": {},
   "outputs": [
    {
     "data": {
      "text/plain": [
       "(tensor(0.2060, grad_fn=<NllLossBackward>), tensor(0.9688))"
      ]
     },
     "execution_count": 114,
     "metadata": {},
     "output_type": "execute_result"
    }
   ],
   "source": [
    "model,opt = get_model()\n",
    "fit()\n",
    "loss_func(model(xb), yb), accuracy(model(xb), yb)"
   ]
  },
  {
   "cell_type": "markdown",
   "metadata": {},
   "source": [
    "Note that PyTorch's `DataLoader`, if you pass `num_workers`, will use multiple threads to call your `Dataset`."
   ]
  },
  {
   "cell_type": "markdown",
   "metadata": {},
   "source": [
    "# Valid\n",
    "\n",
    "You **always** should also have a [validation set](http://www.fast.ai/2017/11/13/validation-sets/), in order to identify if you are overfitting.\n",
    "\n",
    "We will calculate and print the validation loss at the end of each epoch.\n",
    "\n",
    "(Note that we always call `model.train()` before training, and `model.eval()` before inference, because these are used by layers such as `nn.BatchNorm2d` and `nn.Dropout` to ensure appropriate behaviour for these different phases.)"
   ]
  },
  {
   "cell_type": "code",
   "execution_count": 115,
   "metadata": {},
   "outputs": [],
   "source": [
    "def fit(epochs, model, loss_func, opt, train_dl, valid_dl):\n",
    "    for epoch in range(epochs):\n",
    "        # Handle batchnorm / dropout\n",
    "        model.train()\n",
    "#         print(model.training)\n",
    "        for xb,yb in train_dl:\n",
    "            loss = loss_func(model(xb), yb)\n",
    "            loss.backward()\n",
    "            opt.step()\n",
    "            opt.zero_grad()\n",
    "\n",
    "        model.eval()\n",
    "#         print(model.training)\n",
    "        with torch.no_grad():\n",
    "            tot_loss,tot_acc = 0.,0.\n",
    "            for xb,yb in valid_dl:\n",
    "                pred = model(xb)\n",
    "                # no backwards - not calculating gradients for the \n",
    "                # validation set\n",
    "                tot_loss += loss_func(pred, yb) # keep track of loss\n",
    "                tot_acc  += accuracy (pred,yb) # keep track of acc\n",
    "        nv = len(valid_dl)\n",
    "        print(epoch, tot_loss/nv, tot_acc/nv)\n",
    "    return tot_loss/nv, tot_acc/nv"
   ]
  },
  {
   "cell_type": "markdown",
   "metadata": {},
   "source": [
    "*Question*: Are these validation results correct if batch size varies?"
   ]
  },
  {
   "cell_type": "markdown",
   "metadata": {},
   "source": [
    "#### You need to actually weight according to the size of the minibatch\n",
    "if you get the accuracy and loss for minibatch of 1 vs minibatch of 10001, can't really compare the two\n",
    "\n",
    "However, this is how almost every library does it\n",
    "\n",
    "Does NOT work correctly when you batch size varies"
   ]
  },
  {
   "cell_type": "markdown",
   "metadata": {},
   "source": [
    "#### Question - why do you have to zero out your gradients in pytorch?\n",
    "\n",
    "If we didn't zero out, when we go loss.backwards will add the new gradients to the existing gradients\n",
    "\n",
    "We often have lots of sources of gradients, lots of modules all connected together\n",
    "\n",
    "When we call backward we wouldn't want backward to zero the gradients\n",
    "\n",
    "We need the grad.zero after calling backward"
   ]
  },
  {
   "cell_type": "code",
   "execution_count": 116,
   "metadata": {},
   "outputs": [],
   "source": [
    "def get_dls(train_ds, valid_ds, bs, **kwargs):\n",
    "    return (DataLoader(train_ds, batch_size=bs, shuffle=True, **kwargs),\n",
    "            DataLoader(valid_ds, batch_size=bs*2, **kwargs))"
   ]
  },
  {
   "cell_type": "code",
   "execution_count": 117,
   "metadata": {},
   "outputs": [
    {
     "name": "stdout",
     "output_type": "stream",
     "text": [
      "0 tensor(0.2141) tensor(0.9415)\n",
      "1 tensor(0.1781) tensor(0.9507)\n",
      "2 tensor(0.1783) tensor(0.9537)\n",
      "3 tensor(0.5228) tensor(0.8956)\n",
      "4 tensor(0.1647) tensor(0.9539)\n"
     ]
    }
   ],
   "source": [
    "train_dl,valid_dl = get_dls(train_ds, valid_ds, bs)\n",
    "model,opt = get_model()\n",
    "loss,acc = fit(5, model, loss_func, opt, train_dl, valid_dl)"
   ]
  },
  {
   "cell_type": "code",
   "execution_count": 118,
   "metadata": {},
   "outputs": [],
   "source": [
    "assert acc>0.9"
   ]
  },
  {
   "cell_type": "markdown",
   "metadata": {},
   "source": [
    "# Callbacks \n",
    "\n",
    "Callbacks let you fully customize every one of the steps\n",
    "- Model\n",
    "- Loss\n",
    "- Gradients\n",
    "- Step"
   ]
  },
  {
   "cell_type": "code",
   "execution_count": 119,
   "metadata": {},
   "outputs": [],
   "source": [
    "x_train,y_train,x_valid,y_valid = get_data()\n",
    "train_ds,valid_ds = Dataset(x_train, y_train),Dataset(x_valid, y_valid)\n",
    "nh,bs = 50,64\n",
    "c = y_train.max().item()+1\n",
    "loss_func = F.cross_entropy"
   ]
  },
  {
   "cell_type": "markdown",
   "metadata": {},
   "source": [
    "Factor out the connected pieces of info out of the fit() argument list\n",
    "\n",
    "`fit(epochs, model, loss_func, opt, train_dl, valid_dl)`\n",
    "\n",
    "Let's replace it with something that looks like this:\n",
    "\n",
    "`fit(1, learn)`\n",
    "\n",
    "This will allow us to tweak what's happening inside the training loop in other places of the code because the `Learner` object will be mutable, so changing any of its attribute elsewhere will be seen in our training loop."
   ]
  },
  {
   "cell_type": "code",
   "execution_count": 120,
   "metadata": {},
   "outputs": [],
   "source": [
    "class DataBunch():\n",
    "    def __init__(self, train_dl, valid_dl, c=None):\n",
    "        self.train_dl,self.valid_dl,self.c = train_dl,valid_dl,c\n",
    "        \n",
    "    @property\n",
    "    def train_ds(self): return self.train_dl.dataset\n",
    "        \n",
    "    @property\n",
    "    def valid_ds(self): return self.valid_dl.dataset"
   ]
  },
  {
   "cell_type": "code",
   "execution_count": 121,
   "metadata": {},
   "outputs": [],
   "source": [
    "data = DataBunch(*get_dls(train_ds, valid_ds, bs), c)"
   ]
  },
  {
   "cell_type": "code",
   "execution_count": 122,
   "metadata": {},
   "outputs": [],
   "source": [
    "def get_model(data, lr=0.5, nh=50):\n",
    "    m = data.train_ds.x.shape[1]\n",
    "    model = nn.Sequential(nn.Linear(m,nh), nn.ReLU(), nn.Linear(nh,data.c))\n",
    "    return model, optim.SGD(model.parameters(), lr=lr)\n",
    "\n",
    "class Learner():\n",
    "    def __init__(self, model, opt, loss_func, data):\n",
    "        self.model,self.opt,self.loss_func,self.data = model,opt,loss_func,data"
   ]
  },
  {
   "cell_type": "code",
   "execution_count": 123,
   "metadata": {},
   "outputs": [],
   "source": [
    "learn = Learner(*get_model(data), loss_func, data)"
   ]
  },
  {
   "cell_type": "code",
   "execution_count": 124,
   "metadata": {},
   "outputs": [],
   "source": [
    "# Learner has no logic at all - just a storage device for model, optimizer, loss function and training data"
   ]
  },
  {
   "cell_type": "code",
   "execution_count": 125,
   "metadata": {},
   "outputs": [],
   "source": [
    "# exact same thing, except now we access our tools we need from \n",
    "# learn where we stored all our stuff in previously\n",
    "\n",
    "def fit(epochs, learn):\n",
    "    for epoch in range(epochs):\n",
    "        learn.model.train()\n",
    "        for xb,yb in learn.data.train_dl:\n",
    "            loss = learn.loss_func(learn.model(xb), yb)\n",
    "            loss.backward()\n",
    "            learn.opt.step()\n",
    "            learn.opt.zero_grad()\n",
    "\n",
    "        learn.model.eval()\n",
    "        with torch.no_grad():\n",
    "            tot_loss,tot_acc = 0.,0.\n",
    "            for xb,yb in learn.data.valid_dl:\n",
    "                pred = learn.model(xb)\n",
    "                tot_loss += learn.loss_func(pred, yb)\n",
    "                tot_acc  += accuracy (pred,yb)\n",
    "        nv = len(learn.data.valid_dl)\n",
    "        print(epoch, tot_loss/nv, tot_acc/nv)\n",
    "    return tot_loss/nv, tot_acc/nv"
   ]
  },
  {
   "cell_type": "code",
   "execution_count": 126,
   "metadata": {},
   "outputs": [
    {
     "name": "stdout",
     "output_type": "stream",
     "text": [
      "0 tensor(0.3427) tensor(0.8992)\n"
     ]
    }
   ],
   "source": [
    "loss,acc = fit(1, learn)"
   ]
  },
  {
   "cell_type": "code",
   "execution_count": 127,
   "metadata": {},
   "outputs": [],
   "source": [
    "def one_batch(xb, yb, cb):\n",
    "    if not cb.begin_batch(xb,yb): return\n",
    "    loss = cb.learn.loss_func(cb.learn.model(xb), yb)\n",
    "    if not cb.after_loss(loss): return\n",
    "    loss.backward()\n",
    "    if cb.after_backward(): cb.learn.opt.step()\n",
    "    if cb.after_step(): cb.learn.opt.zero_grad()\n",
    "\n",
    "def all_batches(dl, cb):\n",
    "    for xb,yb in dl:\n",
    "        one_batch(xb, yb, cb)\n",
    "        if cb.do_stop(): return\n",
    "\n",
    "def fit(epochs, learn, cb):\n",
    "    if not cb.begin_fit(learn): return\n",
    "    for epoch in range(epochs):\n",
    "        if not cb.begin_epoch(epoch): continue\n",
    "        all_batches(learn.data.train_dl, cb)\n",
    "        \n",
    "        if cb.begin_validate():\n",
    "            with torch.no_grad(): all_batches(learn.data.valid_dl, cb)\n",
    "        if cb.do_stop() or not cb.after_epoch(): break\n",
    "    cb.after_fit()"
   ]
  },
  {
   "cell_type": "code",
   "execution_count": 128,
   "metadata": {},
   "outputs": [],
   "source": [
    "class Callback():\n",
    "    def begin_fit(self, learn):\n",
    "        self.learn = learn\n",
    "        return True\n",
    "    def after_fit(self): return True\n",
    "    def begin_epoch(self, epoch):\n",
    "        self.epoch=epoch\n",
    "        return True\n",
    "    def begin_validate(self): return True\n",
    "    def after_epoch(self): return True\n",
    "    def begin_batch(self, xb, yb):\n",
    "        self.xb,self.yb = xb,yb\n",
    "        return True\n",
    "    def after_loss(self, loss):\n",
    "        self.loss = loss\n",
    "        return True\n",
    "    def after_backward(self): return True\n",
    "    def after_step(self): return True"
   ]
  },
  {
   "cell_type": "code",
   "execution_count": 129,
   "metadata": {},
   "outputs": [],
   "source": [
    "class CallbackHandler():\n",
    "    def __init__(self,cbs=None):\n",
    "        self.cbs = cbs if cbs else []\n",
    "\n",
    "    def begin_fit(self, learn):\n",
    "        self.learn,self.in_train = learn,True\n",
    "        learn.stop = False\n",
    "        res = True\n",
    "        for cb in self.cbs: res = res and cb.begin_fit(learn)\n",
    "        return res\n",
    "\n",
    "    def after_fit(self):\n",
    "        res = not self.in_train\n",
    "        for cb in self.cbs: res = res and cb.after_fit()\n",
    "        return res\n",
    "    \n",
    "    def begin_epoch(self, epoch):\n",
    "        self.learn.model.train()\n",
    "        self.in_train=True\n",
    "        res = True\n",
    "        for cb in self.cbs: res = res and cb.begin_epoch(epoch)\n",
    "        return res\n",
    "\n",
    "    def begin_validate(self):\n",
    "        self.learn.model.eval()\n",
    "        self.in_train=False\n",
    "        res = True\n",
    "        for cb in self.cbs: res = res and cb.begin_validate()\n",
    "        return res\n",
    "\n",
    "    def after_epoch(self):\n",
    "        res = True\n",
    "        for cb in self.cbs: res = res and cb.after_epoch()\n",
    "        return res\n",
    "    \n",
    "    def begin_batch(self, xb, yb):\n",
    "        res = True\n",
    "        for cb in self.cbs: res = res and cb.begin_batch(xb, yb)\n",
    "        return res\n",
    "\n",
    "    def after_loss(self, loss):\n",
    "        res = self.in_train\n",
    "        for cb in self.cbs: res = res and cb.after_loss(loss)\n",
    "        return res\n",
    "\n",
    "    def after_backward(self):\n",
    "        res = True\n",
    "        for cb in self.cbs: res = res and cb.after_backward()\n",
    "        return res\n",
    "\n",
    "    def after_step(self):\n",
    "        res = True\n",
    "        for cb in self.cbs: res = res and cb.after_step()\n",
    "        return res\n",
    "    \n",
    "    def do_stop(self):\n",
    "        try:     return self.learn.stop\n",
    "        finally: self.learn.stop = False"
   ]
  },
  {
   "cell_type": "code",
   "execution_count": 130,
   "metadata": {},
   "outputs": [],
   "source": [
    "class TestCallback(Callback):\n",
    "    def begin_fit(self,learn):\n",
    "        super().begin_fit(learn)\n",
    "        self.n_iters = 0\n",
    "        return True\n",
    "        \n",
    "    def after_step(self):\n",
    "        self.n_iters += 1\n",
    "        print(self.n_iters)\n",
    "        if self.n_iters>=10: self.learn.stop = True\n",
    "        return True"
   ]
  },
  {
   "cell_type": "code",
   "execution_count": 131,
   "metadata": {},
   "outputs": [
    {
     "name": "stdout",
     "output_type": "stream",
     "text": [
      "1\n",
      "2\n",
      "3\n",
      "4\n",
      "5\n",
      "6\n",
      "7\n",
      "8\n",
      "9\n",
      "10\n"
     ]
    }
   ],
   "source": [
    "fit(1, learn, cb = CallbackHandler([TestCallback()])) # batches"
   ]
  },
  {
   "cell_type": "code",
   "execution_count": 132,
   "metadata": {},
   "outputs": [],
   "source": [
    "#export\n",
    "class Runner():\n",
    "    def __init__(self, cbs=None, cb_funcs=None):\n",
    "        cbs = listify(cbs)\n",
    "        for cbf in listify(cb_funcs):\n",
    "            cb = cbf()\n",
    "            setattr(self, cb.name, cb)\n",
    "            cbs.append(cb)\n",
    "        self.stop,self.cbs = False,[TrainEvalCallback()]+cbs\n",
    "\n",
    "    @property\n",
    "    def opt(self):       return self.learn.opt\n",
    "    @property\n",
    "    def model(self):     return self.learn.model\n",
    "    @property\n",
    "    def loss_func(self): return self.learn.loss_func\n",
    "    @property\n",
    "    def data(self):      return self.learn.data\n",
    "\n",
    "    def one_batch(self, xb, yb):\n",
    "        self.xb,self.yb = xb,yb\n",
    "        if self('begin_batch'): return\n",
    "        self.pred = self.model(self.xb)\n",
    "        if self('after_pred'): return\n",
    "        self.loss = self.loss_func(self.pred, self.yb)\n",
    "        if self('after_loss') or not self.in_train: return\n",
    "        self.loss.backward()\n",
    "        if self('after_backward'): return\n",
    "        self.opt.step()\n",
    "        if self('after_step'): return\n",
    "        self.opt.zero_grad()\n",
    "\n",
    "    def all_batches(self, dl):\n",
    "        self.iters = len(dl)\n",
    "        for xb,yb in dl:\n",
    "            if self.stop: break\n",
    "            self.one_batch(xb, yb)\n",
    "            self('after_batch')\n",
    "        self.stop=False\n",
    "\n",
    "    def fit(self, epochs, learn):\n",
    "        self.epochs,self.learn = epochs,learn\n",
    "\n",
    "        try:\n",
    "            for cb in self.cbs: cb.set_runner(self)\n",
    "            if self('begin_fit'): return\n",
    "            for epoch in range(epochs):\n",
    "                self.epoch = epoch\n",
    "                if not self('begin_epoch'): self.all_batches(self.data.train_dl)\n",
    "\n",
    "                with torch.no_grad(): \n",
    "                    if not self('begin_validate'): self.all_batches(self.data.valid_dl)\n",
    "                if self('after_epoch'): break\n",
    "            \n",
    "        finally:\n",
    "            self('after_fit')\n",
    "            self.learn = None\n",
    "\n",
    "    def __call__(self, cb_name):\n",
    "        for cb in sorted(self.cbs, key=lambda x: x._order):\n",
    "            f = getattr(cb, cb_name, None)\n",
    "            if f and f(): return True\n",
    "        return False"
   ]
  },
  {
   "cell_type": "markdown",
   "metadata": {},
   "source": [
    "## Annealing\n",
    "\n",
    "We define two new callbacks: the Recorder to save track of the loss and our scheduled learning rate, and a ParamScheduler that can schedule any hyperparameter as long as it's registered in the state_dict of the optimizer. \n",
    "\n",
    "Hyperparameter scheduling - learning rate\n",
    "\n",
    "You can and should schedule everything - dropout amount, weight decay, learning rate, momentum, everything\n",
    "\n",
    "Different phases in the loss landscapes of neural nets - look very different at the start, middle, and end \n",
    "\n",
    "Very unlikely that you want the same things for all parts of training so being able to schedule things is a good idea"
   ]
  },
  {
   "cell_type": "code",
   "execution_count": 133,
   "metadata": {},
   "outputs": [],
   "source": [
    "#export\n",
    "class Recorder(Callback): # at the start of fitting, sets losses and lrs to empty\n",
    "    def begin_fit(self): self.lrs,self.losses = [],[]\n",
    "\n",
    "        # when training append the current lr and loss\n",
    "    def after_batch(self):\n",
    "        if not self.in_train: return\n",
    "        self.lrs.append(self.opt.param_groups[-1]['lr']) # this is the final layer group learning rate\n",
    "        self.losses.append(self.loss.detach().cpu())        \n",
    "\n",
    "    def plot_lr  (self): plt.plot(self.lrs)\n",
    "    def plot_loss(self): plt.plot(self.losses)\n",
    "\n",
    "class ParamScheduler(Callback):\n",
    "    _order=1\n",
    "    def __init__(self, pname, sched_func): self.pname,self.sched_func = pname,sched_func\n",
    "\n",
    "    def set_param(self):\n",
    "        for pg in self.opt.param_groups: # layer groups = param groups; pytorch optimizer contains param_groups, loop through\n",
    "            pg[self.pname] = self.sched_func(self.n_epochs/self.epochs)\n",
    "    \n",
    "    # this says everytime we start a batch, run our scheduler\n",
    "    def begin_batch(self): \n",
    "        if self.in_train: self.set_param()"
   ]
  },
  {
   "cell_type": "code",
   "execution_count": 134,
   "metadata": {},
   "outputs": [],
   "source": [
    "def sched_lin(start, end):\n",
    "    def _inner(start, end, pos): return start + pos * (end-start)\n",
    "    return partial(_inner, start, end)\n",
    "# the function takes a start end and position of learning rate, returns a learning rate"
   ]
  },
  {
   "cell_type": "code",
   "execution_count": 135,
   "metadata": {},
   "outputs": [],
   "source": [
    "# refactor this with a decorator\n",
    "\n",
    "def annealer(f):\n",
    "    def _inner(start, end): return partial(f, start, end)\n",
    "    return _inner\n",
    "\n",
    "@annealer\n",
    "def sched_lin(start, end, pos): return start + pos * (end-start)"
   ]
  },
  {
   "cell_type": "markdown",
   "metadata": {},
   "source": [
    "A decorator is a function that returns a function\n",
    "Takes the written function, passes it into the function called with the '@' sign, and replaces the definition of the function with whatever is returned"
   ]
  },
  {
   "cell_type": "raw",
   "metadata": {},
   "source": [
    "sched_lin() # use shift - tab; see that it takes only start, end"
   ]
  },
  {
   "cell_type": "code",
   "execution_count": 136,
   "metadata": {},
   "outputs": [
    {
     "data": {
      "text/plain": [
       "1.3"
      ]
     },
     "execution_count": 136,
     "metadata": {},
     "output_type": "execute_result"
    }
   ],
   "source": [
    "f = sched_lin(1,2)\n",
    "f(0.3)"
   ]
  },
  {
   "cell_type": "code",
   "execution_count": 137,
   "metadata": {},
   "outputs": [],
   "source": [
    "# Other scheduler functions\n",
    "@annealer\n",
    "def sched_cos(start, end, pos): return start + (1 + math.cos(math.pi*(1-pos))) * (end-start) / 2\n",
    "@annealer\n",
    "def sched_no(start, end, pos):  return start\n",
    "@annealer\n",
    "def sched_exp(start, end, pos): return start * (end/start) ** pos\n",
    "\n",
    "def cos_1cycle_anneal(start, high, end):\n",
    "    return [sched_cos(start, high), sched_cos(high, end)]\n",
    "\n",
    "#This monkey-patch is there to be able to plot tensors\n",
    "torch.Tensor.ndim = property(lambda x: len(x.shape))"
   ]
  },
  {
   "cell_type": "code",
   "execution_count": 138,
   "metadata": {
    "scrolled": true
   },
   "outputs": [
    {
     "data": {
      "image/png": "[encoded data removed]",
      "text/plain": [
       "<Figure size 432x288 with 1 Axes>"
      ]
     },
     "metadata": {
      "needs_background": "light"
     },
     "output_type": "display_data"
    }
   ],
   "source": [
    "annealings = \"NO LINEAR COS EXP\".split()\n",
    "\n",
    "a = torch.arange(0, 100)\n",
    "p = torch.linspace(0.01,1,100)\n",
    "\n",
    "fns = [sched_no, sched_lin, sched_cos, sched_exp]\n",
    "for fn, t in zip(fns, annealings):\n",
    "    f = fn(2, 1e-2)\n",
    "    plt.plot(a, [f(o) for o in p], label=t)\n",
    "plt.legend();"
   ]
  },
  {
   "cell_type": "code",
   "execution_count": 139,
   "metadata": {},
   "outputs": [],
   "source": [
    "# combine different schedulers (might want a warm up and cool down type scheduler)\n",
    "def combine_scheds(pcts, scheds):\n",
    "    assert sum(pcts) == 1.\n",
    "    pcts = tensor([0] + listify(pcts))\n",
    "    assert torch.all(pcts >= 0)\n",
    "    pcts = torch.cumsum(pcts, 0)\n",
    "    def _inner(pos):\n",
    "        idx = (pos >= pcts).nonzero().max()\n",
    "        if idx == 2: idx = 1\n",
    "        actual_pos = (pos-pcts[idx]) / (pcts[idx+1]-pcts[idx])\n",
    "        return scheds[idx](actual_pos)\n",
    "    return _inner"
   ]
  },
  {
   "cell_type": "code",
   "execution_count": 140,
   "metadata": {},
   "outputs": [],
   "source": [
    "sched = combine_scheds([0.3,0.7], [sched_cos(0.3, 0.6), sched_cos(0.6, 0.2)])"
   ]
  },
  {
   "cell_type": "code",
   "execution_count": 141,
   "metadata": {},
   "outputs": [
    {
     "data": {
      "text/plain": [
       "[<matplotlib.lines.Line2D at 0x2b59d3907510>]"
      ]
     },
     "execution_count": 141,
     "metadata": {},
     "output_type": "execute_result"
    },
    {
     "data": {
      "image/png": "[encoded data removed]",
      "text/plain": [
       "<Figure size 432x288 with 1 Axes>"
      ]
     },
     "metadata": {
      "needs_background": "light"
     },
     "output_type": "display_data"
    }
   ],
   "source": [
    "plt.plot(a, [sched(o) for o in p])"
   ]
  },
  {
   "cell_type": "markdown",
   "metadata": {},
   "source": [
    "You need to train at a high learning rate for a long time, but you also want to train at a very low learning rate for a long time, and you want a gentle learning rate at the beginning when things are fragile.\n",
    "\n",
    "Therefore, want cosine scheduler to warm up and cool down our learning rates as we train."
   ]
  },
  {
   "cell_type": "code",
   "execution_count": 142,
   "metadata": {},
   "outputs": [],
   "source": [
    "class AvgStats():\n",
    "    def __init__(self, metrics, in_train): self.metrics,self.in_train = listify(metrics),in_train\n",
    "    \n",
    "    def reset(self):\n",
    "        self.tot_loss,self.count = 0.,0\n",
    "        self.tot_mets = [0.] * len(self.metrics)\n",
    "        \n",
    "    @property\n",
    "    def all_stats(self): return [self.tot_loss.item()] + self.tot_mets\n",
    "    @property\n",
    "    def avg_stats(self): return [o/self.count for o in self.all_stats]\n",
    "    \n",
    "    def __repr__(self):\n",
    "        if not self.count: return \"\"\n",
    "        return f\"{'train' if self.in_train else 'valid'}: {self.avg_stats}\"\n",
    "\n",
    "    def accumulate(self, run):\n",
    "        bn = run.xb.shape[0]\n",
    "        self.tot_loss += run.loss * bn\n",
    "        self.count += bn\n",
    "        for i,m in enumerate(self.metrics):\n",
    "            self.tot_mets[i] += m(run.pred, run.yb) * bn\n",
    "\n",
    "class AvgStatsCallback(Callback):\n",
    "    def __init__(self, metrics):\n",
    "        self.train_stats,self.valid_stats = AvgStats(metrics,True),AvgStats(metrics,False)\n",
    "        \n",
    "    def begin_epoch(self):\n",
    "        self.train_stats.reset()\n",
    "        self.valid_stats.reset()\n",
    "        \n",
    "    def after_loss(self):\n",
    "        stats = self.train_stats if self.in_train else self.valid_stats\n",
    "        with torch.no_grad(): stats.accumulate(self.run)\n",
    "    \n",
    "    def after_epoch(self):\n",
    "        print(self.train_stats)\n",
    "        print(self.valid_stats)"
   ]
  },
  {
   "cell_type": "code",
   "execution_count": 143,
   "metadata": {},
   "outputs": [],
   "source": [
    "cbfs = [Recorder,\n",
    "        partial(AvgStatsCallback,accuracy),\n",
    "        partial(ParamScheduler, 'lr', sched)]"
   ]
  },
  {
   "cell_type": "code",
   "execution_count": 144,
   "metadata": {},
   "outputs": [],
   "source": [
    "def create_learner(model_func, loss_func, data):\n",
    "    return Learner(*model_func(data), loss_func, data)"
   ]
  },
  {
   "cell_type": "code",
   "execution_count": 145,
   "metadata": {},
   "outputs": [],
   "source": [
    "def get_model_func(lr=0.5): return partial(get_model, lr=lr)"
   ]
  },
  {
   "cell_type": "code",
   "execution_count": 146,
   "metadata": {},
   "outputs": [],
   "source": [
    "learn = create_learner(get_model, loss_func, data)"
   ]
  },
  {
   "cell_type": "code",
   "execution_count": 147,
   "metadata": {},
   "outputs": [],
   "source": [
    "class Callback():\n",
    "    _order=0\n",
    "    def set_runner(self, run): self.run=run\n",
    "    def __getattr__(self, k): return getattr(self.run, k)\n",
    "    \n",
    "    @property\n",
    "    def name(self):\n",
    "        name = re.sub(r'Callback$', '', self.__class__.__name__)\n",
    "        return camel2snake(name or 'callback')\n",
    "    \n",
    "    def __call__(self, cb_name): # takes any callback that a user might make\n",
    "        f = getattr(self, cb_name, None)\n",
    "        if f and f(): return True # users can replace __call__ itself\n",
    "        return False # makes this more flexible\n",
    "\n",
    "class TrainEvalCallback(Callback):\n",
    "    def begin_fit(self):\n",
    "        self.run.n_epochs=0.\n",
    "        self.run.n_iter=0\n",
    "    \n",
    "    def after_batch(self):\n",
    "        if not self.in_train: return\n",
    "        self.run.n_epochs += 1./self.iters\n",
    "        self.run.n_iter   += 1\n",
    "        \n",
    "    def begin_epoch(self):\n",
    "        self.run.n_epochs=self.epoch\n",
    "        self.model.train()\n",
    "        self.run.in_train=True\n",
    "\n",
    "    def begin_validate(self):\n",
    "        self.model.eval()\n",
    "        self.run.in_train=False\n",
    "\n",
    "class CancelTrainException(Exception): pass # let peoples callbacks cancel at any of these levels \n",
    "class CancelEpochException(Exception): pass # example, can cancel one epoch but continue to the next one\n",
    "class CancelBatchException(Exception): pass"
   ]
  },
  {
   "cell_type": "code",
   "execution_count": 148,
   "metadata": {},
   "outputs": [],
   "source": [
    "class Runner():\n",
    "    def __init__(self, cbs=None, cb_funcs=None):\n",
    "        self.in_train = False\n",
    "        cbs = listify(cbs)\n",
    "        for cbf in listify(cb_funcs):\n",
    "            cb = cbf()\n",
    "            setattr(self, cb.name, cb)\n",
    "            cbs.append(cb)\n",
    "        self.stop,self.cbs = False,[TrainEvalCallback()]+cbs\n",
    "\n",
    "    @property\n",
    "    def opt(self):       return self.learn.opt\n",
    "    @property\n",
    "    def model(self):     return self.learn.model\n",
    "    @property\n",
    "    def loss_func(self): return self.learn.loss_func\n",
    "    @property\n",
    "    def data(self):      return self.learn.data\n",
    "\n",
    "    def one_batch(self, xb, yb):\n",
    "        try:\n",
    "            self.xb,self.yb = xb,yb\n",
    "            self('begin_batch')\n",
    "            self.pred = self.model(self.xb)\n",
    "            self('after_pred')\n",
    "            self.loss = self.loss_func(self.pred, self.yb)\n",
    "            self('after_loss')\n",
    "            if not self.in_train: return\n",
    "            self.loss.backward()\n",
    "            self('after_backward')\n",
    "            self.opt.step()\n",
    "            self('after_step')\n",
    "            self.opt.zero_grad()\n",
    "        except CancelBatchException: self('after_cancel_batch')\n",
    "        finally: self('after_batch')\n",
    "\n",
    "    def all_batches(self, dl):\n",
    "        self.iters = len(dl)\n",
    "        try:\n",
    "            for xb,yb in dl: self.one_batch(xb, yb)\n",
    "        except CancelEpochException: self('after_cancel_epoch')\n",
    "\n",
    "    def fit(self, epochs, learn):\n",
    "        self.epochs,self.learn,self.loss = epochs,learn,tensor(0.)\n",
    "\n",
    "        try:\n",
    "            for cb in self.cbs: cb.set_runner(self)\n",
    "            self('begin_fit')\n",
    "            for epoch in range(epochs):\n",
    "                self.epoch = epoch\n",
    "                if not self('begin_epoch'): self.all_batches(self.data.train_dl)\n",
    "\n",
    "                with torch.no_grad(): \n",
    "                    if not self('begin_validate'): self.all_batches(self.data.valid_dl)\n",
    "                self('after_epoch')\n",
    "            \n",
    "        except CancelTrainException: self('after_cancel_train')\n",
    "        finally:\n",
    "            self('after_fit') \n",
    "            self.learn = None\n",
    "\n",
    "    def __call__(self, cb_name):\n",
    "        res = False\n",
    "        for cb in sorted(self.cbs, key=lambda x: x._order): res = cb(cb_name) or res\n",
    "        return res"
   ]
  },
  {
   "cell_type": "markdown",
   "metadata": {},
   "source": [
    "# Note on use of Exceptions\n",
    "\n",
    "Exceptions in this usage allow the callback writer to stop any of the main parts from things happening.\n",
    "\n",
    "In this example, will use it to stop training in order to create a learning rate finder!"
   ]
  },
  {
   "cell_type": "code",
   "execution_count": 149,
   "metadata": {},
   "outputs": [],
   "source": [
    "class TestCallback(Callback):\n",
    "    _order=1\n",
    "    def after_step(self):\n",
    "        print(self.n_iter)\n",
    "        if self.n_iter>=10: raise CancelTrainException()"
   ]
  },
  {
   "cell_type": "code",
   "execution_count": 150,
   "metadata": {},
   "outputs": [],
   "source": [
    "run = Runner(cb_funcs=TestCallback)"
   ]
  },
  {
   "cell_type": "code",
   "execution_count": 151,
   "metadata": {
    "scrolled": true
   },
   "outputs": [
    {
     "name": "stdout",
     "output_type": "stream",
     "text": [
      "0\n",
      "1\n",
      "2\n",
      "3\n",
      "4\n",
      "5\n",
      "6\n",
      "7\n",
      "8\n",
      "9\n",
      "10\n"
     ]
    }
   ],
   "source": [
    "run.fit(3, learn)"
   ]
  },
  {
   "cell_type": "markdown",
   "metadata": {},
   "source": [
    "# Some other callbacks"
   ]
  },
  {
   "cell_type": "code",
   "execution_count": 152,
   "metadata": {},
   "outputs": [],
   "source": [
    "class AvgStatsCallback(Callback):\n",
    "    def __init__(self, metrics):\n",
    "        self.train_stats,self.valid_stats = AvgStats(metrics,True),AvgStats(metrics,False)\n",
    "        \n",
    "    def begin_epoch(self):\n",
    "        self.train_stats.reset()\n",
    "        self.valid_stats.reset()\n",
    "        \n",
    "    def after_loss(self):\n",
    "        stats = self.train_stats if self.in_train else self.valid_stats\n",
    "        with torch.no_grad(): stats.accumulate(self.run)\n",
    "    \n",
    "    def after_epoch(self):\n",
    "        print(self.train_stats)\n",
    "        print(self.valid_stats)\n",
    "        \n",
    "class Recorder(Callback):\n",
    "    def begin_fit(self):\n",
    "        self.lrs = [[] for _ in self.opt.param_groups]\n",
    "        self.losses = []\n",
    "\n",
    "    def after_batch(self):\n",
    "        if not self.in_train: return\n",
    "        for pg,lr in zip(self.opt.param_groups,self.lrs): lr.append(pg['lr'])\n",
    "        self.losses.append(self.loss.detach().cpu())        \n",
    "\n",
    "    def plot_lr  (self, pgid=-1): plt.plot(self.lrs[pgid])\n",
    "    def plot_loss(self, skip_last=0): plt.plot(self.losses[:len(self.losses)-skip_last])\n",
    "        \n",
    "    def plot(self, skip_last=0, pgid=-1):\n",
    "        losses = [o.item() for o in self.losses]\n",
    "        lrs    = self.lrs[pgid]\n",
    "        n = len(losses)-skip_last\n",
    "        plt.xscale('log')\n",
    "        plt.plot(lrs[:n], losses[:n])\n",
    "\n",
    "class ParamScheduler(Callback):\n",
    "    _order=1\n",
    "    def __init__(self, pname, sched_funcs): self.pname,self.sched_funcs = pname,sched_funcs\n",
    "        \n",
    "    def begin_fit(self):\n",
    "        if not isinstance(self.sched_funcs, (list,tuple)):\n",
    "            self.sched_funcs = [self.sched_funcs] * len(self.opt.param_groups)\n",
    "\n",
    "    def set_param(self):\n",
    "        assert len(self.opt.param_groups)==len(self.sched_funcs)\n",
    "        for pg,f in zip(self.opt.param_groups,self.sched_funcs):\n",
    "            pg[self.pname] = f(self.n_epochs/self.epochs)\n",
    "            \n",
    "    def begin_batch(self): \n",
    "        if self.in_train: self.set_param()"
   ]
  },
  {
   "cell_type": "markdown",
   "metadata": {},
   "source": [
    "# Making a Learning Rate Finder from Scratch"
   ]
  },
  {
   "cell_type": "markdown",
   "metadata": {},
   "source": [
    "You may want to also add something that saves the model before running this, and loads it back after running - **otherwise you'll lose your weights!**"
   ]
  },
  {
   "cell_type": "code",
   "execution_count": 153,
   "metadata": {},
   "outputs": [],
   "source": [
    "class LR_Find(Callback):\n",
    "    _order=1\n",
    "    def __init__(self, max_iter=100, min_lr=1e-6, max_lr=10):\n",
    "        self.max_iter,self.min_lr,self.max_lr = max_iter,min_lr,max_lr\n",
    "        self.best_loss = 1e9\n",
    "    # in begin batch, uses exponential curve to set the learning rate    \n",
    "    def begin_batch(self): \n",
    "        if not self.in_train: return\n",
    "        pos = self.n_iter/self.max_iter\n",
    "        lr = self.min_lr * (self.max_lr/self.min_lr) ** pos # curve to set lr\n",
    "        for pg in self.opt.param_groups: pg['lr'] = lr\n",
    "    # after each step, checks to see if we've done more than the maximum number of iterations (default is 100)     \n",
    "    def after_step(self): # or, whether the loss is much worse than the best we've had \n",
    "        # if EITHER happens, we raise CancelTrainException, which cancels training\n",
    "        if self.n_iter>=self.max_iter or self.loss>self.best_loss*10:\n",
    "            raise CancelTrainException() # this cancels training once you've found your learning rate!\n",
    "        if self.loss < self.best_loss: self.best_loss = self.loss\n",
    "        # see if the loss is better than our best loss - if so, make this better loss our new loss"
   ]
  },
  {
   "cell_type": "markdown",
   "metadata": {},
   "source": [
    "In fastai we also use exponential smoothing on the loss. For that reason we check for `best_loss*3` instead of `best_loss*10`."
   ]
  },
  {
   "cell_type": "code",
   "execution_count": 154,
   "metadata": {},
   "outputs": [],
   "source": [
    "learn = create_learner(get_model, loss_func, data)"
   ]
  },
  {
   "cell_type": "code",
   "execution_count": 155,
   "metadata": {},
   "outputs": [],
   "source": [
    "run = Runner(cb_funcs=[LR_Find, Recorder])"
   ]
  },
  {
   "cell_type": "code",
   "execution_count": 156,
   "metadata": {},
   "outputs": [],
   "source": [
    "run.fit(2, learn)"
   ]
  },
  {
   "cell_type": "code",
   "execution_count": 157,
   "metadata": {},
   "outputs": [
    {
     "data": {
      "image/png": "[encoded data removed]",
      "text/plain": [
       "<Figure size 432x288 with 1 Axes>"
      ]
     },
     "metadata": {
      "needs_background": "light"
     },
     "output_type": "display_data"
    }
   ],
   "source": [
    "run.recorder.plot(skip_last=5)"
   ]
  },
  {
   "cell_type": "code",
   "execution_count": 158,
   "metadata": {},
   "outputs": [
    {
     "data": {
      "image/png": "[encoded data removed]",
      "text/plain": [
       "<Figure size 432x288 with 1 Axes>"
      ]
     },
     "metadata": {
      "needs_background": "light"
     },
     "output_type": "display_data"
    }
   ],
   "source": [
    "run.recorder.plot_lr()"
   ]
  },
  {
   "cell_type": "code",
   "execution_count": 159,
   "metadata": {},
   "outputs": [],
   "source": [
    "# only does less than 100 epochs, knnow around where we want to stop"
   ]
  },
  {
   "cell_type": "markdown",
   "metadata": {},
   "source": [
    "# Let's make it Convolutional!"
   ]
  },
  {
   "cell_type": "code",
   "execution_count": 160,
   "metadata": {},
   "outputs": [],
   "source": [
    "def normalize_to(train, valid):\n",
    "    m,s = train.mean(), train.std()\n",
    "    return normalize(train, m, s), normalize(valid, m, s)"
   ]
  },
  {
   "cell_type": "code",
   "execution_count": 161,
   "metadata": {},
   "outputs": [],
   "source": [
    "x_train, x_valid = normalize_to(x_train, x_valid)\n",
    "train_ds, valid_ds = Dataset(x_train, y_train), Dataset(x_valid, y_valid)"
   ]
  },
  {
   "cell_type": "code",
   "execution_count": 162,
   "metadata": {},
   "outputs": [
    {
     "data": {
      "text/plain": [
       "(tensor(0.0001), tensor(1.))"
      ]
     },
     "execution_count": 162,
     "metadata": {},
     "output_type": "execute_result"
    }
   ],
   "source": [
    "x_train.mean(), x_train.std()"
   ]
  },
  {
   "cell_type": "code",
   "execution_count": 163,
   "metadata": {},
   "outputs": [],
   "source": [
    "data = DataBunch(*get_dls(train_ds, valid_ds, bs), c)"
   ]
  },
  {
   "cell_type": "markdown",
   "metadata": {},
   "source": [
    "When refactoring, use ```Lambda``` layer that takes a basic function input and converts this to a layer that you can add to ```nn.Sequential```.\n",
    "\n",
    "Best to give a name to the function you're using inside of your Lambda (like flatten below)"
   ]
  },
  {
   "cell_type": "code",
   "execution_count": 164,
   "metadata": {},
   "outputs": [],
   "source": [
    "class Lambda(nn.Module):\n",
    "    def __init__(self, func):\n",
    "        super().__init__()\n",
    "        self.func = func\n",
    "        \n",
    "    def forward(self, x): return self.func(x)\n",
    "    \n",
    "def flatten(x): return x.view(x.shape[0], -1)"
   ]
  },
  {
   "cell_type": "code",
   "execution_count": 165,
   "metadata": {},
   "outputs": [],
   "source": [
    "# takes flat vector of size bs x 784, puts it back as batch of images in \n",
    "# 28 by 28 pixel resolution\n",
    "def mnist_resize(x): return x.view(-1,1,28,28) # .view resizes stuff!"
   ]
  },
  {
   "cell_type": "code",
   "execution_count": 166,
   "metadata": {},
   "outputs": [],
   "source": [
    "def get_cnn_model(data):\n",
    "    return nn.Sequential(\n",
    "        Lambda(mnist_resize),\n",
    "        nn.Conv2d(1, 8, 5, padding=2, stride=2), nn.ReLU(), #14\n",
    "        nn.Conv2d(8, 16, 3, padding=1, stride=2), nn.ReLU(), #7\n",
    "        nn.Conv2d(16, 32, 3, padding=1, stride =2), nn.ReLU(), #4\n",
    "        nn.Conv2d(32, 32, 3, padding=1, stride =2), nn.ReLU(), #2\n",
    "        nn.AdaptiveAvgPool2d(1),\n",
    "        Lambda(flatten),\n",
    "        nn.Linear(32, data.c)\n",
    "    )\n",
    "\n",
    "# sequential model that contains a bunch of stride 2 convolutions\n",
    "# remember = input is 28 by 28\n",
    "# So after the first convolution, input is 14 (dividing 28 in half)\n",
    "# After the second convolution, input is 7 x 7\n",
    "# then 4 x 4, 2 x 2\n",
    "# Do average pooling of all the activations\n",
    "# flatten the results\n",
    "# pass it through a linear layer\n",
    "# Done!\n",
    "\n",
    "# Use Lambda here to resize our input and flatten our output, all within nn.Sequential itself"
   ]
  },
  {
   "cell_type": "code",
   "execution_count": 167,
   "metadata": {},
   "outputs": [],
   "source": [
    "model = get_cnn_model(data)"
   ]
  },
  {
   "cell_type": "code",
   "execution_count": 168,
   "metadata": {},
   "outputs": [],
   "source": [
    "cbfs = [Recorder, partial(AvgStatsCallback, accuracy)]\n",
    "# partial means I'm treating the AvgStatsCallback class like a function\n",
    "# Here I'm passing it accuracy, and from this I want it to \n",
    "# calculate the average accuracy of my performance per minibatch"
   ]
  },
  {
   "cell_type": "code",
   "execution_count": 169,
   "metadata": {},
   "outputs": [],
   "source": [
    "opt = optim.SGD(model.parameters(), lr = 0.4) # specifying our optimizer, SGD \n",
    "learn = Learner(model, opt, loss_func, data) # Create our learner, ready for training \n",
    "run = Runner(cb_funcs = cbfs) # Run our model for training, pass in our callback functions"
   ]
  },
  {
   "cell_type": "code",
   "execution_count": 170,
   "metadata": {
    "scrolled": true
   },
   "outputs": [
    {
     "name": "stdout",
     "output_type": "stream",
     "text": [
      "train: [0.4471877734375, tensor(0.8527)]\n",
      "valid: [0.577237451171875, tensor(0.8937)]\n",
      "train: [0.10073755859375, tensor(0.9698)]\n",
      "valid: [0.13612435302734374, tensor(0.9608)]\n",
      "train: [0.072993974609375, tensor(0.9770)]\n",
      "valid: [0.08973518676757812, tensor(0.9712)]\n",
      "train: [0.057587626953125, tensor(0.9825)]\n",
      "valid: [0.06235679321289062, tensor(0.9825)]\n",
      "train: [0.0468539599609375, tensor(0.9853)]\n",
      "valid: [0.16710936279296876, tensor(0.9542)]\n",
      "train: [0.04255091796875, tensor(0.9863)]\n",
      "valid: [0.06998163452148437, tensor(0.9795)]\n",
      "train: [0.03756271728515625, tensor(0.9878)]\n",
      "valid: [0.05567471923828125, tensor(0.9848)]\n",
      "train: [0.0338171533203125, tensor(0.9895)]\n",
      "valid: [0.05486966552734375, tensor(0.9865)]\n",
      "5.87 s ± 247 ms per loop (mean ± std. dev. of 7 runs, 1 loop each)\n"
     ]
    }
   ],
   "source": [
    "%timeit run.fit(1, learn)"
   ]
  },
  {
   "cell_type": "code",
   "execution_count": 171,
   "metadata": {},
   "outputs": [
    {
     "name": "stdout",
     "output_type": "stream",
     "text": [
      "train: [0.03292178955078125, tensor(0.9892)]\n",
      "valid: [0.05591175537109375, tensor(0.9860)]\n"
     ]
    }
   ],
   "source": [
    "run.fit(1, learn)"
   ]
  },
  {
   "cell_type": "markdown",
   "metadata": {},
   "source": [
    "# That took a long time! Let's use our GPU"
   ]
  },
  {
   "cell_type": "markdown",
   "metadata": {},
   "source": [
    "### CUDA"
   ]
  },
  {
   "cell_type": "markdown",
   "metadata": {},
   "source": [
    "A simple Callback can make sure the model, inputs and targets are all on the same device."
   ]
  },
  {
   "cell_type": "markdown",
   "metadata": {},
   "source": [
    "Put the model on the GPU - specifically means the model's parameters, because remember a model only contains two types of numbers, **parameters (or weights) and activations (the things that it's calculating)**. \n",
    "\n",
    "So the **parameters are what are stored on the GPU (not the activations)**.\n",
    "\n",
    "And the inputs to the models and the loss function **also go on the GPU**.\n",
    "\n",
    "Use a CUDA callback:\n",
    "- pass it a device\n",
    "- when you begin fitting, you move the model to that device\n",
    "- when we begin a batch - set the runner's xb and yb and move to the device, which is going to run everything on CUDA"
   ]
  },
  {
   "cell_type": "code",
   "execution_count": 172,
   "metadata": {},
   "outputs": [],
   "source": [
    "device = torch.device('cuda', 0) # most flexible way\n",
    "# allows you to work with multiple GPUS"
   ]
  },
  {
   "cell_type": "code",
   "execution_count": 173,
   "metadata": {},
   "outputs": [],
   "source": [
    "class CudaCallback(Callback):\n",
    "    def __init__(self, device): self.device=device\n",
    "    def begin_fit(self): self.model.to(device)\n",
    "    def begin_batch(self): self.run.xb, self.run.yb = self.xb.to(device), self.yb.to(device)"
   ]
  },
  {
   "cell_type": "code",
   "execution_count": 174,
   "metadata": {},
   "outputs": [],
   "source": [
    "torch.cuda.set_device(device) # less flexible, but easy\n",
    "# one GPU as default"
   ]
  },
  {
   "cell_type": "code",
   "execution_count": 175,
   "metadata": {},
   "outputs": [],
   "source": [
    "class CudaCallback(Callback):\n",
    "    def begin_fit(self): self.model.cuda()\n",
    "    def begin_batch(self): self.run.xb, self.run.yb = self.xb.cuda(), self.yb.cuda()"
   ]
  },
  {
   "cell_type": "code",
   "execution_count": 176,
   "metadata": {},
   "outputs": [],
   "source": [
    "cbfs.append(CudaCallback)"
   ]
  },
  {
   "cell_type": "code",
   "execution_count": 177,
   "metadata": {},
   "outputs": [],
   "source": [
    "model = get_cnn_model(data)"
   ]
  },
  {
   "cell_type": "code",
   "execution_count": 178,
   "metadata": {},
   "outputs": [],
   "source": [
    "opt = optim.SGD(model.parameters(), lr = 0.4)\n",
    "learn = Learner(model, opt, loss_func, data)\n",
    "run = Runner(cb_funcs = cbfs)"
   ]
  },
  {
   "cell_type": "code",
   "execution_count": 179,
   "metadata": {},
   "outputs": [
    {
     "name": "stdout",
     "output_type": "stream",
     "text": [
      "train: [0.4795509375, tensor(0.8381, device='cuda:0')]\n",
      "valid: [0.10234592895507813, tensor(0.9686, device='cuda:0')]\n",
      "train: [0.09267720703125, tensor(0.9717, device='cuda:0')]\n",
      "valid: [0.07000151977539062, tensor(0.9805, device='cuda:0')]\n",
      "train: [0.06968955078125, tensor(0.9784, device='cuda:0')]\n",
      "valid: [0.06732953491210937, tensor(0.9816, device='cuda:0')]\n",
      "train: [0.0556686376953125, tensor(0.9825, device='cuda:0')]\n",
      "valid: [0.08169276123046874, tensor(0.9784, device='cuda:0')]\n",
      "train: [0.0482647265625, tensor(0.9852, device='cuda:0')]\n",
      "valid: [0.06671342163085937, tensor(0.9832, device='cuda:0')]\n",
      "train: [0.041343720703125, tensor(0.9869, device='cuda:0')]\n",
      "valid: [0.0775447021484375, tensor(0.9813, device='cuda:0')]\n",
      "train: [0.036207958984375, tensor(0.9888, device='cuda:0')]\n",
      "valid: [0.0727143798828125, tensor(0.9800, device='cuda:0')]\n",
      "train: [0.033651142578125, tensor(0.9886, device='cuda:0')]\n",
      "valid: [0.06400704345703125, tensor(0.9840, device='cuda:0')]\n",
      "train: [0.02669377685546875, tensor(0.9916, device='cuda:0')]\n",
      "valid: [0.0698011962890625, tensor(0.9824, device='cuda:0')]\n",
      "train: [0.02758525390625, tensor(0.9912, device='cuda:0')]\n",
      "valid: [0.06576257934570312, tensor(0.9850, device='cuda:0')]\n",
      "train: [0.0250604833984375, tensor(0.9920, device='cuda:0')]\n",
      "valid: [0.492543359375, tensor(0.9112, device='cuda:0')]\n",
      "train: [0.0262292578125, tensor(0.9920, device='cuda:0')]\n",
      "valid: [0.060549725341796874, tensor(0.9871, device='cuda:0')]\n",
      "train: [0.02358283203125, tensor(0.9926, device='cuda:0')]\n",
      "valid: [0.07962757568359374, tensor(0.9849, device='cuda:0')]\n",
      "train: [0.02385116943359375, tensor(0.9917, device='cuda:0')]\n",
      "valid: [0.09092976684570313, tensor(0.9800, device='cuda:0')]\n",
      "train: [0.02254510009765625, tensor(0.9928, device='cuda:0')]\n",
      "valid: [0.071584130859375, tensor(0.9845, device='cuda:0')]\n",
      "train: [0.0184449072265625, tensor(0.9946, device='cuda:0')]\n",
      "valid: [0.06599923095703125, tensor(0.9848, device='cuda:0')]\n",
      "train: [0.019696483154296875, tensor(0.9935, device='cuda:0')]\n",
      "valid: [0.081147802734375, tensor(0.9842, device='cuda:0')]\n",
      "train: [0.02049865478515625, tensor(0.9933, device='cuda:0')]\n",
      "valid: [0.06810540161132812, tensor(0.9858, device='cuda:0')]\n",
      "train: [0.0205787060546875, tensor(0.9934, device='cuda:0')]\n",
      "valid: [0.07086419677734375, tensor(0.9850, device='cuda:0')]\n",
      "train: [0.0231444384765625, tensor(0.9930, device='cuda:0')]\n",
      "valid: [0.07127476806640624, tensor(0.9839, device='cuda:0')]\n",
      "train: [0.015826783447265624, tensor(0.9945, device='cuda:0')]\n",
      "valid: [0.08683189697265625, tensor(0.9864, device='cuda:0')]\n",
      "train: [0.0316392431640625, tensor(0.9906, device='cuda:0')]\n",
      "valid: [0.075757421875, tensor(0.9847, device='cuda:0')]\n",
      "train: [0.019924490966796875, tensor(0.9939, device='cuda:0')]\n",
      "valid: [0.077875390625, tensor(0.9807, device='cuda:0')]\n",
      "train: [0.02253077880859375, tensor(0.9930, device='cuda:0')]\n",
      "valid: [0.103717626953125, tensor(0.9818, device='cuda:0')]\n",
      "7.02 s ± 309 ms per loop (mean ± std. dev. of 7 runs, 1 loop each)\n"
     ]
    }
   ],
   "source": [
    "%timeit run.fit(3, learn)"
   ]
  },
  {
   "cell_type": "code",
   "execution_count": 180,
   "metadata": {},
   "outputs": [],
   "source": [
    "# 7.02 seconds for 3 epochs compared to 5.87 seconds for 1 epoch\n",
    "# 2.5 times faster!"
   ]
  },
  {
   "cell_type": "markdown",
   "metadata": {},
   "source": [
    "# Refactor Model"
   ]
  },
  {
   "cell_type": "markdown",
   "metadata": {},
   "source": [
    "#### Regroup all the conv and relu functions into a single group"
   ]
  },
  {
   "cell_type": "code",
   "execution_count": 182,
   "metadata": {},
   "outputs": [],
   "source": [
    "def conv2d(ni, nf, ks=3, stride=2): # using kernel size 3, stride size 2\n",
    "    return nn.Sequential(\n",
    "    nn.Conv2d(ni, nf, ks, padding=ks//2, stride=stride), nn.ReLU()) # adding a ReLU step here"
   ]
  },
  {
   "cell_type": "code",
   "execution_count": 183,
   "metadata": {},
   "outputs": [],
   "source": [
    "# callback transforms the independent variable, x, for a batch\n",
    "# let's you do something like resize images to a specific \n",
    "# tensor size on the fly\n",
    "class BatchTransformXCallback(Callback):\n",
    "    _order = 2\n",
    "    def __init__(self, tfm): self.tfm = tfm\n",
    "    def begin_batch(self): self.run.xb = self.tfm(self.xb)\n",
    "\n",
    "        \n",
    "def view_tfm(*size):\n",
    "    def _inner(x): return x.view(*((-1,)+size))\n",
    "    return _inner"
   ]
  },
  {
   "cell_type": "code",
   "execution_count": 184,
   "metadata": {},
   "outputs": [],
   "source": [
    "mnist_view = view_tfm(1, 28, 28) "
   ]
  },
  {
   "cell_type": "code",
   "execution_count": 192,
   "metadata": {},
   "outputs": [],
   "source": [
    "cbfs.append(partial(BatchTransformXCallback, mnist_view))"
   ]
  },
  {
   "cell_type": "code",
   "execution_count": 193,
   "metadata": {},
   "outputs": [],
   "source": [
    "# With AdaptiveAvgPool - model can now work with any size input\n",
    "\n",
    "nfs = [8,16,32,32] \n",
    "# number of filters I have per layer"
   ]
  },
  {
   "cell_type": "code",
   "execution_count": 194,
   "metadata": {},
   "outputs": [],
   "source": [
    "def get_cnn_layers(data, nfs):\n",
    "    nfs = [1] + nfs\n",
    "    return [ # first few layers are for each one of the filters\n",
    "        # conv2d from one filter to the next one\n",
    "        conv2d(nfs[i], nfs[i+1], 5 if i==0 else 3) # kernel size - it's a five for the first layer and 3 for the next layers\n",
    "        for i in range(len(nfs)-1)\n",
    "        \n",
    "# why does the kernel size change?\n",
    "# see markdown below\n",
    "    ] + [nn.AdaptiveAvgPool2d(1), Lambda(flatten), nn.Linear(nfs[-1], data.c)]\n",
    "# last layers - average pooling, flattening, and linear layer\n",
    "def get_cnn_model(data, nfs): return nn.Sequential(*get_cnn_layers(data, nfs))"
   ]
  },
  {
   "cell_type": "markdown",
   "metadata": {},
   "source": [
    "Number of filters in the first layer - 8.\n",
    "\n",
    "Image has a single channel, and imagine we were using 3 x 3 filters.\n",
    "At each point in time, looking at 3x3 window with one channel - in total there's 9 input activations it's looking at. And then, spits those into 8 by 9 matrix multiply and then finally into a vector of length 8. Started with 9 numbers, then end up with 8 numbers, so all we're really doing is reordering the numbers, and not doing any useful computation. **So, there's no point in having your first layer just shuffle numbers into a different order. That's why we use a different kernel size for first layer.**\n",
    "\n",
    "\n",
    "ImageNet models - have 27 numbers - 3x3x3 for all three channels. Usually start with a 7 by 7 kernel, not 3x3. For the same reason, **we're making the first layer here have a 5x5 kernel size**. 27 to 32, we're wasting information, if you start with 27 numbers and do matrix multiplication to get 32 numbers, taking up more space for the same information you started with - the whole point of the neurla network layer is to pull out interesting fdeatures, so you want less activations (smaller dot product) "
   ]
  },
  {
   "cell_type": "code",
   "execution_count": 196,
   "metadata": {},
   "outputs": [],
   "source": [
    "def get_runner(model, data, lr=0.6, cbs=None, opt_func=None, loss_func = F.cross_entropy):\n",
    "    if opt_func is None: opt_func = optim.SGD\n",
    "    opt = opt_func(model.parameters(), lr=lr)\n",
    "    learn = Learner(model, opt, loss_func, data)\n",
    "    return learn, Runner(cb_funcs=listify(cbs))"
   ]
  },
  {
   "cell_type": "code",
   "execution_count": 197,
   "metadata": {},
   "outputs": [],
   "source": [
    "model = get_cnn_model(data, nfs)\n",
    "learn,run = get_runner(model, data, lr=0.4, cbs=cbfs)"
   ]
  },
  {
   "cell_type": "code",
   "execution_count": 198,
   "metadata": {},
   "outputs": [
    {
     "data": {
      "text/plain": [
       "Sequential(\n",
       "  (0): Sequential(\n",
       "    (0): Conv2d(1, 8, kernel_size=(5, 5), stride=(2, 2), padding=(2, 2))\n",
       "    (1): ReLU()\n",
       "  )\n",
       "  (1): Sequential(\n",
       "    (0): Conv2d(8, 16, kernel_size=(3, 3), stride=(2, 2), padding=(1, 1))\n",
       "    (1): ReLU()\n",
       "  )\n",
       "  (2): Sequential(\n",
       "    (0): Conv2d(16, 32, kernel_size=(3, 3), stride=(2, 2), padding=(1, 1))\n",
       "    (1): ReLU()\n",
       "  )\n",
       "  (3): Sequential(\n",
       "    (0): Conv2d(32, 32, kernel_size=(3, 3), stride=(2, 2), padding=(1, 1))\n",
       "    (1): ReLU()\n",
       "  )\n",
       "  (4): AdaptiveAvgPool2d(output_size=1)\n",
       "  (5): Lambda()\n",
       "  (6): Linear(in_features=32, out_features=10, bias=True)\n",
       ")"
      ]
     },
     "execution_count": 198,
     "metadata": {},
     "output_type": "execute_result"
    }
   ],
   "source": [
    "model"
   ]
  },
  {
   "cell_type": "code",
   "execution_count": 199,
   "metadata": {},
   "outputs": [
    {
     "name": "stdout",
     "output_type": "stream",
     "text": [
      "train: [0.5143558984375, tensor(0.8247, device='cuda:0')]\n",
      "valid: [0.09866397094726563, tensor(0.9695, device='cuda:0')]\n",
      "train: [0.097219296875, tensor(0.9694, device='cuda:0')]\n",
      "valid: [0.3335225341796875, tensor(0.9157, device='cuda:0')]\n",
      "train: [0.069650908203125, tensor(0.9781, device='cuda:0')]\n",
      "valid: [0.27952236328125, tensor(0.9297, device='cuda:0')]\n"
     ]
    }
   ],
   "source": [
    "run.fit(3, learn)"
   ]
  },
  {
   "cell_type": "markdown",
   "metadata": {},
   "source": [
    "# How do we make this more accurate, train more stabley, train more quickly?"
   ]
  },
  {
   "cell_type": "markdown",
   "metadata": {},
   "source": [
    "### Hooks\n",
    "\n",
    "Let's replace PyTorch's ```nn.Sequential``` with our own sequential class"
   ]
  },
  {
   "cell_type": "code",
   "execution_count": 209,
   "metadata": {},
   "outputs": [],
   "source": [
    "class SequentialModel(nn.Module):\n",
    "    def __init__(self, *layers):\n",
    "        super().__init__()\n",
    "        self.layers = nn.ModuleList(layers)\n",
    "        self.act_means = [[] for _ in layers]\n",
    "        self.act_stds = [[] for _ in layers]\n",
    "        \n",
    "    def __call__(self, x):\n",
    "        for i, l in enumerate(self.layers):\n",
    "            x = l(x)\n",
    "            self.act_means[i].append(x.data.mean())\n",
    "            self.act_stds[i].append(x.data.std())\n",
    "        return x\n",
    "    # same as before, except has an act means and act standard deviations compontent in __call__\n",
    "    def __iter__(self): return iter(self.layers)"
   ]
  },
  {
   "cell_type": "code",
   "execution_count": 210,
   "metadata": {},
   "outputs": [],
   "source": [
    "model = SequentialModel(*get_cnn_layers(data, nfs)) # nfs = number of filters"
   ]
  },
  {
   "cell_type": "code",
   "execution_count": 211,
   "metadata": {},
   "outputs": [],
   "source": [
    "learn, run = get_runner(model, data, lr = 0.9, cbs = cbfs)"
   ]
  },
  {
   "cell_type": "code",
   "execution_count": 212,
   "metadata": {},
   "outputs": [
    {
     "name": "stdout",
     "output_type": "stream",
     "text": [
      "train: [2.271030625, tensor(0.1402, device='cuda:0')]\n",
      "valid: [2.1997154296875, tensor(0.1415, device='cuda:0')]\n",
      "train: [1.3700453125, tensor(0.5407, device='cuda:0')]\n",
      "valid: [1.543443359375, tensor(0.7139, device='cuda:0')]\n"
     ]
    }
   ],
   "source": [
    "run.fit(2, learn)"
   ]
  },
  {
   "cell_type": "markdown",
   "metadata": {},
   "source": [
    "### Let's now look at the means and standard deviations of the activations at the beginning of training. "
   ]
  },
  {
   "cell_type": "code",
   "execution_count": 213,
   "metadata": {},
   "outputs": [
    {
     "name": "stdout",
     "output_type": "stream",
     "text": [
      "[[tensor(0.1671, device='cuda:0'), tensor(0.1697, device='cuda:0'), tensor(0.1720, device='cuda:0'), tensor(0.1717, device='cuda:0'), tensor(0.1643, device='cuda:0'), tensor(0.1662, device='cuda:0'), tensor(0.1721, device='cuda:0'), tensor(0.1772, device='cuda:0'), tensor(0.1783, device='cuda:0'), tensor(0.1841, device='cuda:0'), tensor(0.1778, device='cuda:0'), tensor(0.1854, device='cuda:0'), tensor(0.1934, device='cuda:0'), tensor(0.2014, device='cuda:0'), tensor(0.2041, device='cuda:0'), tensor(0.2165, device='cuda:0'), tensor(0.2129, device='cuda:0'), tensor(0.2337, device='cuda:0'), tensor(0.2649, device='cuda:0'), tensor(0.2971, device='cuda:0'), tensor(0.2060, device='cuda:0'), tensor(0.2128, device='cuda:0'), tensor(0.1956, device='cuda:0'), tensor(0.2084, device='cuda:0'), tensor(0.2403, device='cuda:0'), tensor(0.2690, device='cuda:0'), tensor(0.1589, device='cuda:0'), tensor(0.1561, device='cuda:0'), tensor(0.1579, device='cuda:0'), tensor(0.1578, device='cuda:0'), tensor(0.1584, device='cuda:0'), tensor(0.1589, device='cuda:0'), tensor(0.1593, device='cuda:0'), tensor(0.1581, device='cuda:0'), tensor(0.1628, device='cuda:0'), tensor(0.1572, device='cuda:0'), tensor(0.1656, device='cuda:0'), tensor(0.1665, device='cuda:0'), tensor(0.1670, device='cuda:0'), tensor(0.1699, device='cuda:0'), tensor(0.1749, device='cuda:0'), tensor(0.1860, device='cuda:0'), tensor(0.1851, device='cuda:0'), tensor(0.2038, device='cuda:0'), tensor(0.1996, device='cuda:0'), tensor(0.2048, device='cuda:0'), tensor(0.2348, device='cuda:0'), tensor(0.2580, device='cuda:0'), tensor(0.3017, device='cuda:0'), tensor(0.3640, device='cuda:0'), tensor(0.8412, device='cuda:0'), tensor(0.8757, device='cuda:0'), tensor(0.8462, device='cuda:0'), tensor(0.8507, device='cuda:0'), tensor(0.8568, device='cuda:0'), tensor(0.8401, device='cuda:0'), tensor(0.8318, device='cuda:0'), tensor(0.8587, device='cuda:0'), tensor(0.8652, device='cuda:0'), tensor(0.8712, device='cuda:0'), tensor(0.8442, device='cuda:0'), tensor(0.8324, device='cuda:0'), tensor(0.8488, device='cuda:0'), tensor(0.8532, device='cuda:0'), tensor(0.8288, device='cuda:0'), tensor(0.8226, device='cuda:0'), tensor(0.8533, device='cuda:0'), tensor(0.8308, device='cuda:0'), tensor(0.8728, device='cuda:0'), tensor(0.8615, device='cuda:0'), tensor(0.7856, device='cuda:0'), tensor(0.7886, device='cuda:0'), tensor(0.8026, device='cuda:0'), tensor(0.7821, device='cuda:0'), tensor(0.8000, device='cuda:0'), tensor(0.7838, device='cuda:0'), tensor(0.7761, device='cuda:0'), tensor(0.7833, device='cuda:0'), tensor(0.7850, device='cuda:0'), tensor(0.7717, device='cuda:0'), tensor(0.7872, device='cuda:0'), tensor(0.7992, device='cuda:0'), tensor(0.8108, device='cuda:0'), tensor(0.7934, device='cuda:0'), tensor(0.7979, device='cuda:0'), tensor(0.8218, device='cuda:0'), tensor(0.8486, device='cuda:0'), tensor(0.8197, device='cuda:0'), tensor(0.6175, device='cuda:0'), tensor(0.6164, device='cuda:0'), tensor(0.6320, device='cuda:0'), tensor(0.6041, device='cuda:0'), tensor(0.6236, device='cuda:0'), tensor(0.6312, device='cuda:0'), tensor(0.6325, device='cuda:0'), tensor(0.6243, device='cuda:0'), tensor(0.6264, device='cuda:0'), tensor(0.6391, device='cuda:0'), tensor(0.6251, device='cuda:0'), tensor(0.6431, device='cuda:0'), tensor(0.6404, device='cuda:0'), tensor(0.6607, device='cuda:0'), tensor(0.6467, device='cuda:0'), tensor(0.6635, device='cuda:0'), tensor(0.6520, device='cuda:0'), tensor(0.6792, device='cuda:0'), tensor(0.6773, device='cuda:0'), tensor(0.6649, device='cuda:0'), tensor(0.6573, device='cuda:0'), tensor(0.6622, device='cuda:0'), tensor(0.6748, device='cuda:0'), tensor(0.6578, device='cuda:0'), tensor(0.6515, device='cuda:0'), tensor(0.6637, device='cuda:0'), tensor(0.6740, device='cuda:0'), tensor(0.6992, device='cuda:0'), tensor(0.8671, device='cuda:0'), tensor(0.8756, device='cuda:0'), tensor(0.8744, device='cuda:0'), tensor(0.8381, device='cuda:0'), tensor(0.8780, device='cuda:0'), tensor(0.8556, device='cuda:0'), tensor(0.8753, device='cuda:0'), tensor(0.8677, device='cuda:0'), tensor(0.8752, device='cuda:0'), tensor(0.8653, device='cuda:0'), tensor(0.8469, device='cuda:0'), tensor(0.8434, device='cuda:0'), tensor(0.8657, device='cuda:0'), tensor(0.8772, device='cuda:0'), tensor(0.8583, device='cuda:0'), tensor(0.8800, device='cuda:0'), tensor(0.8651, device='cuda:0'), tensor(0.8425, device='cuda:0'), tensor(0.8495, device='cuda:0'), tensor(0.8407, device='cuda:0'), tensor(0.8711, device='cuda:0'), tensor(0.8544, device='cuda:0'), tensor(0.8762, device='cuda:0'), tensor(0.8585, device='cuda:0'), tensor(0.8518, device='cuda:0'), tensor(0.8556, device='cuda:0'), tensor(0.8489, device='cuda:0'), tensor(0.8681, device='cuda:0'), tensor(0.8572, device='cuda:0'), tensor(0.8721, device='cuda:0'), tensor(0.8393, device='cuda:0'), tensor(0.8478, device='cuda:0'), tensor(0.8477, device='cuda:0'), tensor(0.8712, device='cuda:0'), tensor(0.8666, device='cuda:0'), tensor(0.8763, device='cuda:0'), tensor(0.8769, device='cuda:0'), tensor(0.8459, device='cuda:0'), tensor(0.8834, device='cuda:0'), tensor(0.8733, device='cuda:0'), tensor(0.8754, device='cuda:0'), tensor(0.8615, device='cuda:0'), tensor(0.8627, device='cuda:0'), tensor(0.8557, device='cuda:0'), tensor(0.8678, device='cuda:0'), tensor(0.8703, device='cuda:0'), tensor(0.8678, device='cuda:0'), tensor(0.8640, device='cuda:0'), tensor(0.8557, device='cuda:0'), tensor(0.8666, device='cuda:0'), tensor(0.8480, device='cuda:0'), tensor(0.8636, device='cuda:0'), tensor(0.8541, device='cuda:0'), tensor(0.8530, device='cuda:0'), tensor(0.8583, device='cuda:0'), tensor(0.8592, device='cuda:0'), tensor(0.8636, device='cuda:0'), tensor(0.8466, device='cuda:0'), tensor(0.8435, device='cuda:0'), tensor(0.8712, device='cuda:0'), tensor(0.8651, device='cuda:0'), tensor(0.8410, device='cuda:0'), tensor(0.8678, device='cuda:0'), tensor(0.8472, device='cuda:0'), tensor(0.8611, device='cuda:0'), tensor(0.8657, device='cuda:0'), tensor(0.8656, device='cuda:0'), tensor(0.8271, device='cuda:0'), tensor(0.8518, device='cuda:0'), tensor(0.8610, device='cuda:0'), tensor(0.8589, device='cuda:0'), tensor(0.8484, device='cuda:0'), tensor(0.8750, device='cuda:0'), tensor(0.8490, device='cuda:0'), tensor(0.8673, device='cuda:0'), tensor(0.8790, device='cuda:0'), tensor(0.8756, device='cuda:0'), tensor(0.8673, device='cuda:0'), tensor(0.8505, device='cuda:0'), tensor(0.8621, device='cuda:0'), tensor(0.8707, device='cuda:0'), tensor(0.8474, device='cuda:0'), tensor(0.8556, device='cuda:0'), tensor(0.8716, device='cuda:0'), tensor(0.8708, device='cuda:0'), tensor(0.8536, device='cuda:0'), tensor(0.8929, device='cuda:0'), tensor(0.8773, device='cuda:0'), tensor(0.8703, device='cuda:0'), tensor(0.8439, device='cuda:0'), tensor(0.8519, device='cuda:0'), tensor(0.8682, device='cuda:0'), tensor(0.8354, device='cuda:0'), tensor(0.8461, device='cuda:0'), tensor(0.8495, device='cuda:0'), tensor(0.8645, device='cuda:0'), tensor(0.8221, device='cuda:0'), tensor(0.8604, device='cuda:0'), tensor(0.8675, device='cuda:0'), tensor(0.8277, device='cuda:0'), tensor(0.8520, device='cuda:0'), tensor(0.8264, device='cuda:0'), tensor(0.8753, device='cuda:0'), tensor(0.8664, device='cuda:0'), tensor(0.8412, device='cuda:0'), tensor(0.8560, device='cuda:0'), tensor(0.8673, device='cuda:0'), tensor(0.8697, device='cuda:0'), tensor(0.8397, device='cuda:0'), tensor(0.8871, device='cuda:0'), tensor(0.8739, device='cuda:0'), tensor(0.8654, device='cuda:0'), tensor(0.8646, device='cuda:0'), tensor(0.8560, device='cuda:0'), tensor(0.8406, device='cuda:0'), tensor(0.8656, device='cuda:0'), tensor(0.8626, device='cuda:0'), tensor(0.8724, device='cuda:0'), tensor(0.8851, device='cuda:0'), tensor(0.8612, device='cuda:0'), tensor(0.8697, device='cuda:0'), tensor(0.8690, device='cuda:0'), tensor(0.8536, device='cuda:0'), tensor(0.8429, device='cuda:0'), tensor(0.8498, device='cuda:0'), tensor(0.8556, device='cuda:0'), tensor(0.8753, device='cuda:0'), tensor(0.8543, device='cuda:0'), tensor(0.8578, device='cuda:0'), tensor(0.8626, device='cuda:0'), tensor(0.8584, device='cuda:0'), tensor(0.8564, device='cuda:0'), tensor(0.8676, device='cuda:0'), tensor(0.8574, device='cuda:0'), tensor(0.8905, device='cuda:0'), tensor(0.8766, device='cuda:0'), tensor(0.8539, device='cuda:0'), tensor(0.8697, device='cuda:0'), tensor(0.8787, device='cuda:0'), tensor(0.8755, device='cuda:0'), tensor(0.8575, device='cuda:0'), tensor(0.8565, device='cuda:0'), tensor(0.8409, device='cuda:0'), tensor(0.8563, device='cuda:0'), tensor(0.8565, device='cuda:0'), tensor(0.8578, device='cuda:0'), tensor(0.8348, device='cuda:0'), tensor(0.8422, device='cuda:0'), tensor(0.8509, device='cuda:0'), tensor(0.8803, device='cuda:0'), tensor(0.8589, device='cuda:0'), tensor(0.8703, device='cuda:0'), tensor(0.8430, device='cuda:0'), tensor(0.8634, device='cuda:0'), tensor(0.8505, device='cuda:0'), tensor(0.8499, device='cuda:0'), tensor(0.8424, device='cuda:0'), tensor(0.8355, device='cuda:0'), tensor(0.8704, device='cuda:0'), tensor(0.8973, device='cuda:0'), tensor(0.8815, device='cuda:0'), tensor(0.8907, device='cuda:0'), tensor(0.8587, device='cuda:0'), tensor(0.8650, device='cuda:0'), tensor(0.8424, device='cuda:0'), tensor(0.8460, device='cuda:0'), tensor(0.8492, device='cuda:0'), tensor(0.8663, device='cuda:0'), tensor(0.8541, device='cuda:0'), tensor(0.8835, device='cuda:0'), tensor(0.8757, device='cuda:0'), tensor(0.8536, device='cuda:0'), tensor(0.8566, device='cuda:0'), tensor(0.8259, device='cuda:0'), tensor(0.8439, device='cuda:0'), tensor(0.8558, device='cuda:0'), tensor(0.8600, device='cuda:0'), tensor(0.8670, device='cuda:0'), tensor(0.8650, device='cuda:0'), tensor(0.8612, device='cuda:0'), tensor(0.8603, device='cuda:0'), tensor(0.8789, device='cuda:0'), tensor(0.8681, device='cuda:0'), tensor(0.8609, device='cuda:0'), tensor(0.8505, device='cuda:0'), tensor(0.8811, device='cuda:0'), tensor(0.8663, device='cuda:0'), tensor(0.8197, device='cuda:0'), tensor(0.8691, device='cuda:0'), tensor(0.8797, device='cuda:0'), tensor(0.8959, device='cuda:0'), tensor(0.8630, device='cuda:0'), tensor(0.8572, device='cuda:0'), tensor(0.8594, device='cuda:0'), tensor(0.8634, device='cuda:0'), tensor(0.8816, device='cuda:0'), tensor(0.8561, device='cuda:0'), tensor(0.8599, device='cuda:0'), tensor(0.8754, device='cuda:0'), tensor(0.8822, device='cuda:0'), tensor(0.8343, device='cuda:0'), tensor(0.8403, device='cuda:0'), tensor(0.8598, device='cuda:0'), tensor(0.8813, device='cuda:0'), tensor(0.8690, device='cuda:0'), tensor(0.8818, device='cuda:0'), tensor(0.8743, device='cuda:0'), tensor(0.8808, device='cuda:0'), tensor(0.8799, device='cuda:0'), tensor(0.8652, device='cuda:0'), tensor(0.8878, device='cuda:0'), tensor(0.9070, device='cuda:0'), tensor(0.8966, device='cuda:0'), tensor(0.8923, device='cuda:0'), tensor(0.8675, device='cuda:0'), tensor(0.8897, device='cuda:0'), tensor(0.8666, device='cuda:0'), tensor(0.9137, device='cuda:0'), tensor(0.8423, device='cuda:0'), tensor(0.8701, device='cuda:0'), tensor(0.8427, device='cuda:0'), tensor(0.8678, device='cuda:0'), tensor(0.8366, device='cuda:0'), tensor(0.8593, device='cuda:0'), tensor(0.8675, device='cuda:0'), tensor(0.8643, device='cuda:0'), tensor(0.8638, device='cuda:0'), tensor(0.8710, device='cuda:0'), tensor(0.8661, device='cuda:0'), tensor(0.8445, device='cuda:0'), tensor(0.8503, device='cuda:0'), tensor(0.8699, device='cuda:0'), tensor(0.8766, device='cuda:0'), tensor(0.8499, device='cuda:0'), tensor(0.8751, device='cuda:0'), tensor(0.8729, device='cuda:0'), tensor(0.8654, device='cuda:0'), tensor(0.8699, device='cuda:0'), tensor(0.8557, device='cuda:0'), tensor(0.8902, device='cuda:0'), tensor(0.8594, device='cuda:0'), tensor(0.8528, device='cuda:0'), tensor(0.8361, device='cuda:0'), tensor(0.8574, device='cuda:0'), tensor(0.8374, device='cuda:0'), tensor(0.8598, device='cuda:0'), tensor(0.8515, device='cuda:0'), tensor(0.8863, device='cuda:0'), tensor(0.8463, device='cuda:0'), tensor(0.8613, device='cuda:0'), tensor(0.8626, device='cuda:0'), tensor(0.8549, device='cuda:0'), tensor(0.8445, device='cuda:0'), tensor(0.8507, device='cuda:0'), tensor(0.8763, device='cuda:0'), tensor(0.8763, device='cuda:0'), tensor(0.8728, device='cuda:0'), tensor(0.8828, device='cuda:0'), tensor(0.8699, device='cuda:0'), tensor(0.8899, device='cuda:0'), tensor(0.8365, device='cuda:0'), tensor(0.8423, device='cuda:0'), tensor(0.8544, device='cuda:0'), tensor(0.8567, device='cuda:0'), tensor(0.8541, device='cuda:0'), tensor(0.8622, device='cuda:0'), tensor(0.8530, device='cuda:0'), tensor(0.8631, device='cuda:0'), tensor(0.8594, device='cuda:0'), tensor(0.8757, device='cuda:0'), tensor(0.8478, device='cuda:0'), tensor(0.8757, device='cuda:0'), tensor(0.8560, device='cuda:0'), tensor(0.8869, device='cuda:0'), tensor(0.8976, device='cuda:0'), tensor(0.8438, device='cuda:0'), tensor(0.8499, device='cuda:0'), tensor(0.8348, device='cuda:0'), tensor(0.8427, device='cuda:0'), tensor(0.8604, device='cuda:0'), tensor(0.8435, device='cuda:0'), tensor(0.8457, device='cuda:0'), tensor(0.8564, device='cuda:0'), tensor(0.8676, device='cuda:0'), tensor(0.8693, device='cuda:0'), tensor(0.8729, device='cuda:0'), tensor(0.8339, device='cuda:0'), tensor(0.8562, device='cuda:0'), tensor(0.8608, device='cuda:0'), tensor(0.8810, device='cuda:0'), tensor(0.8480, device='cuda:0'), tensor(0.8490, device='cuda:0'), tensor(0.8512, device='cuda:0'), tensor(0.8663, device='cuda:0'), tensor(0.8433, device='cuda:0'), tensor(0.8380, device='cuda:0'), tensor(0.8803, device='cuda:0'), tensor(0.8832, device='cuda:0'), tensor(0.8559, device='cuda:0'), tensor(0.8847, device='cuda:0'), tensor(0.8450, device='cuda:0'), tensor(0.8686, device='cuda:0'), tensor(0.8840, device='cuda:0'), tensor(0.8660, device='cuda:0'), tensor(0.8628, device='cuda:0'), tensor(0.8409, device='cuda:0'), tensor(0.8579, device='cuda:0'), tensor(0.8610, device='cuda:0'), tensor(0.8685, device='cuda:0'), tensor(0.8428, device='cuda:0'), tensor(0.8717, device='cuda:0'), tensor(0.8661, device='cuda:0'), tensor(0.8527, device='cuda:0'), tensor(0.8822, device='cuda:0'), tensor(0.8953, device='cuda:0'), tensor(0.8521, device='cuda:0'), tensor(0.8503, device='cuda:0'), tensor(0.8514, device='cuda:0'), tensor(0.8719, device='cuda:0'), tensor(0.8594, device='cuda:0'), tensor(0.8703, device='cuda:0'), tensor(0.8639, device='cuda:0'), tensor(0.8623, device='cuda:0'), tensor(0.8593, device='cuda:0'), tensor(0.8240, device='cuda:0'), tensor(0.8645, device='cuda:0'), tensor(0.8628, device='cuda:0'), tensor(0.8812, device='cuda:0'), tensor(0.8742, device='cuda:0'), tensor(0.8594, device='cuda:0'), tensor(0.8509, device='cuda:0'), tensor(0.8449, device='cuda:0'), tensor(0.8648, device='cuda:0'), tensor(0.8557, device='cuda:0'), tensor(0.8693, device='cuda:0'), tensor(0.8625, device='cuda:0'), tensor(0.8662, device='cuda:0'), tensor(0.8814, device='cuda:0'), tensor(0.8540, device='cuda:0'), tensor(0.8381, device='cuda:0'), tensor(0.8528, device='cuda:0'), tensor(0.8538, device='cuda:0'), tensor(0.8482, device='cuda:0'), tensor(0.8500, device='cuda:0'), tensor(0.8387, device='cuda:0'), tensor(0.8516, device='cuda:0'), tensor(0.8309, device='cuda:0'), tensor(0.8414, device='cuda:0'), tensor(0.8536, device='cuda:0'), tensor(0.8548, device='cuda:0'), tensor(0.8622, device='cuda:0'), tensor(0.8729, device='cuda:0'), tensor(0.8445, device='cuda:0'), tensor(0.8333, device='cuda:0'), tensor(0.8565, device='cuda:0'), tensor(0.8741, device='cuda:0'), tensor(0.8557, device='cuda:0'), tensor(0.8548, device='cuda:0'), tensor(0.8437, device='cuda:0'), tensor(0.8574, device='cuda:0'), tensor(0.8540, device='cuda:0'), tensor(0.8492, device='cuda:0'), tensor(0.8557, device='cuda:0'), tensor(0.8619, device='cuda:0'), tensor(0.8709, device='cuda:0'), tensor(0.8475, device='cuda:0'), tensor(0.8354, device='cuda:0'), tensor(0.8357, device='cuda:0'), tensor(0.8581, device='cuda:0'), tensor(0.8388, device='cuda:0'), tensor(0.8808, device='cuda:0'), tensor(0.8666, device='cuda:0'), tensor(0.8389, device='cuda:0'), tensor(0.8600, device='cuda:0'), tensor(0.8530, device='cuda:0'), tensor(0.8518, device='cuda:0'), tensor(0.8391, device='cuda:0'), tensor(0.8597, device='cuda:0'), tensor(0.8542, device='cuda:0'), tensor(0.8717, device='cuda:0'), tensor(0.8674, device='cuda:0'), tensor(0.8456, device='cuda:0'), tensor(0.8738, device='cuda:0'), tensor(0.8824, device='cuda:0'), tensor(0.8515, device='cuda:0'), tensor(0.8473, device='cuda:0'), tensor(0.8592, device='cuda:0'), tensor(0.8662, device='cuda:0'), tensor(0.8884, device='cuda:0'), tensor(0.8654, device='cuda:0'), tensor(0.8666, device='cuda:0'), tensor(0.8439, device='cuda:0'), tensor(0.8581, device='cuda:0'), tensor(0.8619, device='cuda:0'), tensor(0.8498, device='cuda:0'), tensor(0.8604, device='cuda:0'), tensor(0.8602, device='cuda:0'), tensor(0.8456, device='cuda:0'), tensor(0.8414, device='cuda:0'), tensor(0.8567, device='cuda:0'), tensor(0.8651, device='cuda:0'), tensor(0.8658, device='cuda:0'), tensor(0.8689, device='cuda:0'), tensor(0.8554, device='cuda:0'), tensor(0.8537, device='cuda:0'), tensor(0.8561, device='cuda:0'), tensor(0.8372, device='cuda:0'), tensor(0.8365, device='cuda:0'), tensor(0.8345, device='cuda:0'), tensor(0.8535, device='cuda:0'), tensor(0.8524, device='cuda:0'), tensor(0.8450, device='cuda:0'), tensor(0.8609, device='cuda:0'), tensor(0.8706, device='cuda:0'), tensor(0.8426, device='cuda:0'), tensor(0.8821, device='cuda:0'), tensor(0.8628, device='cuda:0'), tensor(0.8544, device='cuda:0'), tensor(0.8573, device='cuda:0'), tensor(0.8719, device='cuda:0'), tensor(0.8419, device='cuda:0'), tensor(0.8615, device='cuda:0'), tensor(0.8559, device='cuda:0'), tensor(0.8738, device='cuda:0'), tensor(0.8889, device='cuda:0'), tensor(0.8366, device='cuda:0'), tensor(0.8413, device='cuda:0'), tensor(0.8545, device='cuda:0'), tensor(0.8623, device='cuda:0'), tensor(0.8847, device='cuda:0'), tensor(0.8645, device='cuda:0'), tensor(0.8322, device='cuda:0'), tensor(0.8493, device='cuda:0'), tensor(0.8851, device='cuda:0'), tensor(0.8465, device='cuda:0'), tensor(0.8582, device='cuda:0'), tensor(0.8700, device='cuda:0'), tensor(0.8714, device='cuda:0'), tensor(0.8720, device='cuda:0'), tensor(0.8444, device='cuda:0'), tensor(0.8378, device='cuda:0'), tensor(0.8805, device='cuda:0'), tensor(0.8720, device='cuda:0'), tensor(0.8839, device='cuda:0'), tensor(0.8743, device='cuda:0'), tensor(0.8633, device='cuda:0'), tensor(0.8530, device='cuda:0'), tensor(0.8724, device='cuda:0'), tensor(0.8510, device='cuda:0'), tensor(0.8198, device='cuda:0'), tensor(0.8586, device='cuda:0'), tensor(0.8258, device='cuda:0'), tensor(0.8436, device='cuda:0'), tensor(0.8342, device='cuda:0'), tensor(0.8758, device='cuda:0'), tensor(0.8720, device='cuda:0'), tensor(0.8470, device='cuda:0'), tensor(0.8629, device='cuda:0'), tensor(0.8752, device='cuda:0'), tensor(0.8578, device='cuda:0'), tensor(0.8487, device='cuda:0'), tensor(0.8781, device='cuda:0'), tensor(0.8528, device='cuda:0'), tensor(0.8501, device='cuda:0'), tensor(0.8588, device='cuda:0'), tensor(0.8391, device='cuda:0'), tensor(0.8334, device='cuda:0'), tensor(0.9013, device='cuda:0'), tensor(0.8651, device='cuda:0'), tensor(0.8508, device='cuda:0'), tensor(0.8258, device='cuda:0'), tensor(0.8550, device='cuda:0'), tensor(0.8939, device='cuda:0'), tensor(0.8595, device='cuda:0'), tensor(0.8598, device='cuda:0'), tensor(0.8711, device='cuda:0'), tensor(0.8493, device='cuda:0'), tensor(0.8732, device='cuda:0'), tensor(0.8704, device='cuda:0'), tensor(0.8232, device='cuda:0'), tensor(0.8401, device='cuda:0'), tensor(0.8455, device='cuda:0'), tensor(0.8452, device='cuda:0'), tensor(0.8504, device='cuda:0'), tensor(0.8603, device='cuda:0'), tensor(0.8580, device='cuda:0'), tensor(0.8519, device='cuda:0'), tensor(0.8603, device='cuda:0'), tensor(0.8372, device='cuda:0'), tensor(0.8497, device='cuda:0'), tensor(0.8481, device='cuda:0'), tensor(0.8729, device='cuda:0'), tensor(0.8800, device='cuda:0'), tensor(0.8699, device='cuda:0'), tensor(0.8533, device='cuda:0'), tensor(0.8682, device='cuda:0'), tensor(0.8429, device='cuda:0'), tensor(0.8838, device='cuda:0'), tensor(0.8748, device='cuda:0'), tensor(0.8467, device='cuda:0'), tensor(0.8715, device='cuda:0'), tensor(0.8821, device='cuda:0'), tensor(0.8392, device='cuda:0'), tensor(0.8478, device='cuda:0'), tensor(0.8465, device='cuda:0'), tensor(0.8727, device='cuda:0'), tensor(0.8753, device='cuda:0'), tensor(0.8391, device='cuda:0'), tensor(0.8644, device='cuda:0'), tensor(0.8438, device='cuda:0'), tensor(0.8619, device='cuda:0'), tensor(0.8647, device='cuda:0'), tensor(0.8449, device='cuda:0'), tensor(0.8587, device='cuda:0'), tensor(0.8511, device='cuda:0'), tensor(0.8600, device='cuda:0'), tensor(0.8498, device='cuda:0'), tensor(0.8609, device='cuda:0'), tensor(0.8366, device='cuda:0'), tensor(0.8644, device='cuda:0'), tensor(0.8463, device='cuda:0'), tensor(0.8557, device='cuda:0'), tensor(0.8668, device='cuda:0'), tensor(0.8652, device='cuda:0'), tensor(0.8650, device='cuda:0'), tensor(0.8516, device='cuda:0'), tensor(0.8479, device='cuda:0'), tensor(0.8542, device='cuda:0'), tensor(0.8710, device='cuda:0'), tensor(0.8609, device='cuda:0'), tensor(0.8279, device='cuda:0'), tensor(0.8368, device='cuda:0'), tensor(0.8352, device='cuda:0'), tensor(0.8602, device='cuda:0'), tensor(0.8385, device='cuda:0'), tensor(0.8497, device='cuda:0'), tensor(0.8597, device='cuda:0'), tensor(0.8496, device='cuda:0'), tensor(0.8631, device='cuda:0'), tensor(0.8597, device='cuda:0'), tensor(0.8603, device='cuda:0'), tensor(0.8683, device='cuda:0'), tensor(0.8512, device='cuda:0'), tensor(0.8256, device='cuda:0'), tensor(0.8544, device='cuda:0'), tensor(0.8593, device='cuda:0'), tensor(0.8694, device='cuda:0'), tensor(0.8557, device='cuda:0'), tensor(0.8876, device='cuda:0'), tensor(0.8756, device='cuda:0'), tensor(0.8607, device='cuda:0'), tensor(0.8444, device='cuda:0'), tensor(0.8563, device='cuda:0'), tensor(0.8453, device='cuda:0'), tensor(0.8586, device='cuda:0'), tensor(0.8707, device='cuda:0'), tensor(0.8527, device='cuda:0'), tensor(0.8582, device='cuda:0'), tensor(0.8630, device='cuda:0'), tensor(0.8720, device='cuda:0'), tensor(0.8596, device='cuda:0'), tensor(0.8715, device='cuda:0'), tensor(0.8599, device='cuda:0'), tensor(0.8633, device='cuda:0'), tensor(0.8699, device='cuda:0'), tensor(0.8524, device='cuda:0'), tensor(0.8571, device='cuda:0'), tensor(0.8784, device='cuda:0'), tensor(0.8654, device='cuda:0'), tensor(0.8406, device='cuda:0'), tensor(0.8643, device='cuda:0'), tensor(0.8734, device='cuda:0'), tensor(0.8338, device='cuda:0'), tensor(0.8504, device='cuda:0'), tensor(0.8566, device='cuda:0'), tensor(0.8688, device='cuda:0'), tensor(0.8682, device='cuda:0'), tensor(0.8720, device='cuda:0'), tensor(0.8683, device='cuda:0'), tensor(0.8729, device='cuda:0'), tensor(0.8467, device='cuda:0'), tensor(0.8727, device='cuda:0'), tensor(0.8755, device='cuda:0'), tensor(0.8677, device='cuda:0'), tensor(0.8688, device='cuda:0'), tensor(0.8599, device='cuda:0'), tensor(0.8737, device='cuda:0'), tensor(0.8773, device='cuda:0'), tensor(0.8485, device='cuda:0'), tensor(0.8480, device='cuda:0'), tensor(0.8895, device='cuda:0'), tensor(0.8654, device='cuda:0'), tensor(0.8765, device='cuda:0'), tensor(0.8771, device='cuda:0'), tensor(0.8648, device='cuda:0'), tensor(0.8675, device='cuda:0'), tensor(0.8659, device='cuda:0'), tensor(0.8721, device='cuda:0'), tensor(0.8700, device='cuda:0'), tensor(0.9016, device='cuda:0'), tensor(0.8940, device='cuda:0'), tensor(0.8918, device='cuda:0'), tensor(0.9087, device='cuda:0'), tensor(0.8863, device='cuda:0'), tensor(0.9053, device='cuda:0'), tensor(0.8966, device='cuda:0'), tensor(0.9176, device='cuda:0'), tensor(0.9057, device='cuda:0'), tensor(0.9217, device='cuda:0'), tensor(0.9152, device='cuda:0'), tensor(0.9102, device='cuda:0'), tensor(0.9175, device='cuda:0'), tensor(0.8976, device='cuda:0'), tensor(0.9072, device='cuda:0'), tensor(0.9204, device='cuda:0'), tensor(0.9222, device='cuda:0'), tensor(0.8987, device='cuda:0'), tensor(0.9084, device='cuda:0'), tensor(0.9018, device='cuda:0'), tensor(0.9261, device='cuda:0'), tensor(0.9139, device='cuda:0'), tensor(0.9017, device='cuda:0'), tensor(0.9186, device='cuda:0'), tensor(0.9283, device='cuda:0'), tensor(0.9259, device='cuda:0'), tensor(0.9261, device='cuda:0'), tensor(0.9376, device='cuda:0'), tensor(0.9510, device='cuda:0'), tensor(0.9406, device='cuda:0'), tensor(0.9273, device='cuda:0'), tensor(0.9206, device='cuda:0'), tensor(0.9291, device='cuda:0'), tensor(0.9183, device='cuda:0'), tensor(0.8981, device='cuda:0'), tensor(0.9020, device='cuda:0'), tensor(0.9109, device='cuda:0'), tensor(0.9481, device='cuda:0'), tensor(0.9338, device='cuda:0'), tensor(0.9591, device='cuda:0'), tensor(0.9684, device='cuda:0'), tensor(0.9398, device='cuda:0'), tensor(0.9407, device='cuda:0'), tensor(0.9332, device='cuda:0'), tensor(0.9537, device='cuda:0'), tensor(0.9364, device='cuda:0'), tensor(0.9266, device='cuda:0'), tensor(0.9543, device='cuda:0'), tensor(0.9600, device='cuda:0'), tensor(0.9541, device='cuda:0'), tensor(0.9936, device='cuda:0'), tensor(0.9490, device='cuda:0'), tensor(0.9437, device='cuda:0'), tensor(0.9668, device='cuda:0'), tensor(0.9638, device='cuda:0'), tensor(1.2190, device='cuda:0'), tensor(1.2343, device='cuda:0'), tensor(1.2614, device='cuda:0'), tensor(1.2720, device='cuda:0'), tensor(1.2508, device='cuda:0'), tensor(1.2578, device='cuda:0'), tensor(1.2045, device='cuda:0'), tensor(1.2441, device='cuda:0'), tensor(1.2376, device='cuda:0'), tensor(1.2150, device='cuda:0'), tensor(1.2151, device='cuda:0'), tensor(1.2412, device='cuda:0'), tensor(1.2583, device='cuda:0'), tensor(1.2458, device='cuda:0'), tensor(1.2215, device='cuda:0'), tensor(1.2329, device='cuda:0'), tensor(1.2221, device='cuda:0'), tensor(1.2343, device='cuda:0'), tensor(1.2554, device='cuda:0'), tensor(1.2365, device='cuda:0'), tensor(1.2305, device='cuda:0'), tensor(1.2123, device='cuda:0'), tensor(1.2161, device='cuda:0'), tensor(1.2154, device='cuda:0'), tensor(1.2157, device='cuda:0'), tensor(1.2497, device='cuda:0'), tensor(1.2443, device='cuda:0'), tensor(1.2303, device='cuda:0'), tensor(1.2622, device='cuda:0'), tensor(1.2765, device='cuda:0'), tensor(1.2562, device='cuda:0'), tensor(1.2090, device='cuda:0'), tensor(1.2532, device='cuda:0'), tensor(1.2612, device='cuda:0'), tensor(1.2217, device='cuda:0'), tensor(1.2217, device='cuda:0'), tensor(1.2337, device='cuda:0'), tensor(1.2268, device='cuda:0'), tensor(1.2381, device='cuda:0'), tensor(1.2435, device='cuda:0'), tensor(1.2593, device='cuda:0'), tensor(1.2587, device='cuda:0'), tensor(1.2210, device='cuda:0'), tensor(1.2038, device='cuda:0'), tensor(1.2472, device='cuda:0'), tensor(1.2591, device='cuda:0'), tensor(1.2389, device='cuda:0'), tensor(1.1995, device='cuda:0'), tensor(1.2401, device='cuda:0'), tensor(1.2351, device='cuda:0'), tensor(1.2459, device='cuda:0'), tensor(1.2192, device='cuda:0'), tensor(1.2448, device='cuda:0'), tensor(1.2458, device='cuda:0'), tensor(1.2515, device='cuda:0'), tensor(1.2121, device='cuda:0'), tensor(1.1894, device='cuda:0'), tensor(1.2115, device='cuda:0'), tensor(1.2236, device='cuda:0'), tensor(1.2460, device='cuda:0'), tensor(1.2221, device='cuda:0'), tensor(1.2790, device='cuda:0'), tensor(1.2470, device='cuda:0'), tensor(1.2362, device='cuda:0'), tensor(1.2240, device='cuda:0'), tensor(1.2252, device='cuda:0'), tensor(1.2540, device='cuda:0'), tensor(1.2681, device='cuda:0'), tensor(1.2245, device='cuda:0'), tensor(1.2315, device='cuda:0'), tensor(1.2216, device='cuda:0'), tensor(1.2383, device='cuda:0'), tensor(1.2585, device='cuda:0'), tensor(1.2454, device='cuda:0'), tensor(1.2438, device='cuda:0'), tensor(1.2597, device='cuda:0'), tensor(1.1963, device='cuda:0'), tensor(1.2164, device='cuda:0'), tensor(1.2260, device='cuda:0'), tensor(1.3123, device='cuda:0'), tensor(1.2394, device='cuda:0'), tensor(1.1893, device='cuda:0'), tensor(1.2408, device='cuda:0'), tensor(1.2384, device='cuda:0'), tensor(1.1798, device='cuda:0'), tensor(1.0962, device='cuda:0'), tensor(1.2254, device='cuda:0'), tensor(1.2126, device='cuda:0'), tensor(1.2443, device='cuda:0'), tensor(1.2374, device='cuda:0'), tensor(1.2400, device='cuda:0'), tensor(1.2272, device='cuda:0'), tensor(1.2670, device='cuda:0'), tensor(1.2111, device='cuda:0'), tensor(1.2386, device='cuda:0'), tensor(1.2248, device='cuda:0'), tensor(1.2460, device='cuda:0'), tensor(1.2432, device='cuda:0'), tensor(1.2554, device='cuda:0'), tensor(1.2419, device='cuda:0'), tensor(1.2031, device='cuda:0'), tensor(1.2467, device='cuda:0'), tensor(1.2569, device='cuda:0'), tensor(1.2603, device='cuda:0'), tensor(1.2812, device='cuda:0'), tensor(1.2683, device='cuda:0'), tensor(1.2739, device='cuda:0'), tensor(1.3096, device='cuda:0'), tensor(1.3120, device='cuda:0'), tensor(1.2976, device='cuda:0'), tensor(1.2660, device='cuda:0'), tensor(1.2746, device='cuda:0'), tensor(1.2463, device='cuda:0'), tensor(1.2924, device='cuda:0'), tensor(1.2298, device='cuda:0'), tensor(1.2849, device='cuda:0'), tensor(1.2936, device='cuda:0'), tensor(1.2589, device='cuda:0'), tensor(1.3124, device='cuda:0'), tensor(1.2674, device='cuda:0'), tensor(1.2565, device='cuda:0'), tensor(1.2695, device='cuda:0'), tensor(1.2813, device='cuda:0'), tensor(1.2965, device='cuda:0'), tensor(1.2726, device='cuda:0'), tensor(1.2868, device='cuda:0'), tensor(1.3079, device='cuda:0'), tensor(1.3244, device='cuda:0'), tensor(1.3205, device='cuda:0'), tensor(1.3469, device='cuda:0'), tensor(1.3149, device='cuda:0'), tensor(1.3213, device='cuda:0'), tensor(1.3442, device='cuda:0'), tensor(1.3163, device='cuda:0'), tensor(1.2972, device='cuda:0'), tensor(1.2907, device='cuda:0'), tensor(1.2970, device='cuda:0'), tensor(1.3198, device='cuda:0'), tensor(1.3194, device='cuda:0'), tensor(1.2924, device='cuda:0'), tensor(1.3111, device='cuda:0'), tensor(1.3107, device='cuda:0'), tensor(1.2862, device='cuda:0'), tensor(1.2749, device='cuda:0'), tensor(1.3091, device='cuda:0'), tensor(1.2576, device='cuda:0'), tensor(1.3105, device='cuda:0'), tensor(1.2871, device='cuda:0'), tensor(1.2889, device='cuda:0'), tensor(1.2825, device='cuda:0'), tensor(1.2844, device='cuda:0'), tensor(1.2731, device='cuda:0'), tensor(1.2461, device='cuda:0'), tensor(1.2628, device='cuda:0'), tensor(1.2693, device='cuda:0'), tensor(1.3009, device='cuda:0'), tensor(1.2639, device='cuda:0'), tensor(1.4272, device='cuda:0'), tensor(2.3333, device='cuda:0'), tensor(2.4534, device='cuda:0'), tensor(2.4425, device='cuda:0'), tensor(2.3654, device='cuda:0'), tensor(2.3901, device='cuda:0'), tensor(2.3109, device='cuda:0'), tensor(2.4121, device='cuda:0'), tensor(2.3881, device='cuda:0'), tensor(2.4163, device='cuda:0'), tensor(2.4323, device='cuda:0'), tensor(2.4119, device='cuda:0'), tensor(2.4716, device='cuda:0'), tensor(2.3473, device='cuda:0'), tensor(2.3723, device='cuda:0'), tensor(2.4129, device='cuda:0'), tensor(2.4304, device='cuda:0'), tensor(2.3793, device='cuda:0'), tensor(2.4041, device='cuda:0'), tensor(2.4334, device='cuda:0'), tensor(2.4125, device='cuda:0'), tensor(2.4062, device='cuda:0'), tensor(2.4126, device='cuda:0'), tensor(2.3798, device='cuda:0'), tensor(2.4223, device='cuda:0'), tensor(2.3825, device='cuda:0'), tensor(2.4023, device='cuda:0'), tensor(2.3588, device='cuda:0'), tensor(2.4394, device='cuda:0'), tensor(2.3567, device='cuda:0'), tensor(2.3687, device='cuda:0'), tensor(2.3576, device='cuda:0'), tensor(2.4430, device='cuda:0'), tensor(2.4698, device='cuda:0'), tensor(2.4382, device='cuda:0'), tensor(2.4644, device='cuda:0'), tensor(2.3831, device='cuda:0'), tensor(2.4688, device='cuda:0'), tensor(2.3471, device='cuda:0'), tensor(2.4877, device='cuda:0'), tensor(2.4372, device='cuda:0'), tensor(2.4807, device='cuda:0'), tensor(2.3511, device='cuda:0'), tensor(2.4321, device='cuda:0'), tensor(2.3709, device='cuda:0'), tensor(2.4424, device='cuda:0'), tensor(2.3817, device='cuda:0'), tensor(2.4058, device='cuda:0'), tensor(2.3670, device='cuda:0'), tensor(2.3832, device='cuda:0'), tensor(2.4236, device='cuda:0'), tensor(2.4387, device='cuda:0'), tensor(2.4269, device='cuda:0'), tensor(2.4031, device='cuda:0'), tensor(2.4540, device='cuda:0'), tensor(2.4546, device='cuda:0'), tensor(2.3737, device='cuda:0'), tensor(2.4390, device='cuda:0'), tensor(2.3717, device='cuda:0'), tensor(2.3968, device='cuda:0'), tensor(2.3314, device='cuda:0'), tensor(2.4042, device='cuda:0'), tensor(2.4091, device='cuda:0'), tensor(2.3352, device='cuda:0'), tensor(2.3878, device='cuda:0'), tensor(2.3818, device='cuda:0'), tensor(2.3801, device='cuda:0'), tensor(2.4079, device='cuda:0'), tensor(2.4044, device='cuda:0'), tensor(2.4317, device='cuda:0'), tensor(2.3765, device='cuda:0'), tensor(2.3663, device='cuda:0'), tensor(2.3629, device='cuda:0'), tensor(2.3239, device='cuda:0'), tensor(2.3510, device='cuda:0'), tensor(2.2983, device='cuda:0'), tensor(2.2425, device='cuda:0'), tensor(2.2697, device='cuda:0'), tensor(2.3113, device='cuda:0'), tensor(2.3113, device='cuda:0'), tensor(2.4219, device='cuda:0'), tensor(2.3445, device='cuda:0'), tensor(2.3103, device='cuda:0'), tensor(2.3200, device='cuda:0'), tensor(2.2901, device='cuda:0'), tensor(2.2652, device='cuda:0'), tensor(2.2479, device='cuda:0'), tensor(2.3074, device='cuda:0'), tensor(2.2325, device='cuda:0'), tensor(2.2095, device='cuda:0'), tensor(2.3205, device='cuda:0'), tensor(2.2134, device='cuda:0'), tensor(2.2456, device='cuda:0'), tensor(2.2162, device='cuda:0'), tensor(2.2471, device='cuda:0'), tensor(2.2026, device='cuda:0'), tensor(2.2262, device='cuda:0'), tensor(2.2495, device='cuda:0'), tensor(2.2453, device='cuda:0'), tensor(2.3029, device='cuda:0'), tensor(2.2558, device='cuda:0'), tensor(2.2384, device='cuda:0'), tensor(2.2241, device='cuda:0'), tensor(2.3058, device='cuda:0'), tensor(2.2329, device='cuda:0'), tensor(2.2371, device='cuda:0'), tensor(2.2244, device='cuda:0'), tensor(2.2308, device='cuda:0'), tensor(2.2849, device='cuda:0'), tensor(2.2404, device='cuda:0'), tensor(2.1929, device='cuda:0'), tensor(2.1805, device='cuda:0'), tensor(2.2072, device='cuda:0'), tensor(2.2439, device='cuda:0'), tensor(2.2532, device='cuda:0'), tensor(2.2164, device='cuda:0'), tensor(2.1928, device='cuda:0'), tensor(2.2838, device='cuda:0'), tensor(2.2294, device='cuda:0'), tensor(2.1726, device='cuda:0'), tensor(2.1996, device='cuda:0'), tensor(2.2938, device='cuda:0'), tensor(2.1559, device='cuda:0'), tensor(2.1936, device='cuda:0'), tensor(2.1706, device='cuda:0'), tensor(2.1543, device='cuda:0'), tensor(2.1594, device='cuda:0'), tensor(2.1796, device='cuda:0'), tensor(2.1811, device='cuda:0'), tensor(2.1321, device='cuda:0'), tensor(2.1552, device='cuda:0'), tensor(2.1496, device='cuda:0'), tensor(2.1622, device='cuda:0'), tensor(2.1266, device='cuda:0'), tensor(2.2077, device='cuda:0'), tensor(2.0829, device='cuda:0'), tensor(2.1007, device='cuda:0'), tensor(2.0426, device='cuda:0'), tensor(2.1278, device='cuda:0'), tensor(2.1441, device='cuda:0'), tensor(2.2389, device='cuda:0'), tensor(2.2478, device='cuda:0'), tensor(2.1737, device='cuda:0'), tensor(2.2334, device='cuda:0'), tensor(2.1804, device='cuda:0'), tensor(2.1713, device='cuda:0'), tensor(2.1692, device='cuda:0'), tensor(2.1114, device='cuda:0'), tensor(2.1687, device='cuda:0'), tensor(2.1426, device='cuda:0'), tensor(2.1319, device='cuda:0'), tensor(2.1704, device='cuda:0'), tensor(2.0884, device='cuda:0'), tensor(2.1394, device='cuda:0'), tensor(2.0555, device='cuda:0'), tensor(2.0476, device='cuda:0'), tensor(2.1165, device='cuda:0'), tensor(2.0708, device='cuda:0'), tensor(2.0640, device='cuda:0'), tensor(2.0620, device='cuda:0'), tensor(2.0746, device='cuda:0'), tensor(2.0805, device='cuda:0'), tensor(2.0632, device='cuda:0'), tensor(2.0378, device='cuda:0'), tensor(2.0710, device='cuda:0'), tensor(2.0375, device='cuda:0'), tensor(2.0214, device='cuda:0'), tensor(1.9352, device='cuda:0'), tensor(2.0101, device='cuda:0'), tensor(2.0250, device='cuda:0'), tensor(1.7748, device='cuda:0'), tensor(1.7843, device='cuda:0'), tensor(1.8294, device='cuda:0'), tensor(1.7970, device='cuda:0'), tensor(1.8907, device='cuda:0'), tensor(1.7538, device='cuda:0'), tensor(1.7590, device='cuda:0'), tensor(1.7775, device='cuda:0'), tensor(1.7646, device='cuda:0'), tensor(1.7985, device='cuda:0'), tensor(1.7603, device='cuda:0'), tensor(1.8903, device='cuda:0'), tensor(1.7857, device='cuda:0'), tensor(1.7157, device='cuda:0'), tensor(1.7554, device='cuda:0'), tensor(1.8343, device='cuda:0'), tensor(1.7979, device='cuda:0'), tensor(1.7866, device='cuda:0'), tensor(1.7910, device='cuda:0'), tensor(1.8018, device='cuda:0'), tensor(1.7180, device='cuda:0'), tensor(1.7505, device='cuda:0'), tensor(1.7489, device='cuda:0'), tensor(1.7574, device='cuda:0'), tensor(1.7542, device='cuda:0'), tensor(1.7422, device='cuda:0'), tensor(1.8024, device='cuda:0'), tensor(1.7285, device='cuda:0'), tensor(1.7309, device='cuda:0'), tensor(1.7354, device='cuda:0'), tensor(1.7204, device='cuda:0'), tensor(1.7253, device='cuda:0'), tensor(1.7210, device='cuda:0'), tensor(1.7357, device='cuda:0'), tensor(1.7102, device='cuda:0'), tensor(1.7228, device='cuda:0'), tensor(1.7060, device='cuda:0'), tensor(1.7416, device='cuda:0'), tensor(1.7591, device='cuda:0'), tensor(1.7117, device='cuda:0'), tensor(1.6728, device='cuda:0'), tensor(1.6925, device='cuda:0'), tensor(1.6760, device='cuda:0'), tensor(1.7022, device='cuda:0'), tensor(1.6654, device='cuda:0'), tensor(1.7425, device='cuda:0'), tensor(1.6747, device='cuda:0'), tensor(1.6890, device='cuda:0'), tensor(1.6865, device='cuda:0'), tensor(1.6523, device='cuda:0'), tensor(1.7091, device='cuda:0'), tensor(1.7420, device='cuda:0'), tensor(1.7428, device='cuda:0'), tensor(1.7384, device='cuda:0'), tensor(1.6938, device='cuda:0'), tensor(1.7214, device='cuda:0'), tensor(1.6758, device='cuda:0'), tensor(1.6424, device='cuda:0'), tensor(1.6879, device='cuda:0'), tensor(1.6219, device='cuda:0'), tensor(1.6930, device='cuda:0'), tensor(1.6819, device='cuda:0'), tensor(1.6970, device='cuda:0'), tensor(1.6095, device='cuda:0'), tensor(1.6063, device='cuda:0'), tensor(1.6093, device='cuda:0'), tensor(1.5828, device='cuda:0'), tensor(1.5819, device='cuda:0'), tensor(1.6503, device='cuda:0'), tensor(1.6190, device='cuda:0'), tensor(1.5912, device='cuda:0'), tensor(1.5915, device='cuda:0'), tensor(1.5925, device='cuda:0'), tensor(1.5573, device='cuda:0'), tensor(1.5649, device='cuda:0'), tensor(1.5584, device='cuda:0'), tensor(1.5385, device='cuda:0'), tensor(1.5583, device='cuda:0'), tensor(1.5686, device='cuda:0'), tensor(1.5274, device='cuda:0'), tensor(1.5388, device='cuda:0'), tensor(1.5224, device='cuda:0'), tensor(1.5127, device='cuda:0'), tensor(1.5391, device='cuda:0'), tensor(1.5425, device='cuda:0'), tensor(1.5182, device='cuda:0'), tensor(1.5060, device='cuda:0'), tensor(1.4874, device='cuda:0'), tensor(1.5333, device='cuda:0'), tensor(1.5231, device='cuda:0'), tensor(1.5376, device='cuda:0'), tensor(1.4673, device='cuda:0'), tensor(1.4880, device='cuda:0'), tensor(1.4881, device='cuda:0'), tensor(1.5062, device='cuda:0'), tensor(1.4862, device='cuda:0'), tensor(1.4653, device='cuda:0'), tensor(1.4406, device='cuda:0'), tensor(1.4415, device='cuda:0'), tensor(1.3741, device='cuda:0'), tensor(1.3753, device='cuda:0'), tensor(1.3956, device='cuda:0'), tensor(1.3956, device='cuda:0'), tensor(1.4300, device='cuda:0'), tensor(1.3898, device='cuda:0'), tensor(1.3705, device='cuda:0'), tensor(1.3739, device='cuda:0'), tensor(1.4033, device='cuda:0'), tensor(1.3647, device='cuda:0'), tensor(1.3067, device='cuda:0'), tensor(1.3194, device='cuda:0'), tensor(1.3694, device='cuda:0'), tensor(1.8014, device='cuda:0'), tensor(1.6837, device='cuda:0'), tensor(1.7399, device='cuda:0'), tensor(1.7263, device='cuda:0'), tensor(1.7197, device='cuda:0'), tensor(1.7420, device='cuda:0'), tensor(1.6294, device='cuda:0'), tensor(1.7608, device='cuda:0'), tensor(1.8156, device='cuda:0'), tensor(1.7666, device='cuda:0'), tensor(1.7428, device='cuda:0'), tensor(1.7754, device='cuda:0'), tensor(1.7988, device='cuda:0'), tensor(1.7776, device='cuda:0'), tensor(1.8188, device='cuda:0'), tensor(1.7995, device='cuda:0'), tensor(1.7971, device='cuda:0'), tensor(1.7912, device='cuda:0'), tensor(1.7913, device='cuda:0'), tensor(1.7789, device='cuda:0'), tensor(1.7826, device='cuda:0'), tensor(1.7905, device='cuda:0'), tensor(1.7838, device='cuda:0'), tensor(1.7428, device='cuda:0'), tensor(1.7648, device='cuda:0'), tensor(1.7383, device='cuda:0'), tensor(1.7804, device='cuda:0'), tensor(1.8022, device='cuda:0'), tensor(1.7799, device='cuda:0'), tensor(1.7483, device='cuda:0'), tensor(1.8526, device='cuda:0'), tensor(1.7756, device='cuda:0'), tensor(1.8034, device='cuda:0'), tensor(1.8160, device='cuda:0'), tensor(1.7468, device='cuda:0'), tensor(1.8021, device='cuda:0'), tensor(1.8007, device='cuda:0'), tensor(1.7158, device='cuda:0'), tensor(1.7906, device='cuda:0'), tensor(1.7737, device='cuda:0'), tensor(1.8045, device='cuda:0'), tensor(1.8395, device='cuda:0'), tensor(1.7966, device='cuda:0'), tensor(1.7804, device='cuda:0'), tensor(1.7535, device='cuda:0'), tensor(1.7938, device='cuda:0'), tensor(1.7654, device='cuda:0'), tensor(1.8125, device='cuda:0'), tensor(1.7705, device='cuda:0'), tensor(1.7773, device='cuda:0'), tensor(1.8294, device='cuda:0'), tensor(1.7817, device='cuda:0'), tensor(1.7967, device='cuda:0'), tensor(1.7803, device='cuda:0'), tensor(1.7853, device='cuda:0'), tensor(1.8317, device='cuda:0'), tensor(1.7828, device='cuda:0'), tensor(1.7747, device='cuda:0'), tensor(1.8016, device='cuda:0'), tensor(1.8022, device='cuda:0'), tensor(1.7377, device='cuda:0'), tensor(1.8099, device='cuda:0'), tensor(1.7636, device='cuda:0'), tensor(1.7528, device='cuda:0'), tensor(1.7335, device='cuda:0'), tensor(1.8088, device='cuda:0'), tensor(1.8160, device='cuda:0'), tensor(1.7907, device='cuda:0'), tensor(1.8080, device='cuda:0'), tensor(1.7826, device='cuda:0'), tensor(1.8012, device='cuda:0'), tensor(1.7966, device='cuda:0'), tensor(1.7902, device='cuda:0'), tensor(1.8100, device='cuda:0'), tensor(1.8153, device='cuda:0'), tensor(1.8072, device='cuda:0'), tensor(1.7944, device='cuda:0'), tensor(1.8087, device='cuda:0'), tensor(1.8143, device='cuda:0'), tensor(1.7886, device='cuda:0'), tensor(1.7815, device='cuda:0'), tensor(1.7674, device='cuda:0'), tensor(1.8011, device='cuda:0'), tensor(1.8141, device='cuda:0'), tensor(1.7833, device='cuda:0'), tensor(1.7491, device='cuda:0'), tensor(1.8019, device='cuda:0'), tensor(1.7802, device='cuda:0'), tensor(1.7556, device='cuda:0'), tensor(1.7675, device='cuda:0'), tensor(1.7861, device='cuda:0'), tensor(1.7646, device='cuda:0'), tensor(1.7730, device='cuda:0'), tensor(1.7768, device='cuda:0'), tensor(1.7916, device='cuda:0'), tensor(1.7916, device='cuda:0'), tensor(1.7894, device='cuda:0'), tensor(1.7633, device='cuda:0'), tensor(1.7382, device='cuda:0'), tensor(1.7619, device='cuda:0'), tensor(1.7794, device='cuda:0'), tensor(1.7834, device='cuda:0'), tensor(1.7488, device='cuda:0'), tensor(1.7632, device='cuda:0'), tensor(1.7364, device='cuda:0'), tensor(1.7623, device='cuda:0'), tensor(1.7696, device='cuda:0'), tensor(1.7945, device='cuda:0'), tensor(1.7555, device='cuda:0'), tensor(1.7832, device='cuda:0'), tensor(1.7818, device='cuda:0'), tensor(1.8140, device='cuda:0'), tensor(1.7598, device='cuda:0'), tensor(1.7969, device='cuda:0'), tensor(1.7753, device='cuda:0'), tensor(1.7620, device='cuda:0'), tensor(1.8332, device='cuda:0'), tensor(1.8363, device='cuda:0'), tensor(1.7678, device='cuda:0'), tensor(1.7812, device='cuda:0'), tensor(1.7525, device='cuda:0'), tensor(1.7834, device='cuda:0'), tensor(1.7660, device='cuda:0'), tensor(1.7681, device='cuda:0'), tensor(1.8263, device='cuda:0'), tensor(1.8339, device='cuda:0'), tensor(1.7634, device='cuda:0'), tensor(1.8111, device='cuda:0'), tensor(1.8214, device='cuda:0'), tensor(1.8323, device='cuda:0'), tensor(1.7646, device='cuda:0'), tensor(1.7856, device='cuda:0'), tensor(1.7917, device='cuda:0'), tensor(1.7873, device='cuda:0'), tensor(1.8485, device='cuda:0'), tensor(1.7617, device='cuda:0'), tensor(1.7848, device='cuda:0'), tensor(1.8117, device='cuda:0'), tensor(1.7871, device='cuda:0'), tensor(1.7627, device='cuda:0'), tensor(1.7892, device='cuda:0'), tensor(1.7610, device='cuda:0'), tensor(1.7577, device='cuda:0'), tensor(1.7811, device='cuda:0'), tensor(1.7132, device='cuda:0'), tensor(1.7790, device='cuda:0'), tensor(1.8243, device='cuda:0'), tensor(1.7965, device='cuda:0'), tensor(1.7709, device='cuda:0'), tensor(1.8458, device='cuda:0'), tensor(1.7769, device='cuda:0'), tensor(1.7696, device='cuda:0'), tensor(1.7358, device='cuda:0'), tensor(1.8279, device='cuda:0'), tensor(1.7658, device='cuda:0'), tensor(1.7908, device='cuda:0'), tensor(1.7863, device='cuda:0'), tensor(1.7928, device='cuda:0'), tensor(1.8246, device='cuda:0'), tensor(1.7839, device='cuda:0'), tensor(1.7315, device='cuda:0'), tensor(1.7717, device='cuda:0'), tensor(1.7598, device='cuda:0'), tensor(1.7806, device='cuda:0'), tensor(1.7661, device='cuda:0'), tensor(1.7905, device='cuda:0'), tensor(1.7908, device='cuda:0'), tensor(1.7644, device='cuda:0'), tensor(1.7834, device='cuda:0'), tensor(1.7652, device='cuda:0'), tensor(1.7356, device='cuda:0'), tensor(1.7334, device='cuda:0'), tensor(1.7185, device='cuda:0'), tensor(1.7633, device='cuda:0'), tensor(1.7561, device='cuda:0'), tensor(1.7019, device='cuda:0'), tensor(1.6313, device='cuda:0'), tensor(1.7077, device='cuda:0'), tensor(1.6931, device='cuda:0'), tensor(1.7427, device='cuda:0'), tensor(1.7077, device='cuda:0'), tensor(1.7674, device='cuda:0'), tensor(1.8287, device='cuda:0'), tensor(1.7653, device='cuda:0'), tensor(1.7461, device='cuda:0'), tensor(1.8324, device='cuda:0'), tensor(1.7471, device='cuda:0'), tensor(1.7223, device='cuda:0'), tensor(1.7691, device='cuda:0'), tensor(1.7763, device='cuda:0'), tensor(1.7536, device='cuda:0'), tensor(1.7736, device='cuda:0'), tensor(1.7366, device='cuda:0'), tensor(1.7143, device='cuda:0'), tensor(1.7684, device='cuda:0'), tensor(1.7236, device='cuda:0'), tensor(1.7313, device='cuda:0'), tensor(1.7075, device='cuda:0'), tensor(1.7610, device='cuda:0'), tensor(1.7465, device='cuda:0'), tensor(1.7414, device='cuda:0'), tensor(1.6959, device='cuda:0'), tensor(1.7327, device='cuda:0'), tensor(1.7184, device='cuda:0'), tensor(1.7709, device='cuda:0'), tensor(1.7038, device='cuda:0'), tensor(1.7445, device='cuda:0'), tensor(1.6884, device='cuda:0'), tensor(1.7112, device='cuda:0'), tensor(1.6705, device='cuda:0'), tensor(1.7021, device='cuda:0'), tensor(1.6953, device='cuda:0'), tensor(1.7198, device='cuda:0'), tensor(1.7560, device='cuda:0'), tensor(1.6723, device='cuda:0'), tensor(1.7229, device='cuda:0'), tensor(1.6914, device='cuda:0'), tensor(1.6974, device='cuda:0'), tensor(1.7104, device='cuda:0'), tensor(1.6855, device='cuda:0'), tensor(1.6795, device='cuda:0'), tensor(1.6600, device='cuda:0'), tensor(1.6817, device='cuda:0'), tensor(1.7215, device='cuda:0'), tensor(1.7094, device='cuda:0'), tensor(1.7480, device='cuda:0'), tensor(1.6820, device='cuda:0'), tensor(1.6295, device='cuda:0'), tensor(1.6021, device='cuda:0'), tensor(1.6890, device='cuda:0'), tensor(1.6546, device='cuda:0'), tensor(1.7049, device='cuda:0'), tensor(1.6514, device='cuda:0'), tensor(1.6698, device='cuda:0'), tensor(1.6338, device='cuda:0'), tensor(1.6601, device='cuda:0'), tensor(1.6821, device='cuda:0'), tensor(1.6734, device='cuda:0'), tensor(1.6359, device='cuda:0'), tensor(1.6619, device='cuda:0'), tensor(1.6512, device='cuda:0'), tensor(1.6365, device='cuda:0'), tensor(1.6826, device='cuda:0'), tensor(1.6315, device='cuda:0'), tensor(1.6661, device='cuda:0'), tensor(1.5653, device='cuda:0'), tensor(1.5497, device='cuda:0'), tensor(1.5849, device='cuda:0'), tensor(1.5456, device='cuda:0'), tensor(1.5777, device='cuda:0'), tensor(1.6547, device='cuda:0'), tensor(1.6894, device='cuda:0'), tensor(1.6216, device='cuda:0'), tensor(1.5747, device='cuda:0'), tensor(1.6255, device='cuda:0'), tensor(1.6032, device='cuda:0'), tensor(1.6422, device='cuda:0'), tensor(1.6548, device='cuda:0'), tensor(1.6495, device='cuda:0'), tensor(1.5739, device='cuda:0'), tensor(1.5806, device='cuda:0'), tensor(1.5941, device='cuda:0'), tensor(1.5847, device='cuda:0'), tensor(1.6272, device='cuda:0'), tensor(1.5927, device='cuda:0'), tensor(1.5960, device='cuda:0'), tensor(1.5729, device='cuda:0'), tensor(1.5877, device='cuda:0'), tensor(1.5790, device='cuda:0'), tensor(1.5996, device='cuda:0'), tensor(1.5521, device='cuda:0'), tensor(1.5334, device='cuda:0'), tensor(1.5396, device='cuda:0'), tensor(1.5286, device='cuda:0'), tensor(1.5022, device='cuda:0'), tensor(1.4948, device='cuda:0'), tensor(1.5027, device='cuda:0'), tensor(1.4601, device='cuda:0'), tensor(1.5206, device='cuda:0'), tensor(1.5184, device='cuda:0'), tensor(1.5428, device='cuda:0'), tensor(1.5353, device='cuda:0'), tensor(1.5390, device='cuda:0'), tensor(1.5068, device='cuda:0'), tensor(1.5611, device='cuda:0'), tensor(1.5348, device='cuda:0'), tensor(1.4770, device='cuda:0'), tensor(1.5006, device='cuda:0'), tensor(1.5110, device='cuda:0'), tensor(1.5079, device='cuda:0'), tensor(1.4875, device='cuda:0'), tensor(1.4972, device='cuda:0'), tensor(1.4998, device='cuda:0'), tensor(1.4887, device='cuda:0'), tensor(1.5219, device='cuda:0'), tensor(1.4647, device='cuda:0'), tensor(1.4786, device='cuda:0'), tensor(1.5390, device='cuda:0'), tensor(1.5087, device='cuda:0'), tensor(1.5416, device='cuda:0'), tensor(1.4693, device='cuda:0'), tensor(1.5170, device='cuda:0'), tensor(1.4407, device='cuda:0'), tensor(1.4297, device='cuda:0'), tensor(1.4703, device='cuda:0'), tensor(1.4113, device='cuda:0'), tensor(1.4280, device='cuda:0'), tensor(1.4183, device='cuda:0'), tensor(1.4242, device='cuda:0'), tensor(1.4213, device='cuda:0'), tensor(1.4291, device='cuda:0'), tensor(1.4469, device='cuda:0'), tensor(1.4856, device='cuda:0'), tensor(1.4533, device='cuda:0'), tensor(1.4602, device='cuda:0'), tensor(1.4067, device='cuda:0'), tensor(1.3974, device='cuda:0'), tensor(1.4152, device='cuda:0'), tensor(1.4614, device='cuda:0'), tensor(1.3687, device='cuda:0'), tensor(1.4419, device='cuda:0'), tensor(1.3870, device='cuda:0'), tensor(1.4471, device='cuda:0'), tensor(1.4018, device='cuda:0'), tensor(1.4743, device='cuda:0'), tensor(1.4424, device='cuda:0'), tensor(1.4465, device='cuda:0'), tensor(1.3982, device='cuda:0'), tensor(1.4344, device='cuda:0'), tensor(1.4226, device='cuda:0'), tensor(1.4064, device='cuda:0'), tensor(1.3994, device='cuda:0'), tensor(1.3174, device='cuda:0'), tensor(1.3908, device='cuda:0'), tensor(1.3961, device='cuda:0'), tensor(1.3741, device='cuda:0'), tensor(1.3765, device='cuda:0'), tensor(1.3553, device='cuda:0'), tensor(1.3898, device='cuda:0'), tensor(1.4083, device='cuda:0'), tensor(1.3740, device='cuda:0'), tensor(1.3850, device='cuda:0'), tensor(1.3871, device='cuda:0'), tensor(1.2009, device='cuda:0'), tensor(1.1664, device='cuda:0'), tensor(1.2005, device='cuda:0'), tensor(1.1874, device='cuda:0'), tensor(1.1986, device='cuda:0'), tensor(1.2797, device='cuda:0'), tensor(1.2115, device='cuda:0'), tensor(1.2169, device='cuda:0'), tensor(1.2469, device='cuda:0'), tensor(1.2364, device='cuda:0'), tensor(1.2013, device='cuda:0'), tensor(1.2333, device='cuda:0'), tensor(1.2422, device='cuda:0'), tensor(1.2594, device='cuda:0'), tensor(1.2300, device='cuda:0'), tensor(1.2011, device='cuda:0'), tensor(1.2849, device='cuda:0'), tensor(1.2165, device='cuda:0'), tensor(1.2250, device='cuda:0'), tensor(1.2119, device='cuda:0'), tensor(1.2143, device='cuda:0'), tensor(1.2542, device='cuda:0'), tensor(1.2103, device='cuda:0'), tensor(1.2140, device='cuda:0'), tensor(1.2269, device='cuda:0'), tensor(1.1923, device='cuda:0'), tensor(1.1597, device='cuda:0'), tensor(1.1909, device='cuda:0'), tensor(1.2292, device='cuda:0'), tensor(1.1810, device='cuda:0'), tensor(1.2356, device='cuda:0'), tensor(1.2101, device='cuda:0'), tensor(1.2401, device='cuda:0'), tensor(1.2355, device='cuda:0'), tensor(1.2147, device='cuda:0'), tensor(1.1991, device='cuda:0'), tensor(1.2331, device='cuda:0'), tensor(1.2036, device='cuda:0'), tensor(1.2129, device='cuda:0'), tensor(1.2008, device='cuda:0'), tensor(1.2075, device='cuda:0'), tensor(1.1869, device='cuda:0'), tensor(1.1648, device='cuda:0'), tensor(1.2321, device='cuda:0'), tensor(1.2568, device='cuda:0'), tensor(1.2167, device='cuda:0'), tensor(1.1907, device='cuda:0'), tensor(1.2182, device='cuda:0'), tensor(1.2164, device='cuda:0'), tensor(1.2396, device='cuda:0'), tensor(1.2211, device='cuda:0'), tensor(1.2493, device='cuda:0'), tensor(1.2633, device='cuda:0'), tensor(1.2568, device='cuda:0'), tensor(1.2624, device='cuda:0'), tensor(1.2075, device='cuda:0'), tensor(1.2932, device='cuda:0'), tensor(1.2962, device='cuda:0'), tensor(1.2560, device='cuda:0'), tensor(1.2655, device='cuda:0'), tensor(1.1873, device='cuda:0'), tensor(1.2137, device='cuda:0'), tensor(1.1929, device='cuda:0'), tensor(1.1768, device='cuda:0'), tensor(1.2223, device='cuda:0'), tensor(1.1828, device='cuda:0'), tensor(1.2015, device='cuda:0'), tensor(1.1730, device='cuda:0'), tensor(1.1569, device='cuda:0'), tensor(1.1486, device='cuda:0'), tensor(1.1775, device='cuda:0'), tensor(1.1593, device='cuda:0'), tensor(1.2038, device='cuda:0'), tensor(1.1421, device='cuda:0'), tensor(1.1400, device='cuda:0'), tensor(1.1462, device='cuda:0'), tensor(1.1248, device='cuda:0'), tensor(1.1049, device='cuda:0'), tensor(1.1128, device='cuda:0'), tensor(1.1347, device='cuda:0'), tensor(1.0821, device='cuda:0'), tensor(1.0986, device='cuda:0'), tensor(1.0861, device='cuda:0'), tensor(1.0632, device='cuda:0'), tensor(1.0443, device='cuda:0'), tensor(1.0744, device='cuda:0'), tensor(1.0553, device='cuda:0'), tensor(1.0903, device='cuda:0'), tensor(1.0845, device='cuda:0'), tensor(1.1067, device='cuda:0'), tensor(1.0470, device='cuda:0'), tensor(1.0418, device='cuda:0'), tensor(1.0401, device='cuda:0'), tensor(1.0251, device='cuda:0'), tensor(1.0331, device='cuda:0'), tensor(1.0157, device='cuda:0'), tensor(1.0274, device='cuda:0'), tensor(1.0378, device='cuda:0'), tensor(1.0354, device='cuda:0'), tensor(1.0314, device='cuda:0'), tensor(1.0155, device='cuda:0'), tensor(1.0215, device='cuda:0'), tensor(1.0143, device='cuda:0'), tensor(1.0180, device='cuda:0'), tensor(1.0465, device='cuda:0'), tensor(1.0409, device='cuda:0'), tensor(1.0302, device='cuda:0'), tensor(1.0553, device='cuda:0'), tensor(1.0643, device='cuda:0'), tensor(1.0484, device='cuda:0'), tensor(1.0164, device='cuda:0'), tensor(1.0471, device='cuda:0'), tensor(1.0533, device='cuda:0'), tensor(1.0260, device='cuda:0'), tensor(1.0267, device='cuda:0'), tensor(1.0357, device='cuda:0'), tensor(1.0302, device='cuda:0'), tensor(1.0394, device='cuda:0'), tensor(1.0376, device='cuda:0'), tensor(1.0479, device='cuda:0'), tensor(1.0487, device='cuda:0'), tensor(1.0245, device='cuda:0'), tensor(1.0159, device='cuda:0'), tensor(1.0404, device='cuda:0'), tensor(1.0483, device='cuda:0'), tensor(1.0270, device='cuda:0'), tensor(1.0082, device='cuda:0'), tensor(1.0331, device='cuda:0'), tensor(1.0316, device='cuda:0'), tensor(1.0439, device='cuda:0'), tensor(1.0246, device='cuda:0'), tensor(1.0417, device='cuda:0'), tensor(1.0380, device='cuda:0'), tensor(1.0452, device='cuda:0'), tensor(1.0154, device='cuda:0'), tensor(0.9979, device='cuda:0'), tensor(1.0154, device='cuda:0'), tensor(1.0263, device='cuda:0'), tensor(1.0409, device='cuda:0'), tensor(1.0248, device='cuda:0'), tensor(1.0603, device='cuda:0'), tensor(1.0362, device='cuda:0'), tensor(1.0263, device='cuda:0'), tensor(1.0163, device='cuda:0'), tensor(1.0224, device='cuda:0'), tensor(1.0459, device='cuda:0'), tensor(1.0557, device='cuda:0'), tensor(1.0295, device='cuda:0'), tensor(1.0318, device='cuda:0'), tensor(1.0296, device='cuda:0'), tensor(1.0404, device='cuda:0'), tensor(1.0486, device='cuda:0'), tensor(1.0312, device='cuda:0'), tensor(1.0363, device='cuda:0'), tensor(1.0534, device='cuda:0'), tensor(1.0155, device='cuda:0'), tensor(1.0289, device='cuda:0'), tensor(1.0314, device='cuda:0'), tensor(1.0898, device='cuda:0'), tensor(1.0406, device='cuda:0'), tensor(1.0044, device='cuda:0'), tensor(1.0465, device='cuda:0'), tensor(1.0446, device='cuda:0'), tensor(1.0114, device='cuda:0'), tensor(0.9203, device='cuda:0'), tensor(1.0331, device='cuda:0'), tensor(1.0311, device='cuda:0'), tensor(1.0481, device='cuda:0'), tensor(1.0488, device='cuda:0'), tensor(1.0507, device='cuda:0')], [tensor(0.0706, device='cuda:0'), tensor(0.0730, device='cuda:0'), tensor(0.0739, device='cuda:0'), tensor(0.0761, device='cuda:0'), tensor(0.0735, device='cuda:0'), tensor(0.0750, device='cuda:0'), tensor(0.0818, device='cuda:0'), tensor(0.0842, device='cuda:0'), tensor(0.0892, device='cuda:0'), tensor(0.0990, device='cuda:0'), tensor(0.1012, device='cuda:0'), tensor(0.1166, device='cuda:0'), tensor(0.1258, device='cuda:0'), tensor(0.1399, device='cuda:0'), tensor(0.1563, device='cuda:0'), tensor(0.2032, device='cuda:0'), tensor(0.1927, device='cuda:0'), tensor(0.2460, device='cuda:0'), tensor(0.3374, device='cuda:0'), tensor(0.5215, device='cuda:0'), tensor(0.1219, device='cuda:0'), tensor(0.1307, device='cuda:0'), tensor(0.0795, device='cuda:0'), tensor(0.1181, device='cuda:0'), tensor(0.1857, device='cuda:0'), tensor(0.3192, device='cuda:0'), tensor(0.0323, device='cuda:0'), tensor(0.0291, device='cuda:0'), tensor(0.0307, device='cuda:0'), tensor(0.0306, device='cuda:0'), tensor(0.0314, device='cuda:0'), tensor(0.0340, device='cuda:0'), tensor(0.0346, device='cuda:0'), tensor(0.0345, device='cuda:0'), tensor(0.0385, device='cuda:0'), tensor(0.0368, device='cuda:0'), tensor(0.0413, device='cuda:0'), tensor(0.0436, device='cuda:0'), tensor(0.0453, device='cuda:0'), tensor(0.0478, device='cuda:0'), tensor(0.0547, device='cuda:0'), tensor(0.0670, device='cuda:0'), tensor(0.0742, device='cuda:0'), tensor(0.0875, device='cuda:0'), tensor(0.0827, device='cuda:0'), tensor(0.0982, device='cuda:0'), tensor(0.1347, device='cuda:0'), tensor(0.1789, device='cuda:0'), tensor(0.2648, device='cuda:0'), tensor(0.5129, device='cuda:0'), tensor(0.0798, device='cuda:0'), tensor(0.0786, device='cuda:0'), tensor(0.0964, device='cuda:0'), tensor(0.1635, device='cuda:0'), tensor(0.1612, device='cuda:0'), tensor(0.0222, device='cuda:0'), tensor(0.0345, device='cuda:0'), tensor(0.0908, device='cuda:0'), tensor(0.0928, device='cuda:0'), tensor(0.1597, device='cuda:0'), tensor(0.0371, device='cuda:0'), tensor(0.1028, device='cuda:0'), tensor(0.0143, device='cuda:0'), tensor(0.0143, device='cuda:0'), tensor(0.0171, device='cuda:0'), tensor(0.0284, device='cuda:0'), tensor(0.0319, device='cuda:0'), tensor(0.0535, device='cuda:0'), tensor(0.0377, device='cuda:0'), tensor(0.1493, device='cuda:0'), tensor(0.0195, device='cuda:0'), tensor(0.0111, device='cuda:0'), tensor(0.0092, device='cuda:0'), tensor(0.0133, device='cuda:0'), tensor(0.0424, device='cuda:0'), tensor(0.0045, device='cuda:0'), tensor(0.0052, device='cuda:0'), tensor(0.0069, device='cuda:0'), tensor(0.0071, device='cuda:0'), tensor(0.0113, device='cuda:0'), tensor(0.0131, device='cuda:0'), tensor(0.0451, device='cuda:0'), tensor(0.0425, device='cuda:0'), tensor(0.0912, device='cuda:0'), tensor(0.0711, device='cuda:0'), tensor(0.0760, device='cuda:0'), tensor(0.0885, device='cuda:0'), tensor(0.2330, device='cuda:0'), tensor(0.0091, device='cuda:0'), tensor(0.0074, device='cuda:0'), tensor(0.0079, device='cuda:0'), tensor(0.0121, device='cuda:0'), tensor(0.0092, device='cuda:0'), tensor(0.0114, device='cuda:0'), tensor(0.0135, device='cuda:0'), tensor(0.0138, device='cuda:0'), tensor(0.0162, device='cuda:0'), tensor(0.0188, device='cuda:0'), tensor(0.0270, device='cuda:0'), tensor(0.0332, device='cuda:0'), tensor(0.0345, device='cuda:0'), tensor(0.0420, device='cuda:0'), tensor(0.0475, device='cuda:0'), tensor(0.0629, device='cuda:0'), tensor(0.0884, device='cuda:0'), tensor(0.1062, device='cuda:0'), tensor(0.1149, device='cuda:0'), tensor(0.0724, device='cuda:0'), tensor(0.0852, device='cuda:0'), tensor(0.0850, device='cuda:0'), tensor(0.1328, device='cuda:0'), tensor(0.0629, device='cuda:0'), tensor(0.0751, device='cuda:0'), tensor(0.1052, device='cuda:0'), tensor(0.1114, device='cuda:0'), tensor(0.1884, device='cuda:0'), tensor(0.0002, device='cuda:0'), tensor(0.0003, device='cuda:0'), tensor(0.0003, device='cuda:0'), tensor(0.0003, device='cuda:0'), tensor(0.0002, device='cuda:0'), tensor(0.0003, device='cuda:0'), tensor(0.0003, device='cuda:0'), tensor(0.0003, device='cuda:0'), tensor(0.0003, device='cuda:0'), tensor(0.0003, device='cuda:0'), tensor(0.0002, device='cuda:0'), tensor(0.0003, device='cuda:0'), tensor(0.0003, device='cuda:0'), tensor(0.0003, device='cuda:0'), tensor(0.0003, device='cuda:0'), tensor(0.0002, device='cuda:0'), tensor(0.0003, device='cuda:0'), tensor(0.0003, device='cuda:0'), tensor(0.0003, device='cuda:0'), tensor(0.0003, device='cuda:0'), tensor(0.0003, device='cuda:0'), tensor(0.0002, device='cuda:0'), tensor(0.0003, device='cuda:0'), tensor(0.0003, device='cuda:0'), tensor(0.0003, device='cuda:0'), tensor(0.0003, device='cuda:0'), tensor(0.0003, device='cuda:0'), tensor(0.0003, device='cuda:0'), tensor(0.0003, device='cuda:0'), tensor(0.0003, device='cuda:0'), tensor(0.0003, device='cuda:0'), tensor(0.0003, device='cuda:0'), tensor(0.0003, device='cuda:0'), tensor(0.0003, device='cuda:0'), tensor(0.0002, device='cuda:0'), tensor(0.0002, device='cuda:0'), tensor(0.0003, device='cuda:0'), tensor(0.0003, device='cuda:0'), tensor(0.0003, device='cuda:0'), tensor(0.0002, device='cuda:0'), tensor(0.0003, device='cuda:0'), tensor(0.0003, device='cuda:0'), tensor(0.0003, device='cuda:0'), tensor(0.0003, device='cuda:0'), tensor(0.0003, device='cuda:0'), tensor(0.0003, device='cuda:0'), tensor(0.0003, device='cuda:0'), tensor(0.0003, device='cuda:0'), tensor(0.0003, device='cuda:0'), tensor(0.0003, device='cuda:0'), tensor(0.0003, device='cuda:0'), tensor(0.0003, device='cuda:0'), tensor(0.0003, device='cuda:0'), tensor(0.0003, device='cuda:0'), tensor(0.0003, device='cuda:0'), tensor(0.0003, device='cuda:0'), tensor(0.0002, device='cuda:0'), tensor(0.0003, device='cuda:0'), tensor(0.0003, device='cuda:0'), tensor(0.0003, device='cuda:0'), tensor(0.0003, device='cuda:0'), tensor(0.0003, device='cuda:0'), tensor(0.0003, device='cuda:0'), tensor(0.0003, device='cuda:0'), tensor(0.0003, device='cuda:0'), tensor(0.0003, device='cuda:0'), tensor(0.0003, device='cuda:0'), tensor(0.0003, device='cuda:0'), tensor(0.0003, device='cuda:0'), tensor(0.0003, device='cuda:0'), tensor(0.0003, device='cuda:0'), tensor(0.0003, device='cuda:0'), tensor(0.0003, device='cuda:0'), tensor(0.0003, device='cuda:0'), tensor(0.0003, device='cuda:0'), tensor(0.0003, device='cuda:0'), tensor(0.0003, device='cuda:0'), tensor(0.0003, device='cuda:0'), tensor(0.0003, device='cuda:0'), tensor(0.0003, device='cuda:0'), tensor(0.0003, device='cuda:0'), tensor(0.0003, device='cuda:0'), tensor(0.0003, device='cuda:0'), tensor(0.0003, device='cuda:0'), tensor(0.0003, device='cuda:0'), tensor(0.0003, device='cuda:0'), tensor(0.0003, device='cuda:0'), tensor(0.0003, device='cuda:0'), tensor(0.0003, device='cuda:0'), tensor(0.0004, device='cuda:0'), tensor(0.0003, device='cuda:0'), tensor(0.0003, device='cuda:0'), tensor(0.0004, device='cuda:0'), tensor(0.0003, device='cuda:0'), tensor(0.0003, device='cuda:0'), tensor(0.0003, device='cuda:0'), tensor(0.0004, device='cuda:0'), tensor(0.0003, device='cuda:0'), tensor(0.0003, device='cuda:0'), tensor(0.0003, device='cuda:0'), tensor(0.0003, device='cuda:0'), tensor(0.0004, device='cuda:0'), tensor(0.0003, device='cuda:0'), tensor(0.0004, device='cuda:0'), tensor(0.0003, device='cuda:0'), tensor(0.0003, device='cuda:0'), tensor(0.0003, device='cuda:0'), tensor(0.0003, device='cuda:0'), tensor(0.0004, device='cuda:0'), tensor(0.0003, device='cuda:0'), tensor(0.0003, device='cuda:0'), tensor(0.0003, device='cuda:0'), tensor(0.0003, device='cuda:0'), tensor(0.0003, device='cuda:0'), tensor(0.0003, device='cuda:0'), tensor(0.0003, device='cuda:0'), tensor(0.0003, device='cuda:0'), tensor(0.0003, device='cuda:0'), tensor(0.0003, device='cuda:0'), tensor(0.0003, device='cuda:0'), tensor(0.0004, device='cuda:0'), tensor(0.0003, device='cuda:0'), tensor(0.0003, device='cuda:0'), tensor(0.0003, device='cuda:0'), tensor(0.0004, device='cuda:0'), tensor(0.0003, device='cuda:0'), tensor(0.0003, device='cuda:0'), tensor(0.0004, device='cuda:0'), tensor(0.0003, device='cuda:0'), tensor(0.0003, device='cuda:0'), tensor(0.0003, device='cuda:0'), tensor(0.0003, device='cuda:0'), tensor(0.0003, device='cuda:0'), tensor(0.0003, device='cuda:0'), tensor(0.0003, device='cuda:0'), tensor(0.0004, device='cuda:0'), tensor(0.0003, device='cuda:0'), tensor(0.0003, device='cuda:0'), tensor(0.0003, device='cuda:0'), tensor(0.0003, device='cuda:0'), tensor(0.0004, device='cuda:0'), tensor(0.0004, device='cuda:0'), tensor(0.0004, device='cuda:0'), tensor(0.0004, device='cuda:0'), tensor(0.0003, device='cuda:0'), tensor(0.0004, device='cuda:0'), tensor(0.0004, device='cuda:0'), tensor(0.0004, device='cuda:0'), tensor(0.0004, device='cuda:0'), tensor(0.0003, device='cuda:0'), tensor(0.0004, device='cuda:0'), tensor(0.0004, device='cuda:0'), tensor(0.0004, device='cuda:0'), tensor(0.0004, device='cuda:0'), tensor(0.0005, device='cuda:0'), tensor(0.0004, device='cuda:0'), tensor(0.0005, device='cuda:0'), tensor(0.0005, device='cuda:0'), tensor(0.0004, device='cuda:0'), tensor(0.0003, device='cuda:0'), tensor(0.0004, device='cuda:0'), tensor(0.0003, device='cuda:0'), tensor(0.0004, device='cuda:0'), tensor(0.0004, device='cuda:0'), tensor(0.0005, device='cuda:0'), tensor(0.0005, device='cuda:0'), tensor(0.0005, device='cuda:0'), tensor(0.0004, device='cuda:0'), tensor(0.0004, device='cuda:0'), tensor(0.0004, device='cuda:0'), tensor(0.0004, device='cuda:0'), tensor(0.0004, device='cuda:0'), tensor(0.0005, device='cuda:0'), tensor(0.0005, device='cuda:0'), tensor(0.0005, device='cuda:0'), tensor(0.0005, device='cuda:0'), tensor(0.0004, device='cuda:0'), tensor(0.0005, device='cuda:0'), tensor(0.0005, device='cuda:0'), tensor(0.0006, device='cuda:0'), tensor(0.0005, device='cuda:0'), tensor(0.0005, device='cuda:0'), tensor(0.0006, device='cuda:0'), tensor(0.0007, device='cuda:0'), tensor(0.0008, device='cuda:0'), tensor(0.0007, device='cuda:0'), tensor(0.0008, device='cuda:0'), tensor(0.0010, device='cuda:0'), tensor(0.0011, device='cuda:0'), tensor(0.0012, device='cuda:0'), tensor(0.0012, device='cuda:0'), tensor(0.0012, device='cuda:0'), tensor(0.0015, device='cuda:0'), tensor(0.0016, device='cuda:0'), tensor(0.0020, device='cuda:0'), tensor(0.0020, device='cuda:0'), tensor(0.0019, device='cuda:0'), tensor(0.0021, device='cuda:0'), tensor(0.0023, device='cuda:0'), tensor(0.0023, device='cuda:0'), tensor(0.0034, device='cuda:0'), tensor(0.0048, device='cuda:0'), tensor(0.0058, device='cuda:0'), tensor(0.0057, device='cuda:0'), tensor(0.0057, device='cuda:0'), tensor(0.0068, device='cuda:0'), tensor(0.0067, device='cuda:0'), tensor(0.0109, device='cuda:0'), tensor(0.0127, device='cuda:0'), tensor(0.0164, device='cuda:0'), tensor(0.0605, device='cuda:0'), tensor(0.0472, device='cuda:0'), tensor(0.0329, device='cuda:0'), tensor(0.0122, device='cuda:0'), tensor(0.0232, device='cuda:0'), tensor(0.0190, device='cuda:0'), tensor(0.0205, device='cuda:0'), tensor(0.0627, device='cuda:0'), tensor(0.0002, device='cuda:0'), tensor(0.0002, device='cuda:0'), tensor(0.0003, device='cuda:0'), tensor(0.0002, device='cuda:0'), tensor(0.0003, device='cuda:0'), tensor(0.0002, device='cuda:0'), tensor(0.0003, device='cuda:0'), tensor(0.0002, device='cuda:0'), tensor(0.0002, device='cuda:0'), tensor(0.0002, device='cuda:0'), tensor(0.0002, device='cuda:0'), tensor(0.0003, device='cuda:0'), tensor(0.0002, device='cuda:0'), tensor(0.0002, device='cuda:0'), tensor(0.0002, device='cuda:0'), tensor(0.0002, device='cuda:0'), tensor(0.0002, device='cuda:0'), tensor(0.0002, device='cuda:0'), tensor(0.0002, device='cuda:0'), tensor(0.0002, device='cuda:0'), tensor(0.0003, device='cuda:0'), tensor(0.0002, device='cuda:0'), tensor(0.0003, device='cuda:0'), tensor(0.0002, device='cuda:0'), tensor(0.0003, device='cuda:0'), tensor(0.0002, device='cuda:0'), tensor(0.0003, device='cuda:0'), tensor(0.0002, device='cuda:0'), tensor(0.0003, device='cuda:0'), tensor(0.0003, device='cuda:0'), tensor(0.0003, device='cuda:0'), tensor(0.0003, device='cuda:0'), tensor(0.0002, device='cuda:0'), tensor(0.0002, device='cuda:0'), tensor(0.0002, device='cuda:0'), tensor(0.0003, device='cuda:0'), tensor(0.0003, device='cuda:0'), tensor(0.0002, device='cuda:0'), tensor(0.0002, device='cuda:0'), tensor(0.0003, device='cuda:0'), tensor(0.0003, device='cuda:0'), tensor(0.0002, device='cuda:0'), tensor(0.0002, device='cuda:0'), tensor(0.0002, device='cuda:0'), tensor(0.0002, device='cuda:0'), tensor(0.0002, device='cuda:0'), tensor(0.0003, device='cuda:0'), tensor(0.0002, device='cuda:0'), tensor(0.0002, device='cuda:0'), tensor(0.0003, device='cuda:0'), tensor(0.0003, device='cuda:0'), tensor(0.0002, device='cuda:0'), tensor(0.0003, device='cuda:0'), tensor(0.0002, device='cuda:0'), tensor(0.0002, device='cuda:0'), tensor(0.0001, device='cuda:0'), tensor(0.0002, device='cuda:0'), tensor(0.0002, device='cuda:0'), tensor(0.0002, device='cuda:0'), tensor(0.0003, device='cuda:0'), tensor(0.0003, device='cuda:0'), tensor(0.0003, device='cuda:0'), tensor(0.0003, device='cuda:0'), tensor(0.0002, device='cuda:0'), tensor(0.0002, device='cuda:0'), tensor(0.0002, device='cuda:0'), tensor(0.0002, device='cuda:0'), tensor(0.0002, device='cuda:0'), tensor(0.0003, device='cuda:0'), tensor(0.0002, device='cuda:0'), tensor(0.0003, device='cuda:0'), tensor(0.0002, device='cuda:0'), tensor(0.0003, device='cuda:0'), tensor(0.0002, device='cuda:0'), tensor(0.0003, device='cuda:0'), tensor(0.0002, device='cuda:0'), tensor(0.0003, device='cuda:0'), tensor(0.0003, device='cuda:0'), tensor(0.0002, device='cuda:0'), tensor(0.0002, device='cuda:0'), tensor(0.0002, device='cuda:0'), tensor(0.0002, device='cuda:0'), tensor(0.0003, device='cuda:0'), tensor(0.0002, device='cuda:0'), tensor(0.0002, device='cuda:0'), tensor(0.0003, device='cuda:0'), tensor(0.0003, device='cuda:0'), tensor(0.0003, device='cuda:0'), tensor(0.0002, device='cuda:0'), tensor(0.0003, device='cuda:0'), tensor(0.0003, device='cuda:0'), tensor(0.0003, device='cuda:0'), tensor(0.0002, device='cuda:0'), tensor(0.0002, device='cuda:0'), tensor(0.0003, device='cuda:0'), tensor(0.0002, device='cuda:0'), tensor(0.0002, device='cuda:0'), tensor(0.0002, device='cuda:0'), tensor(0.0002, device='cuda:0'), tensor(0.0003, device='cuda:0'), tensor(0.0002, device='cuda:0'), tensor(0.0003, device='cuda:0'), tensor(0.0002, device='cuda:0'), tensor(0.0003, device='cuda:0'), tensor(0.0002, device='cuda:0'), tensor(0.0002, device='cuda:0'), tensor(0.0003, device='cuda:0'), tensor(0.0002, device='cuda:0'), tensor(0.0003, device='cuda:0'), tensor(0.0002, device='cuda:0'), tensor(0.0003, device='cuda:0'), tensor(0.0003, device='cuda:0'), tensor(0.0003, device='cuda:0'), tensor(0.0002, device='cuda:0'), tensor(0.0003, device='cuda:0'), tensor(0.0003, device='cuda:0'), tensor(0.0002, device='cuda:0'), tensor(0.0002, device='cuda:0'), tensor(0.0003, device='cuda:0'), tensor(0.0002, device='cuda:0'), tensor(0.0003, device='cuda:0'), tensor(0.0003, device='cuda:0'), tensor(0.0003, device='cuda:0'), tensor(0.0002, device='cuda:0'), tensor(0.0003, device='cuda:0'), tensor(0.0003, device='cuda:0'), tensor(0.0002, device='cuda:0'), tensor(0.0003, device='cuda:0'), tensor(0.0003, device='cuda:0'), tensor(0.0002, device='cuda:0'), tensor(0.0002, device='cuda:0'), tensor(0.0003, device='cuda:0'), tensor(0.0002, device='cuda:0'), tensor(0.0002, device='cuda:0'), tensor(0.0003, device='cuda:0'), tensor(0.0003, device='cuda:0'), tensor(0.0003, device='cuda:0'), tensor(0.0003, device='cuda:0'), tensor(0.0003, device='cuda:0'), tensor(0.0002, device='cuda:0'), tensor(0.0003, device='cuda:0'), tensor(0.0002, device='cuda:0'), tensor(0.0003, device='cuda:0'), tensor(0.0003, device='cuda:0'), tensor(0.0002, device='cuda:0'), tensor(0.0003, device='cuda:0'), tensor(0.0002, device='cuda:0'), tensor(0.0003, device='cuda:0'), tensor(0.0002, device='cuda:0'), tensor(0.0003, device='cuda:0'), tensor(0.0002, device='cuda:0'), tensor(0.0003, device='cuda:0'), tensor(0.0003, device='cuda:0'), tensor(0.0002, device='cuda:0'), tensor(0.0003, device='cuda:0'), tensor(0.0003, device='cuda:0'), tensor(0.0003, device='cuda:0'), tensor(0.0003, device='cuda:0'), tensor(0.0002, device='cuda:0'), tensor(0.0003, device='cuda:0'), tensor(0.0002, device='cuda:0'), tensor(0.0002, device='cuda:0'), tensor(0.0003, device='cuda:0'), tensor(0.0003, device='cuda:0'), tensor(0.0002, device='cuda:0'), tensor(0.0003, device='cuda:0'), tensor(0.0003, device='cuda:0'), tensor(0.0002, device='cuda:0'), tensor(0.0003, device='cuda:0'), tensor(0.0003, device='cuda:0'), tensor(0.0003, device='cuda:0'), tensor(0.0002, device='cuda:0'), tensor(0.0003, device='cuda:0'), tensor(0.0003, device='cuda:0'), tensor(0.0003, device='cuda:0'), tensor(0.0002, device='cuda:0'), tensor(0.0002, device='cuda:0'), tensor(0.0002, device='cuda:0'), tensor(0.0003, device='cuda:0'), tensor(0.0003, device='cuda:0'), tensor(0.0003, device='cuda:0'), tensor(0.0003, device='cuda:0'), tensor(0.0003, device='cuda:0'), tensor(0.0003, device='cuda:0'), tensor(0.0003, device='cuda:0'), tensor(0.0003, device='cuda:0'), tensor(0.0003, device='cuda:0'), tensor(0.0003, device='cuda:0'), tensor(0.0003, device='cuda:0'), tensor(0.0003, device='cuda:0'), tensor(0.0003, device='cuda:0'), tensor(0.0003, device='cuda:0'), tensor(0.0003, device='cuda:0'), tensor(0.0003, device='cuda:0'), tensor(0.0003, device='cuda:0'), tensor(0.0003, device='cuda:0'), tensor(0.0003, device='cuda:0'), tensor(0.0002, device='cuda:0'), tensor(0.0003, device='cuda:0'), tensor(0.0003, device='cuda:0'), tensor(0.0003, device='cuda:0'), tensor(0.0003, device='cuda:0'), tensor(0.0003, device='cuda:0'), tensor(0.0003, device='cuda:0'), tensor(0.0003, device='cuda:0'), tensor(0.0002, device='cuda:0'), tensor(0.0002, device='cuda:0'), tensor(0.0003, device='cuda:0'), tensor(0.0003, device='cuda:0'), tensor(0.0003, device='cuda:0'), tensor(0.0003, device='cuda:0'), tensor(0.0002, device='cuda:0'), tensor(0.0003, device='cuda:0'), tensor(0.0003, device='cuda:0'), tensor(0.0003, device='cuda:0'), tensor(0.0002, device='cuda:0'), tensor(0.0002, device='cuda:0'), tensor(0.0003, device='cuda:0'), tensor(0.0003, device='cuda:0'), tensor(0.0003, device='cuda:0'), tensor(0.0003, device='cuda:0'), tensor(0.0003, device='cuda:0'), tensor(0.0003, device='cuda:0'), tensor(0.0002, device='cuda:0'), tensor(0.0003, device='cuda:0'), tensor(0.0002, device='cuda:0'), tensor(0.0003, device='cuda:0'), tensor(0.0003, device='cuda:0'), tensor(0.0003, device='cuda:0'), tensor(0.0002, device='cuda:0'), tensor(0.0003, device='cuda:0'), tensor(0.0003, device='cuda:0'), tensor(0.0003, device='cuda:0'), tensor(0.0003, device='cuda:0'), tensor(0.0003, device='cuda:0'), tensor(0.0003, device='cuda:0'), tensor(0.0002, device='cuda:0'), tensor(0.0003, device='cuda:0'), tensor(0.0003, device='cuda:0'), tensor(0.0002, device='cuda:0'), tensor(0.0003, device='cuda:0'), tensor(0.0003, device='cuda:0'), tensor(0.0003, device='cuda:0'), tensor(0.0003, device='cuda:0'), tensor(0.0003, device='cuda:0'), tensor(0.0003, device='cuda:0'), tensor(0.0003, device='cuda:0'), tensor(0.0003, device='cuda:0'), tensor(0.0003, device='cuda:0'), tensor(0.0003, device='cuda:0'), tensor(0.0003, device='cuda:0'), tensor(0.0003, device='cuda:0'), tensor(0.0004, device='cuda:0'), tensor(0.0003, device='cuda:0'), tensor(0.0002, device='cuda:0'), tensor(0.0003, device='cuda:0'), tensor(0.0003, device='cuda:0'), tensor(0.0003, device='cuda:0'), tensor(0.0003, device='cuda:0'), tensor(0.0003, device='cuda:0'), tensor(0.0004, device='cuda:0'), tensor(0.0004, device='cuda:0'), tensor(0.0003, device='cuda:0'), tensor(0.0002, device='cuda:0'), tensor(0.0003, device='cuda:0'), tensor(0.0003, device='cuda:0'), tensor(0.0003, device='cuda:0'), tensor(0.0003, device='cuda:0'), tensor(0.0003, device='cuda:0'), tensor(0.0003, device='cuda:0'), tensor(0.0003, device='cuda:0'), tensor(0.0003, device='cuda:0'), tensor(0.0004, device='cuda:0'), tensor(0.0003, device='cuda:0'), tensor(0.0003, device='cuda:0'), tensor(0.0003, device='cuda:0'), tensor(0.0003, device='cuda:0'), tensor(0.0003, device='cuda:0'), tensor(0.0004, device='cuda:0'), tensor(0.0003, device='cuda:0'), tensor(0.0003, device='cuda:0'), tensor(0.0003, device='cuda:0'), tensor(0.0003, device='cuda:0'), tensor(0.0003, device='cuda:0'), tensor(0.0003, device='cuda:0'), tensor(0.0004, device='cuda:0'), tensor(0.0004, device='cuda:0'), tensor(0.0003, device='cuda:0'), tensor(0.0003, device='cuda:0'), tensor(0.0004, device='cuda:0'), tensor(0.0003, device='cuda:0'), tensor(0.0004, device='cuda:0'), tensor(0.0003, device='cuda:0'), tensor(0.0003, device='cuda:0'), tensor(0.0004, device='cuda:0'), tensor(0.0004, device='cuda:0'), tensor(0.0004, device='cuda:0'), tensor(0.0004, device='cuda:0'), tensor(0.0004, device='cuda:0'), tensor(0.0004, device='cuda:0'), tensor(0.0004, device='cuda:0'), tensor(0.0004, device='cuda:0'), tensor(0.0003, device='cuda:0'), tensor(0.0004, device='cuda:0'), tensor(0.0004, device='cuda:0'), tensor(0.0003, device='cuda:0'), tensor(0.0004, device='cuda:0'), tensor(0.0003, device='cuda:0'), tensor(0.0004, device='cuda:0'), tensor(0.0005, device='cuda:0'), tensor(0.0004, device='cuda:0'), tensor(0.0005, device='cuda:0'), tensor(0.0004, device='cuda:0'), tensor(0.0004, device='cuda:0'), tensor(0.0005, device='cuda:0'), tensor(0.0005, device='cuda:0'), tensor(0.0004, device='cuda:0'), tensor(0.0005, device='cuda:0'), tensor(0.0005, device='cuda:0'), tensor(0.0004, device='cuda:0'), tensor(0.0005, device='cuda:0'), tensor(0.0005, device='cuda:0'), tensor(0.0004, device='cuda:0'), tensor(0.0005, device='cuda:0'), tensor(0.0006, device='cuda:0'), tensor(0.0005, device='cuda:0'), tensor(0.0005, device='cuda:0'), tensor(0.0005, device='cuda:0'), tensor(0.0006, device='cuda:0'), tensor(0.0006, device='cuda:0'), tensor(0.0006, device='cuda:0'), tensor(0.0006, device='cuda:0'), tensor(0.0006, device='cuda:0'), tensor(0.0006, device='cuda:0'), tensor(0.0007, device='cuda:0'), tensor(0.0008, device='cuda:0'), tensor(0.0006, device='cuda:0'), tensor(0.0007, device='cuda:0'), tensor(0.0007, device='cuda:0'), tensor(0.0007, device='cuda:0'), tensor(0.0007, device='cuda:0'), tensor(0.0007, device='cuda:0'), tensor(0.0008, device='cuda:0'), tensor(0.0009, device='cuda:0'), tensor(0.0008, device='cuda:0'), tensor(0.0010, device='cuda:0'), tensor(0.0009, device='cuda:0'), tensor(0.0010, device='cuda:0'), tensor(0.0008, device='cuda:0'), tensor(0.0009, device='cuda:0'), tensor(0.0009, device='cuda:0'), tensor(0.0012, device='cuda:0'), tensor(0.0012, device='cuda:0'), tensor(0.0011, device='cuda:0'), tensor(0.0014, device='cuda:0'), tensor(0.0013, device='cuda:0'), tensor(0.0015, device='cuda:0'), tensor(0.0014, device='cuda:0'), tensor(0.0016, device='cuda:0'), tensor(0.0017, device='cuda:0'), tensor(0.0019, device='cuda:0'), tensor(0.0018, device='cuda:0'), tensor(0.0021, device='cuda:0'), tensor(0.0023, device='cuda:0'), tensor(0.0024, device='cuda:0'), tensor(0.0022, device='cuda:0'), tensor(0.0029, device='cuda:0'), tensor(0.0031, device='cuda:0'), tensor(0.0037, device='cuda:0'), tensor(0.0038, device='cuda:0'), tensor(0.0050, device='cuda:0'), tensor(0.0063, device='cuda:0'), tensor(0.0070, device='cuda:0'), tensor(0.0084, device='cuda:0'), tensor(0.0097, device='cuda:0'), tensor(0.0125, device='cuda:0'), tensor(0.0178, device='cuda:0'), tensor(0.0265, device='cuda:0'), tensor(0.0361, device='cuda:0'), tensor(0.0420, device='cuda:0'), tensor(0.0265, device='cuda:0'), tensor(0.0527, device='cuda:0'), tensor(0.0329, device='cuda:0'), tensor(0.0577, device='cuda:0'), tensor(0.0402, device='cuda:0'), tensor(0.0746, device='cuda:0'), tensor(0.0815, device='cuda:0'), tensor(0.0258, device='cuda:0'), tensor(0.0548, device='cuda:0'), tensor(0.0474, device='cuda:0'), tensor(0.1086, device='cuda:0'), tensor(0.0370, device='cuda:0'), tensor(0.0755, device='cuda:0'), tensor(0.0687, device='cuda:0'), tensor(0.1050, device='cuda:0'), tensor(0.0530, device='cuda:0'), tensor(0.1205, device='cuda:0'), tensor(0.1591, device='cuda:0'), tensor(0.0075, device='cuda:0'), tensor(0.0173, device='cuda:0'), tensor(0.0157, device='cuda:0'), tensor(0.0130, device='cuda:0'), tensor(0.0256, device='cuda:0'), tensor(0.0421, device='cuda:0'), tensor(0.0301, device='cuda:0'), tensor(0.0444, device='cuda:0'), tensor(0.0637, device='cuda:0'), tensor(0.0405, device='cuda:0'), tensor(0.0753, device='cuda:0'), tensor(0.0918, device='cuda:0'), tensor(0.0492, device='cuda:0'), tensor(0.0661, device='cuda:0'), tensor(0.0785, device='cuda:0'), tensor(0.1224, device='cuda:0'), tensor(0.0110, device='cuda:0'), tensor(0.0259, device='cuda:0'), tensor(0.0537, device='cuda:0'), tensor(0.0557, device='cuda:0'), tensor(0.0929, device='cuda:0'), tensor(0.0623, device='cuda:0'), tensor(0.0391, device='cuda:0'), tensor(0.0573, device='cuda:0'), tensor(0.1041, device='cuda:0'), tensor(0.0876, device='cuda:0'), tensor(0.1147, device='cuda:0'), tensor(0.0530, device='cuda:0'), tensor(0.1308, device='cuda:0'), tensor(0.0987, device='cuda:0'), tensor(0.1249, device='cuda:0'), tensor(0.0722, device='cuda:0'), tensor(0.1091, device='cuda:0'), tensor(0.0989, device='cuda:0'), tensor(0.0611, device='cuda:0'), tensor(0.0356, device='cuda:0'), tensor(0.1349, device='cuda:0'), tensor(0.1223, device='cuda:0'), tensor(0.0052, device='cuda:0'), tensor(0.0081, device='cuda:0'), tensor(0.0055, device='cuda:0'), tensor(0.0059, device='cuda:0'), tensor(0.0078, device='cuda:0'), tensor(0.0130, device='cuda:0'), tensor(0.0090, device='cuda:0'), tensor(0.0328, device='cuda:0'), tensor(0.0050, device='cuda:0'), tensor(0.0062, device='cuda:0'), tensor(0.0074, device='cuda:0'), tensor(0.0101, device='cuda:0'), tensor(0.0136, device='cuda:0'), tensor(0.0135, device='cuda:0'), tensor(0.0135, device='cuda:0'), tensor(0.0129, device='cuda:0'), tensor(0.0160, device='cuda:0'), tensor(0.0147, device='cuda:0'), tensor(0.0138, device='cuda:0'), tensor(0.0147, device='cuda:0'), tensor(0.0135, device='cuda:0'), tensor(0.0135, device='cuda:0'), tensor(0.0136, device='cuda:0'), tensor(0.0159, device='cuda:0'), tensor(0.0151, device='cuda:0'), tensor(0.0128, device='cuda:0'), tensor(0.0138, device='cuda:0'), tensor(0.0151, device='cuda:0'), tensor(0.0124, device='cuda:0'), tensor(0.0119, device='cuda:0'), tensor(0.0127, device='cuda:0'), tensor(0.0147, device='cuda:0'), tensor(0.0140, device='cuda:0'), tensor(0.0118, device='cuda:0'), tensor(0.0145, device='cuda:0'), tensor(0.0142, device='cuda:0'), tensor(0.0127, device='cuda:0'), tensor(0.0133, device='cuda:0'), tensor(0.0141, device='cuda:0'), tensor(0.0151, device='cuda:0'), tensor(0.0135, device='cuda:0'), tensor(0.0140, device='cuda:0'), tensor(0.0138, device='cuda:0'), tensor(0.0139, device='cuda:0'), tensor(0.0143, device='cuda:0'), tensor(0.0123, device='cuda:0'), tensor(0.0142, device='cuda:0'), tensor(0.0160, device='cuda:0'), tensor(0.0144, device='cuda:0'), tensor(0.0139, device='cuda:0'), tensor(0.0125, device='cuda:0'), tensor(0.0144, device='cuda:0'), tensor(0.0128, device='cuda:0'), tensor(0.0138, device='cuda:0'), tensor(0.0136, device='cuda:0'), tensor(0.0153, device='cuda:0'), tensor(0.0158, device='cuda:0'), tensor(0.0149, device='cuda:0'), tensor(0.0145, device='cuda:0'), tensor(0.0139, device='cuda:0'), tensor(0.0142, device='cuda:0'), tensor(0.0137, device='cuda:0'), tensor(0.0149, device='cuda:0'), tensor(0.0152, device='cuda:0'), tensor(0.0155, device='cuda:0'), tensor(0.0155, device='cuda:0'), tensor(0.0135, device='cuda:0'), tensor(0.0113, device='cuda:0'), tensor(0.0141, device='cuda:0'), tensor(0.0127, device='cuda:0'), tensor(0.0137, device='cuda:0'), tensor(0.0133, device='cuda:0'), tensor(0.0126, device='cuda:0'), tensor(0.0142, device='cuda:0'), tensor(0.0145, device='cuda:0'), tensor(0.0125, device='cuda:0'), tensor(0.0147, device='cuda:0'), tensor(0.0132, device='cuda:0'), tensor(0.0140, device='cuda:0'), tensor(0.0105, device='cuda:0'), tensor(0.0120, device='cuda:0'), tensor(0.0165, device='cuda:0'), tensor(0.0124, device='cuda:0'), tensor(0.0128, device='cuda:0'), tensor(0.0140, device='cuda:0'), tensor(0.0203, device='cuda:0'), tensor(0.0126, device='cuda:0'), tensor(0.0127, device='cuda:0'), tensor(0.0117, device='cuda:0'), tensor(0.0114, device='cuda:0'), tensor(0.0132, device='cuda:0'), tensor(0.0149, device='cuda:0'), tensor(0.0172, device='cuda:0'), tensor(0.0208, device='cuda:0'), tensor(0.0205, device='cuda:0'), tensor(0.0286, device='cuda:0'), tensor(0.0319, device='cuda:0'), tensor(0.0366, device='cuda:0'), tensor(0.0452, device='cuda:0'), tensor(0.0456, device='cuda:0'), tensor(0.0500, device='cuda:0'), tensor(0.0850, device='cuda:0'), tensor(0.0129, device='cuda:0'), tensor(0.0320, device='cuda:0'), tensor(0.0448, device='cuda:0'), tensor(0.0202, device='cuda:0'), tensor(0.0365, device='cuda:0'), tensor(0.0400, device='cuda:0'), tensor(0.0411, device='cuda:0'), tensor(0.0564, device='cuda:0'), tensor(0.0286, device='cuda:0'), tensor(0.0315, device='cuda:0'), tensor(0.0303, device='cuda:0'), tensor(0.0500, device='cuda:0'), tensor(0.0286, device='cuda:0'), tensor(0.0419, device='cuda:0'), tensor(0.0388, device='cuda:0'), tensor(0.0351, device='cuda:0'), tensor(0.0436, device='cuda:0'), tensor(0.0803, device='cuda:0'), tensor(0.0260, device='cuda:0'), tensor(0.0614, device='cuda:0'), tensor(0.0193, device='cuda:0'), tensor(0.0623, device='cuda:0'), tensor(0.0386, device='cuda:0'), tensor(0.0523, device='cuda:0'), tensor(0.0497, device='cuda:0'), tensor(0.0696, device='cuda:0'), tensor(0.0384, device='cuda:0'), tensor(0.0747, device='cuda:0'), tensor(0.0418, device='cuda:0'), tensor(0.0482, device='cuda:0'), tensor(0.0982, device='cuda:0'), tensor(0.0606, device='cuda:0'), tensor(0.0585, device='cuda:0'), tensor(0.0458, device='cuda:0'), tensor(0.0651, device='cuda:0'), tensor(0.0640, device='cuda:0'), tensor(0.0967, device='cuda:0'), tensor(0.0650, device='cuda:0'), tensor(0.0542, device='cuda:0'), tensor(0.1236, device='cuda:0'), tensor(0.0426, device='cuda:0'), tensor(0.1394, device='cuda:0'), tensor(0.1063, device='cuda:0'), tensor(0.0931, device='cuda:0'), tensor(0.0526, device='cuda:0'), tensor(0.0837, device='cuda:0'), tensor(0.0818, device='cuda:0'), tensor(0.0943, device='cuda:0'), tensor(0.0645, device='cuda:0'), tensor(0.1044, device='cuda:0'), tensor(0.0806, device='cuda:0'), tensor(0.1288, device='cuda:0'), tensor(0.1027, device='cuda:0'), tensor(0.0782, device='cuda:0'), tensor(0.0237, device='cuda:0'), tensor(0.6141, device='cuda:0'), tensor(0.0179, device='cuda:0'), tensor(0.0127, device='cuda:0'), tensor(0.0140, device='cuda:0'), tensor(0.0132, device='cuda:0'), tensor(0.0127, device='cuda:0'), tensor(0.0128, device='cuda:0'), tensor(0.0130, device='cuda:0'), tensor(0.0146, device='cuda:0'), tensor(0.0167, device='cuda:0'), tensor(0.0154, device='cuda:0'), tensor(0.0182, device='cuda:0'), tensor(0.0148, device='cuda:0'), tensor(0.0157, device='cuda:0'), tensor(0.0206, device='cuda:0'), tensor(0.0286, device='cuda:0'), tensor(0.0187, device='cuda:0'), tensor(0.0231, device='cuda:0'), tensor(0.0272, device='cuda:0'), tensor(0.0315, device='cuda:0'), tensor(0.0235, device='cuda:0'), tensor(0.0264, device='cuda:0'), tensor(0.0358, device='cuda:0'), tensor(0.0167, device='cuda:0'), tensor(0.0280, device='cuda:0'), tensor(0.0395, device='cuda:0'), tensor(0.0333, device='cuda:0'), tensor(0.0406, device='cuda:0'), tensor(0.0216, device='cuda:0'), tensor(0.0332, device='cuda:0'), tensor(0.0365, device='cuda:0'), tensor(0.0968, device='cuda:0'), tensor(0.0779, device='cuda:0'), tensor(0.0133, device='cuda:0'), tensor(0.0235, device='cuda:0'), tensor(0.0301, device='cuda:0'), tensor(0.0204, device='cuda:0'), tensor(0.0263, device='cuda:0'), tensor(0.0271, device='cuda:0'), tensor(0.0234, device='cuda:0'), tensor(0.0241, device='cuda:0'), tensor(0.0287, device='cuda:0'), tensor(0.0219, device='cuda:0'), tensor(0.0319, device='cuda:0'), tensor(0.0262, device='cuda:0'), tensor(0.0288, device='cuda:0'), tensor(0.0342, device='cuda:0'), tensor(0.0414, device='cuda:0'), tensor(0.0380, device='cuda:0'), tensor(0.0501, device='cuda:0'), tensor(0.0397, device='cuda:0'), tensor(0.0361, device='cuda:0'), tensor(0.0462, device='cuda:0'), tensor(0.0518, device='cuda:0'), tensor(0.0462, device='cuda:0'), tensor(0.0370, device='cuda:0'), tensor(0.0503, device='cuda:0'), tensor(0.0371, device='cuda:0'), tensor(0.0480, device='cuda:0'), tensor(0.0670, device='cuda:0'), tensor(0.0482, device='cuda:0'), tensor(0.0543, device='cuda:0'), tensor(0.0409, device='cuda:0'), tensor(0.0504, device='cuda:0'), tensor(0.0421, device='cuda:0'), tensor(0.0589, device='cuda:0'), tensor(0.0627, device='cuda:0'), tensor(0.0617, device='cuda:0'), tensor(0.0708, device='cuda:0'), tensor(0.0354, device='cuda:0'), tensor(0.0482, device='cuda:0'), tensor(0.0427, device='cuda:0'), tensor(0.0569, device='cuda:0'), tensor(0.0618, device='cuda:0'), tensor(0.0661, device='cuda:0'), tensor(0.0443, device='cuda:0'), tensor(0.0813, device='cuda:0'), tensor(0.0501, device='cuda:0'), tensor(0.0642, device='cuda:0'), tensor(0.1173, device='cuda:0'), tensor(0.0734, device='cuda:0'), tensor(0.0756, device='cuda:0'), tensor(0.0758, device='cuda:0'), tensor(0.0603, device='cuda:0'), tensor(0.0463, device='cuda:0'), tensor(0.0688, device='cuda:0'), tensor(0.0622, device='cuda:0'), tensor(0.0605, device='cuda:0'), tensor(0.0841, device='cuda:0'), tensor(0.0855, device='cuda:0'), tensor(0.0827, device='cuda:0'), tensor(0.0559, device='cuda:0'), tensor(0.0772, device='cuda:0'), tensor(0.0623, device='cuda:0'), tensor(0.0697, device='cuda:0'), tensor(0.0559, device='cuda:0'), tensor(0.0898, device='cuda:0'), tensor(0.0499, device='cuda:0'), tensor(0.0845, device='cuda:0'), tensor(0.0797, device='cuda:0'), tensor(0.1075, device='cuda:0'), tensor(0.0935, device='cuda:0'), tensor(0.0843, device='cuda:0'), tensor(0.0726, device='cuda:0'), tensor(0.0834, device='cuda:0'), tensor(0.1150, device='cuda:0'), tensor(0.1163, device='cuda:0'), tensor(0.1019, device='cuda:0'), tensor(0.0880, device='cuda:0'), tensor(0.0889, device='cuda:0'), tensor(0.0898, device='cuda:0'), tensor(0.1010, device='cuda:0'), tensor(0.0866, device='cuda:0'), tensor(0.0919, device='cuda:0'), tensor(0.0856, device='cuda:0'), tensor(0.0870, device='cuda:0'), tensor(0.0953, device='cuda:0'), tensor(0.0646, device='cuda:0'), tensor(0.0820, device='cuda:0'), tensor(0.1494, device='cuda:0'), tensor(0.1270, device='cuda:0'), tensor(0.0823, device='cuda:0'), tensor(0.1008, device='cuda:0'), tensor(0.1087, device='cuda:0'), tensor(0.0913, device='cuda:0'), tensor(0.0815, device='cuda:0'), tensor(0.1065, device='cuda:0'), tensor(0.1101, device='cuda:0'), tensor(0.1277, device='cuda:0'), tensor(0.1009, device='cuda:0'), tensor(0.1182, device='cuda:0'), tensor(0.1123, device='cuda:0'), tensor(0.1308, device='cuda:0'), tensor(0.1402, device='cuda:0'), tensor(0.2032, device='cuda:0'), tensor(0.1257, device='cuda:0'), tensor(0.0749, device='cuda:0'), tensor(0.0715, device='cuda:0'), tensor(0.1277, device='cuda:0'), tensor(0.0418, device='cuda:0'), tensor(0.1226, device='cuda:0'), tensor(0.0555, device='cuda:0'), tensor(0.0545, device='cuda:0'), tensor(0.0524, device='cuda:0'), tensor(0.0438, device='cuda:0'), tensor(0.0558, device='cuda:0'), tensor(0.0390, device='cuda:0'), tensor(0.0734, device='cuda:0'), tensor(0.0778, device='cuda:0'), tensor(0.0890, device='cuda:0'), tensor(0.0906, device='cuda:0'), tensor(0.0576, device='cuda:0'), tensor(0.0739, device='cuda:0'), tensor(0.0802, device='cuda:0'), tensor(0.0986, device='cuda:0'), tensor(0.0814, device='cuda:0'), tensor(0.0680, device='cuda:0'), tensor(0.0784, device='cuda:0'), tensor(0.0650, device='cuda:0'), tensor(0.0826, device='cuda:0'), tensor(0.0934, device='cuda:0'), tensor(0.0876, device='cuda:0'), tensor(0.0509, device='cuda:0'), tensor(0.0686, device='cuda:0'), tensor(0.0538, device='cuda:0'), tensor(0.1023, device='cuda:0'), tensor(0.1007, device='cuda:0'), tensor(0.0680, device='cuda:0'), tensor(0.0709, device='cuda:0'), tensor(0.1199, device='cuda:0'), tensor(0.0505, device='cuda:0'), tensor(0.0545, device='cuda:0'), tensor(0.0530, device='cuda:0'), tensor(0.0456, device='cuda:0'), tensor(0.0744, device='cuda:0'), tensor(0.0530, device='cuda:0'), tensor(0.0630, device='cuda:0'), tensor(0.0677, device='cuda:0'), tensor(0.0733, device='cuda:0'), tensor(0.0888, device='cuda:0'), tensor(0.0804, device='cuda:0'), tensor(0.0831, device='cuda:0'), tensor(0.0763, device='cuda:0'), tensor(0.0673, device='cuda:0'), tensor(0.0576, device='cuda:0'), tensor(0.0751, device='cuda:0'), tensor(0.0562, device='cuda:0'), tensor(0.0890, device='cuda:0'), tensor(0.0787, device='cuda:0'), tensor(0.0744, device='cuda:0'), tensor(0.0848, device='cuda:0'), tensor(0.0832, device='cuda:0'), tensor(0.0920, device='cuda:0'), tensor(0.1025, device='cuda:0'), tensor(0.0857, device='cuda:0'), tensor(0.0869, device='cuda:0'), tensor(0.0785, device='cuda:0'), tensor(0.1045, device='cuda:0'), tensor(0.0868, device='cuda:0'), tensor(0.0720, device='cuda:0'), tensor(0.1172, device='cuda:0'), tensor(0.1154, device='cuda:0'), tensor(0.1093, device='cuda:0'), tensor(0.1266, device='cuda:0'), tensor(0.1236, device='cuda:0'), tensor(0.1115, device='cuda:0'), tensor(0.0981, device='cuda:0'), tensor(0.1055, device='cuda:0'), tensor(0.1104, device='cuda:0'), tensor(0.1105, device='cuda:0'), tensor(0.1466, device='cuda:0'), tensor(0.1516, device='cuda:0'), tensor(0.1190, device='cuda:0'), tensor(0.1103, device='cuda:0'), tensor(0.1172, device='cuda:0'), tensor(0.1162, device='cuda:0'), tensor(0.0993, device='cuda:0'), tensor(0.1232, device='cuda:0'), tensor(0.1127, device='cuda:0'), tensor(0.0998, device='cuda:0'), tensor(0.1036, device='cuda:0'), tensor(0.0948, device='cuda:0'), tensor(0.0915, device='cuda:0'), tensor(0.0917, device='cuda:0'), tensor(0.1283, device='cuda:0'), tensor(0.0759, device='cuda:0'), tensor(0.1201, device='cuda:0'), tensor(0.1391, device='cuda:0'), tensor(0.1001, device='cuda:0'), tensor(0.1151, device='cuda:0'), tensor(0.0965, device='cuda:0'), tensor(0.0983, device='cuda:0'), tensor(0.1028, device='cuda:0'), tensor(0.1057, device='cuda:0'), tensor(0.0985, device='cuda:0'), tensor(0.1008, device='cuda:0'), tensor(0.1236, device='cuda:0'), tensor(0.0881, device='cuda:0'), tensor(0.1286, device='cuda:0'), tensor(0.1048, device='cuda:0'), tensor(0.0765, device='cuda:0'), tensor(0.1756, device='cuda:0'), tensor(0.0773, device='cuda:0'), tensor(0.0939, device='cuda:0'), tensor(0.0935, device='cuda:0'), tensor(0.1187, device='cuda:0'), tensor(0.1236, device='cuda:0'), tensor(0.1245, device='cuda:0'), tensor(0.1269, device='cuda:0'), tensor(0.1566, device='cuda:0'), tensor(0.1460, device='cuda:0'), tensor(0.1271, device='cuda:0'), tensor(0.0988, device='cuda:0'), tensor(0.0939, device='cuda:0'), tensor(0.1174, device='cuda:0'), tensor(0.1129, device='cuda:0'), tensor(0.1238, device='cuda:0'), tensor(0.1372, device='cuda:0'), tensor(0.0960, device='cuda:0'), tensor(0.1295, device='cuda:0'), tensor(0.1088, device='cuda:0'), tensor(0.1212, device='cuda:0'), tensor(0.1312, device='cuda:0'), tensor(0.1170, device='cuda:0'), tensor(0.1271, device='cuda:0'), tensor(0.1187, device='cuda:0'), tensor(0.1667, device='cuda:0'), tensor(0.0941, device='cuda:0'), tensor(0.1277, device='cuda:0'), tensor(0.0851, device='cuda:0'), tensor(0.0894, device='cuda:0'), tensor(0.0765, device='cuda:0'), tensor(0.0806, device='cuda:0'), tensor(0.0936, device='cuda:0'), tensor(0.1010, device='cuda:0'), tensor(0.1199, device='cuda:0'), tensor(0.1083, device='cuda:0'), tensor(0.1145, device='cuda:0'), tensor(0.1770, device='cuda:0'), tensor(0.0988, device='cuda:0'), tensor(0.0683, device='cuda:0'), tensor(0.5765, device='cuda:0'), tensor(0.2089, device='cuda:0'), tensor(0.2858, device='cuda:0'), tensor(0.2433, device='cuda:0'), tensor(0.1924, device='cuda:0'), tensor(0.2096, device='cuda:0'), tensor(0.0966, device='cuda:0'), tensor(0.0332, device='cuda:0'), tensor(0.1162, device='cuda:0'), tensor(0.2063, device='cuda:0'), tensor(0.2614, device='cuda:0'), tensor(0.2614, device='cuda:0'), tensor(0.2774, device='cuda:0'), tensor(0.2649, device='cuda:0'), tensor(0.3070, device='cuda:0'), tensor(0.3019, device='cuda:0'), tensor(0.3114, device='cuda:0'), tensor(0.3077, device='cuda:0'), tensor(0.3072, device='cuda:0'), tensor(0.3163, device='cuda:0'), tensor(0.3078, device='cuda:0'), tensor(0.3083, device='cuda:0'), tensor(0.3032, device='cuda:0'), tensor(0.3077, device='cuda:0'), tensor(0.3124, device='cuda:0'), tensor(0.3077, device='cuda:0'), tensor(0.3138, device='cuda:0'), tensor(0.3044, device='cuda:0'), tensor(0.3053, device='cuda:0'), tensor(0.3130, device='cuda:0'), tensor(0.3113, device='cuda:0'), tensor(0.3057, device='cuda:0'), tensor(0.3106, device='cuda:0'), tensor(0.3078, device='cuda:0'), tensor(0.2962, device='cuda:0'), tensor(0.3134, device='cuda:0'), tensor(0.3129, device='cuda:0'), tensor(0.3108, device='cuda:0'), tensor(0.3187, device='cuda:0'), tensor(0.3039, device='cuda:0'), tensor(0.3115, device='cuda:0'), tensor(0.3076, device='cuda:0'), tensor(0.2988, device='cuda:0'), tensor(0.2948, device='cuda:0'), tensor(0.3678, device='cuda:0'), tensor(0.3576, device='cuda:0'), tensor(0.3619, device='cuda:0'), tensor(0.3610, device='cuda:0'), tensor(0.3619, device='cuda:0'), tensor(0.3553, device='cuda:0'), tensor(0.3568, device='cuda:0'), tensor(0.3637, device='cuda:0'), tensor(0.3723, device='cuda:0'), tensor(0.3670, device='cuda:0'), tensor(0.3622, device='cuda:0'), tensor(0.3617, device='cuda:0'), tensor(0.3576, device='cuda:0'), tensor(0.3654, device='cuda:0'), tensor(0.3712, device='cuda:0'), tensor(0.3664, device='cuda:0'), tensor(0.3660, device='cuda:0'), tensor(0.3674, device='cuda:0'), tensor(0.3583, device='cuda:0'), tensor(0.3617, device='cuda:0'), tensor(0.3672, device='cuda:0'), tensor(0.3654, device='cuda:0'), tensor(0.3560, device='cuda:0'), tensor(0.3627, device='cuda:0'), tensor(0.3541, device='cuda:0'), tensor(0.3613, device='cuda:0'), tensor(0.3562, device='cuda:0'), tensor(0.3667, device='cuda:0'), tensor(0.3651, device='cuda:0'), tensor(0.3678, device='cuda:0'), tensor(0.3627, device='cuda:0'), tensor(0.3635, device='cuda:0'), tensor(0.3650, device='cuda:0'), tensor(0.3682, device='cuda:0'), tensor(0.3556, device='cuda:0'), tensor(0.3636, device='cuda:0'), tensor(0.3593, device='cuda:0'), tensor(0.3652, device='cuda:0'), tensor(0.3671, device='cuda:0'), tensor(0.3676, device='cuda:0'), tensor(0.3563, device='cuda:0'), tensor(0.3675, device='cuda:0'), tensor(0.3616, device='cuda:0'), tensor(0.3603, device='cuda:0'), tensor(0.3642, device='cuda:0'), tensor(0.3640, device='cuda:0'), tensor(0.3650, device='cuda:0'), tensor(0.3574, device='cuda:0'), tensor(0.3594, device='cuda:0'), tensor(0.3673, device='cuda:0'), tensor(0.3593, device='cuda:0'), tensor(0.3571, device='cuda:0'), tensor(0.3695, device='cuda:0'), tensor(0.3560, device='cuda:0'), tensor(0.3623, device='cuda:0'), tensor(0.3711, device='cuda:0'), tensor(0.3601, device='cuda:0'), tensor(0.3601, device='cuda:0'), tensor(0.3643, device='cuda:0'), tensor(0.3628, device='cuda:0'), tensor(0.3647, device='cuda:0'), tensor(0.3642, device='cuda:0'), tensor(0.3641, device='cuda:0'), tensor(0.3569, device='cuda:0'), tensor(0.3614, device='cuda:0'), tensor(0.3619, device='cuda:0'), tensor(0.3666, device='cuda:0'), tensor(0.3566, device='cuda:0'), tensor(0.3658, device='cuda:0'), tensor(0.3665, device='cuda:0'), tensor(0.3637, device='cuda:0'), tensor(0.3167, device='cuda:0'), tensor(0.3273, device='cuda:0'), tensor(0.3185, device='cuda:0'), tensor(0.3080, device='cuda:0'), tensor(0.3231, device='cuda:0'), tensor(0.3133, device='cuda:0'), tensor(0.3313, device='cuda:0'), tensor(0.3196, device='cuda:0'), tensor(0.3255, device='cuda:0'), tensor(0.3285, device='cuda:0'), tensor(0.3167, device='cuda:0'), tensor(0.3195, device='cuda:0'), tensor(0.3223, device='cuda:0'), tensor(0.3220, device='cuda:0'), tensor(0.3161, device='cuda:0'), tensor(0.3220, device='cuda:0'), tensor(0.3330, device='cuda:0'), tensor(0.3268, device='cuda:0'), tensor(0.3212, device='cuda:0'), tensor(0.3188, device='cuda:0'), tensor(0.3158, device='cuda:0'), tensor(0.3201, device='cuda:0'), tensor(0.2920, device='cuda:0'), tensor(0.2936, device='cuda:0'), tensor(0.2926, device='cuda:0'), tensor(0.3008, device='cuda:0'), tensor(0.2964, device='cuda:0'), tensor(0.3000, device='cuda:0'), tensor(0.2803, device='cuda:0'), tensor(0.2740, device='cuda:0'), tensor(0.2912, device='cuda:0'), tensor(0.2541, device='cuda:0'), tensor(0.2136, device='cuda:0'), tensor(0.2740, device='cuda:0'), tensor(0.5522, device='cuda:0'), tensor(0.5656, device='cuda:0'), tensor(0.5558, device='cuda:0'), tensor(0.5294, device='cuda:0'), tensor(0.5586, device='cuda:0'), tensor(0.5685, device='cuda:0'), tensor(0.5272, device='cuda:0'), tensor(0.5906, device='cuda:0'), tensor(0.5800, device='cuda:0'), tensor(0.5779, device='cuda:0'), tensor(0.6107, device='cuda:0'), tensor(0.4642, device='cuda:0'), tensor(0.4258, device='cuda:0'), tensor(0.4344, device='cuda:0'), tensor(0.4301, device='cuda:0'), tensor(0.2713, device='cuda:0'), tensor(0.5667, device='cuda:0'), tensor(0.4250, device='cuda:0'), tensor(0.4551, device='cuda:0'), tensor(0.5219, device='cuda:0'), tensor(0.3890, device='cuda:0'), tensor(0.4211, device='cuda:0'), tensor(0.5213, device='cuda:0'), tensor(0.5250, device='cuda:0'), tensor(0.3562, device='cuda:0'), tensor(0.1498, device='cuda:0'), tensor(0.0725, device='cuda:0'), tensor(0.0377, device='cuda:0'), tensor(0.0456, device='cuda:0'), tensor(0.0407, device='cuda:0'), tensor(0.0493, device='cuda:0'), tensor(0.0481, device='cuda:0'), tensor(0.0698, device='cuda:0'), tensor(0.1000, device='cuda:0'), tensor(0.0480, device='cuda:0'), tensor(0.0533, device='cuda:0'), tensor(0.0650, device='cuda:0'), tensor(0.0726, device='cuda:0'), tensor(0.0687, device='cuda:0'), tensor(0.0806, device='cuda:0'), tensor(0.0602, device='cuda:0'), tensor(0.0808, device='cuda:0'), tensor(0.0958, device='cuda:0'), tensor(0.0985, device='cuda:0'), tensor(0.1134, device='cuda:0'), tensor(0.0938, device='cuda:0'), tensor(0.0835, device='cuda:0'), tensor(0.0860, device='cuda:0'), tensor(0.1433, device='cuda:0'), tensor(0.0759, device='cuda:0'), tensor(0.0947, device='cuda:0'), tensor(0.0834, device='cuda:0'), tensor(0.1232, device='cuda:0'), tensor(0.0512, device='cuda:0'), tensor(0.0574, device='cuda:0'), tensor(0.0776, device='cuda:0'), tensor(0.0830, device='cuda:0'), tensor(0.0686, device='cuda:0'), tensor(0.0807, device='cuda:0'), tensor(0.0819, device='cuda:0'), tensor(0.1000, device='cuda:0'), tensor(0.0870, device='cuda:0'), tensor(0.0497, device='cuda:0'), tensor(0.0973, device='cuda:0'), tensor(0.0714, device='cuda:0'), tensor(0.0815, device='cuda:0'), tensor(0.0707, device='cuda:0'), tensor(0.1007, device='cuda:0'), tensor(0.0858, device='cuda:0'), tensor(0.1548, device='cuda:0'), tensor(0.0444, device='cuda:0'), tensor(0.0727, device='cuda:0'), tensor(0.0886, device='cuda:0'), tensor(0.1139, device='cuda:0'), tensor(0.1192, device='cuda:0'), tensor(0.0664, device='cuda:0'), tensor(0.0666, device='cuda:0'), tensor(0.0519, device='cuda:0'), tensor(0.0740, device='cuda:0'), tensor(0.0625, device='cuda:0'), tensor(0.0990, device='cuda:0'), tensor(0.0877, device='cuda:0'), tensor(0.0528, device='cuda:0'), tensor(0.0745, device='cuda:0'), tensor(0.0600, device='cuda:0'), tensor(0.1017, device='cuda:0'), tensor(0.0780, device='cuda:0'), tensor(0.0514, device='cuda:0'), tensor(0.0730, device='cuda:0'), tensor(0.0532, device='cuda:0'), tensor(0.0708, device='cuda:0'), tensor(0.1031, device='cuda:0'), tensor(0.0712, device='cuda:0'), tensor(0.0822, device='cuda:0'), tensor(0.0831, device='cuda:0'), tensor(0.0551, device='cuda:0'), tensor(0.1485, device='cuda:0'), tensor(0.0477, device='cuda:0'), tensor(0.0717, device='cuda:0'), tensor(0.0844, device='cuda:0'), tensor(0.0505, device='cuda:0'), tensor(0.0267, device='cuda:0'), tensor(0.0330, device='cuda:0'), tensor(0.0261, device='cuda:0'), tensor(0.0404, device='cuda:0'), tensor(0.0277, device='cuda:0'), tensor(0.0348, device='cuda:0'), tensor(0.0380, device='cuda:0'), tensor(0.0476, device='cuda:0'), tensor(0.0657, device='cuda:0'), tensor(0.0798, device='cuda:0'), tensor(0.0736, device='cuda:0'), tensor(0.0666, device='cuda:0'), tensor(0.0787, device='cuda:0'), tensor(0.0786, device='cuda:0'), tensor(0.0730, device='cuda:0'), tensor(0.0663, device='cuda:0'), tensor(0.0622, device='cuda:0'), tensor(0.0959, device='cuda:0'), tensor(0.1197, device='cuda:0'), tensor(0.1080, device='cuda:0'), tensor(0.0556, device='cuda:0'), tensor(0.0817, device='cuda:0'), tensor(0.0937, device='cuda:0'), tensor(0.0812, device='cuda:0'), tensor(0.0829, device='cuda:0'), tensor(0.0928, device='cuda:0'), tensor(0.0800, device='cuda:0'), tensor(0.0922, device='cuda:0'), tensor(0.0530, device='cuda:0'), tensor(0.0726, device='cuda:0'), tensor(0.0700, device='cuda:0'), tensor(0.0738, device='cuda:0'), tensor(0.0773, device='cuda:0'), tensor(0.0678, device='cuda:0'), tensor(0.0919, device='cuda:0'), tensor(0.0435, device='cuda:0'), tensor(0.0879, device='cuda:0'), tensor(0.0988, device='cuda:0'), tensor(0.0777, device='cuda:0'), tensor(0.1153, device='cuda:0'), tensor(0.1118, device='cuda:0'), tensor(0.0750, device='cuda:0'), tensor(0.0737, device='cuda:0'), tensor(0.0945, device='cuda:0'), tensor(0.0708, device='cuda:0'), tensor(0.0614, device='cuda:0'), tensor(0.0783, device='cuda:0'), tensor(0.0515, device='cuda:0'), tensor(0.0877, device='cuda:0'), tensor(0.0960, device='cuda:0'), tensor(0.0791, device='cuda:0'), tensor(0.0805, device='cuda:0'), tensor(0.0692, device='cuda:0'), tensor(0.0571, device='cuda:0'), tensor(0.0887, device='cuda:0'), tensor(0.0932, device='cuda:0'), tensor(0.0694, device='cuda:0'), tensor(0.0973, device='cuda:0'), tensor(0.0729, device='cuda:0'), tensor(0.0995, device='cuda:0'), tensor(0.0697, device='cuda:0'), tensor(0.1067, device='cuda:0'), tensor(0.1180, device='cuda:0'), tensor(0.0696, device='cuda:0'), tensor(0.0981, device='cuda:0'), tensor(0.1389, device='cuda:0'), tensor(0.1196, device='cuda:0'), tensor(0.0755, device='cuda:0'), tensor(0.1205, device='cuda:0'), tensor(0.0990, device='cuda:0'), tensor(0.1317, device='cuda:0'), tensor(0.0802, device='cuda:0'), tensor(0.0819, device='cuda:0'), tensor(0.0740, device='cuda:0'), tensor(0.0786, device='cuda:0'), tensor(0.0792, device='cuda:0'), tensor(0.1236, device='cuda:0'), tensor(0.0728, device='cuda:0'), tensor(0.0761, device='cuda:0'), tensor(0.0861, device='cuda:0'), tensor(0.0818, device='cuda:0'), tensor(0.0794, device='cuda:0'), tensor(0.0892, device='cuda:0'), tensor(0.1069, device='cuda:0'), tensor(0.0953, device='cuda:0'), tensor(0.1153, device='cuda:0'), tensor(0.1125, device='cuda:0'), tensor(0.0920, device='cuda:0'), tensor(0.0976, device='cuda:0'), tensor(0.0943, device='cuda:0'), tensor(0.0582, device='cuda:0'), tensor(0.1165, device='cuda:0'), tensor(0.1143, device='cuda:0'), tensor(0.1460, device='cuda:0'), tensor(0.0449, device='cuda:0'), tensor(0.0401, device='cuda:0'), tensor(0.0530, device='cuda:0'), tensor(0.0720, device='cuda:0'), tensor(0.0564, device='cuda:0'), tensor(0.0608, device='cuda:0'), tensor(0.0732, device='cuda:0'), tensor(0.0690, device='cuda:0'), tensor(0.0608, device='cuda:0'), tensor(0.0532, device='cuda:0'), tensor(0.1004, device='cuda:0'), tensor(0.0604, device='cuda:0'), tensor(0.0938, device='cuda:0'), tensor(0.0913, device='cuda:0'), tensor(0.0916, device='cuda:0'), tensor(0.0965, device='cuda:0'), tensor(0.0803, device='cuda:0'), tensor(0.1164, device='cuda:0'), tensor(0.0736, device='cuda:0'), tensor(0.1347, device='cuda:0'), tensor(0.0793, device='cuda:0'), tensor(0.1143, device='cuda:0'), tensor(0.1028, device='cuda:0'), tensor(0.1118, device='cuda:0'), tensor(0.1114, device='cuda:0'), tensor(0.1100, device='cuda:0'), tensor(0.1130, device='cuda:0'), tensor(0.0997, device='cuda:0'), tensor(0.1253, device='cuda:0'), tensor(0.0719, device='cuda:0'), tensor(0.0994, device='cuda:0'), tensor(0.0876, device='cuda:0'), tensor(0.0963, device='cuda:0'), tensor(0.0907, device='cuda:0'), tensor(0.1077, device='cuda:0'), tensor(0.1162, device='cuda:0'), tensor(0.0612, device='cuda:0'), tensor(0.1027, device='cuda:0'), tensor(0.0820, device='cuda:0'), tensor(0.1056, device='cuda:0'), tensor(0.0848, device='cuda:0'), tensor(0.0845, device='cuda:0'), tensor(0.1435, device='cuda:0'), tensor(0.0956, device='cuda:0'), tensor(0.0953, device='cuda:0'), tensor(0.1110, device='cuda:0'), tensor(0.1009, device='cuda:0'), tensor(0.1094, device='cuda:0'), tensor(0.1129, device='cuda:0'), tensor(0.1040, device='cuda:0'), tensor(0.1071, device='cuda:0'), tensor(0.1215, device='cuda:0'), tensor(0.0986, device='cuda:0'), tensor(0.1133, device='cuda:0'), tensor(0.1330, device='cuda:0'), tensor(0.1748, device='cuda:0'), tensor(0.1015, device='cuda:0'), tensor(0.0974, device='cuda:0'), tensor(0.1081, device='cuda:0'), tensor(0.0986, device='cuda:0'), tensor(0.1275, device='cuda:0'), tensor(0.0951, device='cuda:0'), tensor(0.1306, device='cuda:0'), tensor(0.1104, device='cuda:0'), tensor(0.1076, device='cuda:0'), tensor(0.1029, device='cuda:0'), tensor(0.0978, device='cuda:0'), tensor(0.0817, device='cuda:0'), tensor(0.1044, device='cuda:0'), tensor(0.0898, device='cuda:0'), tensor(0.1126, device='cuda:0'), tensor(0.1121, device='cuda:0'), tensor(0.0931, device='cuda:0'), tensor(0.0826, device='cuda:0'), tensor(0.1049, device='cuda:0'), tensor(0.0863, device='cuda:0'), tensor(0.1303, device='cuda:0'), tensor(0.0979, device='cuda:0'), tensor(0.0800, device='cuda:0'), tensor(0.0772, device='cuda:0'), tensor(0.1218, device='cuda:0'), tensor(0.0971, device='cuda:0'), tensor(0.1097, device='cuda:0'), tensor(0.1067, device='cuda:0'), tensor(0.1270, device='cuda:0'), tensor(0.1307, device='cuda:0'), tensor(0.1272, device='cuda:0'), tensor(0.1172, device='cuda:0'), tensor(0.1432, device='cuda:0'), tensor(0.1103, device='cuda:0'), tensor(0.1305, device='cuda:0'), tensor(0.1074, device='cuda:0'), tensor(0.1043, device='cuda:0'), tensor(0.1131, device='cuda:0'), tensor(0.1040, device='cuda:0'), tensor(0.1250, device='cuda:0'), tensor(0.1160, device='cuda:0'), tensor(0.1091, device='cuda:0'), tensor(0.1137, device='cuda:0'), tensor(0.1121, device='cuda:0'), tensor(0.1156, device='cuda:0'), tensor(0.1133, device='cuda:0'), tensor(0.1300, device='cuda:0'), tensor(0.1224, device='cuda:0'), tensor(0.1012, device='cuda:0'), tensor(0.1102, device='cuda:0'), tensor(0.1185, device='cuda:0'), tensor(0.0974, device='cuda:0'), tensor(0.1000, device='cuda:0'), tensor(0.0995, device='cuda:0'), tensor(0.1205, device='cuda:0'), tensor(0.1088, device='cuda:0'), tensor(0.0999, device='cuda:0'), tensor(0.1094, device='cuda:0'), tensor(0.1114, device='cuda:0'), tensor(0.0959, device='cuda:0'), tensor(0.1085, device='cuda:0'), tensor(0.1141, device='cuda:0'), tensor(0.1134, device='cuda:0'), tensor(0.1020, device='cuda:0'), tensor(0.1076, device='cuda:0'), tensor(0.1110, device='cuda:0'), tensor(0.1169, device='cuda:0'), tensor(0.1111, device='cuda:0'), tensor(0.1024, device='cuda:0'), tensor(0.1098, device='cuda:0'), tensor(0.1251, device='cuda:0'), tensor(0.1070, device='cuda:0'), tensor(0.1099, device='cuda:0'), tensor(0.1000, device='cuda:0'), tensor(0.1121, device='cuda:0'), tensor(0.1055, device='cuda:0'), tensor(0.1069, device='cuda:0'), tensor(0.1029, device='cuda:0'), tensor(0.1157, device='cuda:0'), tensor(0.1240, device='cuda:0'), tensor(0.1194, device='cuda:0'), tensor(0.1187, device='cuda:0'), tensor(0.1092, device='cuda:0'), tensor(0.1131, device='cuda:0'), tensor(0.1005, device='cuda:0'), tensor(0.1147, device='cuda:0'), tensor(0.1151, device='cuda:0'), tensor(0.1217, device='cuda:0'), tensor(0.1202, device='cuda:0'), tensor(0.1068, device='cuda:0'), tensor(0.0924, device='cuda:0'), tensor(0.1078, device='cuda:0'), tensor(0.1069, device='cuda:0'), tensor(0.1050, device='cuda:0'), tensor(0.1030, device='cuda:0'), tensor(0.0989, device='cuda:0'), tensor(0.1147, device='cuda:0'), tensor(0.1118, device='cuda:0'), tensor(0.1032, device='cuda:0'), tensor(0.1139, device='cuda:0'), tensor(0.1018, device='cuda:0'), tensor(0.1212, device='cuda:0'), tensor(0.0771, device='cuda:0'), tensor(0.0971, device='cuda:0'), tensor(0.1308, device='cuda:0'), tensor(0.0945, device='cuda:0'), tensor(0.1011, device='cuda:0'), tensor(0.1155, device='cuda:0'), tensor(0.1587, device='cuda:0'), tensor(0.1054, device='cuda:0'), tensor(0.1050, device='cuda:0'), tensor(0.0954, device='cuda:0'), tensor(0.0921, device='cuda:0'), tensor(0.0894, device='cuda:0')], [tensor(0.0450, device='cuda:0'), tensor(0.0472, device='cuda:0'), tensor(0.0470, device='cuda:0'), tensor(0.0482, device='cuda:0'), tensor(0.0472, device='cuda:0'), tensor(0.0482, device='cuda:0'), tensor(0.0524, device='cuda:0'), tensor(0.0546, device='cuda:0'), tensor(0.0590, device='cuda:0'), tensor(0.0669, device='cuda:0'), tensor(0.0694, device='cuda:0'), tensor(0.0841, device='cuda:0'), tensor(0.0896, device='cuda:0'), tensor(0.1036, device='cuda:0'), tensor(0.1182, device='cuda:0'), tensor(0.1742, device='cuda:0'), tensor(0.1538, device='cuda:0'), tensor(0.2153, device='cuda:0'), tensor(0.3184, device='cuda:0'), tensor(0.6660, device='cuda:0'), tensor(0.0929, device='cuda:0'), tensor(0.0963, device='cuda:0'), tensor(0.0414, device='cuda:0'), tensor(0.0722, device='cuda:0'), tensor(0.1239, device='cuda:0'), tensor(0.2878, device='cuda:0'), tensor(0.0158, device='cuda:0'), tensor(0.0127, device='cuda:0'), tensor(0.0136, device='cuda:0'), tensor(0.0128, device='cuda:0'), tensor(0.0115, device='cuda:0'), tensor(0.0132, device='cuda:0'), tensor(0.0138, device='cuda:0'), tensor(0.0137, device='cuda:0'), tensor(0.0146, device='cuda:0'), tensor(0.0140, device='cuda:0'), tensor(0.0147, device='cuda:0'), tensor(0.0156, device='cuda:0'), tensor(0.0168, device='cuda:0'), tensor(0.0169, device='cuda:0'), tensor(0.0203, device='cuda:0'), tensor(0.0263, device='cuda:0'), tensor(0.0321, device='cuda:0'), tensor(0.0337, device='cuda:0'), tensor(0.0338, device='cuda:0'), tensor(0.0425, device='cuda:0'), tensor(0.0618, device='cuda:0'), tensor(0.0902, device='cuda:0'), tensor(0.1599, device='cuda:0'), tensor(0.3380, device='cuda:0'), tensor(0.0261, device='cuda:0'), tensor(0.0268, device='cuda:0'), tensor(0.0349, device='cuda:0'), tensor(0.0811, device='cuda:0'), tensor(0.0701, device='cuda:0'), tensor(0.0159, device='cuda:0'), tensor(0.0240, device='cuda:0'), tensor(0.0636, device='cuda:0'), tensor(0.0628, device='cuda:0'), tensor(0.1379, device='cuda:0'), tensor(0.0329, device='cuda:0'), tensor(0.1084, device='cuda:0'), tensor(0.0133, device='cuda:0'), tensor(0.0135, device='cuda:0'), tensor(0.0159, device='cuda:0'), tensor(0.0270, device='cuda:0'), tensor(0.0324, device='cuda:0'), tensor(0.0490, device='cuda:0'), tensor(0.0381, device='cuda:0'), tensor(0.1733, device='cuda:0'), tensor(0.0196, device='cuda:0'), tensor(0.0131, device='cuda:0'), tensor(0.0093, device='cuda:0'), tensor(0.0118, device='cuda:0'), tensor(0.0228, device='cuda:0'), tensor(0.0089, device='cuda:0'), tensor(0.0087, device='cuda:0'), tensor(0.0097, device='cuda:0'), tensor(0.0098, device='cuda:0'), tensor(0.0123, device='cuda:0'), tensor(0.0136, device='cuda:0'), tensor(0.0362, device='cuda:0'), tensor(0.0314, device='cuda:0'), tensor(0.0716, device='cuda:0'), tensor(0.0589, device='cuda:0'), tensor(0.0630, device='cuda:0'), tensor(0.0928, device='cuda:0'), tensor(0.2472, device='cuda:0'), tensor(0.0110, device='cuda:0'), tensor(0.0106, device='cuda:0'), tensor(0.0112, device='cuda:0'), tensor(0.0129, device='cuda:0'), tensor(0.0115, device='cuda:0'), tensor(0.0136, device='cuda:0'), tensor(0.0165, device='cuda:0'), tensor(0.0159, device='cuda:0'), tensor(0.0193, device='cuda:0'), tensor(0.0248, device='cuda:0'), tensor(0.0313, device='cuda:0'), tensor(0.0435, device='cuda:0'), tensor(0.0441, device='cuda:0'), tensor(0.0544, device='cuda:0'), tensor(0.0636, device='cuda:0'), tensor(0.0928, device='cuda:0'), tensor(0.1385, device='cuda:0'), tensor(0.1647, device='cuda:0'), tensor(0.2031, device='cuda:0'), tensor(0.1206, device='cuda:0'), tensor(0.1351, device='cuda:0'), tensor(0.1400, device='cuda:0'), tensor(0.2422, device='cuda:0'), tensor(0.1169, device='cuda:0'), tensor(0.1287, device='cuda:0'), tensor(0.1949, device='cuda:0'), tensor(0.2155, device='cuda:0'), tensor(0.4632, device='cuda:0'), tensor(0.0206, device='cuda:0'), tensor(0.0008, device='cuda:0'), tensor(0.0006, device='cuda:0'), tensor(0.0008, device='cuda:0'), tensor(0., device='cuda:0'), tensor(1.9337e-06, device='cuda:0'), tensor(4.4882e-06, device='cuda:0'), tensor(4.7035e-07, device='cuda:0'), tensor(3.1230e-06, device='cuda:0'), tensor(1.5730e-06, device='cuda:0'), tensor(2.6992e-06, device='cuda:0'), tensor(9.8246e-07, device='cuda:0'), tensor(2.4550e-06, device='cuda:0'), tensor(9.6521e-07, device='cuda:0'), tensor(1.6938e-06, device='cuda:0'), tensor(2.0643e-07, device='cuda:0'), tensor(1.4174e-06, device='cuda:0'), tensor(1.4234e-06, device='cuda:0'), tensor(0., device='cuda:0'), tensor(5.6716e-06, device='cuda:0'), tensor(2.0272e-06, device='cuda:0'), tensor(1.0789e-07, device='cuda:0'), tensor(2.3792e-06, device='cuda:0'), tensor(1.0898e-06, device='cuda:0'), tensor(1.8348e-06, device='cuda:0'), tensor(1.0217e-06, device='cuda:0'), tensor(3.0680e-06, device='cuda:0'), tensor(5.6574e-06, device='cuda:0'), tensor(2.6691e-07, device='cuda:0'), tensor(1.7047e-06, device='cuda:0'), tensor(1.0335e-06, device='cuda:0'), tensor(1.1598e-06, device='cuda:0'), tensor(2.6436e-06, device='cuda:0'), tensor(4.7669e-06, device='cuda:0'), tensor(2.5592e-06, device='cuda:0'), tensor(5.0602e-07, device='cuda:0'), tensor(7.1519e-07, device='cuda:0'), tensor(5.8182e-06, device='cuda:0'), tensor(9.1943e-07, device='cuda:0'), tensor(7.3309e-07, device='cuda:0'), tensor(2.2573e-06, device='cuda:0'), tensor(8.6857e-07, device='cuda:0'), tensor(4.3916e-06, device='cuda:0'), tensor(2.8812e-06, device='cuda:0'), tensor(2.5430e-06, device='cuda:0'), tensor(1.6765e-07, device='cuda:0'), tensor(1.3562e-07, device='cuda:0'), tensor(7.8304e-07, device='cuda:0'), tensor(1.6254e-06, device='cuda:0'), tensor(2.3063e-06, device='cuda:0'), tensor(4.5709e-06, device='cuda:0'), tensor(4.7103e-06, device='cuda:0'), tensor(1.3000e-06, device='cuda:0'), tensor(3.0796e-06, device='cuda:0'), tensor(1.5089e-06, device='cuda:0'), tensor(5.3566e-06, device='cuda:0'), tensor(1.3023e-06, device='cuda:0'), tensor(5.3948e-06, device='cuda:0'), tensor(2.8267e-06, device='cuda:0'), tensor(1.7994e-06, device='cuda:0'), tensor(2.8500e-07, device='cuda:0'), tensor(1.9901e-06, device='cuda:0'), tensor(7.2166e-06, device='cuda:0'), tensor(9.7389e-06, device='cuda:0'), tensor(5.7221e-06, device='cuda:0'), tensor(1.2325e-06, device='cuda:0'), tensor(2.5831e-06, device='cuda:0'), tensor(2.5444e-06, device='cuda:0'), tensor(2.9640e-07, device='cuda:0'), tensor(4.1369e-06, device='cuda:0'), tensor(5.0828e-07, device='cuda:0'), tensor(2.6807e-06, device='cuda:0'), tensor(5.7176e-06, device='cuda:0'), tensor(4.1436e-06, device='cuda:0'), tensor(3.4676e-06, device='cuda:0'), tensor(4.3324e-06, device='cuda:0'), tensor(5.1022e-06, device='cuda:0'), tensor(3.7421e-06, device='cuda:0'), tensor(3.6926e-07, device='cuda:0'), tensor(3.2993e-06, device='cuda:0'), tensor(2.7935e-06, device='cuda:0'), tensor(3.1427e-06, device='cuda:0'), tensor(1.0505e-05, device='cuda:0'), tensor(5.2209e-06, device='cuda:0'), tensor(4.9506e-06, device='cuda:0'), tensor(2.9306e-06, device='cuda:0'), tensor(4.4487e-06, device='cuda:0'), tensor(4.5784e-06, device='cuda:0'), tensor(2.3252e-06, device='cuda:0'), tensor(7.4598e-06, device='cuda:0'), tensor(3.9793e-06, device='cuda:0'), tensor(7.2235e-06, device='cuda:0'), tensor(5.6222e-06, device='cuda:0'), tensor(2.9765e-06, device='cuda:0'), tensor(4.2753e-06, device='cuda:0'), tensor(5.7171e-06, device='cuda:0'), tensor(7.3922e-06, device='cuda:0'), tensor(4.6033e-06, device='cuda:0'), tensor(8.1487e-06, device='cuda:0'), tensor(7.3471e-06, device='cuda:0'), tensor(5.1667e-06, device='cuda:0'), tensor(6.2015e-06, device='cuda:0'), tensor(7.2141e-06, device='cuda:0'), tensor(8.4794e-06, device='cuda:0'), tensor(5.8052e-06, device='cuda:0'), tensor(1.4951e-06, device='cuda:0'), tensor(2.1720e-06, device='cuda:0'), tensor(4.0505e-06, device='cuda:0'), tensor(1.1199e-05, device='cuda:0'), tensor(6.1285e-06, device='cuda:0'), tensor(2.6092e-06, device='cuda:0'), tensor(3.9088e-06, device='cuda:0'), tensor(4.5216e-06, device='cuda:0'), tensor(5.2347e-06, device='cuda:0'), tensor(5.0342e-06, device='cuda:0'), tensor(1.7766e-06, device='cuda:0'), tensor(5.8754e-06, device='cuda:0'), tensor(6.3345e-06, device='cuda:0'), tensor(1.4054e-06, device='cuda:0'), tensor(1.0446e-05, device='cuda:0'), tensor(5.2483e-06, device='cuda:0'), tensor(4.5104e-06, device='cuda:0'), tensor(8.1642e-06, device='cuda:0'), tensor(5.9628e-06, device='cuda:0'), tensor(1.2340e-05, device='cuda:0'), tensor(7.3043e-06, device='cuda:0'), tensor(1.4185e-05, device='cuda:0'), tensor(1.2887e-05, device='cuda:0'), tensor(1.1277e-05, device='cuda:0'), tensor(8.5046e-06, device='cuda:0'), tensor(7.7312e-06, device='cuda:0'), tensor(8.2278e-06, device='cuda:0'), tensor(9.8042e-06, device='cuda:0'), tensor(1.6205e-05, device='cuda:0'), tensor(1.5140e-05, device='cuda:0'), tensor(6.5323e-05, device='cuda:0'), tensor(1.3504e-05, device='cuda:0'), tensor(1.2399e-05, device='cuda:0'), tensor(6.8068e-05, device='cuda:0'), tensor(4.3372e-06, device='cuda:0'), tensor(8.8914e-06, device='cuda:0'), tensor(6.6756e-06, device='cuda:0'), tensor(9.1382e-06, device='cuda:0'), tensor(1.3920e-05, device='cuda:0'), tensor(1.4258e-05, device='cuda:0'), tensor(1.9065e-05, device='cuda:0'), tensor(1.0112e-05, device='cuda:0'), tensor(1.7334e-05, device='cuda:0'), tensor(1.0755e-05, device='cuda:0'), tensor(1.8944e-05, device='cuda:0'), tensor(0.0002, device='cuda:0'), tensor(2.3897e-06, device='cuda:0'), tensor(2.6283e-06, device='cuda:0'), tensor(1.8261e-06, device='cuda:0'), tensor(3.4189e-06, device='cuda:0'), tensor(8.9752e-06, device='cuda:0'), tensor(6.5481e-06, device='cuda:0'), tensor(5.4472e-06, device='cuda:0'), tensor(5.3839e-06, device='cuda:0'), tensor(2.6664e-06, device='cuda:0'), tensor(5.9236e-06, device='cuda:0'), tensor(9.9910e-07, device='cuda:0'), tensor(4.6985e-06, device='cuda:0'), tensor(8.6679e-07, device='cuda:0'), tensor(3.0234e-06, device='cuda:0'), tensor(7.8321e-06, device='cuda:0'), tensor(5.7175e-06, device='cuda:0'), tensor(9.3052e-06, device='cuda:0'), tensor(1.1407e-06, device='cuda:0'), tensor(9.2890e-06, device='cuda:0'), tensor(8.0446e-06, device='cuda:0'), tensor(6.7997e-06, device='cuda:0'), tensor(8.1087e-06, device='cuda:0'), tensor(7.5089e-06, device='cuda:0'), tensor(1.0904e-05, device='cuda:0'), tensor(1.7426e-05, device='cuda:0'), tensor(7.1390e-06, device='cuda:0'), tensor(1.3023e-05, device='cuda:0'), tensor(3.1481e-05, device='cuda:0'), tensor(9.9635e-05, device='cuda:0'), tensor(1.5035e-05, device='cuda:0'), tensor(3.5097e-05, device='cuda:0'), tensor(0.0001, device='cuda:0'), tensor(1.8971e-05, device='cuda:0'), tensor(4.4938e-05, device='cuda:0'), tensor(4.3935e-05, device='cuda:0'), tensor(9.2248e-05, device='cuda:0'), tensor(0.0004, device='cuda:0'), tensor(0.0023, device='cuda:0'), tensor(0.0022, device='cuda:0'), tensor(0.0011, device='cuda:0'), tensor(0.0015, device='cuda:0'), tensor(0.0019, device='cuda:0'), tensor(0.0027, device='cuda:0'), tensor(0.0031, device='cuda:0'), tensor(0.0038, device='cuda:0'), tensor(0.0014, device='cuda:0'), tensor(0.0023, device='cuda:0'), tensor(0.0023, device='cuda:0'), tensor(0.0019, device='cuda:0'), tensor(0.0025, device='cuda:0'), tensor(0.0051, device='cuda:0'), tensor(0.0065, device='cuda:0'), tensor(0.0066, device='cuda:0'), tensor(0.0046, device='cuda:0'), tensor(0.0053, device='cuda:0'), tensor(0.0042, device='cuda:0'), tensor(0.0076, device='cuda:0'), tensor(0.0082, device='cuda:0'), tensor(0.0099, device='cuda:0'), tensor(0.0444, device='cuda:0'), tensor(0.0306, device='cuda:0'), tensor(0.0207, device='cuda:0'), tensor(0.0089, device='cuda:0'), tensor(0.0204, device='cuda:0'), tensor(0.0162, device='cuda:0'), tensor(0.0163, device='cuda:0'), tensor(0.0478, device='cuda:0'), tensor(2.5500e-06, device='cuda:0'), tensor(1.6487e-06, device='cuda:0'), tensor(1.3223e-06, device='cuda:0'), tensor(6.8985e-07, device='cuda:0'), tensor(4.0248e-07, device='cuda:0'), tensor(4.5684e-07, device='cuda:0'), tensor(1.0882e-07, device='cuda:0'), tensor(0., device='cuda:0'), tensor(8.9842e-07, device='cuda:0'), tensor(0., device='cuda:0'), tensor(0., device='cuda:0'), tensor(1.0305e-06, device='cuda:0'), tensor(2.4640e-07, device='cuda:0'), tensor(1.2517e-06, device='cuda:0'), tensor(4.5146e-07, device='cuda:0'), tensor(0., device='cuda:0'), tensor(1.4026e-06, device='cuda:0'), tensor(1.0158e-07, device='cuda:0'), tensor(9.2130e-07, device='cuda:0'), tensor(4.9151e-08, device='cuda:0'), tensor(8.5333e-07, device='cuda:0'), tensor(0., device='cuda:0'), tensor(1.8688e-06, device='cuda:0'), tensor(0., device='cuda:0'), tensor(1.7345e-07, device='cuda:0'), tensor(6.5249e-07, device='cuda:0'), tensor(2.0934e-07, device='cuda:0'), tensor(2.9963e-07, device='cuda:0'), tensor(2.4102e-06, device='cuda:0'), tensor(4.4525e-07, device='cuda:0'), tensor(0., device='cuda:0'), tensor(0., device='cuda:0'), tensor(6.1781e-07, device='cuda:0'), tensor(9.4732e-07, device='cuda:0'), tensor(0., device='cuda:0'), tensor(0., device='cuda:0'), tensor(3.5511e-06, device='cuda:0'), tensor(0., device='cuda:0'), tensor(1.3852e-06, device='cuda:0'), tensor(1.9073e-06, device='cuda:0'), tensor(0., device='cuda:0'), tensor(1.8187e-06, device='cuda:0'), tensor(1.1484e-06, device='cuda:0'), tensor(0., device='cuda:0'), tensor(2.0144e-06, device='cuda:0'), tensor(1.1559e-06, device='cuda:0'), tensor(2.2213e-06, device='cuda:0'), tensor(0., device='cuda:0'), tensor(4.3979e-08, device='cuda:0'), tensor(1.5090e-06, device='cuda:0'), tensor(0., device='cuda:0'), tensor(3.5008e-06, device='cuda:0'), tensor(6.4022e-07, device='cuda:0'), tensor(1.8919e-07, device='cuda:0'), tensor(9.1831e-07, device='cuda:0'), tensor(0., device='cuda:0'), tensor(1.0303e-07, device='cuda:0'), tensor(1.1044e-06, device='cuda:0'), tensor(1.2613e-06, device='cuda:0'), tensor(3.5718e-06, device='cuda:0'), tensor(5.9380e-07, device='cuda:0'), tensor(3.5576e-07, device='cuda:0'), tensor(2.6925e-07, device='cuda:0'), tensor(0., device='cuda:0'), tensor(3.9626e-07, device='cuda:0'), tensor(3.3452e-07, device='cuda:0'), tensor(0., device='cuda:0'), tensor(5.7084e-07, device='cuda:0'), tensor(0., device='cuda:0'), tensor(9.0233e-07, device='cuda:0'), tensor(6.7185e-07, device='cuda:0'), tensor(3.9539e-07, device='cuda:0'), tensor(2.0211e-06, device='cuda:0'), tensor(6.1766e-07, device='cuda:0'), tensor(6.0983e-07, device='cuda:0'), tensor(4.2425e-07, device='cuda:0'), tensor(0., device='cuda:0'), tensor(4.4065e-07, device='cuda:0'), tensor(1.7393e-06, device='cuda:0'), tensor(0., device='cuda:0'), tensor(1.6970e-08, device='cuda:0'), tensor(4.0329e-06, device='cuda:0'), tensor(2.1419e-06, device='cuda:0'), tensor(0., device='cuda:0'), tensor(9.1422e-08, device='cuda:0'), tensor(7.0140e-07, device='cuda:0'), tensor(3.6749e-08, device='cuda:0'), tensor(0., device='cuda:0'), tensor(2.5069e-06, device='cuda:0'), tensor(2.7503e-06, device='cuda:0'), tensor(8.3556e-07, device='cuda:0'), tensor(5.1174e-06, device='cuda:0'), tensor(8.2661e-07, device='cuda:0'), tensor(5.8314e-07, device='cuda:0'), tensor(3.2485e-07, device='cuda:0'), tensor(7.7838e-07, device='cuda:0'), tensor(6.6603e-07, device='cuda:0'), tensor(3.9893e-06, device='cuda:0'), tensor(0., device='cuda:0'), tensor(4.8114e-06, device='cuda:0'), tensor(1.7838e-07, device='cuda:0'), tensor(3.6603e-06, device='cuda:0'), tensor(6.4939e-07, device='cuda:0'), tensor(0., device='cuda:0'), tensor(1.3879e-06, device='cuda:0'), tensor(1.2238e-06, device='cuda:0'), tensor(5.0073e-07, device='cuda:0'), tensor(2.1278e-07, device='cuda:0'), tensor(3.3970e-06, device='cuda:0'), tensor(1.4819e-07, device='cuda:0'), tensor(6.2249e-07, device='cuda:0'), tensor(1.5781e-06, device='cuda:0'), tensor(1.7744e-06, device='cuda:0'), tensor(0., device='cuda:0'), tensor(2.0732e-06, device='cuda:0'), tensor(4.0745e-06, device='cuda:0'), tensor(2.7552e-06, device='cuda:0'), tensor(1.5068e-06, device='cuda:0'), tensor(0., device='cuda:0'), tensor(6.3660e-07, device='cuda:0'), tensor(1.0720e-07, device='cuda:0'), tensor(3.7290e-06, device='cuda:0'), tensor(1.9910e-07, device='cuda:0'), tensor(3.0268e-07, device='cuda:0'), tensor(8.8580e-07, device='cuda:0'), tensor(3.8294e-09, device='cuda:0'), tensor(1.4023e-06, device='cuda:0'), tensor(2.3057e-06, device='cuda:0'), tensor(2.7886e-06, device='cuda:0'), tensor(1.4501e-06, device='cuda:0'), tensor(0., device='cuda:0'), tensor(8.9061e-07, device='cuda:0'), tensor(4.9194e-06, device='cuda:0'), tensor(3.9932e-07, device='cuda:0'), tensor(2.5762e-06, device='cuda:0'), tensor(3.7278e-06, device='cuda:0'), tensor(6.4844e-07, device='cuda:0'), tensor(3.5774e-06, device='cuda:0'), tensor(1.2948e-06, device='cuda:0'), tensor(3.5577e-07, device='cuda:0'), tensor(1.9492e-07, device='cuda:0'), tensor(0., device='cuda:0'), tensor(4.3703e-06, device='cuda:0'), tensor(1.8597e-06, device='cuda:0'), tensor(0., device='cuda:0'), tensor(1.1202e-07, device='cuda:0'), tensor(0., device='cuda:0'), tensor(0., device='cuda:0'), tensor(0., device='cuda:0'), tensor(3.2386e-06, device='cuda:0'), tensor(3.3810e-07, device='cuda:0'), tensor(2.5291e-07, device='cuda:0'), tensor(5.3050e-06, device='cuda:0'), tensor(1.2954e-07, device='cuda:0'), tensor(1.7402e-07, device='cuda:0'), tensor(1.5770e-06, device='cuda:0'), tensor(3.6241e-07, device='cuda:0'), tensor(2.8078e-06, device='cuda:0'), tensor(1.4710e-06, device='cuda:0'), tensor(1.4074e-06, device='cuda:0'), tensor(3.5212e-06, device='cuda:0'), tensor(3.8668e-06, device='cuda:0'), tensor(6.1233e-07, device='cuda:0'), tensor(1.9423e-07, device='cuda:0'), tensor(8.5171e-07, device='cuda:0'), tensor(9.6105e-07, device='cuda:0'), tensor(1.0073e-06, device='cuda:0'), tensor(2.1685e-06, device='cuda:0'), tensor(2.2187e-06, device='cuda:0'), tensor(1.0337e-06, device='cuda:0'), tensor(8.3699e-06, device='cuda:0'), tensor(0., device='cuda:0'), tensor(6.6917e-07, device='cuda:0'), tensor(3.1445e-06, device='cuda:0'), tensor(1.9549e-06, device='cuda:0'), tensor(8.1494e-07, device='cuda:0'), tensor(5.8107e-08, device='cuda:0'), tensor(2.7564e-07, device='cuda:0'), tensor(9.1684e-09, device='cuda:0'), tensor(2.7917e-06, device='cuda:0'), tensor(7.6222e-07, device='cuda:0'), tensor(2.2781e-06, device='cuda:0'), tensor(0., device='cuda:0'), tensor(1.2118e-06, device='cuda:0'), tensor(0., device='cuda:0'), tensor(2.9826e-06, device='cuda:0'), tensor(1.0404e-08, device='cuda:0'), tensor(2.7244e-06, device='cuda:0'), tensor(6.4757e-07, device='cuda:0'), tensor(8.1702e-06, device='cuda:0'), tensor(2.1989e-06, device='cuda:0'), tensor(0., device='cuda:0'), tensor(2.1989e-06, device='cuda:0'), tensor(1.2402e-06, device='cuda:0'), tensor(3.6264e-06, device='cuda:0'), tensor(6.0737e-06, device='cuda:0'), tensor(2.1384e-06, device='cuda:0'), tensor(1.5707e-06, device='cuda:0'), tensor(1.8494e-06, device='cuda:0'), tensor(1.1452e-06, device='cuda:0'), tensor(2.8440e-06, device='cuda:0'), tensor(1.9716e-06, device='cuda:0'), tensor(4.4840e-06, device='cuda:0'), tensor(6.6355e-07, device='cuda:0'), tensor(1.4462e-06, device='cuda:0'), tensor(2.0130e-06, device='cuda:0'), tensor(4.9790e-07, device='cuda:0'), tensor(3.3420e-06, device='cuda:0'), tensor(7.6529e-07, device='cuda:0'), tensor(3.0198e-06, device='cuda:0'), tensor(6.4605e-07, device='cuda:0'), tensor(5.1524e-06, device='cuda:0'), tensor(1.3600e-06, device='cuda:0'), tensor(3.1680e-06, device='cuda:0'), tensor(3.7236e-06, device='cuda:0'), tensor(8.0352e-07, device='cuda:0'), tensor(0., device='cuda:0'), tensor(7.3268e-06, device='cuda:0'), tensor(4.1633e-06, device='cuda:0'), tensor(2.9273e-06, device='cuda:0'), tensor(2.9008e-07, device='cuda:0'), tensor(3.7519e-06, device='cuda:0'), tensor(4.7563e-06, device='cuda:0'), tensor(0., device='cuda:0'), tensor(2.4581e-06, device='cuda:0'), tensor(3.8031e-07, device='cuda:0'), tensor(7.8618e-07, device='cuda:0'), tensor(5.2877e-06, device='cuda:0'), tensor(6.2794e-06, device='cuda:0'), tensor(2.5304e-07, device='cuda:0'), tensor(6.6833e-06, device='cuda:0'), tensor(3.3926e-06, device='cuda:0'), tensor(2.3107e-06, device='cuda:0'), tensor(2.8929e-06, device='cuda:0'), tensor(8.1467e-07, device='cuda:0'), tensor(8.8076e-07, device='cuda:0'), tensor(8.1193e-06, device='cuda:0'), tensor(6.3914e-06, device='cuda:0'), tensor(2.5509e-06, device='cuda:0'), tensor(4.5381e-06, device='cuda:0'), tensor(2.1527e-06, device='cuda:0'), tensor(9.0524e-06, device='cuda:0'), tensor(5.8495e-06, device='cuda:0'), tensor(6.0054e-07, device='cuda:0'), tensor(4.0440e-06, device='cuda:0'), tensor(1.3209e-06, device='cuda:0'), tensor(3.9146e-06, device='cuda:0'), tensor(6.9621e-06, device='cuda:0'), tensor(4.4717e-06, device='cuda:0'), tensor(3.1708e-06, device='cuda:0'), tensor(1.2235e-06, device='cuda:0'), tensor(8.9758e-06, device='cuda:0'), tensor(7.8380e-06, device='cuda:0'), tensor(1.6381e-06, device='cuda:0'), tensor(2.0230e-06, device='cuda:0'), tensor(4.9675e-06, device='cuda:0'), tensor(3.9243e-06, device='cuda:0'), tensor(4.0602e-06, device='cuda:0'), tensor(3.4079e-06, device='cuda:0'), tensor(1.8693e-06, device='cuda:0'), tensor(5.1190e-06, device='cuda:0'), tensor(3.6997e-06, device='cuda:0'), tensor(9.5206e-06, device='cuda:0'), tensor(4.5779e-06, device='cuda:0'), tensor(5.5068e-06, device='cuda:0'), tensor(7.8100e-06, device='cuda:0'), tensor(8.5493e-06, device='cuda:0'), tensor(1.7572e-06, device='cuda:0'), tensor(1.4197e-06, device='cuda:0'), tensor(6.1395e-06, device='cuda:0'), tensor(8.4070e-06, device='cuda:0'), tensor(4.7034e-06, device='cuda:0'), tensor(1.2754e-05, device='cuda:0'), tensor(2.2301e-06, device='cuda:0'), tensor(8.1571e-06, device='cuda:0'), tensor(1.2230e-06, device='cuda:0'), tensor(1.1350e-06, device='cuda:0'), tensor(5.6532e-06, device='cuda:0'), tensor(6.2457e-06, device='cuda:0'), tensor(7.1049e-06, device='cuda:0'), tensor(1.3674e-05, device='cuda:0'), tensor(6.9293e-06, device='cuda:0'), tensor(1.5244e-05, device='cuda:0'), tensor(5.8411e-06, device='cuda:0'), tensor(5.6045e-06, device='cuda:0'), tensor(1.6455e-05, device='cuda:0'), tensor(1.6731e-05, device='cuda:0'), tensor(7.9046e-06, device='cuda:0'), tensor(1.6044e-05, device='cuda:0'), tensor(1.1425e-05, device='cuda:0'), tensor(1.2880e-05, device='cuda:0'), tensor(2.6871e-05, device='cuda:0'), tensor(1.2516e-05, device='cuda:0'), tensor(1.3821e-05, device='cuda:0'), tensor(1.9907e-05, device='cuda:0'), tensor(2.2908e-05, device='cuda:0'), tensor(1.7364e-05, device='cuda:0'), tensor(1.6242e-05, device='cuda:0'), tensor(2.0021e-05, device='cuda:0'), tensor(3.4948e-05, device='cuda:0'), tensor(2.0132e-05, device='cuda:0'), tensor(2.3418e-05, device='cuda:0'), tensor(7.0262e-06, device='cuda:0'), tensor(5.2404e-05, device='cuda:0'), tensor(3.4363e-05, device='cuda:0'), tensor(2.6714e-05, device='cuda:0'), tensor(2.8636e-05, device='cuda:0'), tensor(2.2159e-05, device='cuda:0'), tensor(2.8421e-05, device='cuda:0'), tensor(6.2896e-05, device='cuda:0'), tensor(2.4036e-05, device='cuda:0'), tensor(5.0555e-05, device='cuda:0'), tensor(3.6201e-05, device='cuda:0'), tensor(6.4401e-05, device='cuda:0'), tensor(6.0667e-05, device='cuda:0'), tensor(0.0001, device='cuda:0'), tensor(2.4909e-05, device='cuda:0'), tensor(4.9849e-05, device='cuda:0'), tensor(4.6544e-05, device='cuda:0'), tensor(5.5756e-05, device='cuda:0'), tensor(8.8108e-05, device='cuda:0'), tensor(5.6848e-05, device='cuda:0'), tensor(0.0001, device='cuda:0'), tensor(0.0004, device='cuda:0'), tensor(7.5598e-05, device='cuda:0'), tensor(0.0001, device='cuda:0'), tensor(0.0008, device='cuda:0'), tensor(0.0009, device='cuda:0'), tensor(0.0015, device='cuda:0'), tensor(0.0004, device='cuda:0'), tensor(0.0003, device='cuda:0'), tensor(0.0004, device='cuda:0'), tensor(0.0003, device='cuda:0'), tensor(0.0002, device='cuda:0'), tensor(0.0009, device='cuda:0'), tensor(0.0007, device='cuda:0'), tensor(0.0012, device='cuda:0'), tensor(0.0005, device='cuda:0'), tensor(8.1106e-05, device='cuda:0'), tensor(8.8212e-05, device='cuda:0'), tensor(0.0001, device='cuda:0'), tensor(0.0002, device='cuda:0'), tensor(0.0002, device='cuda:0'), tensor(0.0004, device='cuda:0'), tensor(0.0002, device='cuda:0'), tensor(0.0003, device='cuda:0'), tensor(0.0003, device='cuda:0'), tensor(0.0002, device='cuda:0'), tensor(0.0008, device='cuda:0'), tensor(0.0008, device='cuda:0'), tensor(0.0009, device='cuda:0'), tensor(0.0005, device='cuda:0'), tensor(0.0007, device='cuda:0'), tensor(0.0008, device='cuda:0'), tensor(0.0012, device='cuda:0'), tensor(0.0012, device='cuda:0'), tensor(0.0009, device='cuda:0'), tensor(0.0014, device='cuda:0'), tensor(0.0009, device='cuda:0'), tensor(0.0013, device='cuda:0'), tensor(0.0015, device='cuda:0'), tensor(0.0012, device='cuda:0'), tensor(0.0017, device='cuda:0'), tensor(0.0022, device='cuda:0'), tensor(0.0025, device='cuda:0'), tensor(0.0018, device='cuda:0'), tensor(0.0020, device='cuda:0'), tensor(0.0018, device='cuda:0'), tensor(0.0020, device='cuda:0'), tensor(0.0022, device='cuda:0'), tensor(0.0031, device='cuda:0'), tensor(0.0038, device='cuda:0'), tensor(0.0041, device='cuda:0'), tensor(0.0060, device='cuda:0'), tensor(0.0079, device='cuda:0'), tensor(0.0105, device='cuda:0'), tensor(0.0161, device='cuda:0'), tensor(0.0269, device='cuda:0'), tensor(0.0471, device='cuda:0'), tensor(0.0575, device='cuda:0'), tensor(0.0307, device='cuda:0'), tensor(0.0819, device='cuda:0'), tensor(0.0443, device='cuda:0'), tensor(0.1014, device='cuda:0'), tensor(0.0550, device='cuda:0'), tensor(0.1180, device='cuda:0'), tensor(0.1437, device='cuda:0'), tensor(0.0326, device='cuda:0'), tensor(0.0796, device='cuda:0'), tensor(0.0679, device='cuda:0'), tensor(0.1916, device='cuda:0'), tensor(0.0457, device='cuda:0'), tensor(0.1098, device='cuda:0'), tensor(0.1080, device='cuda:0'), tensor(0.1557, device='cuda:0'), tensor(0.0637, device='cuda:0'), tensor(0.1738, device='cuda:0'), tensor(0.2863, device='cuda:0'), tensor(0.0049, device='cuda:0'), tensor(0.0160, device='cuda:0'), tensor(0.0148, device='cuda:0'), tensor(0.0142, device='cuda:0'), tensor(0.0319, device='cuda:0'), tensor(0.0511, device='cuda:0'), tensor(0.0387, device='cuda:0'), tensor(0.0646, device='cuda:0'), tensor(0.0969, device='cuda:0'), tensor(0.0584, device='cuda:0'), tensor(0.1181, device='cuda:0'), tensor(0.1682, device='cuda:0'), tensor(0.0881, device='cuda:0'), tensor(0.1111, device='cuda:0'), tensor(0.1298, device='cuda:0'), tensor(0.2119, device='cuda:0'), tensor(0.0100, device='cuda:0'), tensor(0.0320, device='cuda:0'), tensor(0.0744, device='cuda:0'), tensor(0.0869, device='cuda:0'), tensor(0.1567, device='cuda:0'), tensor(0.0984, device='cuda:0'), tensor(0.0735, device='cuda:0'), tensor(0.1089, device='cuda:0'), tensor(0.2016, device='cuda:0'), tensor(0.1823, device='cuda:0'), tensor(0.2159, device='cuda:0'), tensor(0.0841, device='cuda:0'), tensor(0.2148, device='cuda:0'), tensor(0.1794, device='cuda:0'), tensor(0.2077, device='cuda:0'), tensor(0.1331, device='cuda:0'), tensor(0.1931, device='cuda:0'), tensor(0.2651, device='cuda:0'), tensor(0.1087, device='cuda:0'), tensor(0.0576, device='cuda:0'), tensor(0.2501, device='cuda:0'), tensor(0.3643, device='cuda:0'), tensor(0.0036, device='cuda:0'), tensor(0.0092, device='cuda:0'), tensor(0.0036, device='cuda:0'), tensor(0.0063, device='cuda:0'), tensor(0.0064, device='cuda:0'), tensor(0.0177, device='cuda:0'), tensor(0.0075, device='cuda:0'), tensor(0.0450, device='cuda:0'), tensor(0.0022, device='cuda:0'), tensor(0.0045, device='cuda:0'), tensor(0.0058, device='cuda:0'), tensor(0.0126, device='cuda:0'), tensor(0.0192, device='cuda:0'), tensor(0.0187, device='cuda:0'), tensor(0.0182, device='cuda:0'), tensor(0.0169, device='cuda:0'), tensor(0.0213, device='cuda:0'), tensor(0.0186, device='cuda:0'), tensor(0.0166, device='cuda:0'), tensor(0.0200, device='cuda:0'), tensor(0.0152, device='cuda:0'), tensor(0.0161, device='cuda:0'), tensor(0.0180, device='cuda:0'), tensor(0.0212, device='cuda:0'), tensor(0.0208, device='cuda:0'), tensor(0.0186, device='cuda:0'), tensor(0.0172, device='cuda:0'), tensor(0.0195, device='cuda:0'), tensor(0.0189, device='cuda:0'), tensor(0.0151, device='cuda:0'), tensor(0.0158, device='cuda:0'), tensor(0.0181, device='cuda:0'), tensor(0.0183, device='cuda:0'), tensor(0.0162, device='cuda:0'), tensor(0.0172, device='cuda:0'), tensor(0.0159, device='cuda:0'), tensor(0.0150, device='cuda:0'), tensor(0.0169, device='cuda:0'), tensor(0.0194, device='cuda:0'), tensor(0.0174, device='cuda:0'), tensor(0.0175, device='cuda:0'), tensor(0.0202, device='cuda:0'), tensor(0.0167, device='cuda:0'), tensor(0.0181, device='cuda:0'), tensor(0.0189, device='cuda:0'), tensor(0.0165, device='cuda:0'), tensor(0.0168, device='cuda:0'), tensor(0.0214, device='cuda:0'), tensor(0.0183, device='cuda:0'), tensor(0.0172, device='cuda:0'), tensor(0.0191, device='cuda:0'), tensor(0.0188, device='cuda:0'), tensor(0.0174, device='cuda:0'), tensor(0.0178, device='cuda:0'), tensor(0.0161, device='cuda:0'), tensor(0.0196, device='cuda:0'), tensor(0.0221, device='cuda:0'), tensor(0.0184, device='cuda:0'), tensor(0.0202, device='cuda:0'), tensor(0.0191, device='cuda:0'), tensor(0.0180, device='cuda:0'), tensor(0.0171, device='cuda:0'), tensor(0.0194, device='cuda:0'), tensor(0.0192, device='cuda:0'), tensor(0.0178, device='cuda:0'), tensor(0.0184, device='cuda:0'), tensor(0.0175, device='cuda:0'), tensor(0.0154, device='cuda:0'), tensor(0.0179, device='cuda:0'), tensor(0.0174, device='cuda:0'), tensor(0.0169, device='cuda:0'), tensor(0.0191, device='cuda:0'), tensor(0.0172, device='cuda:0'), tensor(0.0185, device='cuda:0'), tensor(0.0201, device='cuda:0'), tensor(0.0182, device='cuda:0'), tensor(0.0194, device='cuda:0'), tensor(0.0160, device='cuda:0'), tensor(0.0183, device='cuda:0'), tensor(0.0138, device='cuda:0'), tensor(0.0167, device='cuda:0'), tensor(0.0223, device='cuda:0'), tensor(0.0173, device='cuda:0'), tensor(0.0192, device='cuda:0'), tensor(0.0179, device='cuda:0'), tensor(0.0221, device='cuda:0'), tensor(0.0205, device='cuda:0'), tensor(0.0164, device='cuda:0'), tensor(0.0151, device='cuda:0'), tensor(0.0173, device='cuda:0'), tensor(0.0203, device='cuda:0'), tensor(0.0208, device='cuda:0'), tensor(0.0242, device='cuda:0'), tensor(0.0425, device='cuda:0'), tensor(0.0298, device='cuda:0'), tensor(0.0555, device='cuda:0'), tensor(0.0673, device='cuda:0'), tensor(0.0912, device='cuda:0'), tensor(0.1226, device='cuda:0'), tensor(0.1210, device='cuda:0'), tensor(0.1168, device='cuda:0'), tensor(0.2114, device='cuda:0'), tensor(0.0229, device='cuda:0'), tensor(0.0732, device='cuda:0'), tensor(0.1141, device='cuda:0'), tensor(0.0358, device='cuda:0'), tensor(0.0803, device='cuda:0'), tensor(0.0985, device='cuda:0'), tensor(0.1078, device='cuda:0'), tensor(0.1494, device='cuda:0'), tensor(0.0617, device='cuda:0'), tensor(0.0731, device='cuda:0'), tensor(0.0613, device='cuda:0'), tensor(0.1263, device='cuda:0'), tensor(0.0613, device='cuda:0'), tensor(0.1154, device='cuda:0'), tensor(0.1013, device='cuda:0'), tensor(0.0798, device='cuda:0'), tensor(0.1089, device='cuda:0'), tensor(0.2091, device='cuda:0'), tensor(0.0567, device='cuda:0'), tensor(0.1483, device='cuda:0'), tensor(0.0303, device='cuda:0'), tensor(0.1029, device='cuda:0'), tensor(0.0860, device='cuda:0'), tensor(0.1280, device='cuda:0'), tensor(0.1143, device='cuda:0'), tensor(0.1437, device='cuda:0'), tensor(0.0807, device='cuda:0'), tensor(0.1751, device='cuda:0'), tensor(0.0940, device='cuda:0'), tensor(0.1137, device='cuda:0'), tensor(0.2234, device='cuda:0'), tensor(0.1395, device='cuda:0'), tensor(0.1360, device='cuda:0'), tensor(0.0964, device='cuda:0'), tensor(0.1405, device='cuda:0'), tensor(0.1322, device='cuda:0'), tensor(0.2124, device='cuda:0'), tensor(0.1433, device='cuda:0'), tensor(0.0979, device='cuda:0'), tensor(0.2286, device='cuda:0'), tensor(0.0722, device='cuda:0'), tensor(0.2850, device='cuda:0'), tensor(0.2127, device='cuda:0'), tensor(0.1777, device='cuda:0'), tensor(0.1027, device='cuda:0'), tensor(0.1705, device='cuda:0'), tensor(0.1682, device='cuda:0'), tensor(0.2076, device='cuda:0'), tensor(0.1171, device='cuda:0'), tensor(0.2251, device='cuda:0'), tensor(0.1744, device='cuda:0'), tensor(0.2764, device='cuda:0'), tensor(0.2272, device='cuda:0'), tensor(0.1125, device='cuda:0'), tensor(0.0176, device='cuda:0'), tensor(1.2918, device='cuda:0'), tensor(0.0328, device='cuda:0'), tensor(0.0346, device='cuda:0'), tensor(0.0278, device='cuda:0'), tensor(0.0191, device='cuda:0'), tensor(0.0272, device='cuda:0'), tensor(0.0226, device='cuda:0'), tensor(0.0215, device='cuda:0'), tensor(0.0270, device='cuda:0'), tensor(0.0286, device='cuda:0'), tensor(0.0266, device='cuda:0'), tensor(0.0326, device='cuda:0'), tensor(0.0255, device='cuda:0'), tensor(0.0272, device='cuda:0'), tensor(0.0347, device='cuda:0'), tensor(0.0617, device='cuda:0'), tensor(0.0372, device='cuda:0'), tensor(0.0449, device='cuda:0'), tensor(0.0551, device='cuda:0'), tensor(0.0617, device='cuda:0'), tensor(0.0484, device='cuda:0'), tensor(0.0588, device='cuda:0'), tensor(0.0874, device='cuda:0'), tensor(0.0269, device='cuda:0'), tensor(0.0553, device='cuda:0'), tensor(0.0639, device='cuda:0'), tensor(0.0700, device='cuda:0'), tensor(0.0676, device='cuda:0'), tensor(0.0406, device='cuda:0'), tensor(0.0671, device='cuda:0'), tensor(0.0699, device='cuda:0'), tensor(0.2361, device='cuda:0'), tensor(0.2016, device='cuda:0'), tensor(0.0199, device='cuda:0'), tensor(0.0397, device='cuda:0'), tensor(0.0470, device='cuda:0'), tensor(0.0340, device='cuda:0'), tensor(0.0545, device='cuda:0'), tensor(0.0495, device='cuda:0'), tensor(0.0470, device='cuda:0'), tensor(0.0446, device='cuda:0'), tensor(0.0689, device='cuda:0'), tensor(0.0379, device='cuda:0'), tensor(0.0616, device='cuda:0'), tensor(0.0513, device='cuda:0'), tensor(0.0597, device='cuda:0'), tensor(0.0698, device='cuda:0'), tensor(0.0906, device='cuda:0'), tensor(0.0729, device='cuda:0'), tensor(0.1108, device='cuda:0'), tensor(0.0912, device='cuda:0'), tensor(0.0834, device='cuda:0'), tensor(0.1138, device='cuda:0'), tensor(0.1197, device='cuda:0'), tensor(0.0980, device='cuda:0'), tensor(0.0864, device='cuda:0'), tensor(0.1081, device='cuda:0'), tensor(0.0814, device='cuda:0'), tensor(0.1048, device='cuda:0'), tensor(0.1754, device='cuda:0'), tensor(0.0812, device='cuda:0'), tensor(0.1155, device='cuda:0'), tensor(0.0763, device='cuda:0'), tensor(0.1110, device='cuda:0'), tensor(0.0879, device='cuda:0'), tensor(0.1364, device='cuda:0'), tensor(0.1445, device='cuda:0'), tensor(0.1491, device='cuda:0'), tensor(0.1867, device='cuda:0'), tensor(0.0814, device='cuda:0'), tensor(0.0962, device='cuda:0'), tensor(0.0916, device='cuda:0'), tensor(0.1347, device='cuda:0'), tensor(0.1520, device='cuda:0'), tensor(0.1775, device='cuda:0'), tensor(0.0866, device='cuda:0'), tensor(0.1844, device='cuda:0'), tensor(0.0956, device='cuda:0'), tensor(0.1421, device='cuda:0'), tensor(0.2478, device='cuda:0'), tensor(0.1837, device='cuda:0'), tensor(0.1740, device='cuda:0'), tensor(0.1353, device='cuda:0'), tensor(0.1143, device='cuda:0'), tensor(0.0916, device='cuda:0'), tensor(0.1502, device='cuda:0'), tensor(0.1063, device='cuda:0'), tensor(0.1325, device='cuda:0'), tensor(0.1576, device='cuda:0'), tensor(0.1608, device='cuda:0'), tensor(0.1870, device='cuda:0'), tensor(0.0965, device='cuda:0'), tensor(0.1584, device='cuda:0'), tensor(0.1117, device='cuda:0'), tensor(0.1339, device='cuda:0'), tensor(0.0844, device='cuda:0'), tensor(0.1784, device='cuda:0'), tensor(0.0853, device='cuda:0'), tensor(0.1373, device='cuda:0'), tensor(0.1572, device='cuda:0'), tensor(0.1764, device='cuda:0'), tensor(0.1469, device='cuda:0'), tensor(0.1471, device='cuda:0'), tensor(0.1178, device='cuda:0'), tensor(0.1485, device='cuda:0'), tensor(0.2046, device='cuda:0'), tensor(0.2311, device='cuda:0'), tensor(0.1585, device='cuda:0'), tensor(0.1919, device='cuda:0'), tensor(0.1695, device='cuda:0'), tensor(0.1428, device='cuda:0'), tensor(0.1956, device='cuda:0'), tensor(0.1343, device='cuda:0'), tensor(0.1662, device='cuda:0'), tensor(0.1621, device='cuda:0'), tensor(0.1297, device='cuda:0'), tensor(0.1668, device='cuda:0'), tensor(0.1073, device='cuda:0'), tensor(0.1238, device='cuda:0'), tensor(0.2243, device='cuda:0'), tensor(0.1854, device='cuda:0'), tensor(0.1211, device='cuda:0'), tensor(0.1663, device='cuda:0'), tensor(0.1591, device='cuda:0'), tensor(0.1299, device='cuda:0'), tensor(0.0983, device='cuda:0'), tensor(0.1460, device='cuda:0'), tensor(0.1491, device='cuda:0'), tensor(0.1898, device='cuda:0'), tensor(0.1591, device='cuda:0'), tensor(0.2101, device='cuda:0'), tensor(0.1938, device='cuda:0'), tensor(0.2282, device='cuda:0'), tensor(0.2187, device='cuda:0'), tensor(0.3178, device='cuda:0'), tensor(0.1861, device='cuda:0'), tensor(0.1385, device='cuda:0'), tensor(0.0914, device='cuda:0'), tensor(0.2992, device='cuda:0'), tensor(0.0567, device='cuda:0'), tensor(0.2979, device='cuda:0'), tensor(0.1449, device='cuda:0'), tensor(0.1221, device='cuda:0'), tensor(0.1118, device='cuda:0'), tensor(0.0986, device='cuda:0'), tensor(0.1249, device='cuda:0'), tensor(0.0842, device='cuda:0'), tensor(0.1652, device='cuda:0'), tensor(0.1825, device='cuda:0'), tensor(0.1917, device='cuda:0'), tensor(0.1669, device='cuda:0'), tensor(0.1051, device='cuda:0'), tensor(0.1237, device='cuda:0'), tensor(0.1425, device='cuda:0'), tensor(0.1533, device='cuda:0'), tensor(0.1557, device='cuda:0'), tensor(0.1192, device='cuda:0'), tensor(0.1406, device='cuda:0'), tensor(0.0973, device='cuda:0'), tensor(0.1426, device='cuda:0'), tensor(0.1597, device='cuda:0'), tensor(0.1397, device='cuda:0'), tensor(0.1038, device='cuda:0'), tensor(0.1416, device='cuda:0'), tensor(0.1105, device='cuda:0'), tensor(0.1971, device='cuda:0'), tensor(0.1952, device='cuda:0'), tensor(0.1243, device='cuda:0'), tensor(0.1360, device='cuda:0'), tensor(0.2165, device='cuda:0'), tensor(0.0998, device='cuda:0'), tensor(0.1191, device='cuda:0'), tensor(0.1329, device='cuda:0'), tensor(0.0984, device='cuda:0'), tensor(0.1870, device='cuda:0'), tensor(0.1195, device='cuda:0'), tensor(0.0956, device='cuda:0'), tensor(0.1244, device='cuda:0'), tensor(0.1242, device='cuda:0'), tensor(0.1723, device='cuda:0'), tensor(0.1605, device='cuda:0'), tensor(0.1693, device='cuda:0'), tensor(0.1237, device='cuda:0'), tensor(0.1060, device='cuda:0'), tensor(0.1103, device='cuda:0'), tensor(0.1529, device='cuda:0'), tensor(0.0995, device='cuda:0'), tensor(0.1722, device='cuda:0'), tensor(0.1443, device='cuda:0'), tensor(0.1096, device='cuda:0'), tensor(0.1381, device='cuda:0'), tensor(0.1298, device='cuda:0'), tensor(0.1546, device='cuda:0'), tensor(0.1660, device='cuda:0'), tensor(0.1348, device='cuda:0'), tensor(0.1516, device='cuda:0'), tensor(0.1344, device='cuda:0'), tensor(0.1831, device='cuda:0'), tensor(0.1620, device='cuda:0'), tensor(0.1136, device='cuda:0'), tensor(0.1942, device='cuda:0'), tensor(0.1901, device='cuda:0'), tensor(0.1859, device='cuda:0'), tensor(0.2065, device='cuda:0'), tensor(0.2068, device='cuda:0'), tensor(0.1825, device='cuda:0'), tensor(0.1568, device='cuda:0'), tensor(0.1662, device='cuda:0'), tensor(0.1889, device='cuda:0'), tensor(0.1366, device='cuda:0'), tensor(0.2011, device='cuda:0'), tensor(0.2331, device='cuda:0'), tensor(0.1743, device='cuda:0'), tensor(0.1570, device='cuda:0'), tensor(0.1760, device='cuda:0'), tensor(0.1620, device='cuda:0'), tensor(0.1634, device='cuda:0'), tensor(0.2123, device='cuda:0'), tensor(0.2121, device='cuda:0'), tensor(0.1629, device='cuda:0'), tensor(0.1748, device='cuda:0'), tensor(0.1606, device='cuda:0'), tensor(0.1538, device='cuda:0'), tensor(0.1484, device='cuda:0'), tensor(0.2257, device='cuda:0'), tensor(0.1278, device='cuda:0'), tensor(0.2414, device='cuda:0'), tensor(0.2498, device='cuda:0'), tensor(0.1982, device='cuda:0'), tensor(0.1981, device='cuda:0'), tensor(0.1669, device='cuda:0'), tensor(0.1519, device='cuda:0'), tensor(0.1836, device='cuda:0'), tensor(0.1914, device='cuda:0'), tensor(0.1747, device='cuda:0'), tensor(0.1641, device='cuda:0'), tensor(0.2222, device='cuda:0'), tensor(0.1432, device='cuda:0'), tensor(0.2125, device='cuda:0'), tensor(0.1730, device='cuda:0'), tensor(0.1266, device='cuda:0'), tensor(0.3019, device='cuda:0'), tensor(0.1473, device='cuda:0'), tensor(0.1652, device='cuda:0'), tensor(0.1528, device='cuda:0'), tensor(0.2022, device='cuda:0'), tensor(0.1957, device='cuda:0'), tensor(0.2105, device='cuda:0'), tensor(0.2161, device='cuda:0'), tensor(0.2845, device='cuda:0'), tensor(0.2609, device='cuda:0'), tensor(0.2142, device='cuda:0'), tensor(0.1689, device='cuda:0'), tensor(0.1675, device='cuda:0'), tensor(0.2325, device='cuda:0'), tensor(0.2063, device='cuda:0'), tensor(0.2189, device='cuda:0'), tensor(0.2558, device='cuda:0'), tensor(0.1654, device='cuda:0'), tensor(0.2298, device='cuda:0'), tensor(0.1868, device='cuda:0'), tensor(0.1858, device='cuda:0'), tensor(0.2222, device='cuda:0'), tensor(0.1945, device='cuda:0'), tensor(0.2222, device='cuda:0'), tensor(0.1987, device='cuda:0'), tensor(0.2699, device='cuda:0'), tensor(0.1635, device='cuda:0'), tensor(0.2195, device='cuda:0'), tensor(0.1441, device='cuda:0'), tensor(0.1614, device='cuda:0'), tensor(0.1242, device='cuda:0'), tensor(0.1461, device='cuda:0'), tensor(0.1563, device='cuda:0'), tensor(0.1660, device='cuda:0'), tensor(0.2119, device='cuda:0'), tensor(0.1862, device='cuda:0'), tensor(0.2037, device='cuda:0'), tensor(0.2938, device='cuda:0'), tensor(0.1963, device='cuda:0'), tensor(0.1148, device='cuda:0'), tensor(0.6809, device='cuda:0'), tensor(0.3676, device='cuda:0'), tensor(1.3224, device='cuda:0'), tensor(1.1945, device='cuda:0'), tensor(0.9557, device='cuda:0'), tensor(1.0043, device='cuda:0'), tensor(0.4241, device='cuda:0'), tensor(0.0958, device='cuda:0'), tensor(0.5170, device='cuda:0'), tensor(0.8311, device='cuda:0'), tensor(1.0077, device='cuda:0'), tensor(1.0137, device='cuda:0'), tensor(1.0815, device='cuda:0'), tensor(1.0335, device='cuda:0'), tensor(1.1734, device='cuda:0'), tensor(1.1233, device='cuda:0'), tensor(1.1932, device='cuda:0'), tensor(1.1677, device='cuda:0'), tensor(1.1521, device='cuda:0'), tensor(1.1767, device='cuda:0'), tensor(1.1659, device='cuda:0'), tensor(1.1727, device='cuda:0'), tensor(1.1416, device='cuda:0'), tensor(1.1457, device='cuda:0'), tensor(1.1997, device='cuda:0'), tensor(1.1325, device='cuda:0'), tensor(1.2004, device='cuda:0'), tensor(1.1237, device='cuda:0'), tensor(1.1405, device='cuda:0'), tensor(1.1813, device='cuda:0'), tensor(1.1835, device='cuda:0'), tensor(1.1377, device='cuda:0'), tensor(1.1637, device='cuda:0'), tensor(1.1735, device='cuda:0'), tensor(1.1245, device='cuda:0'), tensor(1.1956, device='cuda:0'), tensor(1.1717, device='cuda:0'), tensor(1.1566, device='cuda:0'), tensor(1.2203, device='cuda:0'), tensor(1.1432, device='cuda:0'), tensor(1.1945, device='cuda:0'), tensor(1.1555, device='cuda:0'), tensor(1.1414, device='cuda:0'), tensor(1.1057, device='cuda:0'), tensor(1.3917, device='cuda:0'), tensor(1.3524, device='cuda:0'), tensor(1.3502, device='cuda:0'), tensor(1.3494, device='cuda:0'), tensor(1.3611, device='cuda:0'), tensor(1.3310, device='cuda:0'), tensor(1.3374, device='cuda:0'), tensor(1.3815, device='cuda:0'), tensor(1.4001, device='cuda:0'), tensor(1.3698, device='cuda:0'), tensor(1.3775, device='cuda:0'), tensor(1.3645, device='cuda:0'), tensor(1.3351, device='cuda:0'), tensor(1.3749, device='cuda:0'), tensor(1.3898, device='cuda:0'), tensor(1.3798, device='cuda:0'), tensor(1.3596, device='cuda:0'), tensor(1.4091, device='cuda:0'), tensor(1.3442, device='cuda:0'), tensor(1.3425, device='cuda:0'), tensor(1.3724, device='cuda:0'), tensor(1.3776, device='cuda:0'), tensor(1.3214, device='cuda:0'), tensor(1.3745, device='cuda:0'), tensor(1.3163, device='cuda:0'), tensor(1.3639, device='cuda:0'), tensor(1.3452, device='cuda:0'), tensor(1.3478, device='cuda:0'), tensor(1.3693, device='cuda:0'), tensor(1.3663, device='cuda:0'), tensor(1.3432, device='cuda:0'), tensor(1.3595, device='cuda:0'), tensor(1.3945, device='cuda:0'), tensor(1.3896, device='cuda:0'), tensor(1.3504, device='cuda:0'), tensor(1.3664, device='cuda:0'), tensor(1.3597, device='cuda:0'), tensor(1.3871, device='cuda:0'), tensor(1.4029, device='cuda:0'), tensor(1.3973, device='cuda:0'), tensor(1.3336, device='cuda:0'), tensor(1.3768, device='cuda:0'), tensor(1.3658, device='cuda:0'), tensor(1.3264, device='cuda:0'), tensor(1.3774, device='cuda:0'), tensor(1.3686, device='cuda:0'), tensor(1.3558, device='cuda:0'), tensor(1.3174, device='cuda:0'), tensor(1.3430, device='cuda:0'), tensor(1.3741, device='cuda:0'), tensor(1.3257, device='cuda:0'), tensor(1.3313, device='cuda:0'), tensor(1.3726, device='cuda:0'), tensor(1.3173, device='cuda:0'), tensor(1.3432, device='cuda:0'), tensor(1.3923, device='cuda:0'), tensor(1.3437, device='cuda:0'), tensor(1.3620, device='cuda:0'), tensor(1.3685, device='cuda:0'), tensor(1.3568, device='cuda:0'), tensor(1.4069, device='cuda:0'), tensor(1.3611, device='cuda:0'), tensor(1.3698, device='cuda:0'), tensor(1.3432, device='cuda:0'), tensor(1.3500, device='cuda:0'), tensor(1.3281, device='cuda:0'), tensor(1.3826, device='cuda:0'), tensor(1.3181, device='cuda:0'), tensor(1.3731, device='cuda:0'), tensor(1.3657, device='cuda:0'), tensor(1.3369, device='cuda:0'), tensor(1.2003, device='cuda:0'), tensor(1.2449, device='cuda:0'), tensor(1.1881, device='cuda:0'), tensor(1.1805, device='cuda:0'), tensor(1.2264, device='cuda:0'), tensor(1.1530, device='cuda:0'), tensor(1.2484, device='cuda:0'), tensor(1.2321, device='cuda:0'), tensor(1.2506, device='cuda:0'), tensor(1.2756, device='cuda:0'), tensor(1.2149, device='cuda:0'), tensor(1.2150, device='cuda:0'), tensor(1.2057, device='cuda:0'), tensor(1.2367, device='cuda:0'), tensor(1.1943, device='cuda:0'), tensor(1.1863, device='cuda:0'), tensor(1.2830, device='cuda:0'), tensor(1.2602, device='cuda:0'), tensor(1.2103, device='cuda:0'), tensor(1.1918, device='cuda:0'), tensor(1.1883, device='cuda:0'), tensor(1.2065, device='cuda:0'), tensor(1.1090, device='cuda:0'), tensor(1.1149, device='cuda:0'), tensor(1.1248, device='cuda:0'), tensor(1.1618, device='cuda:0'), tensor(1.1348, device='cuda:0'), tensor(1.1148, device='cuda:0'), tensor(1.0776, device='cuda:0'), tensor(1.0485, device='cuda:0'), tensor(1.1163, device='cuda:0'), tensor(0.9930, device='cuda:0'), tensor(0.8200, device='cuda:0'), tensor(1.0281, device='cuda:0'), tensor(1.9189, device='cuda:0'), tensor(1.9325, device='cuda:0'), tensor(1.9378, device='cuda:0'), tensor(1.8066, device='cuda:0'), tensor(1.9622, device='cuda:0'), tensor(1.9400, device='cuda:0'), tensor(1.7637, device='cuda:0'), tensor(2.0499, device='cuda:0'), tensor(1.9744, device='cuda:0'), tensor(1.9431, device='cuda:0'), tensor(2.0143, device='cuda:0'), tensor(1.6854, device='cuda:0'), tensor(1.5305, device='cuda:0'), tensor(1.5641, device='cuda:0'), tensor(1.5213, device='cuda:0'), tensor(1.0081, device='cuda:0'), tensor(1.8720, device='cuda:0'), tensor(1.3170, device='cuda:0'), tensor(1.3750, device='cuda:0'), tensor(1.5686, device='cuda:0'), tensor(1.1881, device='cuda:0'), tensor(1.2947, device='cuda:0'), tensor(1.6679, device='cuda:0'), tensor(1.6541, device='cuda:0'), tensor(1.1124, device='cuda:0'), tensor(0.5873, device='cuda:0'), tensor(0.3485, device='cuda:0'), tensor(0.2221, device='cuda:0'), tensor(0.2423, device='cuda:0'), tensor(0.2112, device='cuda:0'), tensor(0.2542, device='cuda:0'), tensor(0.2405, device='cuda:0'), tensor(0.2990, device='cuda:0'), tensor(0.3714, device='cuda:0'), tensor(0.2290, device='cuda:0'), tensor(0.2490, device='cuda:0'), tensor(0.2748, device='cuda:0'), tensor(0.3116, device='cuda:0'), tensor(0.2735, device='cuda:0'), tensor(0.3277, device='cuda:0'), tensor(0.2271, device='cuda:0'), tensor(0.3005, device='cuda:0'), tensor(0.3707, device='cuda:0'), tensor(0.4019, device='cuda:0'), tensor(0.4063, device='cuda:0'), tensor(0.3601, device='cuda:0'), tensor(0.2911, device='cuda:0'), tensor(0.2973, device='cuda:0'), tensor(0.4443, device='cuda:0'), tensor(0.3245, device='cuda:0'), tensor(0.3000, device='cuda:0'), tensor(0.2883, device='cuda:0'), tensor(0.3730, device='cuda:0'), tensor(0.2058, device='cuda:0'), tensor(0.2385, device='cuda:0'), tensor(0.2620, device='cuda:0'), tensor(0.3390, device='cuda:0'), tensor(0.2482, device='cuda:0'), tensor(0.2873, device='cuda:0'), tensor(0.3266, device='cuda:0'), tensor(0.2918, device='cuda:0'), tensor(0.3316, device='cuda:0'), tensor(0.1918, device='cuda:0'), tensor(0.3178, device='cuda:0'), tensor(0.2382, device='cuda:0'), tensor(0.2573, device='cuda:0'), tensor(0.2320, device='cuda:0'), tensor(0.2988, device='cuda:0'), tensor(0.2505, device='cuda:0'), tensor(0.3801, device='cuda:0'), tensor(0.1616, device='cuda:0'), tensor(0.2375, device='cuda:0'), tensor(0.2770, device='cuda:0'), tensor(0.3140, device='cuda:0'), tensor(0.3183, device='cuda:0'), tensor(0.2076, device='cuda:0'), tensor(0.2128, device='cuda:0'), tensor(0.1874, device='cuda:0'), tensor(0.2369, device='cuda:0'), tensor(0.2072, device='cuda:0'), tensor(0.2811, device='cuda:0'), tensor(0.2580, device='cuda:0'), tensor(0.1798, device='cuda:0'), tensor(0.2510, device='cuda:0'), tensor(0.2053, device='cuda:0'), tensor(0.3510, device='cuda:0'), tensor(0.2523, device='cuda:0'), tensor(0.1705, device='cuda:0'), tensor(0.2302, device='cuda:0'), tensor(0.1748, device='cuda:0'), tensor(0.2147, device='cuda:0'), tensor(0.2795, device='cuda:0'), tensor(0.2305, device='cuda:0'), tensor(0.2585, device='cuda:0'), tensor(0.2354, device='cuda:0'), tensor(0.1854, device='cuda:0'), tensor(0.3763, device='cuda:0'), tensor(0.1692, device='cuda:0'), tensor(0.2689, device='cuda:0'), tensor(0.3318, device='cuda:0'), tensor(0.1826, device='cuda:0'), tensor(0.1321, device='cuda:0'), tensor(0.1496, device='cuda:0'), tensor(0.1274, device='cuda:0'), tensor(0.1707, device='cuda:0'), tensor(0.1252, device='cuda:0'), tensor(0.1452, device='cuda:0'), tensor(0.1530, device='cuda:0'), tensor(0.1738, device='cuda:0'), tensor(0.2161, device='cuda:0'), tensor(0.2477, device='cuda:0'), tensor(0.2168, device='cuda:0'), tensor(0.2052, device='cuda:0'), tensor(0.2408, device='cuda:0'), tensor(0.2395, device='cuda:0'), tensor(0.2321, device='cuda:0'), tensor(0.1941, device='cuda:0'), tensor(0.2000, device='cuda:0'), tensor(0.2797, device='cuda:0'), tensor(0.3154, device='cuda:0'), tensor(0.2976, device='cuda:0'), tensor(0.1756, device='cuda:0'), tensor(0.2407, device='cuda:0'), tensor(0.2582, device='cuda:0'), tensor(0.2230, device='cuda:0'), tensor(0.2389, device='cuda:0'), tensor(0.2628, device='cuda:0'), tensor(0.2398, device='cuda:0'), tensor(0.2776, device='cuda:0'), tensor(0.1841, device='cuda:0'), tensor(0.2294, device='cuda:0'), tensor(0.2175, device='cuda:0'), tensor(0.2326, device='cuda:0'), tensor(0.2407, device='cuda:0'), tensor(0.2058, device='cuda:0'), tensor(0.2916, device='cuda:0'), tensor(0.1635, device='cuda:0'), tensor(0.2890, device='cuda:0'), tensor(0.3052, device='cuda:0'), tensor(0.2430, device='cuda:0'), tensor(0.3441, device='cuda:0'), tensor(0.3331, device='cuda:0'), tensor(0.2423, device='cuda:0'), tensor(0.2230, device='cuda:0'), tensor(0.2963, device='cuda:0'), tensor(0.2311, device='cuda:0'), tensor(0.1997, device='cuda:0'), tensor(0.2336, device='cuda:0'), tensor(0.1843, device='cuda:0'), tensor(0.2545, device='cuda:0'), tensor(0.3001, device='cuda:0'), tensor(0.2463, device='cuda:0'), tensor(0.2336, device='cuda:0'), tensor(0.2056, device='cuda:0'), tensor(0.1820, device='cuda:0'), tensor(0.2622, device='cuda:0'), tensor(0.2996, device='cuda:0'), tensor(0.2076, device='cuda:0'), tensor(0.2485, device='cuda:0'), tensor(0.2055, device='cuda:0'), tensor(0.2929, device='cuda:0'), tensor(0.2214, device='cuda:0'), tensor(0.2927, device='cuda:0'), tensor(0.3718, device='cuda:0'), tensor(0.2179, device='cuda:0'), tensor(0.2767, device='cuda:0'), tensor(0.3741, device='cuda:0'), tensor(0.3413, device='cuda:0'), tensor(0.2232, device='cuda:0'), tensor(0.3484, device='cuda:0'), tensor(0.2946, device='cuda:0'), tensor(0.3469, device='cuda:0'), tensor(0.2485, device='cuda:0'), tensor(0.2423, device='cuda:0'), tensor(0.2309, device='cuda:0'), tensor(0.2395, device='cuda:0'), tensor(0.2379, device='cuda:0'), tensor(0.3492, device='cuda:0'), tensor(0.2232, device='cuda:0'), tensor(0.2220, device='cuda:0'), tensor(0.2426, device='cuda:0'), tensor(0.2378, device='cuda:0'), tensor(0.2312, device='cuda:0'), tensor(0.2317, device='cuda:0'), tensor(0.2783, device='cuda:0'), tensor(0.2709, device='cuda:0'), tensor(0.3080, device='cuda:0'), tensor(0.3046, device='cuda:0'), tensor(0.3025, device='cuda:0'), tensor(0.2580, device='cuda:0'), tensor(0.2480, device='cuda:0'), tensor(0.1888, device='cuda:0'), tensor(0.3129, device='cuda:0'), tensor(0.2824, device='cuda:0'), tensor(0.3768, device='cuda:0'), tensor(0.1704, device='cuda:0'), tensor(0.1548, device='cuda:0'), tensor(0.2047, device='cuda:0'), tensor(0.2369, device='cuda:0'), tensor(0.2111, device='cuda:0'), tensor(0.2018, device='cuda:0'), tensor(0.2307, device='cuda:0'), tensor(0.2039, device='cuda:0'), tensor(0.1980, device='cuda:0'), tensor(0.1748, device='cuda:0'), tensor(0.2937, device='cuda:0'), tensor(0.1987, device='cuda:0'), tensor(0.2728, device='cuda:0'), tensor(0.2745, device='cuda:0'), tensor(0.2633, device='cuda:0'), tensor(0.2751, device='cuda:0'), tensor(0.2304, device='cuda:0'), tensor(0.3032, device='cuda:0'), tensor(0.2058, device='cuda:0'), tensor(0.3794, device='cuda:0'), tensor(0.2320, device='cuda:0'), tensor(0.3301, device='cuda:0'), tensor(0.2777, device='cuda:0'), tensor(0.3117, device='cuda:0'), tensor(0.3140, device='cuda:0'), tensor(0.3221, device='cuda:0'), tensor(0.3258, device='cuda:0'), tensor(0.2821, device='cuda:0'), tensor(0.3503, device='cuda:0'), tensor(0.2104, device='cuda:0'), tensor(0.2863, device='cuda:0'), tensor(0.2525, device='cuda:0'), tensor(0.2789, device='cuda:0'), tensor(0.2585, device='cuda:0'), tensor(0.3106, device='cuda:0'), tensor(0.3437, device='cuda:0'), tensor(0.2042, device='cuda:0'), tensor(0.2744, device='cuda:0'), tensor(0.2218, device='cuda:0'), tensor(0.2993, device='cuda:0'), tensor(0.2441, device='cuda:0'), tensor(0.2396, device='cuda:0'), tensor(0.3887, device='cuda:0'), tensor(0.2593, device='cuda:0'), tensor(0.2720, device='cuda:0'), tensor(0.2965, device='cuda:0'), tensor(0.2781, device='cuda:0'), tensor(0.3120, device='cuda:0'), tensor(0.3476, device='cuda:0'), tensor(0.2933, device='cuda:0'), tensor(0.3080, device='cuda:0'), tensor(0.3412, device='cuda:0'), tensor(0.2973, device='cuda:0'), tensor(0.3223, device='cuda:0'), tensor(0.3576, device='cuda:0'), tensor(0.4042, device='cuda:0'), tensor(0.2731, device='cuda:0'), tensor(0.2734, device='cuda:0'), tensor(0.2973, device='cuda:0'), tensor(0.2775, device='cuda:0'), tensor(0.3770, device='cuda:0'), tensor(0.2905, device='cuda:0'), tensor(0.3735, device='cuda:0'), tensor(0.2941, device='cuda:0'), tensor(0.2968, device='cuda:0'), tensor(0.2985, device='cuda:0'), tensor(0.2924, device='cuda:0'), tensor(0.2449, device='cuda:0'), tensor(0.3078, device='cuda:0'), tensor(0.2763, device='cuda:0'), tensor(0.3105, device='cuda:0'), tensor(0.3300, device='cuda:0'), tensor(0.2747, device='cuda:0'), tensor(0.2390, device='cuda:0'), tensor(0.2877, device='cuda:0'), tensor(0.2369, device='cuda:0'), tensor(0.3725, device='cuda:0'), tensor(0.2628, device='cuda:0'), tensor(0.2325, device='cuda:0'), tensor(0.2418, device='cuda:0'), tensor(0.3405, device='cuda:0'), tensor(0.2592, device='cuda:0'), tensor(0.2882, device='cuda:0'), tensor(0.2963, device='cuda:0'), tensor(0.3350, device='cuda:0'), tensor(0.3403, device='cuda:0'), tensor(0.3264, device='cuda:0'), tensor(0.3294, device='cuda:0'), tensor(0.3532, device='cuda:0'), tensor(0.2961, device='cuda:0'), tensor(0.2827, device='cuda:0'), tensor(0.3207, device='cuda:0'), tensor(0.3218, device='cuda:0'), tensor(0.3314, device='cuda:0'), tensor(0.3112, device='cuda:0'), tensor(0.3405, device='cuda:0'), tensor(0.3226, device='cuda:0'), tensor(0.3125, device='cuda:0'), tensor(0.3386, device='cuda:0'), tensor(0.3257, device='cuda:0'), tensor(0.3393, device='cuda:0'), tensor(0.3448, device='cuda:0'), tensor(0.3629, device='cuda:0'), tensor(0.3521, device='cuda:0'), tensor(0.3209, device='cuda:0'), tensor(0.3139, device='cuda:0'), tensor(0.3384, device='cuda:0'), tensor(0.3072, device='cuda:0'), tensor(0.3179, device='cuda:0'), tensor(0.3001, device='cuda:0'), tensor(0.3330, device='cuda:0'), tensor(0.3241, device='cuda:0'), tensor(0.3228, device='cuda:0'), tensor(0.3191, device='cuda:0'), tensor(0.3158, device='cuda:0'), tensor(0.2859, device='cuda:0'), tensor(0.3289, device='cuda:0'), tensor(0.3385, device='cuda:0'), tensor(0.3195, device='cuda:0'), tensor(0.3136, device='cuda:0'), tensor(0.3242, device='cuda:0'), tensor(0.3270, device='cuda:0'), tensor(0.3384, device='cuda:0'), tensor(0.3259, device='cuda:0'), tensor(0.3214, device='cuda:0'), tensor(0.3078, device='cuda:0'), tensor(0.3411, device='cuda:0'), tensor(0.3023, device='cuda:0'), tensor(0.3348, device='cuda:0'), tensor(0.3219, device='cuda:0'), tensor(0.3329, device='cuda:0'), tensor(0.3200, device='cuda:0'), tensor(0.3200, device='cuda:0'), tensor(0.2885, device='cuda:0'), tensor(0.3261, device='cuda:0'), tensor(0.3434, device='cuda:0'), tensor(0.3315, device='cuda:0'), tensor(0.3541, device='cuda:0'), tensor(0.3172, device='cuda:0'), tensor(0.3252, device='cuda:0'), tensor(0.2882, device='cuda:0'), tensor(0.3223, device='cuda:0'), tensor(0.3266, device='cuda:0'), tensor(0.3238, device='cuda:0'), tensor(0.3374, device='cuda:0'), tensor(0.3250, device='cuda:0'), tensor(0.2897, device='cuda:0'), tensor(0.3106, device='cuda:0'), tensor(0.3196, device='cuda:0'), tensor(0.3206, device='cuda:0'), tensor(0.3242, device='cuda:0'), tensor(0.3041, device='cuda:0'), tensor(0.3236, device='cuda:0'), tensor(0.3322, device='cuda:0'), tensor(0.3207, device='cuda:0'), tensor(0.3357, device='cuda:0'), tensor(0.3027, device='cuda:0'), tensor(0.3620, device='cuda:0'), tensor(0.2636, device='cuda:0'), tensor(0.2955, device='cuda:0'), tensor(0.3734, device='cuda:0'), tensor(0.3077, device='cuda:0'), tensor(0.3310, device='cuda:0'), tensor(0.3600, device='cuda:0'), tensor(0.3606, device='cuda:0'), tensor(0.3273, device='cuda:0'), tensor(0.3211, device='cuda:0'), tensor(0.3086, device='cuda:0'), tensor(0.3183, device='cuda:0'), tensor(0.3373, device='cuda:0')], [tensor(0.0202, device='cuda:0'), tensor(0.0235, device='cuda:0'), tensor(0.0221, device='cuda:0'), tensor(0.0210, device='cuda:0'), tensor(0.0198, device='cuda:0'), tensor(0.0183, device='cuda:0'), tensor(0.0223, device='cuda:0'), tensor(0.0240, device='cuda:0'), tensor(0.0305, device='cuda:0'), tensor(0.0387, device='cuda:0'), tensor(0.0397, device='cuda:0'), tensor(0.0559, device='cuda:0'), tensor(0.0552, device='cuda:0'), tensor(0.0664, device='cuda:0'), tensor(0.0758, device='cuda:0'), tensor(0.1370, device='cuda:0'), tensor(0.1110, device='cuda:0'), tensor(0.1725, device='cuda:0'), tensor(0.2847, device='cuda:0'), tensor(0.8296, device='cuda:0'), tensor(0.1424, device='cuda:0'), tensor(0.1544, device='cuda:0'), tensor(0.0452, device='cuda:0'), tensor(0.0860, device='cuda:0'), tensor(0.1518, device='cuda:0'), tensor(0.4162, device='cuda:0'), tensor(0.0257, device='cuda:0'), tensor(0.0195, device='cuda:0'), tensor(0.0228, device='cuda:0'), tensor(0.0198, device='cuda:0'), tensor(0.0195, device='cuda:0'), tensor(0.0186, device='cuda:0'), tensor(0.0194, device='cuda:0'), tensor(0.0165, device='cuda:0'), tensor(0.0162, device='cuda:0'), tensor(0.0170, device='cuda:0'), tensor(0.0187, device='cuda:0'), tensor(0.0132, device='cuda:0'), tensor(0.0176, device='cuda:0'), tensor(0.0197, device='cuda:0'), tensor(0.0213, device='cuda:0'), tensor(0.0270, device='cuda:0'), tensor(0.0326, device='cuda:0'), tensor(0.0271, device='cuda:0'), tensor(0.0203, device='cuda:0'), tensor(0.0324, device='cuda:0'), tensor(0.0485, device='cuda:0'), tensor(0.0747, device='cuda:0'), tensor(0.1987, device='cuda:0'), tensor(0.5535, device='cuda:0'), tensor(0.0195, device='cuda:0'), tensor(0.0090, device='cuda:0'), tensor(0.0095, device='cuda:0'), tensor(0.0335, device='cuda:0'), tensor(0.0240, device='cuda:0'), tensor(0.0135, device='cuda:0'), tensor(0.0107, device='cuda:0'), tensor(0.0299, device='cuda:0'), tensor(0.0415, device='cuda:0'), tensor(0.1794, device='cuda:0'), tensor(0.0191, device='cuda:0'), tensor(0.1233, device='cuda:0'), tensor(0.0043, device='cuda:0'), tensor(0.0082, device='cuda:0'), tensor(0.0134, device='cuda:0'), tensor(0.0200, device='cuda:0'), tensor(0.0295, device='cuda:0'), tensor(0.0493, device='cuda:0'), tensor(0.0533, device='cuda:0'), tensor(0.2171, device='cuda:0'), tensor(0.0591, device='cuda:0'), tensor(0.0412, device='cuda:0'), tensor(0.0256, device='cuda:0'), tensor(0.0256, device='cuda:0'), tensor(0.0315, device='cuda:0'), tensor(0.0252, device='cuda:0'), tensor(0.0202, device='cuda:0'), tensor(0.0205, device='cuda:0'), tensor(0.0177, device='cuda:0'), tensor(0.0162, device='cuda:0'), tensor(0.0144, device='cuda:0'), tensor(0.0314, device='cuda:0'), tensor(0.0256, device='cuda:0'), tensor(0.0178, device='cuda:0'), tensor(0.0424, device='cuda:0'), tensor(0.0335, device='cuda:0'), tensor(0.0963, device='cuda:0'), tensor(0.1461, device='cuda:0'), tensor(0.0108, device='cuda:0'), tensor(0.0126, device='cuda:0'), tensor(0.0128, device='cuda:0'), tensor(0.0160, device='cuda:0'), tensor(0.0160, device='cuda:0'), tensor(0.0174, device='cuda:0'), tensor(0.0170, device='cuda:0'), tensor(0.0215, device='cuda:0'), tensor(0.0172, device='cuda:0'), tensor(0.0179, device='cuda:0'), tensor(0.0206, device='cuda:0'), tensor(0.0154, device='cuda:0'), tensor(0.0285, device='cuda:0'), tensor(0.0362, device='cuda:0'), tensor(0.0442, device='cuda:0'), tensor(0.0550, device='cuda:0'), tensor(0.1180, device='cuda:0'), tensor(0.1422, device='cuda:0'), tensor(0.1951, device='cuda:0'), tensor(0.1514, device='cuda:0'), tensor(0.1163, device='cuda:0'), tensor(0.1535, device='cuda:0'), tensor(0.3382, device='cuda:0'), tensor(0.1296, device='cuda:0'), tensor(0.1231, device='cuda:0'), tensor(0.2081, device='cuda:0'), tensor(0.3051, device='cuda:0'), tensor(0.7229, device='cuda:0'), tensor(0.1139, device='cuda:0'), tensor(0.0280, device='cuda:0'), tensor(0.0285, device='cuda:0'), tensor(0.0268, device='cuda:0'), tensor(0.0312, device='cuda:0'), tensor(0.0338, device='cuda:0'), tensor(0.0346, device='cuda:0'), tensor(0.0344, device='cuda:0'), tensor(0.0357, device='cuda:0'), tensor(0.0354, device='cuda:0'), tensor(0.0357, device='cuda:0'), tensor(0.0328, device='cuda:0'), tensor(0.0312, device='cuda:0'), tensor(0.0311, device='cuda:0'), tensor(0.0306, device='cuda:0'), tensor(0.0288, device='cuda:0'), tensor(0.0287, device='cuda:0'), tensor(0.0312, device='cuda:0'), tensor(0.0305, device='cuda:0'), tensor(0.0284, device='cuda:0'), tensor(0.0298, device='cuda:0'), tensor(0.0293, device='cuda:0'), tensor(0.0295, device='cuda:0'), tensor(0.0342, device='cuda:0'), tensor(0.0387, device='cuda:0'), tensor(0.0383, device='cuda:0'), tensor(0.0397, device='cuda:0'), tensor(0.0357, device='cuda:0'), tensor(0.0296, device='cuda:0'), tensor(0.0289, device='cuda:0'), tensor(0.0297, device='cuda:0'), tensor(0.0318, device='cuda:0'), tensor(0.0299, device='cuda:0'), tensor(0.0287, device='cuda:0'), tensor(0.0291, device='cuda:0'), tensor(0.0286, device='cuda:0'), tensor(0.0313, device='cuda:0'), tensor(0.0315, device='cuda:0'), tensor(0.0304, device='cuda:0'), tensor(0.0310, device='cuda:0'), tensor(0.0287, device='cuda:0'), tensor(0.0291, device='cuda:0'), tensor(0.0305, device='cuda:0'), tensor(0.0278, device='cuda:0'), tensor(0.0294, device='cuda:0'), tensor(0.0287, device='cuda:0'), tensor(0.0291, device='cuda:0'), tensor(0.0289, device='cuda:0'), tensor(0.0279, device='cuda:0'), tensor(0.0292, device='cuda:0'), tensor(0.0297, device='cuda:0'), tensor(0.0273, device='cuda:0'), tensor(0.0263, device='cuda:0'), tensor(0.0322, device='cuda:0'), tensor(0.0314, device='cuda:0'), tensor(0.0299, device='cuda:0'), tensor(0.0302, device='cuda:0'), tensor(0.0299, device='cuda:0'), tensor(0.0297, device='cuda:0'), tensor(0.0254, device='cuda:0'), tensor(0.0282, device='cuda:0'), tensor(0.0257, device='cuda:0'), tensor(0.0247, device='cuda:0'), tensor(0.0324, device='cuda:0'), tensor(0.0325, device='cuda:0'), tensor(0.0331, device='cuda:0'), tensor(0.0330, device='cuda:0'), tensor(0.0327, device='cuda:0'), tensor(0.0256, device='cuda:0'), tensor(0.0278, device='cuda:0'), tensor(0.0276, device='cuda:0'), tensor(0.0318, device='cuda:0'), tensor(0.0287, device='cuda:0'), tensor(0.0300, device='cuda:0'), tensor(0.0334, device='cuda:0'), tensor(0.0354, device='cuda:0'), tensor(0.0341, device='cuda:0'), tensor(0.0335, device='cuda:0'), tensor(0.0324, device='cuda:0'), tensor(0.0319, device='cuda:0'), tensor(0.0297, device='cuda:0'), tensor(0.0285, device='cuda:0'), tensor(0.0271, device='cuda:0'), tensor(0.0275, device='cuda:0'), tensor(0.0280, device='cuda:0'), tensor(0.0300, device='cuda:0'), tensor(0.0285, device='cuda:0'), tensor(0.0336, device='cuda:0'), tensor(0.0291, device='cuda:0'), tensor(0.0291, device='cuda:0'), tensor(0.0270, device='cuda:0'), tensor(0.0240, device='cuda:0'), tensor(0.0241, device='cuda:0'), tensor(0.0210, device='cuda:0'), tensor(0.0255, device='cuda:0'), tensor(0.0257, device='cuda:0'), tensor(0.0267, device='cuda:0'), tensor(0.0263, device='cuda:0'), tensor(0.0258, device='cuda:0'), tensor(0.0280, device='cuda:0'), tensor(0.0279, device='cuda:0'), tensor(0.0240, device='cuda:0'), tensor(0.0212, device='cuda:0'), tensor(0.0252, device='cuda:0'), tensor(0.0294, device='cuda:0'), tensor(0.0298, device='cuda:0'), tensor(0.0275, device='cuda:0'), tensor(0.0246, device='cuda:0'), tensor(0.0237, device='cuda:0'), tensor(0.0229, device='cuda:0'), tensor(0.0231, device='cuda:0'), tensor(0.0244, device='cuda:0'), tensor(0.0255, device='cuda:0'), tensor(0.0279, device='cuda:0'), tensor(0.0280, device='cuda:0'), tensor(0.0263, device='cuda:0'), tensor(0.0267, device='cuda:0'), tensor(0.0210, device='cuda:0'), tensor(0.0233, device='cuda:0'), tensor(0.0272, device='cuda:0'), tensor(0.0306, device='cuda:0'), tensor(0.0302, device='cuda:0'), tensor(0.0310, device='cuda:0'), tensor(0.0306, device='cuda:0'), tensor(0.0257, device='cuda:0'), tensor(0.0250, device='cuda:0'), tensor(0.0205, device='cuda:0'), tensor(0.0209, device='cuda:0'), tensor(0.0217, device='cuda:0'), tensor(0.0236, device='cuda:0'), tensor(0.0248, device='cuda:0'), tensor(0.0263, device='cuda:0'), tensor(0.0257, device='cuda:0'), tensor(0.0208, device='cuda:0'), tensor(0.0170, device='cuda:0'), tensor(0.0194, device='cuda:0'), tensor(0.0215, device='cuda:0'), tensor(0.0240, device='cuda:0'), tensor(0.0244, device='cuda:0'), tensor(0.0257, device='cuda:0'), tensor(0.0259, device='cuda:0'), tensor(0.0260, device='cuda:0'), tensor(0.0226, device='cuda:0'), tensor(0.0175, device='cuda:0'), tensor(0.0195, device='cuda:0'), tensor(0.0221, device='cuda:0'), tensor(0.0214, device='cuda:0'), tensor(0.0191, device='cuda:0'), tensor(0.0245, device='cuda:0'), tensor(0.0230, device='cuda:0'), tensor(0.0218, device='cuda:0'), tensor(0.0240, device='cuda:0'), tensor(0.0212, device='cuda:0'), tensor(0.0173, device='cuda:0'), tensor(0.0191, device='cuda:0'), tensor(0.0157, device='cuda:0'), tensor(0.0157, device='cuda:0'), tensor(0.0169, device='cuda:0'), tensor(0.0202, device='cuda:0'), tensor(0.0247, device='cuda:0'), tensor(0.0268, device='cuda:0'), tensor(0.0282, device='cuda:0'), tensor(0.0251, device='cuda:0'), tensor(0.0218, device='cuda:0'), tensor(0.0231, device='cuda:0'), tensor(0.0271, device='cuda:0'), tensor(0.0299, device='cuda:0'), tensor(0.0256, device='cuda:0'), tensor(0.0288, device='cuda:0'), tensor(0.0208, device='cuda:0'), tensor(0.0231, device='cuda:0'), tensor(0.0241, device='cuda:0'), tensor(0.0235, device='cuda:0'), tensor(0.0231, device='cuda:0'), tensor(0.0244, device='cuda:0'), tensor(0.0251, device='cuda:0'), tensor(0.0222, device='cuda:0'), tensor(0.0216, device='cuda:0'), tensor(0.0203, device='cuda:0'), tensor(0.0204, device='cuda:0'), tensor(0.0224, device='cuda:0'), tensor(0.0183, device='cuda:0'), tensor(0.0181, device='cuda:0'), tensor(0.0203, device='cuda:0'), tensor(0.0208, device='cuda:0'), tensor(0.0208, device='cuda:0'), tensor(0.0224, device='cuda:0'), tensor(0.0230, device='cuda:0'), tensor(0.0165, device='cuda:0'), tensor(0.0172, device='cuda:0'), tensor(0.0201, device='cuda:0'), tensor(0.0193, device='cuda:0'), tensor(0.0180, device='cuda:0'), tensor(0.0157, device='cuda:0'), tensor(0.0140, device='cuda:0'), tensor(0.0119, device='cuda:0'), tensor(0.0187, device='cuda:0'), tensor(0.0156, device='cuda:0'), tensor(0.0156, device='cuda:0'), tensor(0.0172, device='cuda:0'), tensor(0.0163, device='cuda:0'), tensor(0.0093, device='cuda:0'), tensor(0.0065, device='cuda:0'), tensor(0.0067, device='cuda:0'), tensor(0.0117, device='cuda:0'), tensor(0.0116, device='cuda:0'), tensor(0.0145, device='cuda:0'), tensor(0.0093, device='cuda:0'), tensor(0.0105, device='cuda:0'), tensor(0.0102, device='cuda:0'), tensor(0.0036, device='cuda:0'), tensor(0.0039, device='cuda:0'), tensor(0.0067, device='cuda:0'), tensor(0.0146, device='cuda:0'), tensor(0.0194, device='cuda:0'), tensor(0.0264, device='cuda:0'), tensor(0.0270, device='cuda:0'), tensor(0.0553, device='cuda:0'), tensor(0.0345, device='cuda:0'), tensor(0.0270, device='cuda:0'), tensor(0.0232, device='cuda:0'), tensor(0.0242, device='cuda:0'), tensor(0.0248, device='cuda:0'), tensor(0.0220, device='cuda:0'), tensor(0.0194, device='cuda:0'), tensor(0.0165, device='cuda:0'), tensor(0.0188, device='cuda:0'), tensor(0.0172, device='cuda:0'), tensor(0.0225, device='cuda:0'), tensor(0.0193, device='cuda:0'), tensor(0.0219, device='cuda:0'), tensor(0.0239, device='cuda:0'), tensor(0.0263, device='cuda:0'), tensor(0.0238, device='cuda:0'), tensor(0.0194, device='cuda:0'), tensor(0.0169, device='cuda:0'), tensor(0.0138, device='cuda:0'), tensor(0.0172, device='cuda:0'), tensor(0.0186, device='cuda:0'), tensor(0.0183, device='cuda:0'), tensor(0.0197, device='cuda:0'), tensor(0.0184, device='cuda:0'), tensor(0.0163, device='cuda:0'), tensor(0.0150, device='cuda:0'), tensor(0.0162, device='cuda:0'), tensor(0.0134, device='cuda:0'), tensor(0.0117, device='cuda:0'), tensor(0.0106, device='cuda:0'), tensor(0.0117, device='cuda:0'), tensor(0.0117, device='cuda:0'), tensor(0.0147, device='cuda:0'), tensor(0.0166, device='cuda:0'), tensor(0.0144, device='cuda:0'), tensor(0.0142, device='cuda:0'), tensor(0.0156, device='cuda:0'), tensor(0.0167, device='cuda:0'), tensor(0.0152, device='cuda:0'), tensor(0.0175, device='cuda:0'), tensor(0.0186, device='cuda:0'), tensor(0.0209, device='cuda:0'), tensor(0.0205, device='cuda:0'), tensor(0.0180, device='cuda:0'), tensor(0.0184, device='cuda:0'), tensor(0.0209, device='cuda:0'), tensor(0.0191, device='cuda:0'), tensor(0.0156, device='cuda:0'), tensor(0.0172, device='cuda:0'), tensor(0.0188, device='cuda:0'), tensor(0.0159, device='cuda:0'), tensor(0.0158, device='cuda:0'), tensor(0.0154, device='cuda:0'), tensor(0.0145, device='cuda:0'), tensor(0.0151, device='cuda:0'), tensor(0.0150, device='cuda:0'), tensor(0.0168, device='cuda:0'), tensor(0.0195, device='cuda:0'), tensor(0.0148, device='cuda:0'), tensor(0.0129, device='cuda:0'), tensor(0.0124, device='cuda:0'), tensor(0.0124, device='cuda:0'), tensor(0.0114, device='cuda:0'), tensor(0.0096, device='cuda:0'), tensor(0.0095, device='cuda:0'), tensor(0.0122, device='cuda:0'), tensor(0.0123, device='cuda:0'), tensor(0.0142, device='cuda:0'), tensor(0.0163, device='cuda:0'), tensor(0.0183, device='cuda:0'), tensor(0.0167, device='cuda:0'), tensor(0.0158, device='cuda:0'), tensor(0.0163, device='cuda:0'), tensor(0.0133, device='cuda:0'), tensor(0.0132, device='cuda:0'), tensor(0.0127, device='cuda:0'), tensor(0.0135, device='cuda:0'), tensor(0.0096, device='cuda:0'), tensor(0.0093, device='cuda:0'), tensor(0.0124, device='cuda:0'), tensor(0.0111, device='cuda:0'), tensor(0.0123, device='cuda:0'), tensor(0.0114, device='cuda:0'), tensor(0.0112, device='cuda:0'), tensor(0.0118, device='cuda:0'), tensor(0.0113, device='cuda:0'), tensor(0.0116, device='cuda:0'), tensor(0.0126, device='cuda:0'), tensor(0.0097, device='cuda:0'), tensor(0.0097, device='cuda:0'), tensor(0.0106, device='cuda:0'), tensor(0.0077, device='cuda:0'), tensor(0.0079, device='cuda:0'), tensor(0.0088, device='cuda:0'), tensor(0.0083, device='cuda:0'), tensor(0.0072, device='cuda:0'), tensor(0.0068, device='cuda:0'), tensor(0.0103, device='cuda:0'), tensor(0.0078, device='cuda:0'), tensor(0.0074, device='cuda:0'), tensor(0.0081, device='cuda:0'), tensor(0.0120, device='cuda:0'), tensor(0.0106, device='cuda:0'), tensor(0.0124, device='cuda:0'), tensor(0.0116, device='cuda:0'), tensor(0.0113, device='cuda:0'), tensor(0.0117, device='cuda:0'), tensor(0.0124, device='cuda:0'), tensor(0.0130, device='cuda:0'), tensor(0.0114, device='cuda:0'), tensor(0.0118, device='cuda:0'), tensor(0.0129, device='cuda:0'), tensor(0.0131, device='cuda:0'), tensor(0.0114, device='cuda:0'), tensor(0.0096, device='cuda:0'), tensor(0.0098, device='cuda:0'), tensor(0.0110, device='cuda:0'), tensor(0.0124, device='cuda:0'), tensor(0.0104, device='cuda:0'), tensor(0.0098, device='cuda:0'), tensor(0.0116, device='cuda:0'), tensor(0.0136, device='cuda:0'), tensor(0.0112, device='cuda:0'), tensor(0.0105, device='cuda:0'), tensor(0.0104, device='cuda:0'), tensor(0.0107, device='cuda:0'), tensor(0.0111, device='cuda:0'), tensor(0.0119, device='cuda:0'), tensor(0.0109, device='cuda:0'), tensor(0.0094, device='cuda:0'), tensor(0.0060, device='cuda:0'), tensor(0.0055, device='cuda:0'), tensor(0.0040, device='cuda:0'), tensor(0.0049, device='cuda:0'), tensor(0.0105, device='cuda:0'), tensor(0.0108, device='cuda:0'), tensor(0.0116, device='cuda:0'), tensor(0.0102, device='cuda:0'), tensor(0.0119, device='cuda:0'), tensor(0.0130, device='cuda:0'), tensor(0.0138, device='cuda:0'), tensor(0.0136, device='cuda:0'), tensor(0.0146, device='cuda:0'), tensor(0.0134, device='cuda:0'), tensor(0.0093, device='cuda:0'), tensor(0.0082, device='cuda:0'), tensor(0.0069, device='cuda:0'), tensor(0.0093, device='cuda:0'), tensor(0.0086, device='cuda:0'), tensor(0.0084, device='cuda:0'), tensor(0.0069, device='cuda:0'), tensor(0.0076, device='cuda:0'), tensor(0.0075, device='cuda:0'), tensor(0.0066, device='cuda:0'), tensor(0.0050, device='cuda:0'), tensor(0.0043, device='cuda:0'), tensor(0.0048, device='cuda:0'), tensor(0.0037, device='cuda:0'), tensor(0.0039, device='cuda:0'), tensor(0.0054, device='cuda:0'), tensor(0.0035, device='cuda:0'), tensor(0.0064, device='cuda:0'), tensor(0.0063, device='cuda:0'), tensor(0.0075, device='cuda:0'), tensor(0.0035, device='cuda:0'), tensor(0.0058, device='cuda:0'), tensor(0.0084, device='cuda:0'), tensor(0.0079, device='cuda:0'), tensor(0.0082, device='cuda:0'), tensor(0.0078, device='cuda:0'), tensor(0.0091, device='cuda:0'), tensor(0.0096, device='cuda:0'), tensor(0.0112, device='cuda:0'), tensor(0.0125, device='cuda:0'), tensor(0.0077, device='cuda:0'), tensor(0.0080, device='cuda:0'), tensor(0.0082, device='cuda:0'), tensor(0.0079, device='cuda:0'), tensor(0.0060, device='cuda:0'), tensor(0.0067, device='cuda:0'), tensor(0.0076, device='cuda:0'), tensor(0.0063, device='cuda:0'), tensor(0.0048, device='cuda:0'), tensor(0.0060, device='cuda:0'), tensor(0.0044, device='cuda:0'), tensor(0.0088, device='cuda:0'), tensor(0.0092, device='cuda:0'), tensor(0.0076, device='cuda:0'), tensor(0.0071, device='cuda:0'), tensor(0.0075, device='cuda:0'), tensor(0.0056, device='cuda:0'), tensor(0.0042, device='cuda:0'), tensor(0.0045, device='cuda:0'), tensor(0.0038, device='cuda:0'), tensor(0.0050, device='cuda:0'), tensor(0.0056, device='cuda:0'), tensor(0.0094, device='cuda:0'), tensor(0.0070, device='cuda:0'), tensor(0.0110, device='cuda:0'), tensor(0.0099, device='cuda:0'), tensor(0.0066, device='cuda:0'), tensor(0.0073, device='cuda:0'), tensor(0.0099, device='cuda:0'), tensor(0.0089, device='cuda:0'), tensor(0.0073, device='cuda:0'), tensor(0.0078, device='cuda:0'), tensor(0.0101, device='cuda:0'), tensor(0.0142, device='cuda:0'), tensor(0.0137, device='cuda:0'), tensor(0.0102, device='cuda:0'), tensor(0.0097, device='cuda:0'), tensor(0.0129, device='cuda:0'), tensor(0.0130, device='cuda:0'), tensor(0.0103, device='cuda:0'), tensor(0.0083, device='cuda:0'), tensor(0.0092, device='cuda:0'), tensor(0.0083, device='cuda:0'), tensor(0.0072, device='cuda:0'), tensor(0.0088, device='cuda:0'), tensor(0.0098, device='cuda:0'), tensor(0.0101, device='cuda:0'), tensor(0.0090, device='cuda:0'), tensor(0.0099, device='cuda:0'), tensor(0.0119, device='cuda:0'), tensor(0.0135, device='cuda:0'), tensor(0.0144, device='cuda:0'), tensor(0.0148, device='cuda:0'), tensor(0.0152, device='cuda:0'), tensor(0.0134, device='cuda:0'), tensor(0.0146, device='cuda:0'), tensor(0.0153, device='cuda:0'), tensor(0.0147, device='cuda:0'), tensor(0.0112, device='cuda:0'), tensor(0.0090, device='cuda:0'), tensor(0.0051, device='cuda:0'), tensor(0.0034, device='cuda:0'), tensor(0.0024, device='cuda:0'), tensor(0.0032, device='cuda:0'), tensor(0.0025, device='cuda:0'), tensor(0.0030, device='cuda:0'), tensor(0.0035, device='cuda:0'), tensor(0.0024, device='cuda:0'), tensor(0.0022, device='cuda:0'), tensor(0.0021, device='cuda:0'), tensor(0.0030, device='cuda:0'), tensor(0.0018, device='cuda:0'), tensor(0.0015, device='cuda:0'), tensor(0.0030, device='cuda:0'), tensor(0.0058, device='cuda:0'), tensor(0.0054, device='cuda:0'), tensor(0.0071, device='cuda:0'), tensor(0.0066, device='cuda:0'), tensor(0.0092, device='cuda:0'), tensor(0.0071, device='cuda:0'), tensor(0.0045, device='cuda:0'), tensor(0.0074, device='cuda:0'), tensor(0.0081, device='cuda:0'), tensor(0.0053, device='cuda:0'), tensor(0.0067, device='cuda:0'), tensor(0.0073, device='cuda:0'), tensor(0.0068, device='cuda:0'), tensor(0.0072, device='cuda:0'), tensor(0.0063, device='cuda:0'), tensor(0.0063, device='cuda:0'), tensor(0.0071, device='cuda:0'), tensor(0.0048, device='cuda:0'), tensor(0.0044, device='cuda:0'), tensor(0.0031, device='cuda:0'), tensor(0.0051, device='cuda:0'), tensor(0.0054, device='cuda:0'), tensor(0.0045, device='cuda:0'), tensor(0.0065, device='cuda:0'), tensor(0.0035, device='cuda:0'), tensor(0.0041, device='cuda:0'), tensor(0.0065, device='cuda:0'), tensor(0.0067, device='cuda:0'), tensor(0.0077, device='cuda:0'), tensor(0.0082, device='cuda:0'), tensor(0.0090, device='cuda:0'), tensor(0.0085, device='cuda:0'), tensor(0.0114, device='cuda:0'), tensor(0.0114, device='cuda:0'), tensor(0.0116, device='cuda:0'), tensor(0.0131, device='cuda:0'), tensor(0.0119, device='cuda:0'), tensor(0.0105, device='cuda:0'), tensor(0.0096, device='cuda:0'), tensor(0.0102, device='cuda:0'), tensor(0.0123, device='cuda:0'), tensor(0.0107, device='cuda:0'), tensor(0.0085, device='cuda:0'), tensor(0.0078, device='cuda:0'), tensor(0.0065, device='cuda:0'), tensor(0.0060, device='cuda:0'), tensor(0.0074, device='cuda:0'), tensor(0.0057, device='cuda:0'), tensor(0.0061, device='cuda:0'), tensor(0.0048, device='cuda:0'), tensor(0.0036, device='cuda:0'), tensor(0.0042, device='cuda:0'), tensor(0.0047, device='cuda:0'), tensor(0.0039, device='cuda:0'), tensor(0.0063, device='cuda:0'), tensor(0.0050, device='cuda:0'), tensor(0.0025, device='cuda:0'), tensor(0.0051, device='cuda:0'), tensor(0.0063, device='cuda:0'), tensor(0.0081, device='cuda:0'), tensor(0.0060, device='cuda:0'), tensor(0.0056, device='cuda:0'), tensor(0.0040, device='cuda:0'), tensor(0.0055, device='cuda:0'), tensor(0.0064, device='cuda:0'), tensor(0.0046, device='cuda:0'), tensor(0.0039, device='cuda:0'), tensor(0.0024, device='cuda:0'), tensor(0.0048, device='cuda:0'), tensor(0.0051, device='cuda:0'), tensor(0.0054, device='cuda:0'), tensor(0.0050, device='cuda:0'), tensor(0.0043, device='cuda:0'), tensor(0.0061, device='cuda:0'), tensor(0.0071, device='cuda:0'), tensor(0.0063, device='cuda:0'), tensor(0.0090, device='cuda:0'), tensor(0.0095, device='cuda:0'), tensor(0.0066, device='cuda:0'), tensor(0.0053, device='cuda:0'), tensor(0.0031, device='cuda:0'), tensor(0.0075, device='cuda:0'), tensor(0.0077, device='cuda:0'), tensor(0.0064, device='cuda:0'), tensor(0.0071, device='cuda:0'), tensor(0.0075, device='cuda:0'), tensor(0.0045, device='cuda:0'), tensor(0.0050, device='cuda:0'), tensor(0.0025, device='cuda:0'), tensor(0.0049, device='cuda:0'), tensor(0.0086, device='cuda:0'), tensor(0.0084, device='cuda:0'), tensor(0.0089, device='cuda:0'), tensor(0.0074, device='cuda:0'), tensor(0.0069, device='cuda:0'), tensor(0.0065, device='cuda:0'), tensor(0.0071, device='cuda:0'), tensor(0.0106, device='cuda:0'), tensor(0.0106, device='cuda:0'), tensor(0.0109, device='cuda:0'), tensor(0.0081, device='cuda:0'), tensor(0.0078, device='cuda:0'), tensor(0.0079, device='cuda:0'), tensor(0.0087, device='cuda:0'), tensor(0.0072, device='cuda:0'), tensor(0.0071, device='cuda:0'), tensor(0.0064, device='cuda:0'), tensor(0.0066, device='cuda:0'), tensor(0.0080, device='cuda:0'), tensor(0.0067, device='cuda:0'), tensor(0.0087, device='cuda:0'), tensor(0.0096, device='cuda:0'), tensor(0.0084, device='cuda:0'), tensor(0.0079, device='cuda:0'), tensor(0.0070, device='cuda:0'), tensor(0.0058, device='cuda:0'), tensor(0.0047, device='cuda:0'), tensor(0.0073, device='cuda:0'), tensor(0.0078, device='cuda:0'), tensor(0.0109, device='cuda:0'), tensor(0.0116, device='cuda:0'), tensor(0.0110, device='cuda:0'), tensor(0.0105, device='cuda:0'), tensor(0.0080, device='cuda:0'), tensor(0.0093, device='cuda:0'), tensor(0.0105, device='cuda:0'), tensor(0.0140, device='cuda:0'), tensor(0.0169, device='cuda:0'), tensor(0.0180, device='cuda:0'), tensor(0.0336, device='cuda:0'), tensor(0.0589, device='cuda:0'), tensor(0.0819, device='cuda:0'), tensor(0.0467, device='cuda:0'), tensor(0.1211, device='cuda:0'), tensor(0.0668, device='cuda:0'), tensor(0.1666, device='cuda:0'), tensor(0.0846, device='cuda:0'), tensor(0.1855, device='cuda:0'), tensor(0.2432, device='cuda:0'), tensor(0.0745, device='cuda:0'), tensor(0.1257, device='cuda:0'), tensor(0.0984, device='cuda:0'), tensor(0.2881, device='cuda:0'), tensor(0.0847, device='cuda:0'), tensor(0.1588, device='cuda:0'), tensor(0.1282, device='cuda:0'), tensor(0.2298, device='cuda:0'), tensor(0.1030, device='cuda:0'), tensor(0.2865, device='cuda:0'), tensor(0.4705, device='cuda:0'), tensor(0.0667, device='cuda:0'), tensor(0.0688, device='cuda:0'), tensor(0.0536, device='cuda:0'), tensor(0.0455, device='cuda:0'), tensor(0.0665, device='cuda:0'), tensor(0.0883, device='cuda:0'), tensor(0.0568, device='cuda:0'), tensor(0.0921, device='cuda:0'), tensor(0.1494, device='cuda:0'), tensor(0.0707, device='cuda:0'), tensor(0.1747, device='cuda:0'), tensor(0.2498, device='cuda:0'), tensor(0.0843, device='cuda:0'), tensor(0.1437, device='cuda:0'), tensor(0.1823, device='cuda:0'), tensor(0.3601, device='cuda:0'), tensor(0.0554, device='cuda:0'), tensor(0.0468, device='cuda:0'), tensor(0.0834, device='cuda:0'), tensor(0.1003, device='cuda:0'), tensor(0.2143, device='cuda:0'), tensor(0.1392, device='cuda:0'), tensor(0.0741, device='cuda:0'), tensor(0.1172, device='cuda:0'), tensor(0.2459, device='cuda:0'), tensor(0.2380, device='cuda:0'), tensor(0.2656, device='cuda:0'), tensor(0.1202, device='cuda:0'), tensor(0.3341, device='cuda:0'), tensor(0.1603, device='cuda:0'), tensor(0.2504, device='cuda:0'), tensor(0.1652, device='cuda:0'), tensor(0.2374, device='cuda:0'), tensor(0.3377, device='cuda:0'), tensor(0.2185, device='cuda:0'), tensor(0.1143, device='cuda:0'), tensor(0.4159, device='cuda:0'), tensor(0.7150, device='cuda:0'), tensor(0.0409, device='cuda:0'), tensor(0.0298, device='cuda:0'), tensor(0.0264, device='cuda:0'), tensor(0.0283, device='cuda:0'), tensor(0.0297, device='cuda:0'), tensor(0.0336, device='cuda:0'), tensor(0.0266, device='cuda:0'), tensor(0.0483, device='cuda:0'), tensor(0.0352, device='cuda:0'), tensor(0.0319, device='cuda:0'), tensor(0.0264, device='cuda:0'), tensor(0.0278, device='cuda:0'), tensor(0.0286, device='cuda:0'), tensor(0.0304, device='cuda:0'), tensor(0.0278, device='cuda:0'), tensor(0.0284, device='cuda:0'), tensor(0.0261, device='cuda:0'), tensor(0.0261, device='cuda:0'), tensor(0.0227, device='cuda:0'), tensor(0.0257, device='cuda:0'), tensor(0.0262, device='cuda:0'), tensor(0.0273, device='cuda:0'), tensor(0.0284, device='cuda:0'), tensor(0.0268, device='cuda:0'), tensor(0.0279, device='cuda:0'), tensor(0.0299, device='cuda:0'), tensor(0.0261, device='cuda:0'), tensor(0.0281, device='cuda:0'), tensor(0.0290, device='cuda:0'), tensor(0.0285, device='cuda:0'), tensor(0.0282, device='cuda:0'), tensor(0.0251, device='cuda:0'), tensor(0.0283, device='cuda:0'), tensor(0.0275, device='cuda:0'), tensor(0.0263, device='cuda:0'), tensor(0.0280, device='cuda:0'), tensor(0.0286, device='cuda:0'), tensor(0.0286, device='cuda:0'), tensor(0.0298, device='cuda:0'), tensor(0.0258, device='cuda:0'), tensor(0.0279, device='cuda:0'), tensor(0.0285, device='cuda:0'), tensor(0.0287, device='cuda:0'), tensor(0.0284, device='cuda:0'), tensor(0.0284, device='cuda:0'), tensor(0.0279, device='cuda:0'), tensor(0.0269, device='cuda:0'), tensor(0.0259, device='cuda:0'), tensor(0.0261, device='cuda:0'), tensor(0.0267, device='cuda:0'), tensor(0.0313, device='cuda:0'), tensor(0.0282, device='cuda:0'), tensor(0.0283, device='cuda:0'), tensor(0.0265, device='cuda:0'), tensor(0.0280, device='cuda:0'), tensor(0.0286, device='cuda:0'), tensor(0.0269, device='cuda:0'), tensor(0.0272, device='cuda:0'), tensor(0.0275, device='cuda:0'), tensor(0.0274, device='cuda:0'), tensor(0.0284, device='cuda:0'), tensor(0.0286, device='cuda:0'), tensor(0.0277, device='cuda:0'), tensor(0.0254, device='cuda:0'), tensor(0.0258, device='cuda:0'), tensor(0.0275, device='cuda:0'), tensor(0.0273, device='cuda:0'), tensor(0.0290, device='cuda:0'), tensor(0.0263, device='cuda:0'), tensor(0.0278, device='cuda:0'), tensor(0.0280, device='cuda:0'), tensor(0.0275, device='cuda:0'), tensor(0.0292, device='cuda:0'), tensor(0.0267, device='cuda:0'), tensor(0.0287, device='cuda:0'), tensor(0.0296, device='cuda:0'), tensor(0.0313, device='cuda:0'), tensor(0.0311, device='cuda:0'), tensor(0.0279, device='cuda:0'), tensor(0.0292, device='cuda:0'), tensor(0.0304, device='cuda:0'), tensor(0.0297, device='cuda:0'), tensor(0.0292, device='cuda:0'), tensor(0.0292, device='cuda:0'), tensor(0.0260, device='cuda:0'), tensor(0.0247, device='cuda:0'), tensor(0.0305, device='cuda:0'), tensor(0.0280, device='cuda:0'), tensor(0.0270, device='cuda:0'), tensor(0.0290, device='cuda:0'), tensor(0.0294, device='cuda:0'), tensor(0.0275, device='cuda:0'), tensor(0.0386, device='cuda:0'), tensor(0.0510, device='cuda:0'), tensor(0.0384, device='cuda:0'), tensor(0.0615, device='cuda:0'), tensor(0.0773, device='cuda:0'), tensor(0.1037, device='cuda:0'), tensor(0.1525, device='cuda:0'), tensor(0.1604, device='cuda:0'), tensor(0.1283, device='cuda:0'), tensor(0.2929, device='cuda:0'), tensor(0.0553, device='cuda:0'), tensor(0.1045, device='cuda:0'), tensor(0.1391, device='cuda:0'), tensor(0.0685, device='cuda:0'), tensor(0.0986, device='cuda:0'), tensor(0.1339, device='cuda:0'), tensor(0.1583, device='cuda:0'), tensor(0.2804, device='cuda:0'), tensor(0.0847, device='cuda:0'), tensor(0.1008, device='cuda:0'), tensor(0.1074, device='cuda:0'), tensor(0.1665, device='cuda:0'), tensor(0.1039, device='cuda:0'), tensor(0.2009, device='cuda:0'), tensor(0.1984, device='cuda:0'), tensor(0.1300, device='cuda:0'), tensor(0.1700, device='cuda:0'), tensor(0.3177, device='cuda:0'), tensor(0.0915, device='cuda:0'), tensor(0.2121, device='cuda:0'), tensor(0.0795, device='cuda:0'), tensor(0.1645, device='cuda:0'), tensor(0.1225, device='cuda:0'), tensor(0.1838, device='cuda:0'), tensor(0.1764, device='cuda:0'), tensor(0.2446, device='cuda:0'), tensor(0.1592, device='cuda:0'), tensor(0.3397, device='cuda:0'), tensor(0.1746, device='cuda:0'), tensor(0.1903, device='cuda:0'), tensor(0.3814, device='cuda:0'), tensor(0.2661, device='cuda:0'), tensor(0.2183, device='cuda:0'), tensor(0.1826, device='cuda:0'), tensor(0.2418, device='cuda:0'), tensor(0.2597, device='cuda:0'), tensor(0.3362, device='cuda:0'), tensor(0.2537, device='cuda:0'), tensor(0.1842, device='cuda:0'), tensor(0.4156, device='cuda:0'), tensor(0.1435, device='cuda:0'), tensor(0.4116, device='cuda:0'), tensor(0.3147, device='cuda:0'), tensor(0.2484, device='cuda:0'), tensor(0.1946, device='cuda:0'), tensor(0.3151, device='cuda:0'), tensor(0.2844, device='cuda:0'), tensor(0.3747, device='cuda:0'), tensor(0.2178, device='cuda:0'), tensor(0.3484, device='cuda:0'), tensor(0.2643, device='cuda:0'), tensor(0.4456, device='cuda:0'), tensor(0.4290, device='cuda:0'), tensor(0.2743, device='cuda:0'), tensor(0.0921, device='cuda:0'), tensor(1.4083, device='cuda:0'), tensor(0.0214, device='cuda:0'), tensor(0.0088, device='cuda:0'), tensor(0.0203, device='cuda:0'), tensor(0.0388, device='cuda:0'), tensor(0.0275, device='cuda:0'), tensor(0.0328, device='cuda:0'), tensor(0.0411, device='cuda:0'), tensor(0.0448, device='cuda:0'), tensor(0.0493, device='cuda:0'), tensor(0.0562, device='cuda:0'), tensor(0.0691, device='cuda:0'), tensor(0.0643, device='cuda:0'), tensor(0.0623, device='cuda:0'), tensor(0.0775, device='cuda:0'), tensor(0.1263, device='cuda:0'), tensor(0.0832, device='cuda:0'), tensor(0.0986, device='cuda:0'), tensor(0.1205, device='cuda:0'), tensor(0.1259, device='cuda:0'), tensor(0.1098, device='cuda:0'), tensor(0.1385, device='cuda:0'), tensor(0.2091, device='cuda:0'), tensor(0.0776, device='cuda:0'), tensor(0.1272, device='cuda:0'), tensor(0.1360, device='cuda:0'), tensor(0.1864, device='cuda:0'), tensor(0.1476, device='cuda:0'), tensor(0.1112, device='cuda:0'), tensor(0.1418, device='cuda:0'), tensor(0.1639, device='cuda:0'), tensor(0.3173, device='cuda:0'), tensor(0.5531, device='cuda:0'), tensor(0.0554, device='cuda:0'), tensor(0.0549, device='cuda:0'), tensor(0.0702, device='cuda:0'), tensor(0.0458, device='cuda:0'), tensor(0.0628, device='cuda:0'), tensor(0.0549, device='cuda:0'), tensor(0.0737, device='cuda:0'), tensor(0.0695, device='cuda:0'), tensor(0.1162, device='cuda:0'), tensor(0.0689, device='cuda:0'), tensor(0.0990, device='cuda:0'), tensor(0.0826, device='cuda:0'), tensor(0.0860, device='cuda:0'), tensor(0.0996, device='cuda:0'), tensor(0.1619, device='cuda:0'), tensor(0.1040, device='cuda:0'), tensor(0.1943, device='cuda:0'), tensor(0.1497, device='cuda:0'), tensor(0.1375, device='cuda:0'), tensor(0.1928, device='cuda:0'), tensor(0.2080, device='cuda:0'), tensor(0.1749, device='cuda:0'), tensor(0.1525, device='cuda:0'), tensor(0.1897, device='cuda:0'), tensor(0.1263, device='cuda:0'), tensor(0.1535, device='cuda:0'), tensor(0.2972, device='cuda:0'), tensor(0.1410, device='cuda:0'), tensor(0.1962, device='cuda:0'), tensor(0.1238, device='cuda:0'), tensor(0.1773, device='cuda:0'), tensor(0.1418, device='cuda:0'), tensor(0.1925, device='cuda:0'), tensor(0.2589, device='cuda:0'), tensor(0.2654, device='cuda:0'), tensor(0.3201, device='cuda:0'), tensor(0.1341, device='cuda:0'), tensor(0.1764, device='cuda:0'), tensor(0.1340, device='cuda:0'), tensor(0.2190, device='cuda:0'), tensor(0.2233, device='cuda:0'), tensor(0.3447, device='cuda:0'), tensor(0.1545, device='cuda:0'), tensor(0.2139, device='cuda:0'), tensor(0.1422, device='cuda:0'), tensor(0.2237, device='cuda:0'), tensor(0.2829, device='cuda:0'), tensor(0.3023, device='cuda:0'), tensor(0.2842, device='cuda:0'), tensor(0.2230, device='cuda:0'), tensor(0.2328, device='cuda:0'), tensor(0.1786, device='cuda:0'), tensor(0.2769, device='cuda:0'), tensor(0.2132, device='cuda:0'), tensor(0.2731, device='cuda:0'), tensor(0.2771, device='cuda:0'), tensor(0.3249, device='cuda:0'), tensor(0.3956, device='cuda:0'), tensor(0.1847, device='cuda:0'), tensor(0.2879, device='cuda:0'), tensor(0.2033, device='cuda:0'), tensor(0.2471, device='cuda:0'), tensor(0.1563, device='cuda:0'), tensor(0.3107, device='cuda:0'), tensor(0.1534, device='cuda:0'), tensor(0.2195, device='cuda:0'), tensor(0.2963, device='cuda:0'), tensor(0.3117, device='cuda:0'), tensor(0.2811, device='cuda:0'), tensor(0.3057, device='cuda:0'), tensor(0.2427, device='cuda:0'), tensor(0.2959, device='cuda:0'), tensor(0.3994, device='cuda:0'), tensor(0.4389, device='cuda:0'), tensor(0.3123, device='cuda:0'), tensor(0.3826, device='cuda:0'), tensor(0.3355, device='cuda:0'), tensor(0.2618, device='cuda:0'), tensor(0.3403, device='cuda:0'), tensor(0.2280, device='cuda:0'), tensor(0.3239, device='cuda:0'), tensor(0.3354, device='cuda:0'), tensor(0.2634, device='cuda:0'), tensor(0.2988, device='cuda:0'), tensor(0.2668, device='cuda:0'), tensor(0.2884, device='cuda:0'), tensor(0.4657, device='cuda:0'), tensor(0.3643, device='cuda:0'), tensor(0.2468, device='cuda:0'), tensor(0.2907, device='cuda:0'), tensor(0.2496, device='cuda:0'), tensor(0.2443, device='cuda:0'), tensor(0.1975, device='cuda:0'), tensor(0.2684, device='cuda:0'), tensor(0.2296, device='cuda:0'), tensor(0.3490, device='cuda:0'), tensor(0.2506, device='cuda:0'), tensor(0.3496, device='cuda:0'), tensor(0.3401, device='cuda:0'), tensor(0.3493, device='cuda:0'), tensor(0.3540, device='cuda:0'), tensor(0.3317, device='cuda:0'), tensor(0.3316, device='cuda:0'), tensor(0.2875, device='cuda:0'), tensor(0.1739, device='cuda:0'), tensor(0.5546, device='cuda:0'), tensor(0.1430, device='cuda:0'), tensor(0.5429, device='cuda:0'), tensor(0.3167, device='cuda:0'), tensor(0.2419, device='cuda:0'), tensor(0.2278, device='cuda:0'), tensor(0.2476, device='cuda:0'), tensor(0.2630, device='cuda:0'), tensor(0.2003, device='cuda:0'), tensor(0.2948, device='cuda:0'), tensor(0.3883, device='cuda:0'), tensor(0.3674, device='cuda:0'), tensor(0.3367, device='cuda:0'), tensor(0.2023, device='cuda:0'), tensor(0.2118, device='cuda:0'), tensor(0.2591, device='cuda:0'), tensor(0.2439, device='cuda:0'), tensor(0.2814, device='cuda:0'), tensor(0.2792, device='cuda:0'), tensor(0.2726, device='cuda:0'), tensor(0.2010, device='cuda:0'), tensor(0.3033, device='cuda:0'), tensor(0.3038, device='cuda:0'), tensor(0.3269, device='cuda:0'), tensor(0.2450, device='cuda:0'), tensor(0.2737, device='cuda:0'), tensor(0.2518, device='cuda:0'), tensor(0.3836, device='cuda:0'), tensor(0.4839, device='cuda:0'), tensor(0.2821, device='cuda:0'), tensor(0.2500, device='cuda:0'), tensor(0.3310, device='cuda:0'), tensor(0.1654, device='cuda:0'), tensor(0.2071, device='cuda:0'), tensor(0.2955, device='cuda:0'), tensor(0.2379, device='cuda:0'), tensor(0.4044, device='cuda:0'), tensor(0.3001, device='cuda:0'), tensor(0.2010, device='cuda:0'), tensor(0.2677, device='cuda:0'), tensor(0.2914, device='cuda:0'), tensor(0.3904, device='cuda:0'), tensor(0.3642, device='cuda:0'), tensor(0.3368, device='cuda:0'), tensor(0.3024, device='cuda:0'), tensor(0.2238, device='cuda:0'), tensor(0.2698, device='cuda:0'), tensor(0.3819, device='cuda:0'), tensor(0.2714, device='cuda:0'), tensor(0.3382, device='cuda:0'), tensor(0.3142, device='cuda:0'), tensor(0.2725, device='cuda:0'), tensor(0.3227, device='cuda:0'), tensor(0.2861, device='cuda:0'), tensor(0.3219, device='cuda:0'), tensor(0.3518, device='cuda:0'), tensor(0.3278, device='cuda:0'), tensor(0.3776, device='cuda:0'), tensor(0.3396, device='cuda:0'), tensor(0.4256, device='cuda:0'), tensor(0.3940, device='cuda:0'), tensor(0.2754, device='cuda:0'), tensor(0.4382, device='cuda:0'), tensor(0.3872, device='cuda:0'), tensor(0.3533, device='cuda:0'), tensor(0.3822, device='cuda:0'), tensor(0.4569, device='cuda:0'), tensor(0.4116, device='cuda:0'), tensor(0.3738, device='cuda:0'), tensor(0.3897, device='cuda:0'), tensor(0.4959, device='cuda:0'), tensor(0.3332, device='cuda:0'), tensor(0.4267, device='cuda:0'), tensor(0.5386, device='cuda:0'), tensor(0.4110, device='cuda:0'), tensor(0.3380, device='cuda:0'), tensor(0.4213, device='cuda:0'), tensor(0.3475, device='cuda:0'), tensor(0.3795, device='cuda:0'), tensor(0.4623, device='cuda:0'), tensor(0.5242, device='cuda:0'), tensor(0.4181, device='cuda:0'), tensor(0.3939, device='cuda:0'), tensor(0.4348, device='cuda:0'), tensor(0.3076, device='cuda:0'), tensor(0.3439, device='cuda:0'), tensor(0.4890, device='cuda:0'), tensor(0.3162, device='cuda:0'), tensor(0.5250, device='cuda:0'), tensor(0.4946, device='cuda:0'), tensor(0.4467, device='cuda:0'), tensor(0.4059, device='cuda:0'), tensor(0.3772, device='cuda:0'), tensor(0.3301, device='cuda:0'), tensor(0.3723, device='cuda:0'), tensor(0.4035, device='cuda:0'), tensor(0.3759, device='cuda:0'), tensor(0.3554, device='cuda:0'), tensor(0.4658, device='cuda:0'), tensor(0.3637, device='cuda:0'), tensor(0.3213, device='cuda:0'), tensor(0.3317, device='cuda:0'), tensor(0.2985, device='cuda:0'), tensor(0.5597, device='cuda:0'), tensor(0.3118, device='cuda:0'), tensor(0.3433, device='cuda:0'), tensor(0.2977, device='cuda:0'), tensor(0.3781, device='cuda:0'), tensor(0.3811, device='cuda:0'), tensor(0.3862, device='cuda:0'), tensor(0.4545, device='cuda:0'), tensor(0.4771, device='cuda:0'), tensor(0.4824, device='cuda:0'), tensor(0.5006, device='cuda:0'), tensor(0.3536, device='cuda:0'), tensor(0.4153, device='cuda:0'), tensor(0.5340, device='cuda:0'), tensor(0.4640, device='cuda:0'), tensor(0.4574, device='cuda:0'), tensor(0.5454, device='cuda:0'), tensor(0.3529, device='cuda:0'), tensor(0.4859, device='cuda:0'), tensor(0.4086, device='cuda:0'), tensor(0.3488, device='cuda:0'), tensor(0.4791, device='cuda:0'), tensor(0.4366, device='cuda:0'), tensor(0.4657, device='cuda:0'), tensor(0.3905, device='cuda:0'), tensor(0.5456, device='cuda:0'), tensor(0.4104, device='cuda:0'), tensor(0.4444, device='cuda:0'), tensor(0.2464, device='cuda:0'), tensor(0.3758, device='cuda:0'), tensor(0.2525, device='cuda:0'), tensor(0.2764, device='cuda:0'), tensor(0.3390, device='cuda:0'), tensor(0.3424, device='cuda:0'), tensor(0.4038, device='cuda:0'), tensor(0.3483, device='cuda:0'), tensor(0.4317, device='cuda:0'), tensor(0.5000, device='cuda:0'), tensor(0.4036, device='cuda:0'), tensor(0.1753, device='cuda:0'), tensor(0.4189, device='cuda:0'), tensor(0.3693, device='cuda:0'), tensor(0.0036, device='cuda:0'), tensor(2.3364e-05, device='cuda:0'), tensor(0.0130, device='cuda:0'), tensor(0.0057, device='cuda:0'), tensor(0.0997, device='cuda:0'), tensor(0.0721, device='cuda:0'), tensor(0.0763, device='cuda:0'), tensor(0.0004, device='cuda:0'), tensor(0.0002, device='cuda:0'), tensor(0.0002, device='cuda:0'), tensor(5.0492e-05, device='cuda:0'), tensor(0.0007, device='cuda:0'), tensor(0., device='cuda:0'), tensor(0., device='cuda:0'), tensor(0., device='cuda:0'), tensor(0., device='cuda:0'), tensor(0., device='cuda:0'), tensor(0., device='cuda:0'), tensor(0., device='cuda:0'), tensor(0., device='cuda:0'), tensor(0., device='cuda:0'), tensor(0., device='cuda:0'), tensor(0., device='cuda:0'), tensor(0., device='cuda:0'), tensor(0., device='cuda:0'), tensor(0.0001, device='cuda:0'), tensor(0., device='cuda:0'), tensor(0., device='cuda:0'), tensor(0.0003, device='cuda:0'), tensor(0., device='cuda:0'), tensor(0.0009, device='cuda:0'), tensor(0., device='cuda:0'), tensor(0., device='cuda:0'), tensor(0., device='cuda:0'), tensor(0., device='cuda:0'), tensor(0., device='cuda:0'), tensor(0., device='cuda:0'), tensor(0., device='cuda:0'), tensor(0., device='cuda:0'), tensor(0.0012, device='cuda:0'), tensor(0., device='cuda:0'), tensor(0.0002, device='cuda:0'), tensor(0., device='cuda:0'), tensor(0., device='cuda:0'), tensor(0., device='cuda:0'), tensor(0., device='cuda:0'), tensor(0., device='cuda:0'), tensor(0., device='cuda:0'), tensor(0., device='cuda:0'), tensor(0., device='cuda:0'), tensor(0., device='cuda:0'), tensor(0., device='cuda:0'), tensor(0., device='cuda:0'), tensor(0., device='cuda:0'), tensor(0., device='cuda:0'), tensor(0., device='cuda:0'), tensor(0., device='cuda:0'), tensor(0., device='cuda:0'), tensor(0., device='cuda:0'), tensor(0., device='cuda:0'), tensor(0., device='cuda:0'), tensor(0., device='cuda:0'), tensor(0., device='cuda:0'), tensor(0., device='cuda:0'), tensor(0., device='cuda:0'), tensor(0., device='cuda:0'), tensor(0., device='cuda:0'), tensor(0., device='cuda:0'), tensor(0., device='cuda:0'), tensor(0., device='cuda:0'), tensor(0., device='cuda:0'), tensor(0., device='cuda:0'), tensor(0., device='cuda:0'), tensor(0., device='cuda:0'), tensor(0., device='cuda:0'), tensor(0., device='cuda:0'), tensor(0., device='cuda:0'), tensor(0., device='cuda:0'), tensor(0., device='cuda:0'), tensor(0., device='cuda:0'), tensor(0., device='cuda:0'), tensor(0., device='cuda:0'), tensor(0., device='cuda:0'), tensor(0., device='cuda:0'), tensor(0., device='cuda:0'), tensor(0., device='cuda:0'), tensor(0., device='cuda:0'), tensor(0., device='cuda:0'), tensor(0., device='cuda:0'), tensor(0., device='cuda:0'), tensor(0., device='cuda:0'), tensor(0., device='cuda:0'), tensor(0., device='cuda:0'), tensor(0., device='cuda:0'), tensor(0., device='cuda:0'), tensor(0., device='cuda:0'), tensor(0., device='cuda:0'), tensor(0., device='cuda:0'), tensor(0., device='cuda:0'), tensor(0., device='cuda:0'), tensor(0., device='cuda:0'), tensor(0., device='cuda:0'), tensor(0., device='cuda:0'), tensor(0., device='cuda:0'), tensor(0., device='cuda:0'), tensor(0., device='cuda:0'), tensor(0., device='cuda:0'), tensor(0., device='cuda:0'), tensor(0., device='cuda:0'), tensor(0., device='cuda:0'), tensor(0., device='cuda:0'), tensor(0., device='cuda:0'), tensor(3.6233e-05, device='cuda:0'), tensor(0., device='cuda:0'), tensor(0., device='cuda:0'), tensor(0., device='cuda:0'), tensor(0., device='cuda:0'), tensor(0., device='cuda:0'), tensor(0., device='cuda:0'), tensor(0., device='cuda:0'), tensor(0., device='cuda:0'), tensor(0., device='cuda:0'), tensor(0., device='cuda:0'), tensor(0., device='cuda:0'), tensor(0., device='cuda:0'), tensor(0., device='cuda:0'), tensor(0., device='cuda:0'), tensor(0., device='cuda:0'), tensor(0.0007, device='cuda:0'), tensor(0., device='cuda:0'), tensor(0., device='cuda:0'), tensor(0., device='cuda:0'), tensor(0., device='cuda:0'), tensor(0., device='cuda:0'), tensor(0.0002, device='cuda:0'), tensor(0., device='cuda:0'), tensor(0., device='cuda:0'), tensor(0., device='cuda:0'), tensor(0., device='cuda:0'), tensor(0., device='cuda:0'), tensor(0.0003, device='cuda:0'), tensor(0.0012, device='cuda:0'), tensor(0.0001, device='cuda:0'), tensor(0.0010, device='cuda:0'), tensor(0.0022, device='cuda:0'), tensor(0.0030, device='cuda:0'), tensor(0.0025, device='cuda:0'), tensor(0., device='cuda:0'), tensor(0., device='cuda:0'), tensor(0.0011, device='cuda:0'), tensor(0.0030, device='cuda:0'), tensor(0., device='cuda:0'), tensor(0.0022, device='cuda:0'), tensor(0.0077, device='cuda:0'), tensor(0.0032, device='cuda:0'), tensor(0.0034, device='cuda:0'), tensor(0.0019, device='cuda:0'), tensor(0.0090, device='cuda:0'), tensor(0.0021, device='cuda:0'), tensor(0., device='cuda:0'), tensor(0., device='cuda:0'), tensor(0.0068, device='cuda:0'), tensor(0.0390, device='cuda:0'), tensor(0.0017, device='cuda:0'), tensor(0.0245, device='cuda:0'), tensor(0.0149, device='cuda:0'), tensor(0.0133, device='cuda:0'), tensor(0.0002, device='cuda:0'), tensor(0.0084, device='cuda:0'), tensor(0., device='cuda:0'), tensor(0.0036, device='cuda:0'), tensor(0.0062, device='cuda:0'), tensor(0.0390, device='cuda:0'), tensor(0.0363, device='cuda:0'), tensor(0.0014, device='cuda:0'), tensor(0.0048, device='cuda:0'), tensor(0.0060, device='cuda:0'), tensor(0.0130, device='cuda:0'), tensor(0.0231, device='cuda:0'), tensor(0.0512, device='cuda:0'), tensor(0.0843, device='cuda:0'), tensor(0.0269, device='cuda:0'), tensor(0.0357, device='cuda:0'), tensor(0.0560, device='cuda:0'), tensor(0.0599, device='cuda:0'), tensor(0.0682, device='cuda:0'), tensor(0.1137, device='cuda:0'), tensor(0.0886, device='cuda:0'), tensor(0.1317, device='cuda:0'), tensor(0.1622, device='cuda:0'), tensor(0.1582, device='cuda:0'), tensor(0.1464, device='cuda:0'), tensor(0.1846, device='cuda:0'), tensor(0.1496, device='cuda:0'), tensor(0.1280, device='cuda:0'), tensor(0.2835, device='cuda:0'), tensor(0.1343, device='cuda:0'), tensor(0.1916, device='cuda:0'), tensor(0.1479, device='cuda:0'), tensor(0.2949, device='cuda:0'), tensor(0.1403, device='cuda:0'), tensor(0.1063, device='cuda:0'), tensor(0.2048, device='cuda:0'), tensor(0.2572, device='cuda:0'), tensor(0.1533, device='cuda:0'), tensor(0.2322, device='cuda:0'), tensor(0.2114, device='cuda:0'), tensor(0.2132, device='cuda:0'), tensor(0.2000, device='cuda:0'), tensor(0.1197, device='cuda:0'), tensor(0.2517, device='cuda:0'), tensor(0.1890, device='cuda:0'), tensor(0.2242, device='cuda:0'), tensor(0.1722, device='cuda:0'), tensor(0.3151, device='cuda:0'), tensor(0.2051, device='cuda:0'), tensor(0.4239, device='cuda:0'), tensor(0.1487, device='cuda:0'), tensor(0.1525, device='cuda:0'), tensor(0.2156, device='cuda:0'), tensor(0.3064, device='cuda:0'), tensor(0.3734, device='cuda:0'), tensor(0.1910, device='cuda:0'), tensor(0.2149, device='cuda:0'), tensor(0.1875, device='cuda:0'), tensor(0.2564, device='cuda:0'), tensor(0.1807, device='cuda:0'), tensor(0.3304, device='cuda:0'), tensor(0.3051, device='cuda:0'), tensor(0.2168, device='cuda:0'), tensor(0.2886, device='cuda:0'), tensor(0.2000, device='cuda:0'), tensor(0.3096, device='cuda:0'), tensor(0.2808, device='cuda:0'), tensor(0.1873, device='cuda:0'), tensor(0.2862, device='cuda:0'), tensor(0.2203, device='cuda:0'), tensor(0.2329, device='cuda:0'), tensor(0.3789, device='cuda:0'), tensor(0.3121, device='cuda:0'), tensor(0.3195, device='cuda:0'), tensor(0.2883, device='cuda:0'), tensor(0.1843, device='cuda:0'), tensor(0.3688, device='cuda:0'), tensor(0.1491, device='cuda:0'), tensor(0.2497, device='cuda:0'), tensor(0.3734, device='cuda:0'), tensor(0.2046, device='cuda:0'), tensor(0.0947, device='cuda:0'), tensor(0.1261, device='cuda:0'), tensor(0.1335, device='cuda:0'), tensor(0.1710, device='cuda:0'), tensor(0.1375, device='cuda:0'), tensor(0.1892, device='cuda:0'), tensor(0.1807, device='cuda:0'), tensor(0.2564, device='cuda:0'), tensor(0.3136, device='cuda:0'), tensor(0.3441, device='cuda:0'), tensor(0.3057, device='cuda:0'), tensor(0.2383, device='cuda:0'), tensor(0.2831, device='cuda:0'), tensor(0.3004, device='cuda:0'), tensor(0.3138, device='cuda:0'), tensor(0.2960, device='cuda:0'), tensor(0.3104, device='cuda:0'), tensor(0.4376, device='cuda:0'), tensor(0.4672, device='cuda:0'), tensor(0.4407, device='cuda:0'), tensor(0.2776, device='cuda:0'), tensor(0.3321, device='cuda:0'), tensor(0.3629, device='cuda:0'), tensor(0.2906, device='cuda:0'), tensor(0.3355, device='cuda:0'), tensor(0.3430, device='cuda:0'), tensor(0.3287, device='cuda:0'), tensor(0.3699, device='cuda:0'), tensor(0.1843, device='cuda:0'), tensor(0.2939, device='cuda:0'), tensor(0.2621, device='cuda:0'), tensor(0.3150, device='cuda:0'), tensor(0.3372, device='cuda:0'), tensor(0.2785, device='cuda:0'), tensor(0.3538, device='cuda:0'), tensor(0.2560, device='cuda:0'), tensor(0.3356, device='cuda:0'), tensor(0.3265, device='cuda:0'), tensor(0.2457, device='cuda:0'), tensor(0.3708, device='cuda:0'), tensor(0.3420, device='cuda:0'), tensor(0.3179, device='cuda:0'), tensor(0.2852, device='cuda:0'), tensor(0.3775, device='cuda:0'), tensor(0.2861, device='cuda:0'), tensor(0.2727, device='cuda:0'), tensor(0.3642, device='cuda:0'), tensor(0.2717, device='cuda:0'), tensor(0.3893, device='cuda:0'), tensor(0.4035, device='cuda:0'), tensor(0.3431, device='cuda:0'), tensor(0.3196, device='cuda:0'), tensor(0.2926, device='cuda:0'), tensor(0.2523, device='cuda:0'), tensor(0.3934, device='cuda:0'), tensor(0.4025, device='cuda:0'), tensor(0.2896, device='cuda:0'), tensor(0.3367, device='cuda:0'), tensor(0.2699, device='cuda:0'), tensor(0.4341, device='cuda:0'), tensor(0.3069, device='cuda:0'), tensor(0.4592, device='cuda:0'), tensor(0.5074, device='cuda:0'), tensor(0.3110, device='cuda:0'), tensor(0.3870, device='cuda:0'), tensor(0.5396, device='cuda:0'), tensor(0.4294, device='cuda:0'), tensor(0.3348, device='cuda:0'), tensor(0.4409, device='cuda:0'), tensor(0.3888, device='cuda:0'), tensor(0.4585, device='cuda:0'), tensor(0.3260, device='cuda:0'), tensor(0.3590, device='cuda:0'), tensor(0.2963, device='cuda:0'), tensor(0.2881, device='cuda:0'), tensor(0.3484, device='cuda:0'), tensor(0.4562, device='cuda:0'), tensor(0.2758, device='cuda:0'), tensor(0.2685, device='cuda:0'), tensor(0.3075, device='cuda:0'), tensor(0.3597, device='cuda:0'), tensor(0.3133, device='cuda:0'), tensor(0.3538, device='cuda:0'), tensor(0.3589, device='cuda:0'), tensor(0.3487, device='cuda:0'), tensor(0.4353, device='cuda:0'), tensor(0.4167, device='cuda:0'), tensor(0.4106, device='cuda:0'), tensor(0.3869, device='cuda:0'), tensor(0.3796, device='cuda:0'), tensor(0.2922, device='cuda:0'), tensor(0.4713, device='cuda:0'), tensor(0.4546, device='cuda:0'), tensor(0.4328, device='cuda:0'), tensor(0.1518, device='cuda:0'), tensor(0.1517, device='cuda:0'), tensor(0.2087, device='cuda:0'), tensor(0.2482, device='cuda:0'), tensor(0.2244, device='cuda:0'), tensor(0.2485, device='cuda:0'), tensor(0.2520, device='cuda:0'), tensor(0.2957, device='cuda:0'), tensor(0.2674, device='cuda:0'), tensor(0.2164, device='cuda:0'), tensor(0.3545, device='cuda:0'), tensor(0.2576, device='cuda:0'), tensor(0.4254, device='cuda:0'), tensor(0.4057, device='cuda:0'), tensor(0.3735, device='cuda:0'), tensor(0.4023, device='cuda:0'), tensor(0.3656, device='cuda:0'), tensor(0.3988, device='cuda:0'), tensor(0.2928, device='cuda:0'), tensor(0.5691, device='cuda:0'), tensor(0.3662, device='cuda:0'), tensor(0.5002, device='cuda:0'), tensor(0.4213, device='cuda:0'), tensor(0.4325, device='cuda:0'), tensor(0.4927, device='cuda:0'), tensor(0.4749, device='cuda:0'), tensor(0.4103, device='cuda:0'), tensor(0.3673, device='cuda:0'), tensor(0.5440, device='cuda:0'), tensor(0.2608, device='cuda:0'), tensor(0.3837, device='cuda:0'), tensor(0.3426, device='cuda:0'), tensor(0.3602, device='cuda:0'), tensor(0.3535, device='cuda:0'), tensor(0.3703, device='cuda:0'), tensor(0.4445, device='cuda:0'), tensor(0.3320, device='cuda:0'), tensor(0.3699, device='cuda:0'), tensor(0.2915, device='cuda:0'), tensor(0.3982, device='cuda:0'), tensor(0.3464, device='cuda:0'), tensor(0.3131, device='cuda:0'), tensor(0.5262, device='cuda:0'), tensor(0.3439, device='cuda:0'), tensor(0.3860, device='cuda:0'), tensor(0.3751, device='cuda:0'), tensor(0.3472, device='cuda:0'), tensor(0.4043, device='cuda:0'), tensor(0.4061, device='cuda:0'), tensor(0.3972, device='cuda:0'), tensor(0.3883, device='cuda:0'), tensor(0.4682, device='cuda:0'), tensor(0.3993, device='cuda:0'), tensor(0.4565, device='cuda:0'), tensor(0.5078, device='cuda:0'), tensor(0.4735, device='cuda:0'), tensor(0.3829, device='cuda:0'), tensor(0.4229, device='cuda:0'), tensor(0.4153, device='cuda:0'), tensor(0.4190, device='cuda:0'), tensor(0.4993, device='cuda:0'), tensor(0.4225, device='cuda:0'), tensor(0.4994, device='cuda:0'), tensor(0.4659, device='cuda:0'), tensor(0.4451, device='cuda:0'), tensor(0.4828, device='cuda:0'), tensor(0.4285, device='cuda:0'), tensor(0.3335, device='cuda:0'), tensor(0.5164, device='cuda:0'), tensor(0.4390, device='cuda:0'), tensor(0.4741, device='cuda:0'), tensor(0.4732, device='cuda:0'), tensor(0.4443, device='cuda:0'), tensor(0.3506, device='cuda:0'), tensor(0.4749, device='cuda:0'), tensor(0.3515, device='cuda:0'), tensor(0.4936, device='cuda:0'), tensor(0.3763, device='cuda:0'), tensor(0.3242, device='cuda:0'), tensor(0.3882, device='cuda:0'), tensor(0.5423, device='cuda:0'), tensor(0.3576, device='cuda:0'), tensor(0.3953, device='cuda:0'), tensor(0.4101, device='cuda:0'), tensor(0.4566, device='cuda:0'), tensor(0.4627, device='cuda:0'), tensor(0.4404, device='cuda:0'), tensor(0.4072, device='cuda:0'), tensor(0.4232, device='cuda:0'), tensor(0.3817, device='cuda:0'), tensor(0.4508, device='cuda:0'), tensor(0.4395, device='cuda:0'), tensor(0.4274, device='cuda:0'), tensor(0.4289, device='cuda:0'), tensor(0.4071, device='cuda:0'), tensor(0.4233, device='cuda:0'), tensor(0.4482, device='cuda:0'), tensor(0.4377, device='cuda:0'), tensor(0.4600, device='cuda:0'), tensor(0.4528, device='cuda:0'), tensor(0.4230, device='cuda:0'), tensor(0.4276, device='cuda:0'), tensor(0.4910, device='cuda:0'), tensor(0.4772, device='cuda:0'), tensor(0.4339, device='cuda:0'), tensor(0.4183, device='cuda:0'), tensor(0.4322, device='cuda:0'), tensor(0.3651, device='cuda:0'), tensor(0.4180, device='cuda:0'), tensor(0.4129, device='cuda:0'), tensor(0.4693, device='cuda:0'), tensor(0.4565, device='cuda:0'), tensor(0.4289, device='cuda:0'), tensor(0.4265, device='cuda:0'), tensor(0.4499, device='cuda:0'), tensor(0.3883, device='cuda:0'), tensor(0.4275, device='cuda:0'), tensor(0.4869, device='cuda:0'), tensor(0.4493, device='cuda:0'), tensor(0.4385, device='cuda:0'), tensor(0.4496, device='cuda:0'), tensor(0.4631, device='cuda:0'), tensor(0.4175, device='cuda:0'), tensor(0.4532, device='cuda:0'), tensor(0.4411, device='cuda:0'), tensor(0.4140, device='cuda:0'), tensor(0.4263, device='cuda:0'), tensor(0.4210, device='cuda:0'), tensor(0.4436, device='cuda:0'), tensor(0.3790, device='cuda:0'), tensor(0.4509, device='cuda:0'), tensor(0.4424, device='cuda:0'), tensor(0.4420, device='cuda:0'), tensor(0.4133, device='cuda:0'), tensor(0.4417, device='cuda:0'), tensor(0.4511, device='cuda:0'), tensor(0.4233, device='cuda:0'), tensor(0.4496, device='cuda:0'), tensor(0.4328, device='cuda:0'), tensor(0.4144, device='cuda:0'), tensor(0.4099, device='cuda:0'), tensor(0.4465, device='cuda:0'), tensor(0.4202, device='cuda:0'), tensor(0.4283, device='cuda:0'), tensor(0.4663, device='cuda:0'), tensor(0.4277, device='cuda:0'), tensor(0.4072, device='cuda:0'), tensor(0.3830, device='cuda:0'), tensor(0.4172, device='cuda:0'), tensor(0.4141, device='cuda:0'), tensor(0.4281, device='cuda:0'), tensor(0.4147, device='cuda:0'), tensor(0.4534, device='cuda:0'), tensor(0.4357, device='cuda:0'), tensor(0.4332, device='cuda:0'), tensor(0.4226, device='cuda:0'), tensor(0.3877, device='cuda:0'), tensor(0.4926, device='cuda:0'), tensor(0.3943, device='cuda:0'), tensor(0.3962, device='cuda:0'), tensor(0.4664, device='cuda:0'), tensor(0.4423, device='cuda:0'), tensor(0.4628, device='cuda:0'), tensor(0.4543, device='cuda:0'), tensor(0.4295, device='cuda:0'), tensor(0.4554, device='cuda:0'), tensor(0.4535, device='cuda:0'), tensor(0.4231, device='cuda:0'), tensor(0.4146, device='cuda:0'), tensor(0.4102, device='cuda:0')], [tensor(0.0202, device='cuda:0'), tensor(0.0235, device='cuda:0'), tensor(0.0221, device='cuda:0'), tensor(0.0210, device='cuda:0'), tensor(0.0198, device='cuda:0'), tensor(0.0183, device='cuda:0'), tensor(0.0223, device='cuda:0'), tensor(0.0240, device='cuda:0'), tensor(0.0305, device='cuda:0'), tensor(0.0387, device='cuda:0'), tensor(0.0397, device='cuda:0'), tensor(0.0559, device='cuda:0'), tensor(0.0552, device='cuda:0'), tensor(0.0664, device='cuda:0'), tensor(0.0758, device='cuda:0'), tensor(0.1370, device='cuda:0'), tensor(0.1110, device='cuda:0'), tensor(0.1725, device='cuda:0'), tensor(0.2847, device='cuda:0'), tensor(0.8296, device='cuda:0'), tensor(0.1424, device='cuda:0'), tensor(0.1544, device='cuda:0'), tensor(0.0452, device='cuda:0'), tensor(0.0860, device='cuda:0'), tensor(0.1518, device='cuda:0'), tensor(0.4162, device='cuda:0'), tensor(0.0257, device='cuda:0'), tensor(0.0195, device='cuda:0'), tensor(0.0228, device='cuda:0'), tensor(0.0198, device='cuda:0'), tensor(0.0195, device='cuda:0'), tensor(0.0186, device='cuda:0'), tensor(0.0194, device='cuda:0'), tensor(0.0165, device='cuda:0'), tensor(0.0162, device='cuda:0'), tensor(0.0170, device='cuda:0'), tensor(0.0187, device='cuda:0'), tensor(0.0132, device='cuda:0'), tensor(0.0176, device='cuda:0'), tensor(0.0197, device='cuda:0'), tensor(0.0213, device='cuda:0'), tensor(0.0270, device='cuda:0'), tensor(0.0326, device='cuda:0'), tensor(0.0271, device='cuda:0'), tensor(0.0203, device='cuda:0'), tensor(0.0324, device='cuda:0'), tensor(0.0485, device='cuda:0'), tensor(0.0747, device='cuda:0'), tensor(0.1987, device='cuda:0'), tensor(0.5535, device='cuda:0'), tensor(0.0195, device='cuda:0'), tensor(0.0090, device='cuda:0'), tensor(0.0095, device='cuda:0'), tensor(0.0335, device='cuda:0'), tensor(0.0240, device='cuda:0'), tensor(0.0135, device='cuda:0'), tensor(0.0107, device='cuda:0'), tensor(0.0299, device='cuda:0'), tensor(0.0415, device='cuda:0'), tensor(0.1794, device='cuda:0'), tensor(0.0191, device='cuda:0'), tensor(0.1233, device='cuda:0'), tensor(0.0043, device='cuda:0'), tensor(0.0082, device='cuda:0'), tensor(0.0134, device='cuda:0'), tensor(0.0200, device='cuda:0'), tensor(0.0295, device='cuda:0'), tensor(0.0493, device='cuda:0'), tensor(0.0533, device='cuda:0'), tensor(0.2171, device='cuda:0'), tensor(0.0591, device='cuda:0'), tensor(0.0412, device='cuda:0'), tensor(0.0256, device='cuda:0'), tensor(0.0256, device='cuda:0'), tensor(0.0315, device='cuda:0'), tensor(0.0252, device='cuda:0'), tensor(0.0202, device='cuda:0'), tensor(0.0205, device='cuda:0'), tensor(0.0177, device='cuda:0'), tensor(0.0162, device='cuda:0'), tensor(0.0144, device='cuda:0'), tensor(0.0314, device='cuda:0'), tensor(0.0256, device='cuda:0'), tensor(0.0178, device='cuda:0'), tensor(0.0424, device='cuda:0'), tensor(0.0335, device='cuda:0'), tensor(0.0963, device='cuda:0'), tensor(0.1461, device='cuda:0'), tensor(0.0108, device='cuda:0'), tensor(0.0126, device='cuda:0'), tensor(0.0128, device='cuda:0'), tensor(0.0160, device='cuda:0'), tensor(0.0160, device='cuda:0'), tensor(0.0174, device='cuda:0'), tensor(0.0170, device='cuda:0'), tensor(0.0215, device='cuda:0'), tensor(0.0172, device='cuda:0'), tensor(0.0179, device='cuda:0'), tensor(0.0206, device='cuda:0'), tensor(0.0154, device='cuda:0'), tensor(0.0285, device='cuda:0'), tensor(0.0362, device='cuda:0'), tensor(0.0442, device='cuda:0'), tensor(0.0550, device='cuda:0'), tensor(0.1180, device='cuda:0'), tensor(0.1422, device='cuda:0'), tensor(0.1951, device='cuda:0'), tensor(0.1514, device='cuda:0'), tensor(0.1163, device='cuda:0'), tensor(0.1535, device='cuda:0'), tensor(0.3382, device='cuda:0'), tensor(0.1296, device='cuda:0'), tensor(0.1231, device='cuda:0'), tensor(0.2081, device='cuda:0'), tensor(0.3051, device='cuda:0'), tensor(0.7229, device='cuda:0'), tensor(0.1139, device='cuda:0'), tensor(0.0280, device='cuda:0'), tensor(0.0285, device='cuda:0'), tensor(0.0268, device='cuda:0'), tensor(0.0312, device='cuda:0'), tensor(0.0338, device='cuda:0'), tensor(0.0346, device='cuda:0'), tensor(0.0344, device='cuda:0'), tensor(0.0357, device='cuda:0'), tensor(0.0354, device='cuda:0'), tensor(0.0357, device='cuda:0'), tensor(0.0328, device='cuda:0'), tensor(0.0312, device='cuda:0'), tensor(0.0311, device='cuda:0'), tensor(0.0306, device='cuda:0'), tensor(0.0288, device='cuda:0'), tensor(0.0287, device='cuda:0'), tensor(0.0312, device='cuda:0'), tensor(0.0305, device='cuda:0'), tensor(0.0284, device='cuda:0'), tensor(0.0298, device='cuda:0'), tensor(0.0293, device='cuda:0'), tensor(0.0295, device='cuda:0'), tensor(0.0342, device='cuda:0'), tensor(0.0387, device='cuda:0'), tensor(0.0383, device='cuda:0'), tensor(0.0397, device='cuda:0'), tensor(0.0357, device='cuda:0'), tensor(0.0296, device='cuda:0'), tensor(0.0289, device='cuda:0'), tensor(0.0297, device='cuda:0'), tensor(0.0318, device='cuda:0'), tensor(0.0299, device='cuda:0'), tensor(0.0287, device='cuda:0'), tensor(0.0291, device='cuda:0'), tensor(0.0286, device='cuda:0'), tensor(0.0313, device='cuda:0'), tensor(0.0315, device='cuda:0'), tensor(0.0304, device='cuda:0'), tensor(0.0310, device='cuda:0'), tensor(0.0287, device='cuda:0'), tensor(0.0291, device='cuda:0'), tensor(0.0305, device='cuda:0'), tensor(0.0278, device='cuda:0'), tensor(0.0294, device='cuda:0'), tensor(0.0287, device='cuda:0'), tensor(0.0291, device='cuda:0'), tensor(0.0289, device='cuda:0'), tensor(0.0279, device='cuda:0'), tensor(0.0292, device='cuda:0'), tensor(0.0297, device='cuda:0'), tensor(0.0273, device='cuda:0'), tensor(0.0263, device='cuda:0'), tensor(0.0322, device='cuda:0'), tensor(0.0314, device='cuda:0'), tensor(0.0299, device='cuda:0'), tensor(0.0302, device='cuda:0'), tensor(0.0299, device='cuda:0'), tensor(0.0297, device='cuda:0'), tensor(0.0254, device='cuda:0'), tensor(0.0282, device='cuda:0'), tensor(0.0257, device='cuda:0'), tensor(0.0247, device='cuda:0'), tensor(0.0324, device='cuda:0'), tensor(0.0325, device='cuda:0'), tensor(0.0331, device='cuda:0'), tensor(0.0330, device='cuda:0'), tensor(0.0327, device='cuda:0'), tensor(0.0256, device='cuda:0'), tensor(0.0278, device='cuda:0'), tensor(0.0276, device='cuda:0'), tensor(0.0318, device='cuda:0'), tensor(0.0287, device='cuda:0'), tensor(0.0300, device='cuda:0'), tensor(0.0334, device='cuda:0'), tensor(0.0354, device='cuda:0'), tensor(0.0341, device='cuda:0'), tensor(0.0335, device='cuda:0'), tensor(0.0324, device='cuda:0'), tensor(0.0319, device='cuda:0'), tensor(0.0297, device='cuda:0'), tensor(0.0285, device='cuda:0'), tensor(0.0271, device='cuda:0'), tensor(0.0275, device='cuda:0'), tensor(0.0280, device='cuda:0'), tensor(0.0300, device='cuda:0'), tensor(0.0285, device='cuda:0'), tensor(0.0336, device='cuda:0'), tensor(0.0291, device='cuda:0'), tensor(0.0291, device='cuda:0'), tensor(0.0270, device='cuda:0'), tensor(0.0240, device='cuda:0'), tensor(0.0241, device='cuda:0'), tensor(0.0210, device='cuda:0'), tensor(0.0255, device='cuda:0'), tensor(0.0257, device='cuda:0'), tensor(0.0267, device='cuda:0'), tensor(0.0263, device='cuda:0'), tensor(0.0258, device='cuda:0'), tensor(0.0280, device='cuda:0'), tensor(0.0279, device='cuda:0'), tensor(0.0240, device='cuda:0'), tensor(0.0212, device='cuda:0'), tensor(0.0252, device='cuda:0'), tensor(0.0294, device='cuda:0'), tensor(0.0298, device='cuda:0'), tensor(0.0275, device='cuda:0'), tensor(0.0246, device='cuda:0'), tensor(0.0237, device='cuda:0'), tensor(0.0229, device='cuda:0'), tensor(0.0231, device='cuda:0'), tensor(0.0244, device='cuda:0'), tensor(0.0255, device='cuda:0'), tensor(0.0279, device='cuda:0'), tensor(0.0280, device='cuda:0'), tensor(0.0263, device='cuda:0'), tensor(0.0267, device='cuda:0'), tensor(0.0210, device='cuda:0'), tensor(0.0233, device='cuda:0'), tensor(0.0272, device='cuda:0'), tensor(0.0306, device='cuda:0'), tensor(0.0302, device='cuda:0'), tensor(0.0310, device='cuda:0'), tensor(0.0306, device='cuda:0'), tensor(0.0257, device='cuda:0'), tensor(0.0250, device='cuda:0'), tensor(0.0205, device='cuda:0'), tensor(0.0209, device='cuda:0'), tensor(0.0217, device='cuda:0'), tensor(0.0236, device='cuda:0'), tensor(0.0248, device='cuda:0'), tensor(0.0263, device='cuda:0'), tensor(0.0257, device='cuda:0'), tensor(0.0208, device='cuda:0'), tensor(0.0170, device='cuda:0'), tensor(0.0194, device='cuda:0'), tensor(0.0215, device='cuda:0'), tensor(0.0240, device='cuda:0'), tensor(0.0244, device='cuda:0'), tensor(0.0257, device='cuda:0'), tensor(0.0259, device='cuda:0'), tensor(0.0260, device='cuda:0'), tensor(0.0226, device='cuda:0'), tensor(0.0175, device='cuda:0'), tensor(0.0195, device='cuda:0'), tensor(0.0221, device='cuda:0'), tensor(0.0214, device='cuda:0'), tensor(0.0191, device='cuda:0'), tensor(0.0245, device='cuda:0'), tensor(0.0230, device='cuda:0'), tensor(0.0218, device='cuda:0'), tensor(0.0240, device='cuda:0'), tensor(0.0212, device='cuda:0'), tensor(0.0173, device='cuda:0'), tensor(0.0191, device='cuda:0'), tensor(0.0157, device='cuda:0'), tensor(0.0157, device='cuda:0'), tensor(0.0169, device='cuda:0'), tensor(0.0202, device='cuda:0'), tensor(0.0247, device='cuda:0'), tensor(0.0268, device='cuda:0'), tensor(0.0282, device='cuda:0'), tensor(0.0251, device='cuda:0'), tensor(0.0218, device='cuda:0'), tensor(0.0231, device='cuda:0'), tensor(0.0271, device='cuda:0'), tensor(0.0299, device='cuda:0'), tensor(0.0256, device='cuda:0'), tensor(0.0288, device='cuda:0'), tensor(0.0208, device='cuda:0'), tensor(0.0231, device='cuda:0'), tensor(0.0241, device='cuda:0'), tensor(0.0235, device='cuda:0'), tensor(0.0231, device='cuda:0'), tensor(0.0244, device='cuda:0'), tensor(0.0251, device='cuda:0'), tensor(0.0222, device='cuda:0'), tensor(0.0216, device='cuda:0'), tensor(0.0203, device='cuda:0'), tensor(0.0204, device='cuda:0'), tensor(0.0224, device='cuda:0'), tensor(0.0183, device='cuda:0'), tensor(0.0181, device='cuda:0'), tensor(0.0203, device='cuda:0'), tensor(0.0208, device='cuda:0'), tensor(0.0208, device='cuda:0'), tensor(0.0224, device='cuda:0'), tensor(0.0230, device='cuda:0'), tensor(0.0165, device='cuda:0'), tensor(0.0172, device='cuda:0'), tensor(0.0201, device='cuda:0'), tensor(0.0193, device='cuda:0'), tensor(0.0180, device='cuda:0'), tensor(0.0157, device='cuda:0'), tensor(0.0140, device='cuda:0'), tensor(0.0119, device='cuda:0'), tensor(0.0187, device='cuda:0'), tensor(0.0156, device='cuda:0'), tensor(0.0156, device='cuda:0'), tensor(0.0172, device='cuda:0'), tensor(0.0163, device='cuda:0'), tensor(0.0093, device='cuda:0'), tensor(0.0065, device='cuda:0'), tensor(0.0067, device='cuda:0'), tensor(0.0117, device='cuda:0'), tensor(0.0116, device='cuda:0'), tensor(0.0145, device='cuda:0'), tensor(0.0093, device='cuda:0'), tensor(0.0105, device='cuda:0'), tensor(0.0102, device='cuda:0'), tensor(0.0036, device='cuda:0'), tensor(0.0039, device='cuda:0'), tensor(0.0067, device='cuda:0'), tensor(0.0146, device='cuda:0'), tensor(0.0194, device='cuda:0'), tensor(0.0264, device='cuda:0'), tensor(0.0270, device='cuda:0'), tensor(0.0553, device='cuda:0'), tensor(0.0345, device='cuda:0'), tensor(0.0270, device='cuda:0'), tensor(0.0232, device='cuda:0'), tensor(0.0242, device='cuda:0'), tensor(0.0248, device='cuda:0'), tensor(0.0220, device='cuda:0'), tensor(0.0194, device='cuda:0'), tensor(0.0165, device='cuda:0'), tensor(0.0188, device='cuda:0'), tensor(0.0172, device='cuda:0'), tensor(0.0225, device='cuda:0'), tensor(0.0193, device='cuda:0'), tensor(0.0219, device='cuda:0'), tensor(0.0239, device='cuda:0'), tensor(0.0263, device='cuda:0'), tensor(0.0238, device='cuda:0'), tensor(0.0194, device='cuda:0'), tensor(0.0169, device='cuda:0'), tensor(0.0138, device='cuda:0'), tensor(0.0172, device='cuda:0'), tensor(0.0186, device='cuda:0'), tensor(0.0183, device='cuda:0'), tensor(0.0197, device='cuda:0'), tensor(0.0184, device='cuda:0'), tensor(0.0163, device='cuda:0'), tensor(0.0150, device='cuda:0'), tensor(0.0162, device='cuda:0'), tensor(0.0134, device='cuda:0'), tensor(0.0117, device='cuda:0'), tensor(0.0106, device='cuda:0'), tensor(0.0117, device='cuda:0'), tensor(0.0117, device='cuda:0'), tensor(0.0147, device='cuda:0'), tensor(0.0166, device='cuda:0'), tensor(0.0144, device='cuda:0'), tensor(0.0142, device='cuda:0'), tensor(0.0156, device='cuda:0'), tensor(0.0167, device='cuda:0'), tensor(0.0152, device='cuda:0'), tensor(0.0175, device='cuda:0'), tensor(0.0186, device='cuda:0'), tensor(0.0209, device='cuda:0'), tensor(0.0205, device='cuda:0'), tensor(0.0180, device='cuda:0'), tensor(0.0184, device='cuda:0'), tensor(0.0209, device='cuda:0'), tensor(0.0191, device='cuda:0'), tensor(0.0156, device='cuda:0'), tensor(0.0172, device='cuda:0'), tensor(0.0188, device='cuda:0'), tensor(0.0159, device='cuda:0'), tensor(0.0158, device='cuda:0'), tensor(0.0154, device='cuda:0'), tensor(0.0145, device='cuda:0'), tensor(0.0151, device='cuda:0'), tensor(0.0150, device='cuda:0'), tensor(0.0168, device='cuda:0'), tensor(0.0195, device='cuda:0'), tensor(0.0148, device='cuda:0'), tensor(0.0129, device='cuda:0'), tensor(0.0124, device='cuda:0'), tensor(0.0124, device='cuda:0'), tensor(0.0114, device='cuda:0'), tensor(0.0096, device='cuda:0'), tensor(0.0095, device='cuda:0'), tensor(0.0122, device='cuda:0'), tensor(0.0123, device='cuda:0'), tensor(0.0142, device='cuda:0'), tensor(0.0163, device='cuda:0'), tensor(0.0183, device='cuda:0'), tensor(0.0167, device='cuda:0'), tensor(0.0158, device='cuda:0'), tensor(0.0163, device='cuda:0'), tensor(0.0133, device='cuda:0'), tensor(0.0132, device='cuda:0'), tensor(0.0127, device='cuda:0'), tensor(0.0135, device='cuda:0'), tensor(0.0096, device='cuda:0'), tensor(0.0093, device='cuda:0'), tensor(0.0124, device='cuda:0'), tensor(0.0111, device='cuda:0'), tensor(0.0123, device='cuda:0'), tensor(0.0114, device='cuda:0'), tensor(0.0112, device='cuda:0'), tensor(0.0118, device='cuda:0'), tensor(0.0113, device='cuda:0'), tensor(0.0116, device='cuda:0'), tensor(0.0126, device='cuda:0'), tensor(0.0097, device='cuda:0'), tensor(0.0097, device='cuda:0'), tensor(0.0106, device='cuda:0'), tensor(0.0077, device='cuda:0'), tensor(0.0079, device='cuda:0'), tensor(0.0088, device='cuda:0'), tensor(0.0083, device='cuda:0'), tensor(0.0072, device='cuda:0'), tensor(0.0068, device='cuda:0'), tensor(0.0103, device='cuda:0'), tensor(0.0078, device='cuda:0'), tensor(0.0074, device='cuda:0'), tensor(0.0081, device='cuda:0'), tensor(0.0120, device='cuda:0'), tensor(0.0106, device='cuda:0'), tensor(0.0124, device='cuda:0'), tensor(0.0116, device='cuda:0'), tensor(0.0113, device='cuda:0'), tensor(0.0117, device='cuda:0'), tensor(0.0124, device='cuda:0'), tensor(0.0130, device='cuda:0'), tensor(0.0114, device='cuda:0'), tensor(0.0118, device='cuda:0'), tensor(0.0129, device='cuda:0'), tensor(0.0131, device='cuda:0'), tensor(0.0114, device='cuda:0'), tensor(0.0096, device='cuda:0'), tensor(0.0098, device='cuda:0'), tensor(0.0110, device='cuda:0'), tensor(0.0124, device='cuda:0'), tensor(0.0104, device='cuda:0'), tensor(0.0098, device='cuda:0'), tensor(0.0116, device='cuda:0'), tensor(0.0136, device='cuda:0'), tensor(0.0112, device='cuda:0'), tensor(0.0105, device='cuda:0'), tensor(0.0104, device='cuda:0'), tensor(0.0107, device='cuda:0'), tensor(0.0111, device='cuda:0'), tensor(0.0119, device='cuda:0'), tensor(0.0109, device='cuda:0'), tensor(0.0094, device='cuda:0'), tensor(0.0060, device='cuda:0'), tensor(0.0055, device='cuda:0'), tensor(0.0040, device='cuda:0'), tensor(0.0049, device='cuda:0'), tensor(0.0105, device='cuda:0'), tensor(0.0108, device='cuda:0'), tensor(0.0116, device='cuda:0'), tensor(0.0102, device='cuda:0'), tensor(0.0119, device='cuda:0'), tensor(0.0130, device='cuda:0'), tensor(0.0138, device='cuda:0'), tensor(0.0136, device='cuda:0'), tensor(0.0146, device='cuda:0'), tensor(0.0134, device='cuda:0'), tensor(0.0093, device='cuda:0'), tensor(0.0082, device='cuda:0'), tensor(0.0069, device='cuda:0'), tensor(0.0093, device='cuda:0'), tensor(0.0086, device='cuda:0'), tensor(0.0084, device='cuda:0'), tensor(0.0069, device='cuda:0'), tensor(0.0076, device='cuda:0'), tensor(0.0075, device='cuda:0'), tensor(0.0066, device='cuda:0'), tensor(0.0050, device='cuda:0'), tensor(0.0043, device='cuda:0'), tensor(0.0048, device='cuda:0'), tensor(0.0037, device='cuda:0'), tensor(0.0039, device='cuda:0'), tensor(0.0054, device='cuda:0'), tensor(0.0035, device='cuda:0'), tensor(0.0064, device='cuda:0'), tensor(0.0063, device='cuda:0'), tensor(0.0075, device='cuda:0'), tensor(0.0035, device='cuda:0'), tensor(0.0058, device='cuda:0'), tensor(0.0084, device='cuda:0'), tensor(0.0079, device='cuda:0'), tensor(0.0082, device='cuda:0'), tensor(0.0078, device='cuda:0'), tensor(0.0091, device='cuda:0'), tensor(0.0096, device='cuda:0'), tensor(0.0112, device='cuda:0'), tensor(0.0125, device='cuda:0'), tensor(0.0077, device='cuda:0'), tensor(0.0080, device='cuda:0'), tensor(0.0082, device='cuda:0'), tensor(0.0079, device='cuda:0'), tensor(0.0060, device='cuda:0'), tensor(0.0067, device='cuda:0'), tensor(0.0076, device='cuda:0'), tensor(0.0063, device='cuda:0'), tensor(0.0048, device='cuda:0'), tensor(0.0060, device='cuda:0'), tensor(0.0044, device='cuda:0'), tensor(0.0088, device='cuda:0'), tensor(0.0092, device='cuda:0'), tensor(0.0076, device='cuda:0'), tensor(0.0071, device='cuda:0'), tensor(0.0075, device='cuda:0'), tensor(0.0056, device='cuda:0'), tensor(0.0042, device='cuda:0'), tensor(0.0045, device='cuda:0'), tensor(0.0038, device='cuda:0'), tensor(0.0050, device='cuda:0'), tensor(0.0056, device='cuda:0'), tensor(0.0094, device='cuda:0'), tensor(0.0070, device='cuda:0'), tensor(0.0110, device='cuda:0'), tensor(0.0099, device='cuda:0'), tensor(0.0066, device='cuda:0'), tensor(0.0073, device='cuda:0'), tensor(0.0099, device='cuda:0'), tensor(0.0089, device='cuda:0'), tensor(0.0073, device='cuda:0'), tensor(0.0078, device='cuda:0'), tensor(0.0101, device='cuda:0'), tensor(0.0142, device='cuda:0'), tensor(0.0137, device='cuda:0'), tensor(0.0102, device='cuda:0'), tensor(0.0097, device='cuda:0'), tensor(0.0129, device='cuda:0'), tensor(0.0130, device='cuda:0'), tensor(0.0103, device='cuda:0'), tensor(0.0083, device='cuda:0'), tensor(0.0092, device='cuda:0'), tensor(0.0083, device='cuda:0'), tensor(0.0072, device='cuda:0'), tensor(0.0088, device='cuda:0'), tensor(0.0098, device='cuda:0'), tensor(0.0101, device='cuda:0'), tensor(0.0090, device='cuda:0'), tensor(0.0099, device='cuda:0'), tensor(0.0119, device='cuda:0'), tensor(0.0135, device='cuda:0'), tensor(0.0144, device='cuda:0'), tensor(0.0148, device='cuda:0'), tensor(0.0152, device='cuda:0'), tensor(0.0134, device='cuda:0'), tensor(0.0146, device='cuda:0'), tensor(0.0153, device='cuda:0'), tensor(0.0147, device='cuda:0'), tensor(0.0112, device='cuda:0'), tensor(0.0090, device='cuda:0'), tensor(0.0051, device='cuda:0'), tensor(0.0034, device='cuda:0'), tensor(0.0024, device='cuda:0'), tensor(0.0032, device='cuda:0'), tensor(0.0025, device='cuda:0'), tensor(0.0030, device='cuda:0'), tensor(0.0035, device='cuda:0'), tensor(0.0024, device='cuda:0'), tensor(0.0022, device='cuda:0'), tensor(0.0021, device='cuda:0'), tensor(0.0030, device='cuda:0'), tensor(0.0018, device='cuda:0'), tensor(0.0015, device='cuda:0'), tensor(0.0030, device='cuda:0'), tensor(0.0058, device='cuda:0'), tensor(0.0054, device='cuda:0'), tensor(0.0071, device='cuda:0'), tensor(0.0066, device='cuda:0'), tensor(0.0092, device='cuda:0'), tensor(0.0071, device='cuda:0'), tensor(0.0045, device='cuda:0'), tensor(0.0074, device='cuda:0'), tensor(0.0081, device='cuda:0'), tensor(0.0053, device='cuda:0'), tensor(0.0067, device='cuda:0'), tensor(0.0073, device='cuda:0'), tensor(0.0068, device='cuda:0'), tensor(0.0072, device='cuda:0'), tensor(0.0063, device='cuda:0'), tensor(0.0063, device='cuda:0'), tensor(0.0071, device='cuda:0'), tensor(0.0048, device='cuda:0'), tensor(0.0044, device='cuda:0'), tensor(0.0031, device='cuda:0'), tensor(0.0051, device='cuda:0'), tensor(0.0054, device='cuda:0'), tensor(0.0045, device='cuda:0'), tensor(0.0065, device='cuda:0'), tensor(0.0035, device='cuda:0'), tensor(0.0041, device='cuda:0'), tensor(0.0065, device='cuda:0'), tensor(0.0067, device='cuda:0'), tensor(0.0077, device='cuda:0'), tensor(0.0082, device='cuda:0'), tensor(0.0090, device='cuda:0'), tensor(0.0085, device='cuda:0'), tensor(0.0114, device='cuda:0'), tensor(0.0114, device='cuda:0'), tensor(0.0116, device='cuda:0'), tensor(0.0131, device='cuda:0'), tensor(0.0119, device='cuda:0'), tensor(0.0105, device='cuda:0'), tensor(0.0096, device='cuda:0'), tensor(0.0102, device='cuda:0'), tensor(0.0123, device='cuda:0'), tensor(0.0107, device='cuda:0'), tensor(0.0085, device='cuda:0'), tensor(0.0078, device='cuda:0'), tensor(0.0065, device='cuda:0'), tensor(0.0060, device='cuda:0'), tensor(0.0074, device='cuda:0'), tensor(0.0057, device='cuda:0'), tensor(0.0061, device='cuda:0'), tensor(0.0048, device='cuda:0'), tensor(0.0036, device='cuda:0'), tensor(0.0042, device='cuda:0'), tensor(0.0047, device='cuda:0'), tensor(0.0039, device='cuda:0'), tensor(0.0063, device='cuda:0'), tensor(0.0050, device='cuda:0'), tensor(0.0025, device='cuda:0'), tensor(0.0051, device='cuda:0'), tensor(0.0063, device='cuda:0'), tensor(0.0081, device='cuda:0'), tensor(0.0060, device='cuda:0'), tensor(0.0056, device='cuda:0'), tensor(0.0040, device='cuda:0'), tensor(0.0055, device='cuda:0'), tensor(0.0064, device='cuda:0'), tensor(0.0046, device='cuda:0'), tensor(0.0039, device='cuda:0'), tensor(0.0024, device='cuda:0'), tensor(0.0048, device='cuda:0'), tensor(0.0051, device='cuda:0'), tensor(0.0054, device='cuda:0'), tensor(0.0050, device='cuda:0'), tensor(0.0043, device='cuda:0'), tensor(0.0061, device='cuda:0'), tensor(0.0071, device='cuda:0'), tensor(0.0063, device='cuda:0'), tensor(0.0090, device='cuda:0'), tensor(0.0095, device='cuda:0'), tensor(0.0066, device='cuda:0'), tensor(0.0053, device='cuda:0'), tensor(0.0031, device='cuda:0'), tensor(0.0075, device='cuda:0'), tensor(0.0077, device='cuda:0'), tensor(0.0064, device='cuda:0'), tensor(0.0071, device='cuda:0'), tensor(0.0075, device='cuda:0'), tensor(0.0045, device='cuda:0'), tensor(0.0050, device='cuda:0'), tensor(0.0025, device='cuda:0'), tensor(0.0049, device='cuda:0'), tensor(0.0086, device='cuda:0'), tensor(0.0084, device='cuda:0'), tensor(0.0089, device='cuda:0'), tensor(0.0074, device='cuda:0'), tensor(0.0069, device='cuda:0'), tensor(0.0065, device='cuda:0'), tensor(0.0071, device='cuda:0'), tensor(0.0106, device='cuda:0'), tensor(0.0106, device='cuda:0'), tensor(0.0109, device='cuda:0'), tensor(0.0081, device='cuda:0'), tensor(0.0078, device='cuda:0'), tensor(0.0079, device='cuda:0'), tensor(0.0087, device='cuda:0'), tensor(0.0072, device='cuda:0'), tensor(0.0071, device='cuda:0'), tensor(0.0064, device='cuda:0'), tensor(0.0066, device='cuda:0'), tensor(0.0080, device='cuda:0'), tensor(0.0067, device='cuda:0'), tensor(0.0087, device='cuda:0'), tensor(0.0096, device='cuda:0'), tensor(0.0084, device='cuda:0'), tensor(0.0079, device='cuda:0'), tensor(0.0070, device='cuda:0'), tensor(0.0058, device='cuda:0'), tensor(0.0047, device='cuda:0'), tensor(0.0073, device='cuda:0'), tensor(0.0078, device='cuda:0'), tensor(0.0109, device='cuda:0'), tensor(0.0116, device='cuda:0'), tensor(0.0110, device='cuda:0'), tensor(0.0105, device='cuda:0'), tensor(0.0080, device='cuda:0'), tensor(0.0093, device='cuda:0'), tensor(0.0105, device='cuda:0'), tensor(0.0140, device='cuda:0'), tensor(0.0169, device='cuda:0'), tensor(0.0180, device='cuda:0'), tensor(0.0336, device='cuda:0'), tensor(0.0589, device='cuda:0'), tensor(0.0819, device='cuda:0'), tensor(0.0467, device='cuda:0'), tensor(0.1211, device='cuda:0'), tensor(0.0668, device='cuda:0'), tensor(0.1666, device='cuda:0'), tensor(0.0846, device='cuda:0'), tensor(0.1855, device='cuda:0'), tensor(0.2432, device='cuda:0'), tensor(0.0745, device='cuda:0'), tensor(0.1257, device='cuda:0'), tensor(0.0984, device='cuda:0'), tensor(0.2881, device='cuda:0'), tensor(0.0847, device='cuda:0'), tensor(0.1588, device='cuda:0'), tensor(0.1282, device='cuda:0'), tensor(0.2298, device='cuda:0'), tensor(0.1030, device='cuda:0'), tensor(0.2865, device='cuda:0'), tensor(0.4705, device='cuda:0'), tensor(0.0667, device='cuda:0'), tensor(0.0688, device='cuda:0'), tensor(0.0536, device='cuda:0'), tensor(0.0455, device='cuda:0'), tensor(0.0665, device='cuda:0'), tensor(0.0883, device='cuda:0'), tensor(0.0568, device='cuda:0'), tensor(0.0921, device='cuda:0'), tensor(0.1494, device='cuda:0'), tensor(0.0707, device='cuda:0'), tensor(0.1747, device='cuda:0'), tensor(0.2498, device='cuda:0'), tensor(0.0843, device='cuda:0'), tensor(0.1437, device='cuda:0'), tensor(0.1823, device='cuda:0'), tensor(0.3601, device='cuda:0'), tensor(0.0554, device='cuda:0'), tensor(0.0468, device='cuda:0'), tensor(0.0834, device='cuda:0'), tensor(0.1003, device='cuda:0'), tensor(0.2143, device='cuda:0'), tensor(0.1392, device='cuda:0'), tensor(0.0741, device='cuda:0'), tensor(0.1172, device='cuda:0'), tensor(0.2459, device='cuda:0'), tensor(0.2380, device='cuda:0'), tensor(0.2656, device='cuda:0'), tensor(0.1202, device='cuda:0'), tensor(0.3341, device='cuda:0'), tensor(0.1603, device='cuda:0'), tensor(0.2504, device='cuda:0'), tensor(0.1652, device='cuda:0'), tensor(0.2374, device='cuda:0'), tensor(0.3377, device='cuda:0'), tensor(0.2185, device='cuda:0'), tensor(0.1143, device='cuda:0'), tensor(0.4159, device='cuda:0'), tensor(0.7150, device='cuda:0'), tensor(0.0409, device='cuda:0'), tensor(0.0298, device='cuda:0'), tensor(0.0264, device='cuda:0'), tensor(0.0283, device='cuda:0'), tensor(0.0297, device='cuda:0'), tensor(0.0336, device='cuda:0'), tensor(0.0266, device='cuda:0'), tensor(0.0483, device='cuda:0'), tensor(0.0352, device='cuda:0'), tensor(0.0319, device='cuda:0'), tensor(0.0264, device='cuda:0'), tensor(0.0278, device='cuda:0'), tensor(0.0286, device='cuda:0'), tensor(0.0304, device='cuda:0'), tensor(0.0278, device='cuda:0'), tensor(0.0284, device='cuda:0'), tensor(0.0261, device='cuda:0'), tensor(0.0261, device='cuda:0'), tensor(0.0227, device='cuda:0'), tensor(0.0257, device='cuda:0'), tensor(0.0262, device='cuda:0'), tensor(0.0273, device='cuda:0'), tensor(0.0284, device='cuda:0'), tensor(0.0268, device='cuda:0'), tensor(0.0279, device='cuda:0'), tensor(0.0299, device='cuda:0'), tensor(0.0261, device='cuda:0'), tensor(0.0281, device='cuda:0'), tensor(0.0290, device='cuda:0'), tensor(0.0285, device='cuda:0'), tensor(0.0282, device='cuda:0'), tensor(0.0251, device='cuda:0'), tensor(0.0283, device='cuda:0'), tensor(0.0275, device='cuda:0'), tensor(0.0263, device='cuda:0'), tensor(0.0280, device='cuda:0'), tensor(0.0286, device='cuda:0'), tensor(0.0286, device='cuda:0'), tensor(0.0298, device='cuda:0'), tensor(0.0258, device='cuda:0'), tensor(0.0279, device='cuda:0'), tensor(0.0285, device='cuda:0'), tensor(0.0287, device='cuda:0'), tensor(0.0284, device='cuda:0'), tensor(0.0284, device='cuda:0'), tensor(0.0279, device='cuda:0'), tensor(0.0269, device='cuda:0'), tensor(0.0259, device='cuda:0'), tensor(0.0261, device='cuda:0'), tensor(0.0267, device='cuda:0'), tensor(0.0313, device='cuda:0'), tensor(0.0282, device='cuda:0'), tensor(0.0283, device='cuda:0'), tensor(0.0265, device='cuda:0'), tensor(0.0280, device='cuda:0'), tensor(0.0286, device='cuda:0'), tensor(0.0269, device='cuda:0'), tensor(0.0272, device='cuda:0'), tensor(0.0275, device='cuda:0'), tensor(0.0274, device='cuda:0'), tensor(0.0284, device='cuda:0'), tensor(0.0286, device='cuda:0'), tensor(0.0277, device='cuda:0'), tensor(0.0254, device='cuda:0'), tensor(0.0258, device='cuda:0'), tensor(0.0275, device='cuda:0'), tensor(0.0273, device='cuda:0'), tensor(0.0290, device='cuda:0'), tensor(0.0263, device='cuda:0'), tensor(0.0278, device='cuda:0'), tensor(0.0280, device='cuda:0'), tensor(0.0275, device='cuda:0'), tensor(0.0292, device='cuda:0'), tensor(0.0267, device='cuda:0'), tensor(0.0287, device='cuda:0'), tensor(0.0296, device='cuda:0'), tensor(0.0313, device='cuda:0'), tensor(0.0311, device='cuda:0'), tensor(0.0279, device='cuda:0'), tensor(0.0292, device='cuda:0'), tensor(0.0304, device='cuda:0'), tensor(0.0297, device='cuda:0'), tensor(0.0292, device='cuda:0'), tensor(0.0292, device='cuda:0'), tensor(0.0260, device='cuda:0'), tensor(0.0247, device='cuda:0'), tensor(0.0305, device='cuda:0'), tensor(0.0280, device='cuda:0'), tensor(0.0270, device='cuda:0'), tensor(0.0290, device='cuda:0'), tensor(0.0294, device='cuda:0'), tensor(0.0275, device='cuda:0'), tensor(0.0386, device='cuda:0'), tensor(0.0510, device='cuda:0'), tensor(0.0384, device='cuda:0'), tensor(0.0615, device='cuda:0'), tensor(0.0773, device='cuda:0'), tensor(0.1037, device='cuda:0'), tensor(0.1525, device='cuda:0'), tensor(0.1604, device='cuda:0'), tensor(0.1283, device='cuda:0'), tensor(0.2929, device='cuda:0'), tensor(0.0553, device='cuda:0'), tensor(0.1045, device='cuda:0'), tensor(0.1391, device='cuda:0'), tensor(0.0685, device='cuda:0'), tensor(0.0986, device='cuda:0'), tensor(0.1339, device='cuda:0'), tensor(0.1583, device='cuda:0'), tensor(0.2804, device='cuda:0'), tensor(0.0847, device='cuda:0'), tensor(0.1008, device='cuda:0'), tensor(0.1074, device='cuda:0'), tensor(0.1665, device='cuda:0'), tensor(0.1039, device='cuda:0'), tensor(0.2009, device='cuda:0'), tensor(0.1984, device='cuda:0'), tensor(0.1300, device='cuda:0'), tensor(0.1700, device='cuda:0'), tensor(0.3177, device='cuda:0'), tensor(0.0915, device='cuda:0'), tensor(0.2121, device='cuda:0'), tensor(0.0795, device='cuda:0'), tensor(0.1645, device='cuda:0'), tensor(0.1225, device='cuda:0'), tensor(0.1838, device='cuda:0'), tensor(0.1764, device='cuda:0'), tensor(0.2446, device='cuda:0'), tensor(0.1592, device='cuda:0'), tensor(0.3397, device='cuda:0'), tensor(0.1746, device='cuda:0'), tensor(0.1903, device='cuda:0'), tensor(0.3814, device='cuda:0'), tensor(0.2661, device='cuda:0'), tensor(0.2183, device='cuda:0'), tensor(0.1826, device='cuda:0'), tensor(0.2418, device='cuda:0'), tensor(0.2597, device='cuda:0'), tensor(0.3362, device='cuda:0'), tensor(0.2537, device='cuda:0'), tensor(0.1842, device='cuda:0'), tensor(0.4156, device='cuda:0'), tensor(0.1435, device='cuda:0'), tensor(0.4116, device='cuda:0'), tensor(0.3147, device='cuda:0'), tensor(0.2484, device='cuda:0'), tensor(0.1946, device='cuda:0'), tensor(0.3151, device='cuda:0'), tensor(0.2844, device='cuda:0'), tensor(0.3747, device='cuda:0'), tensor(0.2178, device='cuda:0'), tensor(0.3484, device='cuda:0'), tensor(0.2643, device='cuda:0'), tensor(0.4456, device='cuda:0'), tensor(0.4290, device='cuda:0'), tensor(0.2743, device='cuda:0'), tensor(0.0921, device='cuda:0'), tensor(1.4083, device='cuda:0'), tensor(0.0214, device='cuda:0'), tensor(0.0088, device='cuda:0'), tensor(0.0203, device='cuda:0'), tensor(0.0388, device='cuda:0'), tensor(0.0275, device='cuda:0'), tensor(0.0328, device='cuda:0'), tensor(0.0411, device='cuda:0'), tensor(0.0448, device='cuda:0'), tensor(0.0493, device='cuda:0'), tensor(0.0562, device='cuda:0'), tensor(0.0691, device='cuda:0'), tensor(0.0643, device='cuda:0'), tensor(0.0623, device='cuda:0'), tensor(0.0775, device='cuda:0'), tensor(0.1263, device='cuda:0'), tensor(0.0832, device='cuda:0'), tensor(0.0986, device='cuda:0'), tensor(0.1205, device='cuda:0'), tensor(0.1259, device='cuda:0'), tensor(0.1098, device='cuda:0'), tensor(0.1385, device='cuda:0'), tensor(0.2091, device='cuda:0'), tensor(0.0776, device='cuda:0'), tensor(0.1272, device='cuda:0'), tensor(0.1360, device='cuda:0'), tensor(0.1864, device='cuda:0'), tensor(0.1476, device='cuda:0'), tensor(0.1112, device='cuda:0'), tensor(0.1418, device='cuda:0'), tensor(0.1639, device='cuda:0'), tensor(0.3173, device='cuda:0'), tensor(0.5531, device='cuda:0'), tensor(0.0554, device='cuda:0'), tensor(0.0549, device='cuda:0'), tensor(0.0702, device='cuda:0'), tensor(0.0458, device='cuda:0'), tensor(0.0628, device='cuda:0'), tensor(0.0549, device='cuda:0'), tensor(0.0737, device='cuda:0'), tensor(0.0695, device='cuda:0'), tensor(0.1162, device='cuda:0'), tensor(0.0689, device='cuda:0'), tensor(0.0990, device='cuda:0'), tensor(0.0826, device='cuda:0'), tensor(0.0860, device='cuda:0'), tensor(0.0996, device='cuda:0'), tensor(0.1619, device='cuda:0'), tensor(0.1040, device='cuda:0'), tensor(0.1943, device='cuda:0'), tensor(0.1497, device='cuda:0'), tensor(0.1375, device='cuda:0'), tensor(0.1928, device='cuda:0'), tensor(0.2080, device='cuda:0'), tensor(0.1749, device='cuda:0'), tensor(0.1525, device='cuda:0'), tensor(0.1897, device='cuda:0'), tensor(0.1263, device='cuda:0'), tensor(0.1535, device='cuda:0'), tensor(0.2972, device='cuda:0'), tensor(0.1410, device='cuda:0'), tensor(0.1962, device='cuda:0'), tensor(0.1238, device='cuda:0'), tensor(0.1773, device='cuda:0'), tensor(0.1418, device='cuda:0'), tensor(0.1925, device='cuda:0'), tensor(0.2589, device='cuda:0'), tensor(0.2654, device='cuda:0'), tensor(0.3201, device='cuda:0'), tensor(0.1341, device='cuda:0'), tensor(0.1764, device='cuda:0'), tensor(0.1340, device='cuda:0'), tensor(0.2190, device='cuda:0'), tensor(0.2233, device='cuda:0'), tensor(0.3447, device='cuda:0'), tensor(0.1545, device='cuda:0'), tensor(0.2139, device='cuda:0'), tensor(0.1422, device='cuda:0'), tensor(0.2237, device='cuda:0'), tensor(0.2829, device='cuda:0'), tensor(0.3023, device='cuda:0'), tensor(0.2842, device='cuda:0'), tensor(0.2230, device='cuda:0'), tensor(0.2328, device='cuda:0'), tensor(0.1786, device='cuda:0'), tensor(0.2769, device='cuda:0'), tensor(0.2132, device='cuda:0'), tensor(0.2731, device='cuda:0'), tensor(0.2771, device='cuda:0'), tensor(0.3249, device='cuda:0'), tensor(0.3956, device='cuda:0'), tensor(0.1847, device='cuda:0'), tensor(0.2879, device='cuda:0'), tensor(0.2033, device='cuda:0'), tensor(0.2471, device='cuda:0'), tensor(0.1563, device='cuda:0'), tensor(0.3107, device='cuda:0'), tensor(0.1534, device='cuda:0'), tensor(0.2195, device='cuda:0'), tensor(0.2963, device='cuda:0'), tensor(0.3117, device='cuda:0'), tensor(0.2811, device='cuda:0'), tensor(0.3057, device='cuda:0'), tensor(0.2427, device='cuda:0'), tensor(0.2959, device='cuda:0'), tensor(0.3994, device='cuda:0'), tensor(0.4389, device='cuda:0'), tensor(0.3123, device='cuda:0'), tensor(0.3826, device='cuda:0'), tensor(0.3355, device='cuda:0'), tensor(0.2618, device='cuda:0'), tensor(0.3403, device='cuda:0'), tensor(0.2280, device='cuda:0'), tensor(0.3239, device='cuda:0'), tensor(0.3354, device='cuda:0'), tensor(0.2634, device='cuda:0'), tensor(0.2988, device='cuda:0'), tensor(0.2668, device='cuda:0'), tensor(0.2884, device='cuda:0'), tensor(0.4657, device='cuda:0'), tensor(0.3643, device='cuda:0'), tensor(0.2468, device='cuda:0'), tensor(0.2907, device='cuda:0'), tensor(0.2496, device='cuda:0'), tensor(0.2443, device='cuda:0'), tensor(0.1975, device='cuda:0'), tensor(0.2684, device='cuda:0'), tensor(0.2296, device='cuda:0'), tensor(0.3490, device='cuda:0'), tensor(0.2506, device='cuda:0'), tensor(0.3496, device='cuda:0'), tensor(0.3401, device='cuda:0'), tensor(0.3493, device='cuda:0'), tensor(0.3540, device='cuda:0'), tensor(0.3317, device='cuda:0'), tensor(0.3316, device='cuda:0'), tensor(0.2875, device='cuda:0'), tensor(0.1739, device='cuda:0'), tensor(0.5546, device='cuda:0'), tensor(0.1430, device='cuda:0'), tensor(0.5429, device='cuda:0'), tensor(0.3167, device='cuda:0'), tensor(0.2419, device='cuda:0'), tensor(0.2278, device='cuda:0'), tensor(0.2476, device='cuda:0'), tensor(0.2630, device='cuda:0'), tensor(0.2003, device='cuda:0'), tensor(0.2948, device='cuda:0'), tensor(0.3883, device='cuda:0'), tensor(0.3674, device='cuda:0'), tensor(0.3367, device='cuda:0'), tensor(0.2023, device='cuda:0'), tensor(0.2118, device='cuda:0'), tensor(0.2591, device='cuda:0'), tensor(0.2439, device='cuda:0'), tensor(0.2814, device='cuda:0'), tensor(0.2792, device='cuda:0'), tensor(0.2726, device='cuda:0'), tensor(0.2010, device='cuda:0'), tensor(0.3033, device='cuda:0'), tensor(0.3038, device='cuda:0'), tensor(0.3269, device='cuda:0'), tensor(0.2450, device='cuda:0'), tensor(0.2737, device='cuda:0'), tensor(0.2518, device='cuda:0'), tensor(0.3836, device='cuda:0'), tensor(0.4839, device='cuda:0'), tensor(0.2821, device='cuda:0'), tensor(0.2500, device='cuda:0'), tensor(0.3310, device='cuda:0'), tensor(0.1654, device='cuda:0'), tensor(0.2071, device='cuda:0'), tensor(0.2955, device='cuda:0'), tensor(0.2379, device='cuda:0'), tensor(0.4044, device='cuda:0'), tensor(0.3001, device='cuda:0'), tensor(0.2010, device='cuda:0'), tensor(0.2677, device='cuda:0'), tensor(0.2914, device='cuda:0'), tensor(0.3904, device='cuda:0'), tensor(0.3642, device='cuda:0'), tensor(0.3368, device='cuda:0'), tensor(0.3024, device='cuda:0'), tensor(0.2238, device='cuda:0'), tensor(0.2698, device='cuda:0'), tensor(0.3819, device='cuda:0'), tensor(0.2714, device='cuda:0'), tensor(0.3382, device='cuda:0'), tensor(0.3142, device='cuda:0'), tensor(0.2725, device='cuda:0'), tensor(0.3227, device='cuda:0'), tensor(0.2861, device='cuda:0'), tensor(0.3219, device='cuda:0'), tensor(0.3518, device='cuda:0'), tensor(0.3278, device='cuda:0'), tensor(0.3776, device='cuda:0'), tensor(0.3396, device='cuda:0'), tensor(0.4256, device='cuda:0'), tensor(0.3940, device='cuda:0'), tensor(0.2754, device='cuda:0'), tensor(0.4382, device='cuda:0'), tensor(0.3872, device='cuda:0'), tensor(0.3533, device='cuda:0'), tensor(0.3822, device='cuda:0'), tensor(0.4569, device='cuda:0'), tensor(0.4116, device='cuda:0'), tensor(0.3738, device='cuda:0'), tensor(0.3897, device='cuda:0'), tensor(0.4959, device='cuda:0'), tensor(0.3332, device='cuda:0'), tensor(0.4267, device='cuda:0'), tensor(0.5386, device='cuda:0'), tensor(0.4110, device='cuda:0'), tensor(0.3380, device='cuda:0'), tensor(0.4213, device='cuda:0'), tensor(0.3475, device='cuda:0'), tensor(0.3795, device='cuda:0'), tensor(0.4623, device='cuda:0'), tensor(0.5242, device='cuda:0'), tensor(0.4181, device='cuda:0'), tensor(0.3939, device='cuda:0'), tensor(0.4348, device='cuda:0'), tensor(0.3076, device='cuda:0'), tensor(0.3439, device='cuda:0'), tensor(0.4890, device='cuda:0'), tensor(0.3162, device='cuda:0'), tensor(0.5250, device='cuda:0'), tensor(0.4946, device='cuda:0'), tensor(0.4467, device='cuda:0'), tensor(0.4059, device='cuda:0'), tensor(0.3772, device='cuda:0'), tensor(0.3301, device='cuda:0'), tensor(0.3723, device='cuda:0'), tensor(0.4035, device='cuda:0'), tensor(0.3759, device='cuda:0'), tensor(0.3554, device='cuda:0'), tensor(0.4658, device='cuda:0'), tensor(0.3637, device='cuda:0'), tensor(0.3213, device='cuda:0'), tensor(0.3317, device='cuda:0'), tensor(0.2985, device='cuda:0'), tensor(0.5597, device='cuda:0'), tensor(0.3118, device='cuda:0'), tensor(0.3433, device='cuda:0'), tensor(0.2977, device='cuda:0'), tensor(0.3781, device='cuda:0'), tensor(0.3811, device='cuda:0'), tensor(0.3862, device='cuda:0'), tensor(0.4545, device='cuda:0'), tensor(0.4771, device='cuda:0'), tensor(0.4824, device='cuda:0'), tensor(0.5006, device='cuda:0'), tensor(0.3536, device='cuda:0'), tensor(0.4153, device='cuda:0'), tensor(0.5340, device='cuda:0'), tensor(0.4640, device='cuda:0'), tensor(0.4574, device='cuda:0'), tensor(0.5454, device='cuda:0'), tensor(0.3529, device='cuda:0'), tensor(0.4859, device='cuda:0'), tensor(0.4086, device='cuda:0'), tensor(0.3488, device='cuda:0'), tensor(0.4791, device='cuda:0'), tensor(0.4366, device='cuda:0'), tensor(0.4657, device='cuda:0'), tensor(0.3905, device='cuda:0'), tensor(0.5456, device='cuda:0'), tensor(0.4104, device='cuda:0'), tensor(0.4444, device='cuda:0'), tensor(0.2464, device='cuda:0'), tensor(0.3758, device='cuda:0'), tensor(0.2525, device='cuda:0'), tensor(0.2764, device='cuda:0'), tensor(0.3390, device='cuda:0'), tensor(0.3424, device='cuda:0'), tensor(0.4038, device='cuda:0'), tensor(0.3483, device='cuda:0'), tensor(0.4317, device='cuda:0'), tensor(0.5000, device='cuda:0'), tensor(0.4036, device='cuda:0'), tensor(0.1753, device='cuda:0'), tensor(0.4189, device='cuda:0'), tensor(0.3693, device='cuda:0'), tensor(0.0036, device='cuda:0'), tensor(2.3364e-05, device='cuda:0'), tensor(0.0130, device='cuda:0'), tensor(0.0057, device='cuda:0'), tensor(0.0997, device='cuda:0'), tensor(0.0721, device='cuda:0'), tensor(0.0763, device='cuda:0'), tensor(0.0004, device='cuda:0'), tensor(0.0002, device='cuda:0'), tensor(0.0002, device='cuda:0'), tensor(5.0492e-05, device='cuda:0'), tensor(0.0007, device='cuda:0'), tensor(0., device='cuda:0'), tensor(0., device='cuda:0'), tensor(0., device='cuda:0'), tensor(0., device='cuda:0'), tensor(0., device='cuda:0'), tensor(0., device='cuda:0'), tensor(0., device='cuda:0'), tensor(0., device='cuda:0'), tensor(0., device='cuda:0'), tensor(0., device='cuda:0'), tensor(0., device='cuda:0'), tensor(0., device='cuda:0'), tensor(0., device='cuda:0'), tensor(0.0001, device='cuda:0'), tensor(0., device='cuda:0'), tensor(0., device='cuda:0'), tensor(0.0003, device='cuda:0'), tensor(0., device='cuda:0'), tensor(0.0009, device='cuda:0'), tensor(0., device='cuda:0'), tensor(0., device='cuda:0'), tensor(0., device='cuda:0'), tensor(0., device='cuda:0'), tensor(0., device='cuda:0'), tensor(0., device='cuda:0'), tensor(0., device='cuda:0'), tensor(0., device='cuda:0'), tensor(0.0012, device='cuda:0'), tensor(0., device='cuda:0'), tensor(0.0002, device='cuda:0'), tensor(0., device='cuda:0'), tensor(0., device='cuda:0'), tensor(0., device='cuda:0'), tensor(0., device='cuda:0'), tensor(0., device='cuda:0'), tensor(0., device='cuda:0'), tensor(0., device='cuda:0'), tensor(0., device='cuda:0'), tensor(0., device='cuda:0'), tensor(0., device='cuda:0'), tensor(0., device='cuda:0'), tensor(0., device='cuda:0'), tensor(0., device='cuda:0'), tensor(0., device='cuda:0'), tensor(0., device='cuda:0'), tensor(0., device='cuda:0'), tensor(0., device='cuda:0'), tensor(0., device='cuda:0'), tensor(0., device='cuda:0'), tensor(0., device='cuda:0'), tensor(0., device='cuda:0'), tensor(0., device='cuda:0'), tensor(0., device='cuda:0'), tensor(0., device='cuda:0'), tensor(0., device='cuda:0'), tensor(0., device='cuda:0'), tensor(0., device='cuda:0'), tensor(0., device='cuda:0'), tensor(0., device='cuda:0'), tensor(0., device='cuda:0'), tensor(0., device='cuda:0'), tensor(0., device='cuda:0'), tensor(0., device='cuda:0'), tensor(0., device='cuda:0'), tensor(0., device='cuda:0'), tensor(0., device='cuda:0'), tensor(0., device='cuda:0'), tensor(0., device='cuda:0'), tensor(0., device='cuda:0'), tensor(0., device='cuda:0'), tensor(0., device='cuda:0'), tensor(0., device='cuda:0'), tensor(0., device='cuda:0'), tensor(0., device='cuda:0'), tensor(0., device='cuda:0'), tensor(0., device='cuda:0'), tensor(0., device='cuda:0'), tensor(0., device='cuda:0'), tensor(0., device='cuda:0'), tensor(0., device='cuda:0'), tensor(0., device='cuda:0'), tensor(0., device='cuda:0'), tensor(0., device='cuda:0'), tensor(0., device='cuda:0'), tensor(0., device='cuda:0'), tensor(0., device='cuda:0'), tensor(0., device='cuda:0'), tensor(0., device='cuda:0'), tensor(0., device='cuda:0'), tensor(0., device='cuda:0'), tensor(0., device='cuda:0'), tensor(0., device='cuda:0'), tensor(0., device='cuda:0'), tensor(0., device='cuda:0'), tensor(0., device='cuda:0'), tensor(0., device='cuda:0'), tensor(0., device='cuda:0'), tensor(0., device='cuda:0'), tensor(0., device='cuda:0'), tensor(0., device='cuda:0'), tensor(3.6233e-05, device='cuda:0'), tensor(0., device='cuda:0'), tensor(0., device='cuda:0'), tensor(0., device='cuda:0'), tensor(0., device='cuda:0'), tensor(0., device='cuda:0'), tensor(0., device='cuda:0'), tensor(0., device='cuda:0'), tensor(0., device='cuda:0'), tensor(0., device='cuda:0'), tensor(0., device='cuda:0'), tensor(0., device='cuda:0'), tensor(0., device='cuda:0'), tensor(0., device='cuda:0'), tensor(0., device='cuda:0'), tensor(0., device='cuda:0'), tensor(0.0007, device='cuda:0'), tensor(0., device='cuda:0'), tensor(0., device='cuda:0'), tensor(0., device='cuda:0'), tensor(0., device='cuda:0'), tensor(0., device='cuda:0'), tensor(0.0002, device='cuda:0'), tensor(0., device='cuda:0'), tensor(0., device='cuda:0'), tensor(0., device='cuda:0'), tensor(0., device='cuda:0'), tensor(0., device='cuda:0'), tensor(0.0003, device='cuda:0'), tensor(0.0012, device='cuda:0'), tensor(0.0001, device='cuda:0'), tensor(0.0010, device='cuda:0'), tensor(0.0022, device='cuda:0'), tensor(0.0030, device='cuda:0'), tensor(0.0025, device='cuda:0'), tensor(0., device='cuda:0'), tensor(0., device='cuda:0'), tensor(0.0011, device='cuda:0'), tensor(0.0030, device='cuda:0'), tensor(0., device='cuda:0'), tensor(0.0022, device='cuda:0'), tensor(0.0077, device='cuda:0'), tensor(0.0032, device='cuda:0'), tensor(0.0034, device='cuda:0'), tensor(0.0019, device='cuda:0'), tensor(0.0090, device='cuda:0'), tensor(0.0021, device='cuda:0'), tensor(0., device='cuda:0'), tensor(0., device='cuda:0'), tensor(0.0068, device='cuda:0'), tensor(0.0390, device='cuda:0'), tensor(0.0017, device='cuda:0'), tensor(0.0245, device='cuda:0'), tensor(0.0149, device='cuda:0'), tensor(0.0133, device='cuda:0'), tensor(0.0002, device='cuda:0'), tensor(0.0084, device='cuda:0'), tensor(0., device='cuda:0'), tensor(0.0036, device='cuda:0'), tensor(0.0062, device='cuda:0'), tensor(0.0390, device='cuda:0'), tensor(0.0363, device='cuda:0'), tensor(0.0014, device='cuda:0'), tensor(0.0048, device='cuda:0'), tensor(0.0060, device='cuda:0'), tensor(0.0130, device='cuda:0'), tensor(0.0231, device='cuda:0'), tensor(0.0512, device='cuda:0'), tensor(0.0843, device='cuda:0'), tensor(0.0269, device='cuda:0'), tensor(0.0357, device='cuda:0'), tensor(0.0560, device='cuda:0'), tensor(0.0599, device='cuda:0'), tensor(0.0682, device='cuda:0'), tensor(0.1137, device='cuda:0'), tensor(0.0886, device='cuda:0'), tensor(0.1317, device='cuda:0'), tensor(0.1622, device='cuda:0'), tensor(0.1582, device='cuda:0'), tensor(0.1464, device='cuda:0'), tensor(0.1846, device='cuda:0'), tensor(0.1496, device='cuda:0'), tensor(0.1280, device='cuda:0'), tensor(0.2835, device='cuda:0'), tensor(0.1343, device='cuda:0'), tensor(0.1916, device='cuda:0'), tensor(0.1479, device='cuda:0'), tensor(0.2949, device='cuda:0'), tensor(0.1403, device='cuda:0'), tensor(0.1063, device='cuda:0'), tensor(0.2048, device='cuda:0'), tensor(0.2572, device='cuda:0'), tensor(0.1533, device='cuda:0'), tensor(0.2322, device='cuda:0'), tensor(0.2114, device='cuda:0'), tensor(0.2132, device='cuda:0'), tensor(0.2000, device='cuda:0'), tensor(0.1197, device='cuda:0'), tensor(0.2517, device='cuda:0'), tensor(0.1890, device='cuda:0'), tensor(0.2242, device='cuda:0'), tensor(0.1722, device='cuda:0'), tensor(0.3151, device='cuda:0'), tensor(0.2051, device='cuda:0'), tensor(0.4239, device='cuda:0'), tensor(0.1487, device='cuda:0'), tensor(0.1525, device='cuda:0'), tensor(0.2156, device='cuda:0'), tensor(0.3064, device='cuda:0'), tensor(0.3734, device='cuda:0'), tensor(0.1910, device='cuda:0'), tensor(0.2149, device='cuda:0'), tensor(0.1875, device='cuda:0'), tensor(0.2564, device='cuda:0'), tensor(0.1807, device='cuda:0'), tensor(0.3304, device='cuda:0'), tensor(0.3051, device='cuda:0'), tensor(0.2168, device='cuda:0'), tensor(0.2886, device='cuda:0'), tensor(0.2000, device='cuda:0'), tensor(0.3096, device='cuda:0'), tensor(0.2808, device='cuda:0'), tensor(0.1873, device='cuda:0'), tensor(0.2862, device='cuda:0'), tensor(0.2203, device='cuda:0'), tensor(0.2329, device='cuda:0'), tensor(0.3789, device='cuda:0'), tensor(0.3121, device='cuda:0'), tensor(0.3195, device='cuda:0'), tensor(0.2883, device='cuda:0'), tensor(0.1843, device='cuda:0'), tensor(0.3688, device='cuda:0'), tensor(0.1491, device='cuda:0'), tensor(0.2497, device='cuda:0'), tensor(0.3734, device='cuda:0'), tensor(0.2046, device='cuda:0'), tensor(0.0947, device='cuda:0'), tensor(0.1261, device='cuda:0'), tensor(0.1335, device='cuda:0'), tensor(0.1710, device='cuda:0'), tensor(0.1375, device='cuda:0'), tensor(0.1892, device='cuda:0'), tensor(0.1807, device='cuda:0'), tensor(0.2564, device='cuda:0'), tensor(0.3136, device='cuda:0'), tensor(0.3441, device='cuda:0'), tensor(0.3057, device='cuda:0'), tensor(0.2383, device='cuda:0'), tensor(0.2831, device='cuda:0'), tensor(0.3004, device='cuda:0'), tensor(0.3138, device='cuda:0'), tensor(0.2960, device='cuda:0'), tensor(0.3104, device='cuda:0'), tensor(0.4376, device='cuda:0'), tensor(0.4672, device='cuda:0'), tensor(0.4407, device='cuda:0'), tensor(0.2776, device='cuda:0'), tensor(0.3321, device='cuda:0'), tensor(0.3629, device='cuda:0'), tensor(0.2906, device='cuda:0'), tensor(0.3355, device='cuda:0'), tensor(0.3430, device='cuda:0'), tensor(0.3287, device='cuda:0'), tensor(0.3699, device='cuda:0'), tensor(0.1843, device='cuda:0'), tensor(0.2939, device='cuda:0'), tensor(0.2621, device='cuda:0'), tensor(0.3150, device='cuda:0'), tensor(0.3372, device='cuda:0'), tensor(0.2785, device='cuda:0'), tensor(0.3538, device='cuda:0'), tensor(0.2560, device='cuda:0'), tensor(0.3356, device='cuda:0'), tensor(0.3265, device='cuda:0'), tensor(0.2457, device='cuda:0'), tensor(0.3708, device='cuda:0'), tensor(0.3420, device='cuda:0'), tensor(0.3179, device='cuda:0'), tensor(0.2852, device='cuda:0'), tensor(0.3775, device='cuda:0'), tensor(0.2861, device='cuda:0'), tensor(0.2727, device='cuda:0'), tensor(0.3642, device='cuda:0'), tensor(0.2717, device='cuda:0'), tensor(0.3893, device='cuda:0'), tensor(0.4035, device='cuda:0'), tensor(0.3431, device='cuda:0'), tensor(0.3196, device='cuda:0'), tensor(0.2926, device='cuda:0'), tensor(0.2523, device='cuda:0'), tensor(0.3934, device='cuda:0'), tensor(0.4025, device='cuda:0'), tensor(0.2896, device='cuda:0'), tensor(0.3367, device='cuda:0'), tensor(0.2699, device='cuda:0'), tensor(0.4341, device='cuda:0'), tensor(0.3069, device='cuda:0'), tensor(0.4592, device='cuda:0'), tensor(0.5074, device='cuda:0'), tensor(0.3110, device='cuda:0'), tensor(0.3870, device='cuda:0'), tensor(0.5396, device='cuda:0'), tensor(0.4294, device='cuda:0'), tensor(0.3348, device='cuda:0'), tensor(0.4409, device='cuda:0'), tensor(0.3888, device='cuda:0'), tensor(0.4585, device='cuda:0'), tensor(0.3260, device='cuda:0'), tensor(0.3590, device='cuda:0'), tensor(0.2963, device='cuda:0'), tensor(0.2881, device='cuda:0'), tensor(0.3484, device='cuda:0'), tensor(0.4562, device='cuda:0'), tensor(0.2758, device='cuda:0'), tensor(0.2685, device='cuda:0'), tensor(0.3075, device='cuda:0'), tensor(0.3597, device='cuda:0'), tensor(0.3133, device='cuda:0'), tensor(0.3538, device='cuda:0'), tensor(0.3589, device='cuda:0'), tensor(0.3487, device='cuda:0'), tensor(0.4353, device='cuda:0'), tensor(0.4167, device='cuda:0'), tensor(0.4106, device='cuda:0'), tensor(0.3869, device='cuda:0'), tensor(0.3796, device='cuda:0'), tensor(0.2922, device='cuda:0'), tensor(0.4713, device='cuda:0'), tensor(0.4546, device='cuda:0'), tensor(0.4328, device='cuda:0'), tensor(0.1518, device='cuda:0'), tensor(0.1517, device='cuda:0'), tensor(0.2087, device='cuda:0'), tensor(0.2482, device='cuda:0'), tensor(0.2244, device='cuda:0'), tensor(0.2485, device='cuda:0'), tensor(0.2520, device='cuda:0'), tensor(0.2957, device='cuda:0'), tensor(0.2674, device='cuda:0'), tensor(0.2164, device='cuda:0'), tensor(0.3545, device='cuda:0'), tensor(0.2576, device='cuda:0'), tensor(0.4254, device='cuda:0'), tensor(0.4057, device='cuda:0'), tensor(0.3735, device='cuda:0'), tensor(0.4023, device='cuda:0'), tensor(0.3656, device='cuda:0'), tensor(0.3988, device='cuda:0'), tensor(0.2928, device='cuda:0'), tensor(0.5691, device='cuda:0'), tensor(0.3662, device='cuda:0'), tensor(0.5002, device='cuda:0'), tensor(0.4213, device='cuda:0'), tensor(0.4325, device='cuda:0'), tensor(0.4927, device='cuda:0'), tensor(0.4749, device='cuda:0'), tensor(0.4103, device='cuda:0'), tensor(0.3673, device='cuda:0'), tensor(0.5440, device='cuda:0'), tensor(0.2608, device='cuda:0'), tensor(0.3837, device='cuda:0'), tensor(0.3426, device='cuda:0'), tensor(0.3602, device='cuda:0'), tensor(0.3535, device='cuda:0'), tensor(0.3703, device='cuda:0'), tensor(0.4445, device='cuda:0'), tensor(0.3320, device='cuda:0'), tensor(0.3699, device='cuda:0'), tensor(0.2915, device='cuda:0'), tensor(0.3982, device='cuda:0'), tensor(0.3464, device='cuda:0'), tensor(0.3131, device='cuda:0'), tensor(0.5262, device='cuda:0'), tensor(0.3439, device='cuda:0'), tensor(0.3860, device='cuda:0'), tensor(0.3751, device='cuda:0'), tensor(0.3472, device='cuda:0'), tensor(0.4043, device='cuda:0'), tensor(0.4061, device='cuda:0'), tensor(0.3972, device='cuda:0'), tensor(0.3883, device='cuda:0'), tensor(0.4682, device='cuda:0'), tensor(0.3993, device='cuda:0'), tensor(0.4565, device='cuda:0'), tensor(0.5078, device='cuda:0'), tensor(0.4735, device='cuda:0'), tensor(0.3829, device='cuda:0'), tensor(0.4229, device='cuda:0'), tensor(0.4153, device='cuda:0'), tensor(0.4190, device='cuda:0'), tensor(0.4993, device='cuda:0'), tensor(0.4225, device='cuda:0'), tensor(0.4994, device='cuda:0'), tensor(0.4659, device='cuda:0'), tensor(0.4451, device='cuda:0'), tensor(0.4828, device='cuda:0'), tensor(0.4285, device='cuda:0'), tensor(0.3335, device='cuda:0'), tensor(0.5164, device='cuda:0'), tensor(0.4390, device='cuda:0'), tensor(0.4741, device='cuda:0'), tensor(0.4732, device='cuda:0'), tensor(0.4443, device='cuda:0'), tensor(0.3506, device='cuda:0'), tensor(0.4749, device='cuda:0'), tensor(0.3515, device='cuda:0'), tensor(0.4936, device='cuda:0'), tensor(0.3763, device='cuda:0'), tensor(0.3242, device='cuda:0'), tensor(0.3882, device='cuda:0'), tensor(0.5423, device='cuda:0'), tensor(0.3576, device='cuda:0'), tensor(0.3953, device='cuda:0'), tensor(0.4101, device='cuda:0'), tensor(0.4566, device='cuda:0'), tensor(0.4627, device='cuda:0'), tensor(0.4404, device='cuda:0'), tensor(0.4072, device='cuda:0'), tensor(0.4232, device='cuda:0'), tensor(0.3817, device='cuda:0'), tensor(0.4508, device='cuda:0'), tensor(0.4395, device='cuda:0'), tensor(0.4274, device='cuda:0'), tensor(0.4289, device='cuda:0'), tensor(0.4071, device='cuda:0'), tensor(0.4233, device='cuda:0'), tensor(0.4482, device='cuda:0'), tensor(0.4377, device='cuda:0'), tensor(0.4600, device='cuda:0'), tensor(0.4528, device='cuda:0'), tensor(0.4230, device='cuda:0'), tensor(0.4276, device='cuda:0'), tensor(0.4910, device='cuda:0'), tensor(0.4772, device='cuda:0'), tensor(0.4339, device='cuda:0'), tensor(0.4183, device='cuda:0'), tensor(0.4322, device='cuda:0'), tensor(0.3651, device='cuda:0'), tensor(0.4180, device='cuda:0'), tensor(0.4129, device='cuda:0'), tensor(0.4693, device='cuda:0'), tensor(0.4565, device='cuda:0'), tensor(0.4289, device='cuda:0'), tensor(0.4265, device='cuda:0'), tensor(0.4499, device='cuda:0'), tensor(0.3883, device='cuda:0'), tensor(0.4275, device='cuda:0'), tensor(0.4869, device='cuda:0'), tensor(0.4493, device='cuda:0'), tensor(0.4385, device='cuda:0'), tensor(0.4496, device='cuda:0'), tensor(0.4631, device='cuda:0'), tensor(0.4175, device='cuda:0'), tensor(0.4532, device='cuda:0'), tensor(0.4411, device='cuda:0'), tensor(0.4140, device='cuda:0'), tensor(0.4263, device='cuda:0'), tensor(0.4210, device='cuda:0'), tensor(0.4436, device='cuda:0'), tensor(0.3790, device='cuda:0'), tensor(0.4509, device='cuda:0'), tensor(0.4424, device='cuda:0'), tensor(0.4420, device='cuda:0'), tensor(0.4133, device='cuda:0'), tensor(0.4417, device='cuda:0'), tensor(0.4511, device='cuda:0'), tensor(0.4233, device='cuda:0'), tensor(0.4496, device='cuda:0'), tensor(0.4328, device='cuda:0'), tensor(0.4144, device='cuda:0'), tensor(0.4099, device='cuda:0'), tensor(0.4465, device='cuda:0'), tensor(0.4202, device='cuda:0'), tensor(0.4283, device='cuda:0'), tensor(0.4663, device='cuda:0'), tensor(0.4277, device='cuda:0'), tensor(0.4072, device='cuda:0'), tensor(0.3830, device='cuda:0'), tensor(0.4172, device='cuda:0'), tensor(0.4141, device='cuda:0'), tensor(0.4281, device='cuda:0'), tensor(0.4147, device='cuda:0'), tensor(0.4534, device='cuda:0'), tensor(0.4357, device='cuda:0'), tensor(0.4332, device='cuda:0'), tensor(0.4226, device='cuda:0'), tensor(0.3877, device='cuda:0'), tensor(0.4926, device='cuda:0'), tensor(0.3943, device='cuda:0'), tensor(0.3962, device='cuda:0'), tensor(0.4664, device='cuda:0'), tensor(0.4423, device='cuda:0'), tensor(0.4628, device='cuda:0'), tensor(0.4543, device='cuda:0'), tensor(0.4295, device='cuda:0'), tensor(0.4554, device='cuda:0'), tensor(0.4535, device='cuda:0'), tensor(0.4231, device='cuda:0'), tensor(0.4146, device='cuda:0'), tensor(0.4102, device='cuda:0')], [tensor(0.0202, device='cuda:0'), tensor(0.0235, device='cuda:0'), tensor(0.0221, device='cuda:0'), tensor(0.0210, device='cuda:0'), tensor(0.0198, device='cuda:0'), tensor(0.0183, device='cuda:0'), tensor(0.0223, device='cuda:0'), tensor(0.0240, device='cuda:0'), tensor(0.0305, device='cuda:0'), tensor(0.0387, device='cuda:0'), tensor(0.0397, device='cuda:0'), tensor(0.0559, device='cuda:0'), tensor(0.0552, device='cuda:0'), tensor(0.0664, device='cuda:0'), tensor(0.0758, device='cuda:0'), tensor(0.1370, device='cuda:0'), tensor(0.1110, device='cuda:0'), tensor(0.1725, device='cuda:0'), tensor(0.2847, device='cuda:0'), tensor(0.8296, device='cuda:0'), tensor(0.1424, device='cuda:0'), tensor(0.1544, device='cuda:0'), tensor(0.0452, device='cuda:0'), tensor(0.0860, device='cuda:0'), tensor(0.1518, device='cuda:0'), tensor(0.4162, device='cuda:0'), tensor(0.0257, device='cuda:0'), tensor(0.0195, device='cuda:0'), tensor(0.0228, device='cuda:0'), tensor(0.0198, device='cuda:0'), tensor(0.0195, device='cuda:0'), tensor(0.0186, device='cuda:0'), tensor(0.0194, device='cuda:0'), tensor(0.0165, device='cuda:0'), tensor(0.0162, device='cuda:0'), tensor(0.0170, device='cuda:0'), tensor(0.0187, device='cuda:0'), tensor(0.0132, device='cuda:0'), tensor(0.0176, device='cuda:0'), tensor(0.0197, device='cuda:0'), tensor(0.0213, device='cuda:0'), tensor(0.0270, device='cuda:0'), tensor(0.0326, device='cuda:0'), tensor(0.0271, device='cuda:0'), tensor(0.0203, device='cuda:0'), tensor(0.0324, device='cuda:0'), tensor(0.0485, device='cuda:0'), tensor(0.0747, device='cuda:0'), tensor(0.1987, device='cuda:0'), tensor(0.5535, device='cuda:0'), tensor(0.0195, device='cuda:0'), tensor(0.0090, device='cuda:0'), tensor(0.0095, device='cuda:0'), tensor(0.0335, device='cuda:0'), tensor(0.0240, device='cuda:0'), tensor(0.0135, device='cuda:0'), tensor(0.0107, device='cuda:0'), tensor(0.0299, device='cuda:0'), tensor(0.0415, device='cuda:0'), tensor(0.1794, device='cuda:0'), tensor(0.0191, device='cuda:0'), tensor(0.1233, device='cuda:0'), tensor(0.0043, device='cuda:0'), tensor(0.0082, device='cuda:0'), tensor(0.0134, device='cuda:0'), tensor(0.0200, device='cuda:0'), tensor(0.0295, device='cuda:0'), tensor(0.0493, device='cuda:0'), tensor(0.0533, device='cuda:0'), tensor(0.2171, device='cuda:0'), tensor(0.0591, device='cuda:0'), tensor(0.0412, device='cuda:0'), tensor(0.0256, device='cuda:0'), tensor(0.0256, device='cuda:0'), tensor(0.0315, device='cuda:0'), tensor(0.0252, device='cuda:0'), tensor(0.0202, device='cuda:0'), tensor(0.0205, device='cuda:0'), tensor(0.0177, device='cuda:0'), tensor(0.0162, device='cuda:0'), tensor(0.0144, device='cuda:0'), tensor(0.0314, device='cuda:0'), tensor(0.0256, device='cuda:0'), tensor(0.0178, device='cuda:0'), tensor(0.0424, device='cuda:0'), tensor(0.0335, device='cuda:0'), tensor(0.0963, device='cuda:0'), tensor(0.1461, device='cuda:0'), tensor(0.0108, device='cuda:0'), tensor(0.0126, device='cuda:0'), tensor(0.0128, device='cuda:0'), tensor(0.0160, device='cuda:0'), tensor(0.0160, device='cuda:0'), tensor(0.0174, device='cuda:0'), tensor(0.0170, device='cuda:0'), tensor(0.0215, device='cuda:0'), tensor(0.0172, device='cuda:0'), tensor(0.0179, device='cuda:0'), tensor(0.0206, device='cuda:0'), tensor(0.0154, device='cuda:0'), tensor(0.0285, device='cuda:0'), tensor(0.0362, device='cuda:0'), tensor(0.0442, device='cuda:0'), tensor(0.0550, device='cuda:0'), tensor(0.1180, device='cuda:0'), tensor(0.1422, device='cuda:0'), tensor(0.1951, device='cuda:0'), tensor(0.1514, device='cuda:0'), tensor(0.1163, device='cuda:0'), tensor(0.1535, device='cuda:0'), tensor(0.3382, device='cuda:0'), tensor(0.1296, device='cuda:0'), tensor(0.1231, device='cuda:0'), tensor(0.2081, device='cuda:0'), tensor(0.3051, device='cuda:0'), tensor(0.7229, device='cuda:0'), tensor(0.1139, device='cuda:0'), tensor(0.0280, device='cuda:0'), tensor(0.0285, device='cuda:0'), tensor(0.0268, device='cuda:0'), tensor(0.0312, device='cuda:0'), tensor(0.0338, device='cuda:0'), tensor(0.0346, device='cuda:0'), tensor(0.0344, device='cuda:0'), tensor(0.0357, device='cuda:0'), tensor(0.0354, device='cuda:0'), tensor(0.0357, device='cuda:0'), tensor(0.0328, device='cuda:0'), tensor(0.0312, device='cuda:0'), tensor(0.0311, device='cuda:0'), tensor(0.0306, device='cuda:0'), tensor(0.0288, device='cuda:0'), tensor(0.0287, device='cuda:0'), tensor(0.0312, device='cuda:0'), tensor(0.0305, device='cuda:0'), tensor(0.0284, device='cuda:0'), tensor(0.0298, device='cuda:0'), tensor(0.0293, device='cuda:0'), tensor(0.0295, device='cuda:0'), tensor(0.0342, device='cuda:0'), tensor(0.0387, device='cuda:0'), tensor(0.0383, device='cuda:0'), tensor(0.0397, device='cuda:0'), tensor(0.0357, device='cuda:0'), tensor(0.0296, device='cuda:0'), tensor(0.0289, device='cuda:0'), tensor(0.0297, device='cuda:0'), tensor(0.0318, device='cuda:0'), tensor(0.0299, device='cuda:0'), tensor(0.0287, device='cuda:0'), tensor(0.0291, device='cuda:0'), tensor(0.0286, device='cuda:0'), tensor(0.0313, device='cuda:0'), tensor(0.0315, device='cuda:0'), tensor(0.0304, device='cuda:0'), tensor(0.0310, device='cuda:0'), tensor(0.0287, device='cuda:0'), tensor(0.0291, device='cuda:0'), tensor(0.0305, device='cuda:0'), tensor(0.0278, device='cuda:0'), tensor(0.0294, device='cuda:0'), tensor(0.0287, device='cuda:0'), tensor(0.0291, device='cuda:0'), tensor(0.0289, device='cuda:0'), tensor(0.0279, device='cuda:0'), tensor(0.0292, device='cuda:0'), tensor(0.0297, device='cuda:0'), tensor(0.0273, device='cuda:0'), tensor(0.0263, device='cuda:0'), tensor(0.0322, device='cuda:0'), tensor(0.0314, device='cuda:0'), tensor(0.0299, device='cuda:0'), tensor(0.0302, device='cuda:0'), tensor(0.0299, device='cuda:0'), tensor(0.0297, device='cuda:0'), tensor(0.0254, device='cuda:0'), tensor(0.0282, device='cuda:0'), tensor(0.0257, device='cuda:0'), tensor(0.0247, device='cuda:0'), tensor(0.0324, device='cuda:0'), tensor(0.0325, device='cuda:0'), tensor(0.0331, device='cuda:0'), tensor(0.0330, device='cuda:0'), tensor(0.0327, device='cuda:0'), tensor(0.0256, device='cuda:0'), tensor(0.0278, device='cuda:0'), tensor(0.0276, device='cuda:0'), tensor(0.0318, device='cuda:0'), tensor(0.0287, device='cuda:0'), tensor(0.0300, device='cuda:0'), tensor(0.0334, device='cuda:0'), tensor(0.0354, device='cuda:0'), tensor(0.0341, device='cuda:0'), tensor(0.0335, device='cuda:0'), tensor(0.0324, device='cuda:0'), tensor(0.0319, device='cuda:0'), tensor(0.0297, device='cuda:0'), tensor(0.0285, device='cuda:0'), tensor(0.0271, device='cuda:0'), tensor(0.0275, device='cuda:0'), tensor(0.0280, device='cuda:0'), tensor(0.0300, device='cuda:0'), tensor(0.0285, device='cuda:0'), tensor(0.0336, device='cuda:0'), tensor(0.0291, device='cuda:0'), tensor(0.0291, device='cuda:0'), tensor(0.0270, device='cuda:0'), tensor(0.0240, device='cuda:0'), tensor(0.0241, device='cuda:0'), tensor(0.0210, device='cuda:0'), tensor(0.0255, device='cuda:0'), tensor(0.0257, device='cuda:0'), tensor(0.0267, device='cuda:0'), tensor(0.0263, device='cuda:0'), tensor(0.0258, device='cuda:0'), tensor(0.0280, device='cuda:0'), tensor(0.0279, device='cuda:0'), tensor(0.0240, device='cuda:0'), tensor(0.0212, device='cuda:0'), tensor(0.0252, device='cuda:0'), tensor(0.0294, device='cuda:0'), tensor(0.0298, device='cuda:0'), tensor(0.0275, device='cuda:0'), tensor(0.0246, device='cuda:0'), tensor(0.0237, device='cuda:0'), tensor(0.0229, device='cuda:0'), tensor(0.0231, device='cuda:0'), tensor(0.0244, device='cuda:0'), tensor(0.0255, device='cuda:0'), tensor(0.0279, device='cuda:0'), tensor(0.0280, device='cuda:0'), tensor(0.0263, device='cuda:0'), tensor(0.0267, device='cuda:0'), tensor(0.0210, device='cuda:0'), tensor(0.0233, device='cuda:0'), tensor(0.0272, device='cuda:0'), tensor(0.0306, device='cuda:0'), tensor(0.0302, device='cuda:0'), tensor(0.0310, device='cuda:0'), tensor(0.0306, device='cuda:0'), tensor(0.0257, device='cuda:0'), tensor(0.0250, device='cuda:0'), tensor(0.0205, device='cuda:0'), tensor(0.0209, device='cuda:0'), tensor(0.0217, device='cuda:0'), tensor(0.0236, device='cuda:0'), tensor(0.0248, device='cuda:0'), tensor(0.0263, device='cuda:0'), tensor(0.0257, device='cuda:0'), tensor(0.0208, device='cuda:0'), tensor(0.0170, device='cuda:0'), tensor(0.0194, device='cuda:0'), tensor(0.0215, device='cuda:0'), tensor(0.0240, device='cuda:0'), tensor(0.0244, device='cuda:0'), tensor(0.0257, device='cuda:0'), tensor(0.0259, device='cuda:0'), tensor(0.0260, device='cuda:0'), tensor(0.0226, device='cuda:0'), tensor(0.0175, device='cuda:0'), tensor(0.0195, device='cuda:0'), tensor(0.0221, device='cuda:0'), tensor(0.0214, device='cuda:0'), tensor(0.0191, device='cuda:0'), tensor(0.0245, device='cuda:0'), tensor(0.0230, device='cuda:0'), tensor(0.0218, device='cuda:0'), tensor(0.0240, device='cuda:0'), tensor(0.0212, device='cuda:0'), tensor(0.0173, device='cuda:0'), tensor(0.0191, device='cuda:0'), tensor(0.0157, device='cuda:0'), tensor(0.0157, device='cuda:0'), tensor(0.0169, device='cuda:0'), tensor(0.0202, device='cuda:0'), tensor(0.0247, device='cuda:0'), tensor(0.0268, device='cuda:0'), tensor(0.0282, device='cuda:0'), tensor(0.0251, device='cuda:0'), tensor(0.0218, device='cuda:0'), tensor(0.0231, device='cuda:0'), tensor(0.0271, device='cuda:0'), tensor(0.0299, device='cuda:0'), tensor(0.0256, device='cuda:0'), tensor(0.0288, device='cuda:0'), tensor(0.0208, device='cuda:0'), tensor(0.0231, device='cuda:0'), tensor(0.0241, device='cuda:0'), tensor(0.0235, device='cuda:0'), tensor(0.0231, device='cuda:0'), tensor(0.0244, device='cuda:0'), tensor(0.0251, device='cuda:0'), tensor(0.0222, device='cuda:0'), tensor(0.0216, device='cuda:0'), tensor(0.0203, device='cuda:0'), tensor(0.0204, device='cuda:0'), tensor(0.0224, device='cuda:0'), tensor(0.0183, device='cuda:0'), tensor(0.0181, device='cuda:0'), tensor(0.0203, device='cuda:0'), tensor(0.0208, device='cuda:0'), tensor(0.0208, device='cuda:0'), tensor(0.0224, device='cuda:0'), tensor(0.0230, device='cuda:0'), tensor(0.0165, device='cuda:0'), tensor(0.0172, device='cuda:0'), tensor(0.0201, device='cuda:0'), tensor(0.0193, device='cuda:0'), tensor(0.0180, device='cuda:0'), tensor(0.0157, device='cuda:0'), tensor(0.0140, device='cuda:0'), tensor(0.0119, device='cuda:0'), tensor(0.0187, device='cuda:0'), tensor(0.0156, device='cuda:0'), tensor(0.0156, device='cuda:0'), tensor(0.0172, device='cuda:0'), tensor(0.0163, device='cuda:0'), tensor(0.0093, device='cuda:0'), tensor(0.0065, device='cuda:0'), tensor(0.0067, device='cuda:0'), tensor(0.0117, device='cuda:0'), tensor(0.0116, device='cuda:0'), tensor(0.0145, device='cuda:0'), tensor(0.0093, device='cuda:0'), tensor(0.0105, device='cuda:0'), tensor(0.0102, device='cuda:0'), tensor(0.0036, device='cuda:0'), tensor(0.0039, device='cuda:0'), tensor(0.0067, device='cuda:0'), tensor(0.0146, device='cuda:0'), tensor(0.0194, device='cuda:0'), tensor(0.0264, device='cuda:0'), tensor(0.0270, device='cuda:0'), tensor(0.0553, device='cuda:0'), tensor(0.0345, device='cuda:0'), tensor(0.0270, device='cuda:0'), tensor(0.0232, device='cuda:0'), tensor(0.0242, device='cuda:0'), tensor(0.0248, device='cuda:0'), tensor(0.0220, device='cuda:0'), tensor(0.0194, device='cuda:0'), tensor(0.0165, device='cuda:0'), tensor(0.0188, device='cuda:0'), tensor(0.0172, device='cuda:0'), tensor(0.0225, device='cuda:0'), tensor(0.0193, device='cuda:0'), tensor(0.0219, device='cuda:0'), tensor(0.0239, device='cuda:0'), tensor(0.0263, device='cuda:0'), tensor(0.0238, device='cuda:0'), tensor(0.0194, device='cuda:0'), tensor(0.0169, device='cuda:0'), tensor(0.0138, device='cuda:0'), tensor(0.0172, device='cuda:0'), tensor(0.0186, device='cuda:0'), tensor(0.0183, device='cuda:0'), tensor(0.0197, device='cuda:0'), tensor(0.0184, device='cuda:0'), tensor(0.0163, device='cuda:0'), tensor(0.0150, device='cuda:0'), tensor(0.0162, device='cuda:0'), tensor(0.0134, device='cuda:0'), tensor(0.0117, device='cuda:0'), tensor(0.0106, device='cuda:0'), tensor(0.0117, device='cuda:0'), tensor(0.0117, device='cuda:0'), tensor(0.0147, device='cuda:0'), tensor(0.0166, device='cuda:0'), tensor(0.0144, device='cuda:0'), tensor(0.0142, device='cuda:0'), tensor(0.0156, device='cuda:0'), tensor(0.0167, device='cuda:0'), tensor(0.0152, device='cuda:0'), tensor(0.0175, device='cuda:0'), tensor(0.0186, device='cuda:0'), tensor(0.0209, device='cuda:0'), tensor(0.0205, device='cuda:0'), tensor(0.0180, device='cuda:0'), tensor(0.0184, device='cuda:0'), tensor(0.0209, device='cuda:0'), tensor(0.0191, device='cuda:0'), tensor(0.0156, device='cuda:0'), tensor(0.0172, device='cuda:0'), tensor(0.0188, device='cuda:0'), tensor(0.0159, device='cuda:0'), tensor(0.0158, device='cuda:0'), tensor(0.0154, device='cuda:0'), tensor(0.0145, device='cuda:0'), tensor(0.0151, device='cuda:0'), tensor(0.0150, device='cuda:0'), tensor(0.0168, device='cuda:0'), tensor(0.0195, device='cuda:0'), tensor(0.0148, device='cuda:0'), tensor(0.0129, device='cuda:0'), tensor(0.0124, device='cuda:0'), tensor(0.0124, device='cuda:0'), tensor(0.0114, device='cuda:0'), tensor(0.0096, device='cuda:0'), tensor(0.0095, device='cuda:0'), tensor(0.0122, device='cuda:0'), tensor(0.0123, device='cuda:0'), tensor(0.0142, device='cuda:0'), tensor(0.0163, device='cuda:0'), tensor(0.0183, device='cuda:0'), tensor(0.0167, device='cuda:0'), tensor(0.0158, device='cuda:0'), tensor(0.0163, device='cuda:0'), tensor(0.0133, device='cuda:0'), tensor(0.0132, device='cuda:0'), tensor(0.0127, device='cuda:0'), tensor(0.0135, device='cuda:0'), tensor(0.0096, device='cuda:0'), tensor(0.0093, device='cuda:0'), tensor(0.0124, device='cuda:0'), tensor(0.0111, device='cuda:0'), tensor(0.0123, device='cuda:0'), tensor(0.0114, device='cuda:0'), tensor(0.0112, device='cuda:0'), tensor(0.0118, device='cuda:0'), tensor(0.0113, device='cuda:0'), tensor(0.0116, device='cuda:0'), tensor(0.0126, device='cuda:0'), tensor(0.0097, device='cuda:0'), tensor(0.0097, device='cuda:0'), tensor(0.0106, device='cuda:0'), tensor(0.0077, device='cuda:0'), tensor(0.0079, device='cuda:0'), tensor(0.0088, device='cuda:0'), tensor(0.0083, device='cuda:0'), tensor(0.0072, device='cuda:0'), tensor(0.0068, device='cuda:0'), tensor(0.0103, device='cuda:0'), tensor(0.0078, device='cuda:0'), tensor(0.0074, device='cuda:0'), tensor(0.0081, device='cuda:0'), tensor(0.0120, device='cuda:0'), tensor(0.0106, device='cuda:0'), tensor(0.0124, device='cuda:0'), tensor(0.0116, device='cuda:0'), tensor(0.0113, device='cuda:0'), tensor(0.0117, device='cuda:0'), tensor(0.0124, device='cuda:0'), tensor(0.0130, device='cuda:0'), tensor(0.0114, device='cuda:0'), tensor(0.0118, device='cuda:0'), tensor(0.0129, device='cuda:0'), tensor(0.0131, device='cuda:0'), tensor(0.0114, device='cuda:0'), tensor(0.0096, device='cuda:0'), tensor(0.0098, device='cuda:0'), tensor(0.0110, device='cuda:0'), tensor(0.0124, device='cuda:0'), tensor(0.0104, device='cuda:0'), tensor(0.0098, device='cuda:0'), tensor(0.0116, device='cuda:0'), tensor(0.0136, device='cuda:0'), tensor(0.0112, device='cuda:0'), tensor(0.0105, device='cuda:0'), tensor(0.0104, device='cuda:0'), tensor(0.0107, device='cuda:0'), tensor(0.0111, device='cuda:0'), tensor(0.0119, device='cuda:0'), tensor(0.0109, device='cuda:0'), tensor(0.0094, device='cuda:0'), tensor(0.0060, device='cuda:0'), tensor(0.0055, device='cuda:0'), tensor(0.0040, device='cuda:0'), tensor(0.0049, device='cuda:0'), tensor(0.0105, device='cuda:0'), tensor(0.0108, device='cuda:0'), tensor(0.0116, device='cuda:0'), tensor(0.0102, device='cuda:0'), tensor(0.0119, device='cuda:0'), tensor(0.0130, device='cuda:0'), tensor(0.0138, device='cuda:0'), tensor(0.0136, device='cuda:0'), tensor(0.0146, device='cuda:0'), tensor(0.0134, device='cuda:0'), tensor(0.0093, device='cuda:0'), tensor(0.0082, device='cuda:0'), tensor(0.0069, device='cuda:0'), tensor(0.0093, device='cuda:0'), tensor(0.0086, device='cuda:0'), tensor(0.0084, device='cuda:0'), tensor(0.0069, device='cuda:0'), tensor(0.0076, device='cuda:0'), tensor(0.0075, device='cuda:0'), tensor(0.0066, device='cuda:0'), tensor(0.0050, device='cuda:0'), tensor(0.0043, device='cuda:0'), tensor(0.0048, device='cuda:0'), tensor(0.0037, device='cuda:0'), tensor(0.0039, device='cuda:0'), tensor(0.0054, device='cuda:0'), tensor(0.0035, device='cuda:0'), tensor(0.0064, device='cuda:0'), tensor(0.0063, device='cuda:0'), tensor(0.0075, device='cuda:0'), tensor(0.0035, device='cuda:0'), tensor(0.0058, device='cuda:0'), tensor(0.0084, device='cuda:0'), tensor(0.0079, device='cuda:0'), tensor(0.0082, device='cuda:0'), tensor(0.0078, device='cuda:0'), tensor(0.0091, device='cuda:0'), tensor(0.0096, device='cuda:0'), tensor(0.0112, device='cuda:0'), tensor(0.0125, device='cuda:0'), tensor(0.0077, device='cuda:0'), tensor(0.0080, device='cuda:0'), tensor(0.0082, device='cuda:0'), tensor(0.0079, device='cuda:0'), tensor(0.0060, device='cuda:0'), tensor(0.0067, device='cuda:0'), tensor(0.0076, device='cuda:0'), tensor(0.0063, device='cuda:0'), tensor(0.0048, device='cuda:0'), tensor(0.0060, device='cuda:0'), tensor(0.0044, device='cuda:0'), tensor(0.0088, device='cuda:0'), tensor(0.0092, device='cuda:0'), tensor(0.0076, device='cuda:0'), tensor(0.0071, device='cuda:0'), tensor(0.0075, device='cuda:0'), tensor(0.0056, device='cuda:0'), tensor(0.0042, device='cuda:0'), tensor(0.0045, device='cuda:0'), tensor(0.0038, device='cuda:0'), tensor(0.0050, device='cuda:0'), tensor(0.0056, device='cuda:0'), tensor(0.0094, device='cuda:0'), tensor(0.0070, device='cuda:0'), tensor(0.0110, device='cuda:0'), tensor(0.0099, device='cuda:0'), tensor(0.0066, device='cuda:0'), tensor(0.0073, device='cuda:0'), tensor(0.0099, device='cuda:0'), tensor(0.0089, device='cuda:0'), tensor(0.0073, device='cuda:0'), tensor(0.0078, device='cuda:0'), tensor(0.0101, device='cuda:0'), tensor(0.0142, device='cuda:0'), tensor(0.0137, device='cuda:0'), tensor(0.0102, device='cuda:0'), tensor(0.0097, device='cuda:0'), tensor(0.0129, device='cuda:0'), tensor(0.0130, device='cuda:0'), tensor(0.0103, device='cuda:0'), tensor(0.0083, device='cuda:0'), tensor(0.0092, device='cuda:0'), tensor(0.0083, device='cuda:0'), tensor(0.0072, device='cuda:0'), tensor(0.0088, device='cuda:0'), tensor(0.0098, device='cuda:0'), tensor(0.0101, device='cuda:0'), tensor(0.0090, device='cuda:0'), tensor(0.0099, device='cuda:0'), tensor(0.0119, device='cuda:0'), tensor(0.0135, device='cuda:0'), tensor(0.0144, device='cuda:0'), tensor(0.0148, device='cuda:0'), tensor(0.0152, device='cuda:0'), tensor(0.0134, device='cuda:0'), tensor(0.0146, device='cuda:0'), tensor(0.0153, device='cuda:0'), tensor(0.0147, device='cuda:0'), tensor(0.0112, device='cuda:0'), tensor(0.0090, device='cuda:0'), tensor(0.0051, device='cuda:0'), tensor(0.0034, device='cuda:0'), tensor(0.0024, device='cuda:0'), tensor(0.0032, device='cuda:0'), tensor(0.0025, device='cuda:0'), tensor(0.0030, device='cuda:0'), tensor(0.0035, device='cuda:0'), tensor(0.0024, device='cuda:0'), tensor(0.0022, device='cuda:0'), tensor(0.0021, device='cuda:0'), tensor(0.0030, device='cuda:0'), tensor(0.0018, device='cuda:0'), tensor(0.0015, device='cuda:0'), tensor(0.0030, device='cuda:0'), tensor(0.0058, device='cuda:0'), tensor(0.0054, device='cuda:0'), tensor(0.0071, device='cuda:0'), tensor(0.0066, device='cuda:0'), tensor(0.0092, device='cuda:0'), tensor(0.0071, device='cuda:0'), tensor(0.0045, device='cuda:0'), tensor(0.0074, device='cuda:0'), tensor(0.0081, device='cuda:0'), tensor(0.0053, device='cuda:0'), tensor(0.0067, device='cuda:0'), tensor(0.0073, device='cuda:0'), tensor(0.0068, device='cuda:0'), tensor(0.0072, device='cuda:0'), tensor(0.0063, device='cuda:0'), tensor(0.0063, device='cuda:0'), tensor(0.0071, device='cuda:0'), tensor(0.0048, device='cuda:0'), tensor(0.0044, device='cuda:0'), tensor(0.0031, device='cuda:0'), tensor(0.0051, device='cuda:0'), tensor(0.0054, device='cuda:0'), tensor(0.0045, device='cuda:0'), tensor(0.0065, device='cuda:0'), tensor(0.0035, device='cuda:0'), tensor(0.0041, device='cuda:0'), tensor(0.0065, device='cuda:0'), tensor(0.0067, device='cuda:0'), tensor(0.0077, device='cuda:0'), tensor(0.0082, device='cuda:0'), tensor(0.0090, device='cuda:0'), tensor(0.0085, device='cuda:0'), tensor(0.0114, device='cuda:0'), tensor(0.0114, device='cuda:0'), tensor(0.0116, device='cuda:0'), tensor(0.0131, device='cuda:0'), tensor(0.0119, device='cuda:0'), tensor(0.0105, device='cuda:0'), tensor(0.0096, device='cuda:0'), tensor(0.0102, device='cuda:0'), tensor(0.0123, device='cuda:0'), tensor(0.0107, device='cuda:0'), tensor(0.0085, device='cuda:0'), tensor(0.0078, device='cuda:0'), tensor(0.0065, device='cuda:0'), tensor(0.0060, device='cuda:0'), tensor(0.0074, device='cuda:0'), tensor(0.0057, device='cuda:0'), tensor(0.0061, device='cuda:0'), tensor(0.0048, device='cuda:0'), tensor(0.0036, device='cuda:0'), tensor(0.0042, device='cuda:0'), tensor(0.0047, device='cuda:0'), tensor(0.0039, device='cuda:0'), tensor(0.0063, device='cuda:0'), tensor(0.0050, device='cuda:0'), tensor(0.0025, device='cuda:0'), tensor(0.0051, device='cuda:0'), tensor(0.0063, device='cuda:0'), tensor(0.0081, device='cuda:0'), tensor(0.0060, device='cuda:0'), tensor(0.0056, device='cuda:0'), tensor(0.0040, device='cuda:0'), tensor(0.0055, device='cuda:0'), tensor(0.0064, device='cuda:0'), tensor(0.0046, device='cuda:0'), tensor(0.0039, device='cuda:0'), tensor(0.0024, device='cuda:0'), tensor(0.0048, device='cuda:0'), tensor(0.0051, device='cuda:0'), tensor(0.0054, device='cuda:0'), tensor(0.0050, device='cuda:0'), tensor(0.0043, device='cuda:0'), tensor(0.0061, device='cuda:0'), tensor(0.0071, device='cuda:0'), tensor(0.0063, device='cuda:0'), tensor(0.0090, device='cuda:0'), tensor(0.0095, device='cuda:0'), tensor(0.0066, device='cuda:0'), tensor(0.0053, device='cuda:0'), tensor(0.0031, device='cuda:0'), tensor(0.0075, device='cuda:0'), tensor(0.0077, device='cuda:0'), tensor(0.0064, device='cuda:0'), tensor(0.0071, device='cuda:0'), tensor(0.0075, device='cuda:0'), tensor(0.0045, device='cuda:0'), tensor(0.0050, device='cuda:0'), tensor(0.0025, device='cuda:0'), tensor(0.0049, device='cuda:0'), tensor(0.0086, device='cuda:0'), tensor(0.0084, device='cuda:0'), tensor(0.0089, device='cuda:0'), tensor(0.0074, device='cuda:0'), tensor(0.0069, device='cuda:0'), tensor(0.0065, device='cuda:0'), tensor(0.0071, device='cuda:0'), tensor(0.0106, device='cuda:0'), tensor(0.0106, device='cuda:0'), tensor(0.0109, device='cuda:0'), tensor(0.0081, device='cuda:0'), tensor(0.0078, device='cuda:0'), tensor(0.0079, device='cuda:0'), tensor(0.0087, device='cuda:0'), tensor(0.0072, device='cuda:0'), tensor(0.0071, device='cuda:0'), tensor(0.0064, device='cuda:0'), tensor(0.0066, device='cuda:0'), tensor(0.0080, device='cuda:0'), tensor(0.0067, device='cuda:0'), tensor(0.0087, device='cuda:0'), tensor(0.0096, device='cuda:0'), tensor(0.0084, device='cuda:0'), tensor(0.0079, device='cuda:0'), tensor(0.0070, device='cuda:0'), tensor(0.0058, device='cuda:0'), tensor(0.0047, device='cuda:0'), tensor(0.0073, device='cuda:0'), tensor(0.0078, device='cuda:0'), tensor(0.0109, device='cuda:0'), tensor(0.0116, device='cuda:0'), tensor(0.0110, device='cuda:0'), tensor(0.0105, device='cuda:0'), tensor(0.0080, device='cuda:0'), tensor(0.0093, device='cuda:0'), tensor(0.0105, device='cuda:0'), tensor(0.0140, device='cuda:0'), tensor(0.0169, device='cuda:0'), tensor(0.0180, device='cuda:0'), tensor(0.0336, device='cuda:0'), tensor(0.0589, device='cuda:0'), tensor(0.0819, device='cuda:0'), tensor(0.0467, device='cuda:0'), tensor(0.1211, device='cuda:0'), tensor(0.0668, device='cuda:0'), tensor(0.1666, device='cuda:0'), tensor(0.0846, device='cuda:0'), tensor(0.1855, device='cuda:0'), tensor(0.2432, device='cuda:0'), tensor(0.0745, device='cuda:0'), tensor(0.1257, device='cuda:0'), tensor(0.0984, device='cuda:0'), tensor(0.2881, device='cuda:0'), tensor(0.0847, device='cuda:0'), tensor(0.1588, device='cuda:0'), tensor(0.1282, device='cuda:0'), tensor(0.2298, device='cuda:0'), tensor(0.1030, device='cuda:0'), tensor(0.2865, device='cuda:0'), tensor(0.4705, device='cuda:0'), tensor(0.0667, device='cuda:0'), tensor(0.0688, device='cuda:0'), tensor(0.0536, device='cuda:0'), tensor(0.0455, device='cuda:0'), tensor(0.0665, device='cuda:0'), tensor(0.0883, device='cuda:0'), tensor(0.0568, device='cuda:0'), tensor(0.0921, device='cuda:0'), tensor(0.1494, device='cuda:0'), tensor(0.0707, device='cuda:0'), tensor(0.1747, device='cuda:0'), tensor(0.2498, device='cuda:0'), tensor(0.0843, device='cuda:0'), tensor(0.1437, device='cuda:0'), tensor(0.1823, device='cuda:0'), tensor(0.3601, device='cuda:0'), tensor(0.0554, device='cuda:0'), tensor(0.0468, device='cuda:0'), tensor(0.0834, device='cuda:0'), tensor(0.1003, device='cuda:0'), tensor(0.2143, device='cuda:0'), tensor(0.1392, device='cuda:0'), tensor(0.0741, device='cuda:0'), tensor(0.1172, device='cuda:0'), tensor(0.2459, device='cuda:0'), tensor(0.2380, device='cuda:0'), tensor(0.2656, device='cuda:0'), tensor(0.1202, device='cuda:0'), tensor(0.3341, device='cuda:0'), tensor(0.1603, device='cuda:0'), tensor(0.2504, device='cuda:0'), tensor(0.1652, device='cuda:0'), tensor(0.2374, device='cuda:0'), tensor(0.3377, device='cuda:0'), tensor(0.2185, device='cuda:0'), tensor(0.1143, device='cuda:0'), tensor(0.4159, device='cuda:0'), tensor(0.7150, device='cuda:0'), tensor(0.0409, device='cuda:0'), tensor(0.0298, device='cuda:0'), tensor(0.0264, device='cuda:0'), tensor(0.0283, device='cuda:0'), tensor(0.0297, device='cuda:0'), tensor(0.0336, device='cuda:0'), tensor(0.0266, device='cuda:0'), tensor(0.0483, device='cuda:0'), tensor(0.0352, device='cuda:0'), tensor(0.0319, device='cuda:0'), tensor(0.0264, device='cuda:0'), tensor(0.0278, device='cuda:0'), tensor(0.0286, device='cuda:0'), tensor(0.0304, device='cuda:0'), tensor(0.0278, device='cuda:0'), tensor(0.0284, device='cuda:0'), tensor(0.0261, device='cuda:0'), tensor(0.0261, device='cuda:0'), tensor(0.0227, device='cuda:0'), tensor(0.0257, device='cuda:0'), tensor(0.0262, device='cuda:0'), tensor(0.0273, device='cuda:0'), tensor(0.0284, device='cuda:0'), tensor(0.0268, device='cuda:0'), tensor(0.0279, device='cuda:0'), tensor(0.0299, device='cuda:0'), tensor(0.0261, device='cuda:0'), tensor(0.0281, device='cuda:0'), tensor(0.0290, device='cuda:0'), tensor(0.0285, device='cuda:0'), tensor(0.0282, device='cuda:0'), tensor(0.0251, device='cuda:0'), tensor(0.0283, device='cuda:0'), tensor(0.0275, device='cuda:0'), tensor(0.0263, device='cuda:0'), tensor(0.0280, device='cuda:0'), tensor(0.0286, device='cuda:0'), tensor(0.0286, device='cuda:0'), tensor(0.0298, device='cuda:0'), tensor(0.0258, device='cuda:0'), tensor(0.0279, device='cuda:0'), tensor(0.0285, device='cuda:0'), tensor(0.0287, device='cuda:0'), tensor(0.0284, device='cuda:0'), tensor(0.0284, device='cuda:0'), tensor(0.0279, device='cuda:0'), tensor(0.0269, device='cuda:0'), tensor(0.0259, device='cuda:0'), tensor(0.0261, device='cuda:0'), tensor(0.0267, device='cuda:0'), tensor(0.0313, device='cuda:0'), tensor(0.0282, device='cuda:0'), tensor(0.0283, device='cuda:0'), tensor(0.0265, device='cuda:0'), tensor(0.0280, device='cuda:0'), tensor(0.0286, device='cuda:0'), tensor(0.0269, device='cuda:0'), tensor(0.0272, device='cuda:0'), tensor(0.0275, device='cuda:0'), tensor(0.0274, device='cuda:0'), tensor(0.0284, device='cuda:0'), tensor(0.0286, device='cuda:0'), tensor(0.0277, device='cuda:0'), tensor(0.0254, device='cuda:0'), tensor(0.0258, device='cuda:0'), tensor(0.0275, device='cuda:0'), tensor(0.0273, device='cuda:0'), tensor(0.0290, device='cuda:0'), tensor(0.0263, device='cuda:0'), tensor(0.0278, device='cuda:0'), tensor(0.0280, device='cuda:0'), tensor(0.0275, device='cuda:0'), tensor(0.0292, device='cuda:0'), tensor(0.0267, device='cuda:0'), tensor(0.0287, device='cuda:0'), tensor(0.0296, device='cuda:0'), tensor(0.0313, device='cuda:0'), tensor(0.0311, device='cuda:0'), tensor(0.0279, device='cuda:0'), tensor(0.0292, device='cuda:0'), tensor(0.0304, device='cuda:0'), tensor(0.0297, device='cuda:0'), tensor(0.0292, device='cuda:0'), tensor(0.0292, device='cuda:0'), tensor(0.0260, device='cuda:0'), tensor(0.0247, device='cuda:0'), tensor(0.0305, device='cuda:0'), tensor(0.0280, device='cuda:0'), tensor(0.0270, device='cuda:0'), tensor(0.0290, device='cuda:0'), tensor(0.0294, device='cuda:0'), tensor(0.0275, device='cuda:0'), tensor(0.0386, device='cuda:0'), tensor(0.0510, device='cuda:0'), tensor(0.0384, device='cuda:0'), tensor(0.0615, device='cuda:0'), tensor(0.0773, device='cuda:0'), tensor(0.1037, device='cuda:0'), tensor(0.1525, device='cuda:0'), tensor(0.1604, device='cuda:0'), tensor(0.1283, device='cuda:0'), tensor(0.2929, device='cuda:0'), tensor(0.0553, device='cuda:0'), tensor(0.1045, device='cuda:0'), tensor(0.1391, device='cuda:0'), tensor(0.0685, device='cuda:0'), tensor(0.0986, device='cuda:0'), tensor(0.1339, device='cuda:0'), tensor(0.1583, device='cuda:0'), tensor(0.2804, device='cuda:0'), tensor(0.0847, device='cuda:0'), tensor(0.1008, device='cuda:0'), tensor(0.1074, device='cuda:0'), tensor(0.1665, device='cuda:0'), tensor(0.1039, device='cuda:0'), tensor(0.2009, device='cuda:0'), tensor(0.1984, device='cuda:0'), tensor(0.1300, device='cuda:0'), tensor(0.1700, device='cuda:0'), tensor(0.3177, device='cuda:0'), tensor(0.0915, device='cuda:0'), tensor(0.2121, device='cuda:0'), tensor(0.0795, device='cuda:0'), tensor(0.1645, device='cuda:0'), tensor(0.1225, device='cuda:0'), tensor(0.1838, device='cuda:0'), tensor(0.1764, device='cuda:0'), tensor(0.2446, device='cuda:0'), tensor(0.1592, device='cuda:0'), tensor(0.3397, device='cuda:0'), tensor(0.1746, device='cuda:0'), tensor(0.1903, device='cuda:0'), tensor(0.3814, device='cuda:0'), tensor(0.2661, device='cuda:0'), tensor(0.2183, device='cuda:0'), tensor(0.1826, device='cuda:0'), tensor(0.2418, device='cuda:0'), tensor(0.2597, device='cuda:0'), tensor(0.3362, device='cuda:0'), tensor(0.2537, device='cuda:0'), tensor(0.1842, device='cuda:0'), tensor(0.4156, device='cuda:0'), tensor(0.1435, device='cuda:0'), tensor(0.4116, device='cuda:0'), tensor(0.3147, device='cuda:0'), tensor(0.2484, device='cuda:0'), tensor(0.1946, device='cuda:0'), tensor(0.3151, device='cuda:0'), tensor(0.2844, device='cuda:0'), tensor(0.3747, device='cuda:0'), tensor(0.2178, device='cuda:0'), tensor(0.3484, device='cuda:0'), tensor(0.2643, device='cuda:0'), tensor(0.4456, device='cuda:0'), tensor(0.4290, device='cuda:0'), tensor(0.2743, device='cuda:0'), tensor(0.0921, device='cuda:0'), tensor(1.4083, device='cuda:0'), tensor(0.0214, device='cuda:0'), tensor(0.0088, device='cuda:0'), tensor(0.0203, device='cuda:0'), tensor(0.0388, device='cuda:0'), tensor(0.0275, device='cuda:0'), tensor(0.0328, device='cuda:0'), tensor(0.0411, device='cuda:0'), tensor(0.0448, device='cuda:0'), tensor(0.0493, device='cuda:0'), tensor(0.0562, device='cuda:0'), tensor(0.0691, device='cuda:0'), tensor(0.0643, device='cuda:0'), tensor(0.0623, device='cuda:0'), tensor(0.0775, device='cuda:0'), tensor(0.1263, device='cuda:0'), tensor(0.0832, device='cuda:0'), tensor(0.0986, device='cuda:0'), tensor(0.1205, device='cuda:0'), tensor(0.1259, device='cuda:0'), tensor(0.1098, device='cuda:0'), tensor(0.1385, device='cuda:0'), tensor(0.2091, device='cuda:0'), tensor(0.0776, device='cuda:0'), tensor(0.1272, device='cuda:0'), tensor(0.1360, device='cuda:0'), tensor(0.1864, device='cuda:0'), tensor(0.1476, device='cuda:0'), tensor(0.1112, device='cuda:0'), tensor(0.1418, device='cuda:0'), tensor(0.1639, device='cuda:0'), tensor(0.3173, device='cuda:0'), tensor(0.5531, device='cuda:0'), tensor(0.0554, device='cuda:0'), tensor(0.0549, device='cuda:0'), tensor(0.0702, device='cuda:0'), tensor(0.0458, device='cuda:0'), tensor(0.0628, device='cuda:0'), tensor(0.0549, device='cuda:0'), tensor(0.0737, device='cuda:0'), tensor(0.0695, device='cuda:0'), tensor(0.1162, device='cuda:0'), tensor(0.0689, device='cuda:0'), tensor(0.0990, device='cuda:0'), tensor(0.0826, device='cuda:0'), tensor(0.0860, device='cuda:0'), tensor(0.0996, device='cuda:0'), tensor(0.1619, device='cuda:0'), tensor(0.1040, device='cuda:0'), tensor(0.1943, device='cuda:0'), tensor(0.1497, device='cuda:0'), tensor(0.1375, device='cuda:0'), tensor(0.1928, device='cuda:0'), tensor(0.2080, device='cuda:0'), tensor(0.1749, device='cuda:0'), tensor(0.1525, device='cuda:0'), tensor(0.1897, device='cuda:0'), tensor(0.1263, device='cuda:0'), tensor(0.1535, device='cuda:0'), tensor(0.2972, device='cuda:0'), tensor(0.1410, device='cuda:0'), tensor(0.1962, device='cuda:0'), tensor(0.1238, device='cuda:0'), tensor(0.1773, device='cuda:0'), tensor(0.1418, device='cuda:0'), tensor(0.1925, device='cuda:0'), tensor(0.2589, device='cuda:0'), tensor(0.2654, device='cuda:0'), tensor(0.3201, device='cuda:0'), tensor(0.1341, device='cuda:0'), tensor(0.1764, device='cuda:0'), tensor(0.1340, device='cuda:0'), tensor(0.2190, device='cuda:0'), tensor(0.2233, device='cuda:0'), tensor(0.3447, device='cuda:0'), tensor(0.1545, device='cuda:0'), tensor(0.2139, device='cuda:0'), tensor(0.1422, device='cuda:0'), tensor(0.2237, device='cuda:0'), tensor(0.2829, device='cuda:0'), tensor(0.3023, device='cuda:0'), tensor(0.2842, device='cuda:0'), tensor(0.2230, device='cuda:0'), tensor(0.2328, device='cuda:0'), tensor(0.1786, device='cuda:0'), tensor(0.2769, device='cuda:0'), tensor(0.2132, device='cuda:0'), tensor(0.2731, device='cuda:0'), tensor(0.2771, device='cuda:0'), tensor(0.3249, device='cuda:0'), tensor(0.3956, device='cuda:0'), tensor(0.1847, device='cuda:0'), tensor(0.2879, device='cuda:0'), tensor(0.2033, device='cuda:0'), tensor(0.2471, device='cuda:0'), tensor(0.1563, device='cuda:0'), tensor(0.3107, device='cuda:0'), tensor(0.1534, device='cuda:0'), tensor(0.2195, device='cuda:0'), tensor(0.2963, device='cuda:0'), tensor(0.3117, device='cuda:0'), tensor(0.2811, device='cuda:0'), tensor(0.3057, device='cuda:0'), tensor(0.2427, device='cuda:0'), tensor(0.2959, device='cuda:0'), tensor(0.3994, device='cuda:0'), tensor(0.4389, device='cuda:0'), tensor(0.3123, device='cuda:0'), tensor(0.3826, device='cuda:0'), tensor(0.3355, device='cuda:0'), tensor(0.2618, device='cuda:0'), tensor(0.3403, device='cuda:0'), tensor(0.2280, device='cuda:0'), tensor(0.3239, device='cuda:0'), tensor(0.3354, device='cuda:0'), tensor(0.2634, device='cuda:0'), tensor(0.2988, device='cuda:0'), tensor(0.2668, device='cuda:0'), tensor(0.2884, device='cuda:0'), tensor(0.4657, device='cuda:0'), tensor(0.3643, device='cuda:0'), tensor(0.2468, device='cuda:0'), tensor(0.2907, device='cuda:0'), tensor(0.2496, device='cuda:0'), tensor(0.2443, device='cuda:0'), tensor(0.1975, device='cuda:0'), tensor(0.2684, device='cuda:0'), tensor(0.2296, device='cuda:0'), tensor(0.3490, device='cuda:0'), tensor(0.2506, device='cuda:0'), tensor(0.3496, device='cuda:0'), tensor(0.3401, device='cuda:0'), tensor(0.3493, device='cuda:0'), tensor(0.3540, device='cuda:0'), tensor(0.3317, device='cuda:0'), tensor(0.3316, device='cuda:0'), tensor(0.2875, device='cuda:0'), tensor(0.1739, device='cuda:0'), tensor(0.5546, device='cuda:0'), tensor(0.1430, device='cuda:0'), tensor(0.5429, device='cuda:0'), tensor(0.3167, device='cuda:0'), tensor(0.2419, device='cuda:0'), tensor(0.2278, device='cuda:0'), tensor(0.2476, device='cuda:0'), tensor(0.2630, device='cuda:0'), tensor(0.2003, device='cuda:0'), tensor(0.2948, device='cuda:0'), tensor(0.3883, device='cuda:0'), tensor(0.3674, device='cuda:0'), tensor(0.3367, device='cuda:0'), tensor(0.2023, device='cuda:0'), tensor(0.2118, device='cuda:0'), tensor(0.2591, device='cuda:0'), tensor(0.2439, device='cuda:0'), tensor(0.2814, device='cuda:0'), tensor(0.2792, device='cuda:0'), tensor(0.2726, device='cuda:0'), tensor(0.2010, device='cuda:0'), tensor(0.3033, device='cuda:0'), tensor(0.3038, device='cuda:0'), tensor(0.3269, device='cuda:0'), tensor(0.2450, device='cuda:0'), tensor(0.2737, device='cuda:0'), tensor(0.2518, device='cuda:0'), tensor(0.3836, device='cuda:0'), tensor(0.4839, device='cuda:0'), tensor(0.2821, device='cuda:0'), tensor(0.2500, device='cuda:0'), tensor(0.3310, device='cuda:0'), tensor(0.1654, device='cuda:0'), tensor(0.2071, device='cuda:0'), tensor(0.2955, device='cuda:0'), tensor(0.2379, device='cuda:0'), tensor(0.4044, device='cuda:0'), tensor(0.3001, device='cuda:0'), tensor(0.2010, device='cuda:0'), tensor(0.2677, device='cuda:0'), tensor(0.2914, device='cuda:0'), tensor(0.3904, device='cuda:0'), tensor(0.3642, device='cuda:0'), tensor(0.3368, device='cuda:0'), tensor(0.3024, device='cuda:0'), tensor(0.2238, device='cuda:0'), tensor(0.2698, device='cuda:0'), tensor(0.3819, device='cuda:0'), tensor(0.2714, device='cuda:0'), tensor(0.3382, device='cuda:0'), tensor(0.3142, device='cuda:0'), tensor(0.2725, device='cuda:0'), tensor(0.3227, device='cuda:0'), tensor(0.2861, device='cuda:0'), tensor(0.3219, device='cuda:0'), tensor(0.3518, device='cuda:0'), tensor(0.3278, device='cuda:0'), tensor(0.3776, device='cuda:0'), tensor(0.3396, device='cuda:0'), tensor(0.4256, device='cuda:0'), tensor(0.3940, device='cuda:0'), tensor(0.2754, device='cuda:0'), tensor(0.4382, device='cuda:0'), tensor(0.3872, device='cuda:0'), tensor(0.3533, device='cuda:0'), tensor(0.3822, device='cuda:0'), tensor(0.4569, device='cuda:0'), tensor(0.4116, device='cuda:0'), tensor(0.3738, device='cuda:0'), tensor(0.3897, device='cuda:0'), tensor(0.4959, device='cuda:0'), tensor(0.3332, device='cuda:0'), tensor(0.4267, device='cuda:0'), tensor(0.5386, device='cuda:0'), tensor(0.4110, device='cuda:0'), tensor(0.3380, device='cuda:0'), tensor(0.4213, device='cuda:0'), tensor(0.3475, device='cuda:0'), tensor(0.3795, device='cuda:0'), tensor(0.4623, device='cuda:0'), tensor(0.5242, device='cuda:0'), tensor(0.4181, device='cuda:0'), tensor(0.3939, device='cuda:0'), tensor(0.4348, device='cuda:0'), tensor(0.3076, device='cuda:0'), tensor(0.3439, device='cuda:0'), tensor(0.4890, device='cuda:0'), tensor(0.3162, device='cuda:0'), tensor(0.5250, device='cuda:0'), tensor(0.4946, device='cuda:0'), tensor(0.4467, device='cuda:0'), tensor(0.4059, device='cuda:0'), tensor(0.3772, device='cuda:0'), tensor(0.3301, device='cuda:0'), tensor(0.3723, device='cuda:0'), tensor(0.4035, device='cuda:0'), tensor(0.3759, device='cuda:0'), tensor(0.3554, device='cuda:0'), tensor(0.4658, device='cuda:0'), tensor(0.3637, device='cuda:0'), tensor(0.3213, device='cuda:0'), tensor(0.3317, device='cuda:0'), tensor(0.2985, device='cuda:0'), tensor(0.5597, device='cuda:0'), tensor(0.3118, device='cuda:0'), tensor(0.3433, device='cuda:0'), tensor(0.2977, device='cuda:0'), tensor(0.3781, device='cuda:0'), tensor(0.3811, device='cuda:0'), tensor(0.3862, device='cuda:0'), tensor(0.4545, device='cuda:0'), tensor(0.4771, device='cuda:0'), tensor(0.4824, device='cuda:0'), tensor(0.5006, device='cuda:0'), tensor(0.3536, device='cuda:0'), tensor(0.4153, device='cuda:0'), tensor(0.5340, device='cuda:0'), tensor(0.4640, device='cuda:0'), tensor(0.4574, device='cuda:0'), tensor(0.5454, device='cuda:0'), tensor(0.3529, device='cuda:0'), tensor(0.4859, device='cuda:0'), tensor(0.4086, device='cuda:0'), tensor(0.3488, device='cuda:0'), tensor(0.4791, device='cuda:0'), tensor(0.4366, device='cuda:0'), tensor(0.4657, device='cuda:0'), tensor(0.3905, device='cuda:0'), tensor(0.5456, device='cuda:0'), tensor(0.4104, device='cuda:0'), tensor(0.4444, device='cuda:0'), tensor(0.2464, device='cuda:0'), tensor(0.3758, device='cuda:0'), tensor(0.2525, device='cuda:0'), tensor(0.2764, device='cuda:0'), tensor(0.3390, device='cuda:0'), tensor(0.3424, device='cuda:0'), tensor(0.4038, device='cuda:0'), tensor(0.3483, device='cuda:0'), tensor(0.4317, device='cuda:0'), tensor(0.5000, device='cuda:0'), tensor(0.4036, device='cuda:0'), tensor(0.1753, device='cuda:0'), tensor(0.4189, device='cuda:0'), tensor(0.3693, device='cuda:0'), tensor(0.0036, device='cuda:0'), tensor(2.3364e-05, device='cuda:0'), tensor(0.0130, device='cuda:0'), tensor(0.0057, device='cuda:0'), tensor(0.0997, device='cuda:0'), tensor(0.0721, device='cuda:0'), tensor(0.0763, device='cuda:0'), tensor(0.0004, device='cuda:0'), tensor(0.0002, device='cuda:0'), tensor(0.0002, device='cuda:0'), tensor(5.0492e-05, device='cuda:0'), tensor(0.0007, device='cuda:0'), tensor(0., device='cuda:0'), tensor(0., device='cuda:0'), tensor(0., device='cuda:0'), tensor(0., device='cuda:0'), tensor(0., device='cuda:0'), tensor(0., device='cuda:0'), tensor(0., device='cuda:0'), tensor(0., device='cuda:0'), tensor(0., device='cuda:0'), tensor(0., device='cuda:0'), tensor(0., device='cuda:0'), tensor(0., device='cuda:0'), tensor(0., device='cuda:0'), tensor(0.0001, device='cuda:0'), tensor(0., device='cuda:0'), tensor(0., device='cuda:0'), tensor(0.0003, device='cuda:0'), tensor(0., device='cuda:0'), tensor(0.0009, device='cuda:0'), tensor(0., device='cuda:0'), tensor(0., device='cuda:0'), tensor(0., device='cuda:0'), tensor(0., device='cuda:0'), tensor(0., device='cuda:0'), tensor(0., device='cuda:0'), tensor(0., device='cuda:0'), tensor(0., device='cuda:0'), tensor(0.0012, device='cuda:0'), tensor(0., device='cuda:0'), tensor(0.0002, device='cuda:0'), tensor(0., device='cuda:0'), tensor(0., device='cuda:0'), tensor(0., device='cuda:0'), tensor(0., device='cuda:0'), tensor(0., device='cuda:0'), tensor(0., device='cuda:0'), tensor(0., device='cuda:0'), tensor(0., device='cuda:0'), tensor(0., device='cuda:0'), tensor(0., device='cuda:0'), tensor(0., device='cuda:0'), tensor(0., device='cuda:0'), tensor(0., device='cuda:0'), tensor(0., device='cuda:0'), tensor(0., device='cuda:0'), tensor(0., device='cuda:0'), tensor(0., device='cuda:0'), tensor(0., device='cuda:0'), tensor(0., device='cuda:0'), tensor(0., device='cuda:0'), tensor(0., device='cuda:0'), tensor(0., device='cuda:0'), tensor(0., device='cuda:0'), tensor(0., device='cuda:0'), tensor(0., device='cuda:0'), tensor(0., device='cuda:0'), tensor(0., device='cuda:0'), tensor(0., device='cuda:0'), tensor(0., device='cuda:0'), tensor(0., device='cuda:0'), tensor(0., device='cuda:0'), tensor(0., device='cuda:0'), tensor(0., device='cuda:0'), tensor(0., device='cuda:0'), tensor(0., device='cuda:0'), tensor(0., device='cuda:0'), tensor(0., device='cuda:0'), tensor(0., device='cuda:0'), tensor(0., device='cuda:0'), tensor(0., device='cuda:0'), tensor(0., device='cuda:0'), tensor(0., device='cuda:0'), tensor(0., device='cuda:0'), tensor(0., device='cuda:0'), tensor(0., device='cuda:0'), tensor(0., device='cuda:0'), tensor(0., device='cuda:0'), tensor(0., device='cuda:0'), tensor(0., device='cuda:0'), tensor(0., device='cuda:0'), tensor(0., device='cuda:0'), tensor(0., device='cuda:0'), tensor(0., device='cuda:0'), tensor(0., device='cuda:0'), tensor(0., device='cuda:0'), tensor(0., device='cuda:0'), tensor(0., device='cuda:0'), tensor(0., device='cuda:0'), tensor(0., device='cuda:0'), tensor(0., device='cuda:0'), tensor(0., device='cuda:0'), tensor(0., device='cuda:0'), tensor(0., device='cuda:0'), tensor(0., device='cuda:0'), tensor(0., device='cuda:0'), tensor(0., device='cuda:0'), tensor(0., device='cuda:0'), tensor(0., device='cuda:0'), tensor(0., device='cuda:0'), tensor(0., device='cuda:0'), tensor(3.6233e-05, device='cuda:0'), tensor(0., device='cuda:0'), tensor(0., device='cuda:0'), tensor(0., device='cuda:0'), tensor(0., device='cuda:0'), tensor(0., device='cuda:0'), tensor(0., device='cuda:0'), tensor(0., device='cuda:0'), tensor(0., device='cuda:0'), tensor(0., device='cuda:0'), tensor(0., device='cuda:0'), tensor(0., device='cuda:0'), tensor(0., device='cuda:0'), tensor(0., device='cuda:0'), tensor(0., device='cuda:0'), tensor(0., device='cuda:0'), tensor(0.0007, device='cuda:0'), tensor(0., device='cuda:0'), tensor(0., device='cuda:0'), tensor(0., device='cuda:0'), tensor(0., device='cuda:0'), tensor(0., device='cuda:0'), tensor(0.0002, device='cuda:0'), tensor(0., device='cuda:0'), tensor(0., device='cuda:0'), tensor(0., device='cuda:0'), tensor(0., device='cuda:0'), tensor(0., device='cuda:0'), tensor(0.0003, device='cuda:0'), tensor(0.0012, device='cuda:0'), tensor(0.0001, device='cuda:0'), tensor(0.0010, device='cuda:0'), tensor(0.0022, device='cuda:0'), tensor(0.0030, device='cuda:0'), tensor(0.0025, device='cuda:0'), tensor(0., device='cuda:0'), tensor(0., device='cuda:0'), tensor(0.0011, device='cuda:0'), tensor(0.0030, device='cuda:0'), tensor(0., device='cuda:0'), tensor(0.0022, device='cuda:0'), tensor(0.0077, device='cuda:0'), tensor(0.0032, device='cuda:0'), tensor(0.0034, device='cuda:0'), tensor(0.0019, device='cuda:0'), tensor(0.0090, device='cuda:0'), tensor(0.0021, device='cuda:0'), tensor(0., device='cuda:0'), tensor(0., device='cuda:0'), tensor(0.0068, device='cuda:0'), tensor(0.0390, device='cuda:0'), tensor(0.0017, device='cuda:0'), tensor(0.0245, device='cuda:0'), tensor(0.0149, device='cuda:0'), tensor(0.0133, device='cuda:0'), tensor(0.0002, device='cuda:0'), tensor(0.0084, device='cuda:0'), tensor(0., device='cuda:0'), tensor(0.0036, device='cuda:0'), tensor(0.0062, device='cuda:0'), tensor(0.0390, device='cuda:0'), tensor(0.0363, device='cuda:0'), tensor(0.0014, device='cuda:0'), tensor(0.0048, device='cuda:0'), tensor(0.0060, device='cuda:0'), tensor(0.0130, device='cuda:0'), tensor(0.0231, device='cuda:0'), tensor(0.0512, device='cuda:0'), tensor(0.0843, device='cuda:0'), tensor(0.0269, device='cuda:0'), tensor(0.0357, device='cuda:0'), tensor(0.0560, device='cuda:0'), tensor(0.0599, device='cuda:0'), tensor(0.0682, device='cuda:0'), tensor(0.1137, device='cuda:0'), tensor(0.0886, device='cuda:0'), tensor(0.1317, device='cuda:0'), tensor(0.1622, device='cuda:0'), tensor(0.1582, device='cuda:0'), tensor(0.1464, device='cuda:0'), tensor(0.1846, device='cuda:0'), tensor(0.1496, device='cuda:0'), tensor(0.1280, device='cuda:0'), tensor(0.2835, device='cuda:0'), tensor(0.1343, device='cuda:0'), tensor(0.1916, device='cuda:0'), tensor(0.1479, device='cuda:0'), tensor(0.2949, device='cuda:0'), tensor(0.1403, device='cuda:0'), tensor(0.1063, device='cuda:0'), tensor(0.2048, device='cuda:0'), tensor(0.2572, device='cuda:0'), tensor(0.1533, device='cuda:0'), tensor(0.2322, device='cuda:0'), tensor(0.2114, device='cuda:0'), tensor(0.2132, device='cuda:0'), tensor(0.2000, device='cuda:0'), tensor(0.1197, device='cuda:0'), tensor(0.2517, device='cuda:0'), tensor(0.1890, device='cuda:0'), tensor(0.2242, device='cuda:0'), tensor(0.1722, device='cuda:0'), tensor(0.3151, device='cuda:0'), tensor(0.2051, device='cuda:0'), tensor(0.4239, device='cuda:0'), tensor(0.1487, device='cuda:0'), tensor(0.1525, device='cuda:0'), tensor(0.2156, device='cuda:0'), tensor(0.3064, device='cuda:0'), tensor(0.3734, device='cuda:0'), tensor(0.1910, device='cuda:0'), tensor(0.2149, device='cuda:0'), tensor(0.1875, device='cuda:0'), tensor(0.2564, device='cuda:0'), tensor(0.1807, device='cuda:0'), tensor(0.3304, device='cuda:0'), tensor(0.3051, device='cuda:0'), tensor(0.2168, device='cuda:0'), tensor(0.2886, device='cuda:0'), tensor(0.2000, device='cuda:0'), tensor(0.3096, device='cuda:0'), tensor(0.2808, device='cuda:0'), tensor(0.1873, device='cuda:0'), tensor(0.2862, device='cuda:0'), tensor(0.2203, device='cuda:0'), tensor(0.2329, device='cuda:0'), tensor(0.3789, device='cuda:0'), tensor(0.3121, device='cuda:0'), tensor(0.3195, device='cuda:0'), tensor(0.2883, device='cuda:0'), tensor(0.1843, device='cuda:0'), tensor(0.3688, device='cuda:0'), tensor(0.1491, device='cuda:0'), tensor(0.2497, device='cuda:0'), tensor(0.3734, device='cuda:0'), tensor(0.2046, device='cuda:0'), tensor(0.0947, device='cuda:0'), tensor(0.1261, device='cuda:0'), tensor(0.1335, device='cuda:0'), tensor(0.1710, device='cuda:0'), tensor(0.1375, device='cuda:0'), tensor(0.1892, device='cuda:0'), tensor(0.1807, device='cuda:0'), tensor(0.2564, device='cuda:0'), tensor(0.3136, device='cuda:0'), tensor(0.3441, device='cuda:0'), tensor(0.3057, device='cuda:0'), tensor(0.2383, device='cuda:0'), tensor(0.2831, device='cuda:0'), tensor(0.3004, device='cuda:0'), tensor(0.3138, device='cuda:0'), tensor(0.2960, device='cuda:0'), tensor(0.3104, device='cuda:0'), tensor(0.4376, device='cuda:0'), tensor(0.4672, device='cuda:0'), tensor(0.4407, device='cuda:0'), tensor(0.2776, device='cuda:0'), tensor(0.3321, device='cuda:0'), tensor(0.3629, device='cuda:0'), tensor(0.2906, device='cuda:0'), tensor(0.3355, device='cuda:0'), tensor(0.3430, device='cuda:0'), tensor(0.3287, device='cuda:0'), tensor(0.3699, device='cuda:0'), tensor(0.1843, device='cuda:0'), tensor(0.2939, device='cuda:0'), tensor(0.2621, device='cuda:0'), tensor(0.3150, device='cuda:0'), tensor(0.3372, device='cuda:0'), tensor(0.2785, device='cuda:0'), tensor(0.3538, device='cuda:0'), tensor(0.2560, device='cuda:0'), tensor(0.3356, device='cuda:0'), tensor(0.3265, device='cuda:0'), tensor(0.2457, device='cuda:0'), tensor(0.3708, device='cuda:0'), tensor(0.3420, device='cuda:0'), tensor(0.3179, device='cuda:0'), tensor(0.2852, device='cuda:0'), tensor(0.3775, device='cuda:0'), tensor(0.2861, device='cuda:0'), tensor(0.2727, device='cuda:0'), tensor(0.3642, device='cuda:0'), tensor(0.2717, device='cuda:0'), tensor(0.3893, device='cuda:0'), tensor(0.4035, device='cuda:0'), tensor(0.3431, device='cuda:0'), tensor(0.3196, device='cuda:0'), tensor(0.2926, device='cuda:0'), tensor(0.2523, device='cuda:0'), tensor(0.3934, device='cuda:0'), tensor(0.4025, device='cuda:0'), tensor(0.2896, device='cuda:0'), tensor(0.3367, device='cuda:0'), tensor(0.2699, device='cuda:0'), tensor(0.4341, device='cuda:0'), tensor(0.3069, device='cuda:0'), tensor(0.4592, device='cuda:0'), tensor(0.5074, device='cuda:0'), tensor(0.3110, device='cuda:0'), tensor(0.3870, device='cuda:0'), tensor(0.5396, device='cuda:0'), tensor(0.4294, device='cuda:0'), tensor(0.3348, device='cuda:0'), tensor(0.4409, device='cuda:0'), tensor(0.3888, device='cuda:0'), tensor(0.4585, device='cuda:0'), tensor(0.3260, device='cuda:0'), tensor(0.3590, device='cuda:0'), tensor(0.2963, device='cuda:0'), tensor(0.2881, device='cuda:0'), tensor(0.3484, device='cuda:0'), tensor(0.4562, device='cuda:0'), tensor(0.2758, device='cuda:0'), tensor(0.2685, device='cuda:0'), tensor(0.3075, device='cuda:0'), tensor(0.3597, device='cuda:0'), tensor(0.3133, device='cuda:0'), tensor(0.3538, device='cuda:0'), tensor(0.3589, device='cuda:0'), tensor(0.3487, device='cuda:0'), tensor(0.4353, device='cuda:0'), tensor(0.4167, device='cuda:0'), tensor(0.4106, device='cuda:0'), tensor(0.3869, device='cuda:0'), tensor(0.3796, device='cuda:0'), tensor(0.2922, device='cuda:0'), tensor(0.4713, device='cuda:0'), tensor(0.4546, device='cuda:0'), tensor(0.4328, device='cuda:0'), tensor(0.1518, device='cuda:0'), tensor(0.1517, device='cuda:0'), tensor(0.2087, device='cuda:0'), tensor(0.2482, device='cuda:0'), tensor(0.2244, device='cuda:0'), tensor(0.2485, device='cuda:0'), tensor(0.2520, device='cuda:0'), tensor(0.2957, device='cuda:0'), tensor(0.2674, device='cuda:0'), tensor(0.2164, device='cuda:0'), tensor(0.3545, device='cuda:0'), tensor(0.2576, device='cuda:0'), tensor(0.4254, device='cuda:0'), tensor(0.4057, device='cuda:0'), tensor(0.3735, device='cuda:0'), tensor(0.4023, device='cuda:0'), tensor(0.3656, device='cuda:0'), tensor(0.3988, device='cuda:0'), tensor(0.2928, device='cuda:0'), tensor(0.5691, device='cuda:0'), tensor(0.3662, device='cuda:0'), tensor(0.5002, device='cuda:0'), tensor(0.4213, device='cuda:0'), tensor(0.4325, device='cuda:0'), tensor(0.4927, device='cuda:0'), tensor(0.4749, device='cuda:0'), tensor(0.4103, device='cuda:0'), tensor(0.3673, device='cuda:0'), tensor(0.5440, device='cuda:0'), tensor(0.2608, device='cuda:0'), tensor(0.3837, device='cuda:0'), tensor(0.3426, device='cuda:0'), tensor(0.3602, device='cuda:0'), tensor(0.3535, device='cuda:0'), tensor(0.3703, device='cuda:0'), tensor(0.4445, device='cuda:0'), tensor(0.3320, device='cuda:0'), tensor(0.3699, device='cuda:0'), tensor(0.2915, device='cuda:0'), tensor(0.3982, device='cuda:0'), tensor(0.3464, device='cuda:0'), tensor(0.3131, device='cuda:0'), tensor(0.5262, device='cuda:0'), tensor(0.3439, device='cuda:0'), tensor(0.3860, device='cuda:0'), tensor(0.3751, device='cuda:0'), tensor(0.3472, device='cuda:0'), tensor(0.4043, device='cuda:0'), tensor(0.4061, device='cuda:0'), tensor(0.3972, device='cuda:0'), tensor(0.3883, device='cuda:0'), tensor(0.4682, device='cuda:0'), tensor(0.3993, device='cuda:0'), tensor(0.4565, device='cuda:0'), tensor(0.5078, device='cuda:0'), tensor(0.4735, device='cuda:0'), tensor(0.3829, device='cuda:0'), tensor(0.4229, device='cuda:0'), tensor(0.4153, device='cuda:0'), tensor(0.4190, device='cuda:0'), tensor(0.4993, device='cuda:0'), tensor(0.4225, device='cuda:0'), tensor(0.4994, device='cuda:0'), tensor(0.4659, device='cuda:0'), tensor(0.4451, device='cuda:0'), tensor(0.4828, device='cuda:0'), tensor(0.4285, device='cuda:0'), tensor(0.3335, device='cuda:0'), tensor(0.5164, device='cuda:0'), tensor(0.4390, device='cuda:0'), tensor(0.4741, device='cuda:0'), tensor(0.4732, device='cuda:0'), tensor(0.4443, device='cuda:0'), tensor(0.3506, device='cuda:0'), tensor(0.4749, device='cuda:0'), tensor(0.3515, device='cuda:0'), tensor(0.4936, device='cuda:0'), tensor(0.3763, device='cuda:0'), tensor(0.3242, device='cuda:0'), tensor(0.3882, device='cuda:0'), tensor(0.5423, device='cuda:0'), tensor(0.3576, device='cuda:0'), tensor(0.3953, device='cuda:0'), tensor(0.4101, device='cuda:0'), tensor(0.4566, device='cuda:0'), tensor(0.4627, device='cuda:0'), tensor(0.4404, device='cuda:0'), tensor(0.4072, device='cuda:0'), tensor(0.4232, device='cuda:0'), tensor(0.3817, device='cuda:0'), tensor(0.4508, device='cuda:0'), tensor(0.4395, device='cuda:0'), tensor(0.4274, device='cuda:0'), tensor(0.4289, device='cuda:0'), tensor(0.4071, device='cuda:0'), tensor(0.4233, device='cuda:0'), tensor(0.4482, device='cuda:0'), tensor(0.4377, device='cuda:0'), tensor(0.4600, device='cuda:0'), tensor(0.4528, device='cuda:0'), tensor(0.4230, device='cuda:0'), tensor(0.4276, device='cuda:0'), tensor(0.4910, device='cuda:0'), tensor(0.4772, device='cuda:0'), tensor(0.4339, device='cuda:0'), tensor(0.4183, device='cuda:0'), tensor(0.4322, device='cuda:0'), tensor(0.3651, device='cuda:0'), tensor(0.4180, device='cuda:0'), tensor(0.4129, device='cuda:0'), tensor(0.4693, device='cuda:0'), tensor(0.4565, device='cuda:0'), tensor(0.4289, device='cuda:0'), tensor(0.4265, device='cuda:0'), tensor(0.4499, device='cuda:0'), tensor(0.3883, device='cuda:0'), tensor(0.4275, device='cuda:0'), tensor(0.4869, device='cuda:0'), tensor(0.4493, device='cuda:0'), tensor(0.4385, device='cuda:0'), tensor(0.4496, device='cuda:0'), tensor(0.4631, device='cuda:0'), tensor(0.4175, device='cuda:0'), tensor(0.4532, device='cuda:0'), tensor(0.4411, device='cuda:0'), tensor(0.4140, device='cuda:0'), tensor(0.4263, device='cuda:0'), tensor(0.4210, device='cuda:0'), tensor(0.4436, device='cuda:0'), tensor(0.3790, device='cuda:0'), tensor(0.4509, device='cuda:0'), tensor(0.4424, device='cuda:0'), tensor(0.4420, device='cuda:0'), tensor(0.4133, device='cuda:0'), tensor(0.4417, device='cuda:0'), tensor(0.4511, device='cuda:0'), tensor(0.4233, device='cuda:0'), tensor(0.4496, device='cuda:0'), tensor(0.4328, device='cuda:0'), tensor(0.4144, device='cuda:0'), tensor(0.4099, device='cuda:0'), tensor(0.4465, device='cuda:0'), tensor(0.4202, device='cuda:0'), tensor(0.4283, device='cuda:0'), tensor(0.4663, device='cuda:0'), tensor(0.4277, device='cuda:0'), tensor(0.4072, device='cuda:0'), tensor(0.3830, device='cuda:0'), tensor(0.4172, device='cuda:0'), tensor(0.4141, device='cuda:0'), tensor(0.4281, device='cuda:0'), tensor(0.4147, device='cuda:0'), tensor(0.4534, device='cuda:0'), tensor(0.4357, device='cuda:0'), tensor(0.4332, device='cuda:0'), tensor(0.4226, device='cuda:0'), tensor(0.3877, device='cuda:0'), tensor(0.4926, device='cuda:0'), tensor(0.3943, device='cuda:0'), tensor(0.3962, device='cuda:0'), tensor(0.4664, device='cuda:0'), tensor(0.4423, device='cuda:0'), tensor(0.4628, device='cuda:0'), tensor(0.4543, device='cuda:0'), tensor(0.4295, device='cuda:0'), tensor(0.4554, device='cuda:0'), tensor(0.4535, device='cuda:0'), tensor(0.4231, device='cuda:0'), tensor(0.4146, device='cuda:0'), tensor(0.4102, device='cuda:0')], [tensor(-0.0421, device='cuda:0'), tensor(-0.0452, device='cuda:0'), tensor(-0.0468, device='cuda:0'), tensor(-0.0440, device='cuda:0'), tensor(-0.0424, device='cuda:0'), tensor(-0.0404, device='cuda:0'), tensor(-0.0422, device='cuda:0'), tensor(-0.0415, device='cuda:0'), tensor(-0.0483, device='cuda:0'), tensor(-0.0545, device='cuda:0'), tensor(-0.0507, device='cuda:0'), tensor(-0.0556, device='cuda:0'), tensor(-0.0484, device='cuda:0'), tensor(-0.0598, device='cuda:0'), tensor(-0.0601, device='cuda:0'), tensor(-0.0822, device='cuda:0'), tensor(-0.0418, device='cuda:0'), tensor(-0.0501, device='cuda:0'), tensor(0.0282, device='cuda:0'), tensor(0.0126, device='cuda:0'), tensor(0.0423, device='cuda:0'), tensor(0.0330, device='cuda:0'), tensor(-0.0291, device='cuda:0'), tensor(-0.0221, device='cuda:0'), tensor(-0.0177, device='cuda:0'), tensor(-0.0010, device='cuda:0'), tensor(-0.0457, device='cuda:0'), tensor(-0.0426, device='cuda:0'), tensor(-0.0435, device='cuda:0'), tensor(-0.0426, device='cuda:0'), tensor(-0.0398, device='cuda:0'), tensor(-0.0400, device='cuda:0'), tensor(-0.0397, device='cuda:0'), tensor(-0.0394, device='cuda:0'), tensor(-0.0402, device='cuda:0'), tensor(-0.0413, device='cuda:0'), tensor(-0.0417, device='cuda:0'), tensor(-0.0433, device='cuda:0'), tensor(-0.0468, device='cuda:0'), tensor(-0.0468, device='cuda:0'), tensor(-0.0475, device='cuda:0'), tensor(-0.0478, device='cuda:0'), tensor(-0.0516, device='cuda:0'), tensor(-0.0524, device='cuda:0'), tensor(-0.0540, device='cuda:0'), tensor(-0.0552, device='cuda:0'), tensor(-0.0583, device='cuda:0'), tensor(-0.0653, device='cuda:0'), tensor(-0.0954, device='cuda:0'), tensor(-0.2271, device='cuda:0'), tensor(-0.0543, device='cuda:0'), tensor(-0.0447, device='cuda:0'), tensor(-0.0405, device='cuda:0'), tensor(-0.0271, device='cuda:0'), tensor(-0.0611, device='cuda:0'), tensor(-0.0437, device='cuda:0'), tensor(-0.0414, device='cuda:0'), tensor(-0.0268, device='cuda:0'), tensor(-0.0251, device='cuda:0'), tensor(0.0359, device='cuda:0'), tensor(-0.0333, device='cuda:0'), tensor(0.0361, device='cuda:0'), tensor(-0.0427, device='cuda:0'), tensor(-0.0437, device='cuda:0'), tensor(-0.0450, device='cuda:0'), tensor(-0.0400, device='cuda:0'), tensor(-0.0350, device='cuda:0'), tensor(-0.0264, device='cuda:0'), tensor(-0.0317, device='cuda:0'), tensor(0.0935, device='cuda:0'), tensor(-0.0734, device='cuda:0'), tensor(-0.0667, device='cuda:0'), tensor(-0.0525, device='cuda:0'), tensor(-0.0518, device='cuda:0'), tensor(-0.0635, device='cuda:0'), tensor(-0.0510, device='cuda:0'), tensor(-0.0501, device='cuda:0'), tensor(-0.0501, device='cuda:0'), tensor(-0.0495, device='cuda:0'), tensor(-0.0481, device='cuda:0'), tensor(-0.0468, device='cuda:0'), tensor(-0.0523, device='cuda:0'), tensor(-0.0428, device='cuda:0'), tensor(-0.0306, device='cuda:0'), tensor(-0.0576, device='cuda:0'), tensor(-0.0489, device='cuda:0'), tensor(-0.0534, device='cuda:0'), tensor(-0.0758, device='cuda:0'), tensor(-0.0450, device='cuda:0'), tensor(-0.0456, device='cuda:0'), tensor(-0.0467, device='cuda:0'), tensor(-0.0455, device='cuda:0'), tensor(-0.0458, device='cuda:0'), tensor(-0.0453, device='cuda:0'), tensor(-0.0444, device='cuda:0'), tensor(-0.0432, device='cuda:0'), tensor(-0.0414, device='cuda:0'), tensor(-0.0421, device='cuda:0'), tensor(-0.0409, device='cuda:0'), tensor(-0.0427, device='cuda:0'), tensor(-0.0489, device='cuda:0'), tensor(-0.0480, device='cuda:0'), tensor(-0.0453, device='cuda:0'), tensor(-0.0403, device='cuda:0'), tensor(-0.0573, device='cuda:0'), tensor(-0.0526, device='cuda:0'), tensor(-0.0842, device='cuda:0'), tensor(-0.0883, device='cuda:0'), tensor(-0.0925, device='cuda:0'), tensor(-0.0655, device='cuda:0'), tensor(-0.0707, device='cuda:0'), tensor(-0.1044, device='cuda:0'), tensor(-0.0516, device='cuda:0'), tensor(-0.0256, device='cuda:0'), tensor(-0.0298, device='cuda:0'), tensor(-0.0946, device='cuda:0'), tensor(-0.0521, device='cuda:0'), tensor(-0.0406, device='cuda:0'), tensor(-0.0367, device='cuda:0'), tensor(-0.0379, device='cuda:0'), tensor(-0.0395, device='cuda:0'), tensor(-0.0368, device='cuda:0'), tensor(-0.0331, device='cuda:0'), tensor(-0.0357, device='cuda:0'), tensor(-0.0362, device='cuda:0'), tensor(-0.0343, device='cuda:0'), tensor(-0.0344, device='cuda:0'), tensor(-0.0307, device='cuda:0'), tensor(-0.0272, device='cuda:0'), tensor(-0.0249, device='cuda:0'), tensor(-0.0252, device='cuda:0'), tensor(-0.0271, device='cuda:0'), tensor(-0.0261, device='cuda:0'), tensor(-0.0314, device='cuda:0'), tensor(-0.0353, device='cuda:0'), tensor(-0.0325, device='cuda:0'), tensor(-0.0363, device='cuda:0'), tensor(-0.0344, device='cuda:0'), tensor(-0.0364, device='cuda:0'), tensor(-0.0376, device='cuda:0'), tensor(-0.0345, device='cuda:0'), tensor(-0.0358, device='cuda:0'), tensor(-0.0299, device='cuda:0'), tensor(-0.0281, device='cuda:0'), tensor(-0.0281, device='cuda:0'), tensor(-0.0282, device='cuda:0'), tensor(-0.0310, device='cuda:0'), tensor(-0.0342, device='cuda:0'), tensor(-0.0266, device='cuda:0'), tensor(-0.0238, device='cuda:0'), tensor(-0.0237, device='cuda:0'), tensor(-0.0256, device='cuda:0'), tensor(-0.0272, device='cuda:0'), tensor(-0.0286, device='cuda:0'), tensor(-0.0259, device='cuda:0'), tensor(-0.0297, device='cuda:0'), tensor(-0.0273, device='cuda:0'), tensor(-0.0322, device='cuda:0'), tensor(-0.0297, device='cuda:0'), tensor(-0.0303, device='cuda:0'), tensor(-0.0253, device='cuda:0'), tensor(-0.0273, device='cuda:0'), tensor(-0.0272, device='cuda:0'), tensor(-0.0257, device='cuda:0'), tensor(-0.0267, device='cuda:0'), tensor(-0.0307, device='cuda:0'), tensor(-0.0367, device='cuda:0'), tensor(-0.0373, device='cuda:0'), tensor(-0.0379, device='cuda:0'), tensor(-0.0388, device='cuda:0'), tensor(-0.0385, device='cuda:0'), tensor(-0.0345, device='cuda:0'), tensor(-0.0346, device='cuda:0'), tensor(-0.0357, device='cuda:0'), tensor(-0.0346, device='cuda:0'), tensor(-0.0349, device='cuda:0'), tensor(-0.0349, device='cuda:0'), tensor(-0.0338, device='cuda:0'), tensor(-0.0314, device='cuda:0'), tensor(-0.0299, device='cuda:0'), tensor(-0.0269, device='cuda:0'), tensor(-0.0300, device='cuda:0'), tensor(-0.0326, device='cuda:0'), tensor(-0.0354, device='cuda:0'), tensor(-0.0341, device='cuda:0'), tensor(-0.0315, device='cuda:0'), tensor(-0.0333, device='cuda:0'), tensor(-0.0283, device='cuda:0'), tensor(-0.0280, device='cuda:0'), tensor(-0.0282, device='cuda:0'), tensor(-0.0285, device='cuda:0'), tensor(-0.0282, device='cuda:0'), tensor(-0.0288, device='cuda:0'), tensor(-0.0289, device='cuda:0'), tensor(-0.0261, device='cuda:0'), tensor(-0.0306, device='cuda:0'), tensor(-0.0317, device='cuda:0'), tensor(-0.0326, device='cuda:0'), tensor(-0.0317, device='cuda:0'), tensor(-0.0294, device='cuda:0'), tensor(-0.0282, device='cuda:0'), tensor(-0.0304, device='cuda:0'), tensor(-0.0272, device='cuda:0'), tensor(-0.0280, device='cuda:0'), tensor(-0.0269, device='cuda:0'), tensor(-0.0311, device='cuda:0'), tensor(-0.0324, device='cuda:0'), tensor(-0.0336, device='cuda:0'), tensor(-0.0306, device='cuda:0'), tensor(-0.0302, device='cuda:0'), tensor(-0.0220, device='cuda:0'), tensor(-0.0306, device='cuda:0'), tensor(-0.0310, device='cuda:0'), tensor(-0.0303, device='cuda:0'), tensor(-0.0301, device='cuda:0'), tensor(-0.0288, device='cuda:0'), tensor(-0.0297, device='cuda:0'), tensor(-0.0263, device='cuda:0'), tensor(-0.0310, device='cuda:0'), tensor(-0.0311, device='cuda:0'), tensor(-0.0314, device='cuda:0'), tensor(-0.0300, device='cuda:0'), tensor(-0.0260, device='cuda:0'), tensor(-0.0268, device='cuda:0'), tensor(-0.0317, device='cuda:0'), tensor(-0.0308, device='cuda:0'), tensor(-0.0284, device='cuda:0'), tensor(-0.0328, device='cuda:0'), tensor(-0.0344, device='cuda:0'), tensor(-0.0360, device='cuda:0'), tensor(-0.0320, device='cuda:0'), tensor(-0.0338, device='cuda:0'), tensor(-0.0338, device='cuda:0'), tensor(-0.0329, device='cuda:0'), tensor(-0.0392, device='cuda:0'), tensor(-0.0396, device='cuda:0'), tensor(-0.0338, device='cuda:0'), tensor(-0.0366, device='cuda:0'), tensor(-0.0352, device='cuda:0'), tensor(-0.0365, device='cuda:0'), tensor(-0.0384, device='cuda:0'), tensor(-0.0383, device='cuda:0'), tensor(-0.0340, device='cuda:0'), tensor(-0.0308, device='cuda:0'), tensor(-0.0278, device='cuda:0'), tensor(-0.0271, device='cuda:0'), tensor(-0.0307, device='cuda:0'), tensor(-0.0318, device='cuda:0'), tensor(-0.0297, device='cuda:0'), tensor(-0.0281, device='cuda:0'), tensor(-0.0348, device='cuda:0'), tensor(-0.0387, device='cuda:0'), tensor(-0.0386, device='cuda:0'), tensor(-0.0362, device='cuda:0'), tensor(-0.0355, device='cuda:0'), tensor(-0.0375, device='cuda:0'), tensor(-0.0377, device='cuda:0'), tensor(-0.0361, device='cuda:0'), tensor(-0.0382, device='cuda:0'), tensor(-0.0378, device='cuda:0'), tensor(-0.0330, device='cuda:0'), tensor(-0.0308, device='cuda:0'), tensor(-0.0348, device='cuda:0'), tensor(-0.0367, device='cuda:0'), tensor(-0.0335, device='cuda:0'), tensor(-0.0331, device='cuda:0'), tensor(-0.0325, device='cuda:0'), tensor(-0.0381, device='cuda:0'), tensor(-0.0373, device='cuda:0'), tensor(-0.0403, device='cuda:0'), tensor(-0.0396, device='cuda:0'), tensor(-0.0419, device='cuda:0'), tensor(-0.0411, device='cuda:0'), tensor(-0.0396, device='cuda:0'), tensor(-0.0399, device='cuda:0'), tensor(-0.0352, device='cuda:0'), tensor(-0.0346, device='cuda:0'), tensor(-0.0358, device='cuda:0'), tensor(-0.0318, device='cuda:0'), tensor(-0.0332, device='cuda:0'), tensor(-0.0301, device='cuda:0'), tensor(-0.0288, device='cuda:0'), tensor(-0.0325, device='cuda:0'), tensor(-0.0339, device='cuda:0'), tensor(-0.0293, device='cuda:0'), tensor(-0.0290, device='cuda:0'), tensor(-0.0315, device='cuda:0'), tensor(-0.0280, device='cuda:0'), tensor(-0.0263, device='cuda:0'), tensor(-0.0254, device='cuda:0'), tensor(-0.0233, device='cuda:0'), tensor(-0.0226, device='cuda:0'), tensor(-0.0252, device='cuda:0'), tensor(-0.0249, device='cuda:0'), tensor(-0.0270, device='cuda:0'), tensor(-0.0284, device='cuda:0'), tensor(-0.0276, device='cuda:0'), tensor(-0.0315, device='cuda:0'), tensor(-0.0323, device='cuda:0'), tensor(-0.0297, device='cuda:0'), tensor(-0.0312, device='cuda:0'), tensor(-0.0314, device='cuda:0'), tensor(-0.0294, device='cuda:0'), tensor(-0.0283, device='cuda:0'), tensor(-0.0318, device='cuda:0'), tensor(-0.0323, device='cuda:0'), tensor(-0.0294, device='cuda:0'), tensor(-0.0312, device='cuda:0'), tensor(-0.0330, device='cuda:0'), tensor(-0.0343, device='cuda:0'), tensor(-0.0341, device='cuda:0'), tensor(-0.0365, device='cuda:0'), tensor(-0.0311, device='cuda:0'), tensor(-0.0324, device='cuda:0'), tensor(-0.0317, device='cuda:0'), tensor(-0.0323, device='cuda:0'), tensor(-0.0328, device='cuda:0'), tensor(-0.0374, device='cuda:0'), tensor(-0.0399, device='cuda:0'), tensor(-0.0411, device='cuda:0'), tensor(-0.0362, device='cuda:0'), tensor(-0.0356, device='cuda:0'), tensor(-0.0337, device='cuda:0'), tensor(-0.0378, device='cuda:0'), tensor(-0.0362, device='cuda:0'), tensor(-0.0385, device='cuda:0'), tensor(-0.0408, device='cuda:0'), tensor(-0.0424, device='cuda:0'), tensor(-0.0429, device='cuda:0'), tensor(-0.0387, device='cuda:0'), tensor(-0.0435, device='cuda:0'), tensor(-0.0408, device='cuda:0'), tensor(-0.0377, device='cuda:0'), tensor(-0.0482, device='cuda:0'), tensor(-0.0219, device='cuda:0'), tensor(-0.0264, device='cuda:0'), tensor(-0.0291, device='cuda:0'), tensor(-0.0276, device='cuda:0'), tensor(-0.0278, device='cuda:0'), tensor(-0.0273, device='cuda:0'), tensor(-0.0301, device='cuda:0'), tensor(-0.0321, device='cuda:0'), tensor(-0.0306, device='cuda:0'), tensor(-0.0321, device='cuda:0'), tensor(-0.0298, device='cuda:0'), tensor(-0.0333, device='cuda:0'), tensor(-0.0303, device='cuda:0'), tensor(-0.0289, device='cuda:0'), tensor(-0.0273, device='cuda:0'), tensor(-0.0285, device='cuda:0'), tensor(-0.0314, device='cuda:0'), tensor(-0.0334, device='cuda:0'), tensor(-0.0358, device='cuda:0'), tensor(-0.0339, device='cuda:0'), tensor(-0.0323, device='cuda:0'), tensor(-0.0330, device='cuda:0'), tensor(-0.0310, device='cuda:0'), tensor(-0.0311, device='cuda:0'), tensor(-0.0329, device='cuda:0'), tensor(-0.0316, device='cuda:0'), tensor(-0.0312, device='cuda:0'), tensor(-0.0320, device='cuda:0'), tensor(-0.0321, device='cuda:0'), tensor(-0.0347, device='cuda:0'), tensor(-0.0330, device='cuda:0'), tensor(-0.0339, device='cuda:0'), tensor(-0.0327, device='cuda:0'), tensor(-0.0324, device='cuda:0'), tensor(-0.0330, device='cuda:0'), tensor(-0.0339, device='cuda:0'), tensor(-0.0308, device='cuda:0'), tensor(-0.0316, device='cuda:0'), tensor(-0.0331, device='cuda:0'), tensor(-0.0323, device='cuda:0'), tensor(-0.0321, device='cuda:0'), tensor(-0.0302, device='cuda:0'), tensor(-0.0318, device='cuda:0'), tensor(-0.0328, device='cuda:0'), tensor(-0.0331, device='cuda:0'), tensor(-0.0310, device='cuda:0'), tensor(-0.0319, device='cuda:0'), tensor(-0.0339, device='cuda:0'), tensor(-0.0317, device='cuda:0'), tensor(-0.0318, device='cuda:0'), tensor(-0.0350, device='cuda:0'), tensor(-0.0349, device='cuda:0'), tensor(-0.0355, device='cuda:0'), tensor(-0.0361, device='cuda:0'), tensor(-0.0336, device='cuda:0'), tensor(-0.0336, device='cuda:0'), tensor(-0.0323, device='cuda:0'), tensor(-0.0310, device='cuda:0'), tensor(-0.0325, device='cuda:0'), tensor(-0.0353, device='cuda:0'), tensor(-0.0346, device='cuda:0'), tensor(-0.0339, device='cuda:0'), tensor(-0.0341, device='cuda:0'), tensor(-0.0354, device='cuda:0'), tensor(-0.0343, device='cuda:0'), tensor(-0.0339, device='cuda:0'), tensor(-0.0338, device='cuda:0'), tensor(-0.0323, device='cuda:0'), tensor(-0.0323, device='cuda:0'), tensor(-0.0308, device='cuda:0'), tensor(-0.0322, device='cuda:0'), tensor(-0.0333, device='cuda:0'), tensor(-0.0332, device='cuda:0'), tensor(-0.0330, device='cuda:0'), tensor(-0.0324, device='cuda:0'), tensor(-0.0339, device='cuda:0'), tensor(-0.0329, device='cuda:0'), tensor(-0.0349, device='cuda:0'), tensor(-0.0345, device='cuda:0'), tensor(-0.0348, device='cuda:0'), tensor(-0.0352, device='cuda:0'), tensor(-0.0351, device='cuda:0'), tensor(-0.0380, device='cuda:0'), tensor(-0.0379, device='cuda:0'), tensor(-0.0365, device='cuda:0'), tensor(-0.0385, device='cuda:0'), tensor(-0.0385, device='cuda:0'), tensor(-0.0375, device='cuda:0'), tensor(-0.0388, device='cuda:0'), tensor(-0.0395, device='cuda:0'), tensor(-0.0381, device='cuda:0'), tensor(-0.0397, device='cuda:0'), tensor(-0.0387, device='cuda:0'), tensor(-0.0379, device='cuda:0'), tensor(-0.0365, device='cuda:0'), tensor(-0.0366, device='cuda:0'), tensor(-0.0375, device='cuda:0'), tensor(-0.0355, device='cuda:0'), tensor(-0.0370, device='cuda:0'), tensor(-0.0369, device='cuda:0'), tensor(-0.0368, device='cuda:0'), tensor(-0.0346, device='cuda:0'), tensor(-0.0353, device='cuda:0'), tensor(-0.0340, device='cuda:0'), tensor(-0.0344, device='cuda:0'), tensor(-0.0352, device='cuda:0'), tensor(-0.0350, device='cuda:0'), tensor(-0.0332, device='cuda:0'), tensor(-0.0345, device='cuda:0'), tensor(-0.0342, device='cuda:0'), tensor(-0.0339, device='cuda:0'), tensor(-0.0346, device='cuda:0'), tensor(-0.0347, device='cuda:0'), tensor(-0.0339, device='cuda:0'), tensor(-0.0349, device='cuda:0'), tensor(-0.0353, device='cuda:0'), tensor(-0.0341, device='cuda:0'), tensor(-0.0341, device='cuda:0'), tensor(-0.0365, device='cuda:0'), tensor(-0.0376, device='cuda:0'), tensor(-0.0372, device='cuda:0'), tensor(-0.0346, device='cuda:0'), tensor(-0.0349, device='cuda:0'), tensor(-0.0352, device='cuda:0'), tensor(-0.0357, device='cuda:0'), tensor(-0.0344, device='cuda:0'), tensor(-0.0346, device='cuda:0'), tensor(-0.0336, device='cuda:0'), tensor(-0.0339, device='cuda:0'), tensor(-0.0354, device='cuda:0'), tensor(-0.0374, device='cuda:0'), tensor(-0.0378, device='cuda:0'), tensor(-0.0392, device='cuda:0'), tensor(-0.0381, device='cuda:0'), tensor(-0.0330, device='cuda:0'), tensor(-0.0326, device='cuda:0'), tensor(-0.0314, device='cuda:0'), tensor(-0.0325, device='cuda:0'), tensor(-0.0306, device='cuda:0'), tensor(-0.0288, device='cuda:0'), tensor(-0.0278, device='cuda:0'), tensor(-0.0276, device='cuda:0'), tensor(-0.0267, device='cuda:0'), tensor(-0.0278, device='cuda:0'), tensor(-0.0319, device='cuda:0'), tensor(-0.0329, device='cuda:0'), tensor(-0.0347, device='cuda:0'), tensor(-0.0324, device='cuda:0'), tensor(-0.0331, device='cuda:0'), tensor(-0.0342, device='cuda:0'), tensor(-0.0360, device='cuda:0'), tensor(-0.0352, device='cuda:0'), tensor(-0.0354, device='cuda:0'), tensor(-0.0365, device='cuda:0'), tensor(-0.0383, device='cuda:0'), tensor(-0.0392, device='cuda:0'), tensor(-0.0385, device='cuda:0'), tensor(-0.0402, device='cuda:0'), tensor(-0.0401, device='cuda:0'), tensor(-0.0385, device='cuda:0'), tensor(-0.0408, device='cuda:0'), tensor(-0.0382, device='cuda:0'), tensor(-0.0382, device='cuda:0'), tensor(-0.0367, device='cuda:0'), tensor(-0.0408, device='cuda:0'), tensor(-0.0381, device='cuda:0'), tensor(-0.0351, device='cuda:0'), tensor(-0.0358, device='cuda:0'), tensor(-0.0352, device='cuda:0'), tensor(-0.0352, device='cuda:0'), tensor(-0.0337, device='cuda:0'), tensor(-0.0327, device='cuda:0'), tensor(-0.0310, device='cuda:0'), tensor(-0.0295, device='cuda:0'), tensor(-0.0347, device='cuda:0'), tensor(-0.0348, device='cuda:0'), tensor(-0.0343, device='cuda:0'), tensor(-0.0349, device='cuda:0'), tensor(-0.0361, device='cuda:0'), tensor(-0.0358, device='cuda:0'), tensor(-0.0338, device='cuda:0'), tensor(-0.0353, device='cuda:0'), tensor(-0.0360, device='cuda:0'), tensor(-0.0353, device='cuda:0'), tensor(-0.0369, device='cuda:0'), tensor(-0.0330, device='cuda:0'), tensor(-0.0324, device='cuda:0'), tensor(-0.0347, device='cuda:0'), tensor(-0.0354, device='cuda:0'), tensor(-0.0351, device='cuda:0'), tensor(-0.0366, device='cuda:0'), tensor(-0.0376, device='cuda:0'), tensor(-0.0369, device='cuda:0'), tensor(-0.0376, device='cuda:0'), tensor(-0.0360, device='cuda:0'), tensor(-0.0355, device='cuda:0'), tensor(-0.0318, device='cuda:0'), tensor(-0.0349, device='cuda:0'), tensor(-0.0306, device='cuda:0'), tensor(-0.0319, device='cuda:0'), tensor(-0.0350, device='cuda:0'), tensor(-0.0348, device='cuda:0'), tensor(-0.0321, device='cuda:0'), tensor(-0.0329, device='cuda:0'), tensor(-0.0346, device='cuda:0'), tensor(-0.0336, device='cuda:0'), tensor(-0.0312, device='cuda:0'), tensor(-0.0273, device='cuda:0'), tensor(-0.0279, device='cuda:0'), tensor(-0.0315, device='cuda:0'), tensor(-0.0319, device='cuda:0'), tensor(-0.0290, device='cuda:0'), tensor(-0.0285, device='cuda:0'), tensor(-0.0301, device='cuda:0'), tensor(-0.0320, device='cuda:0'), tensor(-0.0316, device='cuda:0'), tensor(-0.0328, device='cuda:0'), tensor(-0.0340, device='cuda:0'), tensor(-0.0324, device='cuda:0'), tensor(-0.0313, device='cuda:0'), tensor(-0.0314, device='cuda:0'), tensor(-0.0325, device='cuda:0'), tensor(-0.0322, device='cuda:0'), tensor(-0.0302, device='cuda:0'), tensor(-0.0285, device='cuda:0'), tensor(-0.0267, device='cuda:0'), tensor(-0.0263, device='cuda:0'), tensor(-0.0263, device='cuda:0'), tensor(-0.0281, device='cuda:0'), tensor(-0.0267, device='cuda:0'), tensor(-0.0267, device='cuda:0'), tensor(-0.0278, device='cuda:0'), tensor(-0.0313, device='cuda:0'), tensor(-0.0337, device='cuda:0'), tensor(-0.0372, device='cuda:0'), tensor(-0.0386, device='cuda:0'), tensor(-0.0395, device='cuda:0'), tensor(-0.0383, device='cuda:0'), tensor(-0.0383, device='cuda:0'), tensor(-0.0379, device='cuda:0'), tensor(-0.0380, device='cuda:0'), tensor(-0.0384, device='cuda:0'), tensor(-0.0384, device='cuda:0'), tensor(-0.0384, device='cuda:0'), tensor(-0.0387, device='cuda:0'), tensor(-0.0399, device='cuda:0'), tensor(-0.0398, device='cuda:0'), tensor(-0.0388, device='cuda:0'), tensor(-0.0361, device='cuda:0'), tensor(-0.0360, device='cuda:0'), tensor(-0.0344, device='cuda:0'), tensor(-0.0345, device='cuda:0'), tensor(-0.0315, device='cuda:0'), tensor(-0.0327, device='cuda:0'), tensor(-0.0354, device='cuda:0'), tensor(-0.0327, device='cuda:0'), tensor(-0.0324, device='cuda:0'), tensor(-0.0354, device='cuda:0'), tensor(-0.0343, device='cuda:0'), tensor(-0.0334, device='cuda:0'), tensor(-0.0340, device='cuda:0'), tensor(-0.0331, device='cuda:0'), tensor(-0.0339, device='cuda:0'), tensor(-0.0339, device='cuda:0'), tensor(-0.0332, device='cuda:0'), tensor(-0.0362, device='cuda:0'), tensor(-0.0363, device='cuda:0'), tensor(-0.0381, device='cuda:0'), tensor(-0.0363, device='cuda:0'), tensor(-0.0356, device='cuda:0'), tensor(-0.0370, device='cuda:0'), tensor(-0.0341, device='cuda:0'), tensor(-0.0368, device='cuda:0'), tensor(-0.0359, device='cuda:0'), tensor(-0.0338, device='cuda:0'), tensor(-0.0333, device='cuda:0'), tensor(-0.0329, device='cuda:0'), tensor(-0.0327, device='cuda:0'), tensor(-0.0317, device='cuda:0'), tensor(-0.0324, device='cuda:0'), tensor(-0.0296, device='cuda:0'), tensor(-0.0301, device='cuda:0'), tensor(-0.0291, device='cuda:0'), tensor(-0.0268, device='cuda:0'), tensor(-0.0291, device='cuda:0'), tensor(-0.0305, device='cuda:0'), tensor(-0.0314, device='cuda:0'), tensor(-0.0306, device='cuda:0'), tensor(-0.0293, device='cuda:0'), tensor(-0.0309, device='cuda:0'), tensor(-0.0329, device='cuda:0'), tensor(-0.0337, device='cuda:0'), tensor(-0.0354, device='cuda:0'), tensor(-0.0355, device='cuda:0'), tensor(-0.0348, device='cuda:0'), tensor(-0.0371, device='cuda:0'), tensor(-0.0367, device='cuda:0'), tensor(-0.0374, device='cuda:0'), tensor(-0.0384, device='cuda:0'), tensor(-0.0376, device='cuda:0'), tensor(-0.0370, device='cuda:0'), tensor(-0.0381, device='cuda:0'), tensor(-0.0353, device='cuda:0'), tensor(-0.0367, device='cuda:0'), tensor(-0.0396, device='cuda:0'), tensor(-0.0367, device='cuda:0'), tensor(-0.0368, device='cuda:0'), tensor(-0.0357, device='cuda:0'), tensor(-0.0363, device='cuda:0'), tensor(-0.0373, device='cuda:0'), tensor(-0.0389, device='cuda:0'), tensor(-0.0378, device='cuda:0'), tensor(-0.0360, device='cuda:0'), tensor(-0.0386, device='cuda:0'), tensor(-0.0385, device='cuda:0'), tensor(-0.0390, device='cuda:0'), tensor(-0.0369, device='cuda:0'), tensor(-0.0362, device='cuda:0'), tensor(-0.0361, device='cuda:0'), tensor(-0.0365, device='cuda:0'), tensor(-0.0371, device='cuda:0'), tensor(-0.0345, device='cuda:0'), tensor(-0.0333, device='cuda:0'), tensor(-0.0338, device='cuda:0'), tensor(-0.0310, device='cuda:0'), tensor(-0.0310, device='cuda:0'), tensor(-0.0340, device='cuda:0'), tensor(-0.0354, device='cuda:0'), tensor(-0.0373, device='cuda:0'), tensor(-0.0337, device='cuda:0'), tensor(-0.0336, device='cuda:0'), tensor(-0.0353, device='cuda:0'), tensor(-0.0342, device='cuda:0'), tensor(-0.0337, device='cuda:0'), tensor(-0.0364, device='cuda:0'), tensor(-0.0362, device='cuda:0'), tensor(-0.0390, device='cuda:0'), tensor(-0.0371, device='cuda:0'), tensor(-0.0335, device='cuda:0'), tensor(-0.0336, device='cuda:0'), tensor(-0.0332, device='cuda:0'), tensor(-0.0343, device='cuda:0'), tensor(-0.0349, device='cuda:0'), tensor(-0.0355, device='cuda:0'), tensor(-0.0345, device='cuda:0'), tensor(-0.0304, device='cuda:0'), tensor(-0.0306, device='cuda:0'), tensor(-0.0305, device='cuda:0'), tensor(-0.0330, device='cuda:0'), tensor(-0.0346, device='cuda:0'), tensor(-0.0350, device='cuda:0'), tensor(-0.0345, device='cuda:0'), tensor(-0.0357, device='cuda:0'), tensor(-0.0360, device='cuda:0'), tensor(-0.0370, device='cuda:0'), tensor(-0.0366, device='cuda:0'), tensor(-0.0355, device='cuda:0'), tensor(-0.0363, device='cuda:0'), tensor(-0.0342, device='cuda:0'), tensor(-0.0359, device='cuda:0'), tensor(-0.0359, device='cuda:0'), tensor(-0.0355, device='cuda:0'), tensor(-0.0358, device='cuda:0'), tensor(-0.0371, device='cuda:0'), tensor(-0.0375, device='cuda:0'), tensor(-0.0350, device='cuda:0'), tensor(-0.0348, device='cuda:0'), tensor(-0.0334, device='cuda:0'), tensor(-0.0333, device='cuda:0'), tensor(-0.0338, device='cuda:0'), tensor(-0.0350, device='cuda:0'), tensor(-0.0361, device='cuda:0'), tensor(-0.0352, device='cuda:0'), tensor(-0.0353, device='cuda:0'), tensor(-0.0335, device='cuda:0'), tensor(-0.0323, device='cuda:0'), tensor(-0.0329, device='cuda:0'), tensor(-0.0310, device='cuda:0'), tensor(-0.0289, device='cuda:0'), tensor(-0.0347, device='cuda:0'), tensor(-0.0277, device='cuda:0'), tensor(-0.0266, device='cuda:0'), tensor(-0.0211, device='cuda:0'), tensor(-0.0092, device='cuda:0'), tensor(-0.0154, device='cuda:0'), tensor(0.0015, device='cuda:0'), tensor(0.0012, device='cuda:0'), tensor(-0.0229, device='cuda:0'), tensor(0.0097, device='cuda:0'), tensor(-0.0042, device='cuda:0'), tensor(0.0794, device='cuda:0'), tensor(-0.0062, device='cuda:0'), tensor(0.0486, device='cuda:0'), tensor(0.0271, device='cuda:0'), tensor(0.0646, device='cuda:0'), tensor(0.0018, device='cuda:0'), tensor(0.0768, device='cuda:0'), tensor(0.1639, device='cuda:0'), tensor(-0.0116, device='cuda:0'), tensor(-0.0132, device='cuda:0'), tensor(-0.0191, device='cuda:0'), tensor(-0.0190, device='cuda:0'), tensor(-0.0181, device='cuda:0'), tensor(0.0045, device='cuda:0'), tensor(-0.0056, device='cuda:0'), tensor(0.0079, device='cuda:0'), tensor(0.0424, device='cuda:0'), tensor(0.0045, device='cuda:0'), tensor(0.0592, device='cuda:0'), tensor(0.0772, device='cuda:0'), tensor(0.0168, device='cuda:0'), tensor(0.0420, device='cuda:0'), tensor(0.0508, device='cuda:0'), tensor(0.1116, device='cuda:0'), tensor(-0.0134, device='cuda:0'), tensor(-0.0240, device='cuda:0'), tensor(-0.0014, device='cuda:0'), tensor(0.0347, device='cuda:0'), tensor(0.1249, device='cuda:0'), tensor(0.0164, device='cuda:0'), tensor(-0.0333, device='cuda:0'), tensor(-0.0009, device='cuda:0'), tensor(0.0243, device='cuda:0'), tensor(0.0173, device='cuda:0'), tensor(0.1172, device='cuda:0'), tensor(-0.0326, device='cuda:0'), tensor(-0.0487, device='cuda:0'), tensor(0.0029, device='cuda:0'), tensor(0.0016, device='cuda:0'), tensor(-0.0129, device='cuda:0'), tensor(-0.0275, device='cuda:0'), tensor(-0.0174, device='cuda:0'), tensor(0.0809, device='cuda:0'), tensor(0.0178, device='cuda:0'), tensor(0.1365, device='cuda:0'), tensor(0.1572, device='cuda:0'), tensor(-0.0323, device='cuda:0'), tensor(-0.0559, device='cuda:0'), tensor(-0.0255, device='cuda:0'), tensor(-0.0227, device='cuda:0'), tensor(-0.0208, device='cuda:0'), tensor(-0.0547, device='cuda:0'), tensor(-0.0206, device='cuda:0'), tensor(-0.1224, device='cuda:0'), tensor(0.0082, device='cuda:0'), tensor(0.0032, device='cuda:0'), tensor(-0.0073, device='cuda:0'), tensor(-0.0027, device='cuda:0'), tensor(-0.0093, device='cuda:0'), tensor(-0.0042, device='cuda:0'), tensor(-0.0100, device='cuda:0'), tensor(-0.0039, device='cuda:0'), tensor(-0.0134, device='cuda:0'), tensor(-0.0087, device='cuda:0'), tensor(-0.0094, device='cuda:0'), tensor(-0.0088, device='cuda:0'), tensor(-0.0007, device='cuda:0'), tensor(-0.0093, device='cuda:0'), tensor(-0.0085, device='cuda:0'), tensor(-0.0131, device='cuda:0'), tensor(-0.0091, device='cuda:0'), tensor(-0.0069, device='cuda:0'), tensor(-0.0079, device='cuda:0'), tensor(-0.0094, device='cuda:0'), tensor(-0.0096, device='cuda:0'), tensor(-0.0034, device='cuda:0'), tensor(-0.0027, device='cuda:0'), tensor(-0.0091, device='cuda:0'), tensor(-0.0026, device='cuda:0'), tensor(-0.0040, device='cuda:0'), tensor(-0.0077, device='cuda:0'), tensor(0.0009, device='cuda:0'), tensor(-0.0003, device='cuda:0'), tensor(-0.0046, device='cuda:0'), tensor(-0.0041, device='cuda:0'), tensor(-0.0068, device='cuda:0'), tensor(-0.0066, device='cuda:0'), tensor(-0.0094, device='cuda:0'), tensor(-0.0031, device='cuda:0'), tensor(-0.0084, device='cuda:0'), tensor(-0.0100, device='cuda:0'), tensor(-0.0062, device='cuda:0'), tensor(-0.0056, device='cuda:0'), tensor(-0.0170, device='cuda:0'), tensor(-0.0110, device='cuda:0'), tensor(-0.0047, device='cuda:0'), tensor(-0.0056, device='cuda:0'), tensor(-0.0047, device='cuda:0'), tensor(-0.0055, device='cuda:0'), tensor(-0.0050, device='cuda:0'), tensor(-0.0035, device='cuda:0'), tensor(-0.0093, device='cuda:0'), tensor(-0.0138, device='cuda:0'), tensor(-0.0074, device='cuda:0'), tensor(-0.0092, device='cuda:0'), tensor(-0.0108, device='cuda:0'), tensor(-0.0096, device='cuda:0'), tensor(-0.0058, device='cuda:0'), tensor(-0.0119, device='cuda:0'), tensor(-0.0106, device='cuda:0'), tensor(-0.0073, device='cuda:0'), tensor(-0.0085, device='cuda:0'), tensor(-0.0055, device='cuda:0'), tensor(-0.0026, device='cuda:0'), tensor(-0.0095, device='cuda:0'), tensor(-0.0058, device='cuda:0'), tensor(-0.0032, device='cuda:0'), tensor(-0.0113, device='cuda:0'), tensor(-0.0075, device='cuda:0'), tensor(-0.0065, device='cuda:0'), tensor(-0.0083, device='cuda:0'), tensor(-0.0108, device='cuda:0'), tensor(-0.0048, device='cuda:0'), tensor(0.0034, device='cuda:0'), tensor(-0.0029, device='cuda:0'), tensor(-0.0022, device='cuda:0'), tensor(-0.0016, device='cuda:0'), tensor(-0.0152, device='cuda:0'), tensor(-0.0015, device='cuda:0'), tensor(-0.0077, device='cuda:0'), tensor(-0.0039, device='cuda:0'), tensor(-0.0170, device='cuda:0'), tensor(-0.0052, device='cuda:0'), tensor(-0.0026, device='cuda:0'), tensor(-0.0051, device='cuda:0'), tensor(-0.0087, device='cuda:0'), tensor(-0.0211, device='cuda:0'), tensor(-0.0095, device='cuda:0'), tensor(-0.0127, device='cuda:0'), tensor(-0.0253, device='cuda:0'), tensor(-0.0038, device='cuda:0'), tensor(-0.0084, device='cuda:0'), tensor(-0.0237, device='cuda:0'), tensor(-0.0042, device='cuda:0'), tensor(0.0108, device='cuda:0'), tensor(0.0164, device='cuda:0'), tensor(0.0210, device='cuda:0'), tensor(0.1659, device='cuda:0'), tensor(-0.0041, device='cuda:0'), tensor(-0.0446, device='cuda:0'), tensor(-0.0503, device='cuda:0'), tensor(0.0138, device='cuda:0'), tensor(-0.0189, device='cuda:0'), tensor(-0.0089, device='cuda:0'), tensor(0.0470, device='cuda:0'), tensor(0.2219, device='cuda:0'), tensor(-0.0675, device='cuda:0'), tensor(-0.0401, device='cuda:0'), tensor(-0.0401, device='cuda:0'), tensor(-0.0391, device='cuda:0'), tensor(0.0067, device='cuda:0'), tensor(0.0304, device='cuda:0'), tensor(0.0283, device='cuda:0'), tensor(-0.0188, device='cuda:0'), tensor(0.0057, device='cuda:0'), tensor(-0.0882, device='cuda:0'), tensor(-0.0101, device='cuda:0'), tensor(0.0541, device='cuda:0'), tensor(0.0316, device='cuda:0'), tensor(0.0866, device='cuda:0'), tensor(0.0428, device='cuda:0'), tensor(0.0635, device='cuda:0'), tensor(0.0965, device='cuda:0'), tensor(0.0284, device='cuda:0'), tensor(0.0475, device='cuda:0'), tensor(0.0891, device='cuda:0'), tensor(0.1011, device='cuda:0'), tensor(0.0778, device='cuda:0'), tensor(0.2011, device='cuda:0'), tensor(0.1052, device='cuda:0'), tensor(0.0858, device='cuda:0'), tensor(0.0695, device='cuda:0'), tensor(0.0592, device='cuda:0'), tensor(0.0783, device='cuda:0'), tensor(0.1223, device='cuda:0'), tensor(0.0923, device='cuda:0'), tensor(0.0405, device='cuda:0'), tensor(-0.0416, device='cuda:0'), tensor(0.0457, device='cuda:0'), tensor(0.0402, device='cuda:0'), tensor(0.1736, device='cuda:0'), tensor(0.0055, device='cuda:0'), tensor(0.0978, device='cuda:0'), tensor(0.1292, device='cuda:0'), tensor(-0.0218, device='cuda:0'), tensor(0.0146, device='cuda:0'), tensor(0.0792, device='cuda:0'), tensor(0.1003, device='cuda:0'), tensor(0.1039, device='cuda:0'), tensor(0.1783, device='cuda:0'), tensor(0.0520, device='cuda:0'), tensor(0.1381, device='cuda:0'), tensor(0.0022, device='cuda:0'), tensor(1.0177, device='cuda:0'), tensor(-0.0219, device='cuda:0'), tensor(-0.0372, device='cuda:0'), tensor(-0.0299, device='cuda:0'), tensor(-0.0194, device='cuda:0'), tensor(-0.0320, device='cuda:0'), tensor(-0.0282, device='cuda:0'), tensor(-0.0247, device='cuda:0'), tensor(-0.0248, device='cuda:0'), tensor(-0.0198, device='cuda:0'), tensor(-0.0219, device='cuda:0'), tensor(-0.0067, device='cuda:0'), tensor(-0.0230, device='cuda:0'), tensor(-0.0227, device='cuda:0'), tensor(-0.0056, device='cuda:0'), tensor(0.0074, device='cuda:0'), tensor(-0.0026, device='cuda:0'), tensor(0.0025, device='cuda:0'), tensor(-0.0040, device='cuda:0'), tensor(-0.0002, device='cuda:0'), tensor(-0.0150, device='cuda:0'), tensor(0.0099, device='cuda:0'), tensor(0.0072, device='cuda:0'), tensor(-0.0085, device='cuda:0'), tensor(0.0097, device='cuda:0'), tensor(-0.0180, device='cuda:0'), tensor(0.0195, device='cuda:0'), tensor(-0.0243, device='cuda:0'), tensor(-0.0225, device='cuda:0'), tensor(-0.0007, device='cuda:0'), tensor(0.0056, device='cuda:0'), tensor(0.0586, device='cuda:0'), tensor(0.2396, device='cuda:0'), tensor(-0.0274, device='cuda:0'), tensor(-0.0193, device='cuda:0'), tensor(-0.0112, device='cuda:0'), tensor(-0.0279, device='cuda:0'), tensor(-0.0364, device='cuda:0'), tensor(-0.0283, device='cuda:0'), tensor(-0.0374, device='cuda:0'), tensor(-0.0442, device='cuda:0'), tensor(-0.0762, device='cuda:0'), tensor(-0.0399, device='cuda:0'), tensor(-0.0380, device='cuda:0'), tensor(-0.0489, device='cuda:0'), tensor(-0.0563, device='cuda:0'), tensor(-0.0644, device='cuda:0'), tensor(-0.0849, device='cuda:0'), tensor(-0.0588, device='cuda:0'), tensor(-0.1059, device='cuda:0'), tensor(-0.0855, device='cuda:0'), tensor(-0.0752, device='cuda:0'), tensor(-0.1054, device='cuda:0'), tensor(-0.1186, device='cuda:0'), tensor(-0.0841, device='cuda:0'), tensor(-0.0732, device='cuda:0'), tensor(-0.0955, device='cuda:0'), tensor(-0.0529, device='cuda:0'), tensor(-0.0881, device='cuda:0'), tensor(-0.1969, device='cuda:0'), tensor(-0.0381, device='cuda:0'), tensor(-0.0141, device='cuda:0'), tensor(-0.0346, device='cuda:0'), tensor(-0.0441, device='cuda:0'), tensor(0.0041, device='cuda:0'), tensor(-0.0019, device='cuda:0'), tensor(0.0023, device='cuda:0'), tensor(-0.0581, device='cuda:0'), tensor(-0.0253, device='cuda:0'), tensor(-0.0393, device='cuda:0'), tensor(-0.0325, device='cuda:0'), tensor(-0.0314, device='cuda:0'), tensor(-0.0296, device='cuda:0'), tensor(-0.0349, device='cuda:0'), tensor(-0.1006, device='cuda:0'), tensor(-0.0218, device='cuda:0'), tensor(0.0472, device='cuda:0'), tensor(-0.0166, device='cuda:0'), tensor(0.0093, device='cuda:0'), tensor(0.0685, device='cuda:0'), tensor(0.0015, device='cuda:0'), tensor(0.0714, device='cuda:0'), tensor(0.0047, device='cuda:0'), tensor(-0.0210, device='cuda:0'), tensor(-0.0028, device='cuda:0'), tensor(0.0457, device='cuda:0'), tensor(0.0046, device='cuda:0'), tensor(0.0654, device='cuda:0'), tensor(0.0100, device='cuda:0'), tensor(0.0254, device='cuda:0'), tensor(0.0660, device='cuda:0'), tensor(-0.0269, device='cuda:0'), tensor(-0.0097, device='cuda:0'), tensor(-0.0533, device='cuda:0'), tensor(-0.0369, device='cuda:0'), tensor(-0.0788, device='cuda:0'), tensor(-0.0340, device='cuda:0'), tensor(-0.0551, device='cuda:0'), tensor(-0.0489, device='cuda:0'), tensor(-0.0486, device='cuda:0'), tensor(-0.0374, device='cuda:0'), tensor(-0.0385, device='cuda:0'), tensor(-0.0139, device='cuda:0'), tensor(-0.0460, device='cuda:0'), tensor(-0.0455, device='cuda:0'), tensor(-0.0649, device='cuda:0'), tensor(-0.0711, device='cuda:0'), tensor(-0.0037, device='cuda:0'), tensor(0.0025, device='cuda:0'), tensor(-0.0077, device='cuda:0'), tensor(-0.0192, device='cuda:0'), tensor(0.0161, device='cuda:0'), tensor(-0.0629, device='cuda:0'), tensor(-0.0113, device='cuda:0'), tensor(-0.0383, device='cuda:0'), tensor(-0.0758, device='cuda:0'), tensor(0.0044, device='cuda:0'), tensor(-0.0176, device='cuda:0'), tensor(0.0071, device='cuda:0'), tensor(0.0792, device='cuda:0'), tensor(-0.0323, device='cuda:0'), tensor(0.0267, device='cuda:0'), tensor(0.0872, device='cuda:0'), tensor(0.0318, device='cuda:0'), tensor(-0.0041, device='cuda:0'), tensor(0.0343, device='cuda:0'), tensor(0.0556, device='cuda:0'), tensor(0.0030, device='cuda:0'), tensor(0.0861, device='cuda:0'), tensor(0.0571, device='cuda:0'), tensor(0.0537, device='cuda:0'), tensor(-0.0012, device='cuda:0'), tensor(-0.0104, device='cuda:0'), tensor(0.0329, device='cuda:0'), tensor(0.0458, device='cuda:0'), tensor(0.0102, device='cuda:0'), tensor(-0.0186, device='cuda:0'), tensor(0.0119, device='cuda:0'), tensor(0.1255, device='cuda:0'), tensor(-0.0318, device='cuda:0'), tensor(-0.0944, device='cuda:0'), tensor(0.0227, device='cuda:0'), tensor(0.0097, device='cuda:0'), tensor(0.0304, device='cuda:0'), tensor(0.0255, device='cuda:0'), tensor(0.0331, device='cuda:0'), tensor(0.0098, device='cuda:0'), tensor(0.0844, device='cuda:0'), tensor(0.0888, device='cuda:0'), tensor(0.0804, device='cuda:0'), tensor(-0.0426, device='cuda:0'), tensor(-0.0074, device='cuda:0'), tensor(0.0067, device='cuda:0'), tensor(0.0246, device='cuda:0'), tensor(-0.0125, device='cuda:0'), tensor(0.0274, device='cuda:0'), tensor(0.0367, device='cuda:0'), tensor(0.0241, device='cuda:0'), tensor(0.0186, device='cuda:0'), tensor(-0.0068, device='cuda:0'), tensor(0.0504, device='cuda:0'), tensor(-0.0290, device='cuda:0'), tensor(-0.0040, device='cuda:0'), tensor(0.0299, device='cuda:0'), tensor(0.0166, device='cuda:0'), tensor(0.0961, device='cuda:0'), tensor(-0.0011, device='cuda:0'), tensor(-0.0549, device='cuda:0'), tensor(0.0603, device='cuda:0'), tensor(-0.0054, device='cuda:0'), tensor(-0.0130, device='cuda:0'), tensor(0.0124, device='cuda:0'), tensor(0.1016, device='cuda:0'), tensor(-0.0301, device='cuda:0'), tensor(-0.0135, device='cuda:0'), tensor(-0.0187, device='cuda:0'), tensor(-0.0352, device='cuda:0'), tensor(-0.0105, device='cuda:0'), tensor(-0.0056, device='cuda:0'), tensor(0.0588, device='cuda:0'), tensor(0.0376, device='cuda:0'), tensor(-0.0309, device='cuda:0'), tensor(-0.0462, device='cuda:0'), tensor(0.0128, device='cuda:0'), tensor(0.0457, device='cuda:0'), tensor(0.0298, device='cuda:0'), tensor(-0.0354, device='cuda:0'), tensor(0.0070, device='cuda:0'), tensor(-0.0361, device='cuda:0'), tensor(-0.0770, device='cuda:0'), tensor(-0.0255, device='cuda:0'), tensor(-0.0315, device='cuda:0'), tensor(-0.0051, device='cuda:0'), tensor(-0.0076, device='cuda:0'), tensor(-0.0050, device='cuda:0'), tensor(-0.0004, device='cuda:0'), tensor(0.0006, device='cuda:0'), tensor(0.0617, device='cuda:0'), tensor(-0.0171, device='cuda:0'), tensor(-0.0241, device='cuda:0'), tensor(0.0251, device='cuda:0'), tensor(-0.0430, device='cuda:0'), tensor(0.0209, device='cuda:0'), tensor(-0.0122, device='cuda:0'), tensor(-0.0114, device='cuda:0'), tensor(0.0139, device='cuda:0'), tensor(-0.0343, device='cuda:0'), tensor(0.0158, device='cuda:0'), tensor(-0.0037, device='cuda:0'), tensor(-0.0406, device='cuda:0'), tensor(0.0045, device='cuda:0'), tensor(-0.0411, device='cuda:0'), tensor(0.0122, device='cuda:0'), tensor(-0.0006, device='cuda:0'), tensor(-0.0059, device='cuda:0'), tensor(0.0184, device='cuda:0'), tensor(0.0283, device='cuda:0'), tensor(0.0482, device='cuda:0'), tensor(0.0120, device='cuda:0'), tensor(-0.0116, device='cuda:0'), tensor(0.0849, device='cuda:0'), tensor(0.0452, device='cuda:0'), tensor(-0.0188, device='cuda:0'), tensor(-0.0033, device='cuda:0'), tensor(-0.0058, device='cuda:0'), tensor(0.0329, device='cuda:0'), tensor(0.0941, device='cuda:0'), tensor(0.0320, device='cuda:0'), tensor(0.0039, device='cuda:0'), tensor(-0.0556, device='cuda:0'), tensor(0.0667, device='cuda:0'), tensor(-0.0385, device='cuda:0'), tensor(0.0239, device='cuda:0'), tensor(-0.0470, device='cuda:0'), tensor(0.0486, device='cuda:0'), tensor(0.0010, device='cuda:0'), tensor(0.0076, device='cuda:0'), tensor(-0.0779, device='cuda:0'), tensor(-0.0176, device='cuda:0'), tensor(-0.0388, device='cuda:0'), tensor(-0.0064, device='cuda:0'), tensor(0.0554, device='cuda:0'), tensor(-0.0377, device='cuda:0'), tensor(-0.0889, device='cuda:0'), tensor(-0.0543, device='cuda:0'), tensor(-0.0595, device='cuda:0'), tensor(0.0236, device='cuda:0'), tensor(-0.0017, device='cuda:0'), tensor(-0.0274, device='cuda:0'), tensor(-0.0085, device='cuda:0'), tensor(-0.0617, device='cuda:0'), tensor(-0.0531, device='cuda:0'), tensor(0.0170, device='cuda:0'), tensor(-0.0083, device='cuda:0'), tensor(-0.0519, device='cuda:0'), tensor(-0.1049, device='cuda:0'), tensor(-0.0270, device='cuda:0'), tensor(-0.1448, device='cuda:0'), tensor(-0.0141, device='cuda:0'), tensor(0.0103, device='cuda:0'), tensor(-0.0379, device='cuda:0'), tensor(-0.0373, device='cuda:0'), tensor(-0.0583, device='cuda:0'), tensor(-0.0375, device='cuda:0'), tensor(-0.0100, device='cuda:0'), tensor(-0.0499, device='cuda:0'), tensor(0.0111, device='cuda:0'), tensor(0.0190, device='cuda:0'), tensor(0.0181, device='cuda:0'), tensor(-0.1053, device='cuda:0'), tensor(-0.0618, device='cuda:0'), tensor(-0.0763, device='cuda:0'), tensor(-0.0472, device='cuda:0'), tensor(-0.0314, device='cuda:0'), tensor(-0.0725, device='cuda:0'), tensor(-0.0843, device='cuda:0'), tensor(-0.0793, device='cuda:0'), tensor(-0.0917, device='cuda:0'), tensor(-0.0989, device='cuda:0'), tensor(0.0076, device='cuda:0'), tensor(-0.0412, device='cuda:0'), tensor(-0.2041, device='cuda:0'), tensor(-0.0259, device='cuda:0'), tensor(-0.0390, device='cuda:0'), tensor(-0.0417, device='cuda:0'), tensor(-0.0264, device='cuda:0'), tensor(-0.0280, device='cuda:0'), tensor(0.1998, device='cuda:0'), tensor(-0.0193, device='cuda:0'), tensor(0.0359, device='cuda:0'), tensor(-0.0416, device='cuda:0'), tensor(-0.0415, device='cuda:0'), tensor(-0.0417, device='cuda:0'), tensor(-0.0418, device='cuda:0'), tensor(-0.0426, device='cuda:0'), tensor(-0.0417, device='cuda:0'), tensor(-0.0417, device='cuda:0'), tensor(-0.0417, device='cuda:0'), tensor(-0.0417, device='cuda:0'), tensor(-0.0417, device='cuda:0'), tensor(-0.0417, device='cuda:0'), tensor(-0.0417, device='cuda:0'), tensor(-0.0417, device='cuda:0'), tensor(-0.0417, device='cuda:0'), tensor(-0.0417, device='cuda:0'), tensor(-0.0417, device='cuda:0'), tensor(-0.0417, device='cuda:0'), tensor(-0.0417, device='cuda:0'), tensor(-0.0415, device='cuda:0'), tensor(-0.0417, device='cuda:0'), tensor(-0.0417, device='cuda:0'), tensor(-0.0412, device='cuda:0'), tensor(-0.0417, device='cuda:0'), tensor(-0.0402, device='cuda:0'), tensor(-0.0417, device='cuda:0'), tensor(-0.0417, device='cuda:0'), tensor(-0.0417, device='cuda:0'), tensor(-0.0417, device='cuda:0'), tensor(-0.0417, device='cuda:0'), tensor(-0.0417, device='cuda:0'), tensor(-0.0417, device='cuda:0'), tensor(-0.0417, device='cuda:0'), tensor(-0.0397, device='cuda:0'), tensor(-0.0417, device='cuda:0'), tensor(-0.0414, device='cuda:0'), tensor(-0.0417, device='cuda:0'), tensor(-0.0417, device='cuda:0'), tensor(-0.0417, device='cuda:0'), tensor(-0.0417, device='cuda:0'), tensor(-0.0417, device='cuda:0'), tensor(-0.0417, device='cuda:0'), tensor(-0.0417, device='cuda:0'), tensor(-0.0417, device='cuda:0'), tensor(-0.0417, device='cuda:0'), tensor(-0.0417, device='cuda:0'), tensor(-0.0417, device='cuda:0'), tensor(-0.0417, device='cuda:0'), tensor(-0.0417, device='cuda:0'), tensor(-0.0417, device='cuda:0'), tensor(-0.0417, device='cuda:0'), tensor(-0.0417, device='cuda:0'), tensor(-0.0417, device='cuda:0'), tensor(-0.0417, device='cuda:0'), tensor(-0.0417, device='cuda:0'), tensor(-0.0417, device='cuda:0'), tensor(-0.0417, device='cuda:0'), tensor(-0.0417, device='cuda:0'), tensor(-0.0417, device='cuda:0'), tensor(-0.0417, device='cuda:0'), tensor(-0.0417, device='cuda:0'), tensor(-0.0417, device='cuda:0'), tensor(-0.0417, device='cuda:0'), tensor(-0.0417, device='cuda:0'), tensor(-0.0417, device='cuda:0'), tensor(-0.0417, device='cuda:0'), tensor(-0.0417, device='cuda:0'), tensor(-0.0417, device='cuda:0'), tensor(-0.0417, device='cuda:0'), tensor(-0.0417, device='cuda:0'), tensor(-0.0417, device='cuda:0'), tensor(-0.0417, device='cuda:0'), tensor(-0.0417, device='cuda:0'), tensor(-0.0417, device='cuda:0'), tensor(-0.0417, device='cuda:0'), tensor(-0.0417, device='cuda:0'), tensor(-0.0417, device='cuda:0'), tensor(-0.0417, device='cuda:0'), tensor(-0.0417, device='cuda:0'), tensor(-0.0417, device='cuda:0'), tensor(-0.0417, device='cuda:0'), tensor(-0.0417, device='cuda:0'), tensor(-0.0417, device='cuda:0'), tensor(-0.0417, device='cuda:0'), tensor(-0.0417, device='cuda:0'), tensor(-0.0417, device='cuda:0'), tensor(-0.0417, device='cuda:0'), tensor(-0.0417, device='cuda:0'), tensor(-0.0417, device='cuda:0'), tensor(-0.0417, device='cuda:0'), tensor(-0.0417, device='cuda:0'), tensor(-0.0417, device='cuda:0'), tensor(-0.0417, device='cuda:0'), tensor(-0.0417, device='cuda:0'), tensor(-0.0417, device='cuda:0'), tensor(-0.0417, device='cuda:0'), tensor(-0.0417, device='cuda:0'), tensor(-0.0417, device='cuda:0'), tensor(-0.0417, device='cuda:0'), tensor(-0.0417, device='cuda:0'), tensor(-0.0417, device='cuda:0'), tensor(-0.0417, device='cuda:0'), tensor(-0.0417, device='cuda:0'), tensor(-0.0417, device='cuda:0'), tensor(-0.0417, device='cuda:0'), tensor(-0.0417, device='cuda:0'), tensor(-0.0417, device='cuda:0'), tensor(-0.0417, device='cuda:0'), tensor(-0.0417, device='cuda:0'), tensor(-0.0417, device='cuda:0'), tensor(-0.0417, device='cuda:0'), tensor(-0.0417, device='cuda:0'), tensor(-0.0417, device='cuda:0'), tensor(-0.0417, device='cuda:0'), tensor(-0.0417, device='cuda:0'), tensor(-0.0417, device='cuda:0'), tensor(-0.0417, device='cuda:0'), tensor(-0.0417, device='cuda:0'), tensor(-0.0417, device='cuda:0'), tensor(-0.0417, device='cuda:0'), tensor(-0.0417, device='cuda:0'), tensor(-0.0417, device='cuda:0'), tensor(-0.0405, device='cuda:0'), tensor(-0.0417, device='cuda:0'), tensor(-0.0417, device='cuda:0'), tensor(-0.0417, device='cuda:0'), tensor(-0.0417, device='cuda:0'), tensor(-0.0417, device='cuda:0'), tensor(-0.0413, device='cuda:0'), tensor(-0.0417, device='cuda:0'), tensor(-0.0417, device='cuda:0'), tensor(-0.0417, device='cuda:0'), tensor(-0.0417, device='cuda:0'), tensor(-0.0417, device='cuda:0'), tensor(-0.0413, device='cuda:0'), tensor(-0.0396, device='cuda:0'), tensor(-0.0415, device='cuda:0'), tensor(-0.0399, device='cuda:0'), tensor(-0.0378, device='cuda:0'), tensor(-0.0365, device='cuda:0'), tensor(-0.0375, device='cuda:0'), tensor(-0.0417, device='cuda:0'), tensor(-0.0417, device='cuda:0'), tensor(-0.0398, device='cuda:0'), tensor(-0.0365, device='cuda:0'), tensor(-0.0417, device='cuda:0'), tensor(-0.0379, device='cuda:0'), tensor(-0.0285, device='cuda:0'), tensor(-0.0363, device='cuda:0'), tensor(-0.0359, device='cuda:0'), tensor(-0.0383, device='cuda:0'), tensor(-0.0261, device='cuda:0'), tensor(-0.0380, device='cuda:0'), tensor(-0.0417, device='cuda:0'), tensor(-0.0417, device='cuda:0'), tensor(-0.0300, device='cuda:0'), tensor(0.0253, device='cuda:0'), tensor(-0.0388, device='cuda:0'), tensor(0.0004, device='cuda:0'), tensor(-0.0164, device='cuda:0'), tensor(-0.0187, device='cuda:0'), tensor(-0.0415, device='cuda:0'), tensor(-0.0272, device='cuda:0'), tensor(-0.0417, device='cuda:0'), tensor(-0.0355, device='cuda:0'), tensor(-0.0310, device='cuda:0'), tensor(0.0163, device='cuda:0'), tensor(-0.0049, device='cuda:0'), tensor(-0.0411, device='cuda:0'), tensor(-0.0383, device='cuda:0'), tensor(-0.0360, device='cuda:0'), tensor(-0.0325, device='cuda:0'), tensor(-0.0307, device='cuda:0'), tensor(-0.0057, device='cuda:0'), tensor(0.0032, device='cuda:0'), tensor(-0.0553, device='cuda:0'), tensor(-0.0274, device='cuda:0'), tensor(-0.0478, device='cuda:0'), tensor(-0.0343, device='cuda:0'), tensor(-0.0327, device='cuda:0'), tensor(-0.0558, device='cuda:0'), tensor(-0.0314, device='cuda:0'), tensor(-0.0483, device='cuda:0'), tensor(-0.0524, device='cuda:0'), tensor(-0.0805, device='cuda:0'), tensor(-0.0267, device='cuda:0'), tensor(-0.0456, device='cuda:0'), tensor(-0.0491, device='cuda:0'), tensor(-0.0639, device='cuda:0'), tensor(-0.0447, device='cuda:0'), tensor(0.0154, device='cuda:0'), tensor(-0.0646, device='cuda:0'), tensor(-0.0331, device='cuda:0'), tensor(0.0022, device='cuda:0'), tensor(-0.0172, device='cuda:0'), tensor(-0.0585, device='cuda:0'), tensor(-0.0078, device='cuda:0'), tensor(-0.0808, device='cuda:0'), tensor(-0.0189, device='cuda:0'), tensor(-0.0352, device='cuda:0'), tensor(-0.0513, device='cuda:0'), tensor(-0.0163, device='cuda:0'), tensor(0.0006, device='cuda:0'), tensor(-0.0276, device='cuda:0'), tensor(0.0083, device='cuda:0'), tensor(-0.0009, device='cuda:0'), tensor(-0.0098, device='cuda:0'), tensor(-0.0056, device='cuda:0'), tensor(-0.0198, device='cuda:0'), tensor(-0.0201, device='cuda:0'), tensor(-0.0210, device='cuda:0'), tensor(-0.0072, device='cuda:0'), tensor(0.0003, device='cuda:0'), tensor(-0.0031, device='cuda:0'), tensor(0.0459, device='cuda:0'), tensor(0.0554, device='cuda:0'), tensor(0.0069, device='cuda:0'), tensor(-0.0131, device='cuda:0'), tensor(-0.0249, device='cuda:0'), tensor(0.0224, device='cuda:0'), tensor(-0.0134, device='cuda:0'), tensor(0.0418, device='cuda:0'), tensor(0.0112, device='cuda:0'), tensor(-0.0030, device='cuda:0'), tensor(-0.0426, device='cuda:0'), tensor(0.0194, device='cuda:0'), tensor(-0.0256, device='cuda:0'), tensor(0.0103, device='cuda:0'), tensor(-0.0014, device='cuda:0'), tensor(-0.0419, device='cuda:0'), tensor(0.0010, device='cuda:0'), tensor(-0.0095, device='cuda:0'), tensor(-0.0086, device='cuda:0'), tensor(-0.0047, device='cuda:0'), tensor(-0.0356, device='cuda:0'), tensor(0.0140, device='cuda:0'), tensor(-0.0007, device='cuda:0'), tensor(0.0122, device='cuda:0'), tensor(0.0277, device='cuda:0'), tensor(-0.0125, device='cuda:0'), tensor(-0.0394, device='cuda:0'), tensor(0.0147, device='cuda:0'), tensor(0.0087, device='cuda:0'), tensor(-0.0097, device='cuda:0'), tensor(-0.0228, device='cuda:0'), tensor(0.0031, device='cuda:0'), tensor(-0.0247, device='cuda:0'), tensor(-0.0089, device='cuda:0'), tensor(-0.0070, device='cuda:0'), tensor(0.0195, device='cuda:0'), tensor(0.0508, device='cuda:0'), tensor(0.0150, device='cuda:0'), tensor(0.0063, device='cuda:0'), tensor(-0.0106, device='cuda:0'), tensor(-0.0383, device='cuda:0'), tensor(-0.0027, device='cuda:0'), tensor(0.0586, device='cuda:0'), tensor(-0.0112, device='cuda:0'), tensor(-0.0022, device='cuda:0'), tensor(0.0442, device='cuda:0'), tensor(-0.0068, device='cuda:0'), tensor(0.0475, device='cuda:0'), tensor(-0.0022, device='cuda:0'), tensor(-0.0328, device='cuda:0'), tensor(0.0639, device='cuda:0'), tensor(0.0249, device='cuda:0'), tensor(0.0791, device='cuda:0'), tensor(-0.0156, device='cuda:0'), tensor(0.0347, device='cuda:0'), tensor(0.0685, device='cuda:0'), tensor(-0.0095, device='cuda:0'), tensor(0.0368, device='cuda:0'), tensor(0.0122, device='cuda:0'), tensor(0.0209, device='cuda:0'), tensor(-0.0087, device='cuda:0'), tensor(0.0207, device='cuda:0'), tensor(0.0117, device='cuda:0'), tensor(-0.0345, device='cuda:0'), tensor(-0.0166, device='cuda:0'), tensor(-0.0329, device='cuda:0'), tensor(0.0093, device='cuda:0'), tensor(-0.0354, device='cuda:0'), tensor(-0.0071, device='cuda:0'), tensor(-0.0204, device='cuda:0'), tensor(-0.0212, device='cuda:0'), tensor(-0.0436, device='cuda:0'), tensor(-0.0193, device='cuda:0'), tensor(-0.0275, device='cuda:0'), tensor(-0.0503, device='cuda:0'), tensor(-0.0266, device='cuda:0'), tensor(0.0020, device='cuda:0'), tensor(-0.0370, device='cuda:0'), tensor(0.0229, device='cuda:0'), tensor(0.0326, device='cuda:0'), tensor(-0.0278, device='cuda:0'), tensor(-0.0276, device='cuda:0'), tensor(0.0171, device='cuda:0'), tensor(-0.0090, device='cuda:0'), tensor(3.4571e-05, device='cuda:0'), tensor(-0.0171, device='cuda:0'), tensor(-0.0230, device='cuda:0'), tensor(0.0117, device='cuda:0'), tensor(-0.0084, device='cuda:0'), tensor(0.0035, device='cuda:0'), tensor(-0.0151, device='cuda:0'), tensor(-0.0324, device='cuda:0'), tensor(-0.0275, device='cuda:0'), tensor(-0.0129, device='cuda:0'), tensor(0.0090, device='cuda:0'), tensor(-0.0126, device='cuda:0'), tensor(-0.0056, device='cuda:0'), tensor(-0.0232, device='cuda:0'), tensor(0.0326, device='cuda:0'), tensor(-0.0617, device='cuda:0'), tensor(-0.0354, device='cuda:0'), tensor(-0.0334, device='cuda:0'), tensor(-0.0499, device='cuda:0'), tensor(-0.0511, device='cuda:0'), tensor(-0.0596, device='cuda:0'), tensor(-0.0254, device='cuda:0'), tensor(0.0031, device='cuda:0'), tensor(-0.0035, device='cuda:0'), tensor(-0.0197, device='cuda:0'), tensor(-0.0394, device='cuda:0'), tensor(-0.0248, device='cuda:0'), tensor(0.0017, device='cuda:0'), tensor(-0.0030, device='cuda:0'), tensor(0.0694, device='cuda:0'), tensor(0.0141, device='cuda:0'), tensor(-0.0735, device='cuda:0'), tensor(-0.0776, device='cuda:0'), tensor(-0.0620, device='cuda:0'), tensor(-0.0492, device='cuda:0'), tensor(-0.0285, device='cuda:0'), tensor(0.0067, device='cuda:0'), tensor(-0.0955, device='cuda:0'), tensor(-0.0034, device='cuda:0'), tensor(-0.0080, device='cuda:0'), tensor(-0.0107, device='cuda:0'), tensor(0.0214, device='cuda:0'), tensor(-0.0721, device='cuda:0'), tensor(-0.0096, device='cuda:0'), tensor(-0.0540, device='cuda:0'), tensor(-0.0173, device='cuda:0'), tensor(-0.0411, device='cuda:0'), tensor(-0.0248, device='cuda:0'), tensor(-0.0183, device='cuda:0'), tensor(-0.0200, device='cuda:0'), tensor(0.0258, device='cuda:0'), tensor(-0.0531, device='cuda:0'), tensor(-0.0199, device='cuda:0'), tensor(0.0019, device='cuda:0'), tensor(0.0017, device='cuda:0'), tensor(0.0077, device='cuda:0'), tensor(-0.0410, device='cuda:0'), tensor(-0.1464, device='cuda:0'), tensor(-0.0514, device='cuda:0'), tensor(-0.0696, device='cuda:0'), tensor(-0.0401, device='cuda:0'), tensor(-0.0147, device='cuda:0'), tensor(-0.0305, device='cuda:0'), tensor(-0.0521, device='cuda:0'), tensor(-0.0384, device='cuda:0'), tensor(-0.0266, device='cuda:0'), tensor(0.0139, device='cuda:0'), tensor(-0.0515, device='cuda:0'), tensor(-0.0621, device='cuda:0'), tensor(-0.0612, device='cuda:0'), tensor(-0.0411, device='cuda:0'), tensor(-0.0460, device='cuda:0'), tensor(0.0222, device='cuda:0'), tensor(-0.0051, device='cuda:0'), tensor(-0.0531, device='cuda:0'), tensor(-0.0268, device='cuda:0'), tensor(-0.0641, device='cuda:0'), tensor(-0.0515, device='cuda:0'), tensor(-0.0628, device='cuda:0'), tensor(-0.0762, device='cuda:0'), tensor(0.0182, device='cuda:0'), tensor(-0.0017, device='cuda:0'), tensor(-0.0054, device='cuda:0'), tensor(-0.0012, device='cuda:0'), tensor(-0.0138, device='cuda:0'), tensor(-0.0290, device='cuda:0'), tensor(-0.0054, device='cuda:0'), tensor(0.0053, device='cuda:0'), tensor(-0.0025, device='cuda:0'), tensor(0.0537, device='cuda:0'), tensor(-0.0565, device='cuda:0'), tensor(-0.0123, device='cuda:0'), tensor(-0.0100, device='cuda:0'), tensor(-0.0387, device='cuda:0'), tensor(-0.0198, device='cuda:0'), tensor(-0.0106, device='cuda:0'), tensor(-0.0142, device='cuda:0'), tensor(-0.0202, device='cuda:0'), tensor(-0.0115, device='cuda:0'), tensor(0.0214, device='cuda:0'), tensor(-0.0045, device='cuda:0'), tensor(-0.0357, device='cuda:0'), tensor(0.0205, device='cuda:0'), tensor(0.0349, device='cuda:0'), tensor(-4.1723e-06, device='cuda:0'), tensor(-0.0439, device='cuda:0'), tensor(0.0316, device='cuda:0'), tensor(0.0143, device='cuda:0'), tensor(-0.0015, device='cuda:0'), tensor(-0.0169, device='cuda:0'), tensor(-0.0657, device='cuda:0'), tensor(-0.0494, device='cuda:0'), tensor(-0.0184, device='cuda:0'), tensor(-0.0371, device='cuda:0'), tensor(0.0203, device='cuda:0'), tensor(-0.0258, device='cuda:0'), tensor(-0.0345, device='cuda:0'), tensor(-0.0022, device='cuda:0'), tensor(0.0061, device='cuda:0'), tensor(-0.0116, device='cuda:0'), tensor(-0.0040, device='cuda:0'), tensor(-0.0451, device='cuda:0'), tensor(-0.0088, device='cuda:0'), tensor(0.0253, device='cuda:0'), tensor(-0.0510, device='cuda:0'), tensor(-0.0527, device='cuda:0'), tensor(-0.0332, device='cuda:0'), tensor(-0.0324, device='cuda:0'), tensor(-0.0069, device='cuda:0'), tensor(-0.1429, device='cuda:0'), tensor(-0.1061, device='cuda:0'), tensor(-0.0704, device='cuda:0'), tensor(-0.0609, device='cuda:0'), tensor(-0.0833, device='cuda:0'), tensor(-0.0814, device='cuda:0'), tensor(-0.1495, device='cuda:0'), tensor(-0.0803, device='cuda:0'), tensor(-0.0950, device='cuda:0'), tensor(-0.0751, device='cuda:0'), tensor(-0.0811, device='cuda:0'), tensor(-0.0810, device='cuda:0'), tensor(-0.0890, device='cuda:0'), tensor(-0.0801, device='cuda:0'), tensor(-0.0486, device='cuda:0'), tensor(-0.0725, device='cuda:0'), tensor(-0.0674, device='cuda:0'), tensor(-0.1170, device='cuda:0'), tensor(-0.0808, device='cuda:0'), tensor(-0.0972, device='cuda:0'), tensor(-0.1038, device='cuda:0'), tensor(-0.1235, device='cuda:0'), tensor(-0.0993, device='cuda:0'), tensor(-0.0855, device='cuda:0'), tensor(-0.1054, device='cuda:0'), tensor(-0.0740, device='cuda:0'), tensor(-0.0822, device='cuda:0'), tensor(-0.1137, device='cuda:0'), tensor(-0.0876, device='cuda:0'), tensor(-0.0684, device='cuda:0'), tensor(-0.0565, device='cuda:0'), tensor(-0.0747, device='cuda:0'), tensor(-0.1039, device='cuda:0'), tensor(-0.1041, device='cuda:0'), tensor(-0.1017, device='cuda:0'), tensor(-0.0911, device='cuda:0'), tensor(-0.0931, device='cuda:0'), tensor(-0.0883, device='cuda:0'), tensor(-0.0516, device='cuda:0'), tensor(-0.0663, device='cuda:0'), tensor(-0.1117, device='cuda:0'), tensor(-0.0893, device='cuda:0'), tensor(-0.0694, device='cuda:0'), tensor(-0.0834, device='cuda:0'), tensor(-0.0860, device='cuda:0'), tensor(-0.0980, device='cuda:0'), tensor(-0.0988, device='cuda:0'), tensor(-0.0440, device='cuda:0'), tensor(-0.0952, device='cuda:0'), tensor(-0.0792, device='cuda:0'), tensor(-0.0867, device='cuda:0'), tensor(-0.0829, device='cuda:0'), tensor(-0.0907, device='cuda:0'), tensor(-0.0780, device='cuda:0'), tensor(-0.1060, device='cuda:0'), tensor(-0.0835, device='cuda:0'), tensor(-0.0621, device='cuda:0'), tensor(-0.0913, device='cuda:0'), tensor(-0.0625, device='cuda:0'), tensor(-0.0708, device='cuda:0'), tensor(-0.1068, device='cuda:0'), tensor(-0.0746, device='cuda:0'), tensor(-0.0892, device='cuda:0'), tensor(-0.0752, device='cuda:0'), tensor(-0.0619, device='cuda:0'), tensor(-0.0952, device='cuda:0'), tensor(-0.0878, device='cuda:0'), tensor(-0.1065, device='cuda:0'), tensor(-0.0664, device='cuda:0'), tensor(-0.0609, device='cuda:0'), tensor(-0.0545, device='cuda:0'), tensor(-0.0904, device='cuda:0'), tensor(-0.0970, device='cuda:0'), tensor(-0.0857, device='cuda:0'), tensor(-0.0792, device='cuda:0'), tensor(-0.0850, device='cuda:0'), tensor(-0.0834, device='cuda:0'), tensor(-0.0692, device='cuda:0'), tensor(0.0055, device='cuda:0')]]\n"
     ]
    }
   ],
   "source": [
    "print(model.act_means)"
   ]
  },
  {
   "cell_type": "code",
   "execution_count": 214,
   "metadata": {},
   "outputs": [
    {
     "data": {
      "image/png": "[encoded data removed]",
      "text/plain": [
       "<Figure size 432x288 with 1 Axes>"
      ]
     },
     "metadata": {
      "needs_background": "light"
     },
     "output_type": "display_data"
    }
   ],
   "source": [
    "for l in model.act_means: plt.plot(l)\n",
    "plt.legend(range(6));"
   ]
  },
  {
   "cell_type": "markdown",
   "metadata": {},
   "source": [
    "# Looks really bad\n",
    "### During every session of training, the means get exponentially bigger, until they suddenly collapses. That's what these sharp peaks represent."
   ]
  },
  {
   "cell_type": "code",
   "execution_count": 215,
   "metadata": {},
   "outputs": [
    {
     "data": {
      "image/png": "[encoded data removed]",
      "text/plain": [
       "<Figure size 432x288 with 1 Axes>"
      ]
     },
     "metadata": {
      "needs_background": "light"
     },
     "output_type": "display_data"
    }
   ],
   "source": [
    "for l in model.act_stds: plt.plot(l)\n",
    "plt.legend(range(6));"
   ]
  },
  {
   "cell_type": "code",
   "execution_count": 216,
   "metadata": {},
   "outputs": [
    {
     "data": {
      "image/png": "[encoded data removed]",
      "text/plain": [
       "<Figure size 432x288 with 1 Axes>"
      ]
     },
     "metadata": {
      "needs_background": "light"
     },
     "output_type": "display_data"
    }
   ],
   "source": [
    "for l in model.act_means: plt.plot(l[:10])\n",
    "plt.legend(range(6));"
   ]
  },
  {
   "cell_type": "markdown",
   "metadata": {},
   "source": [
    "#### The first 10 means look okay, close to zero which is what we want"
   ]
  },
  {
   "cell_type": "code",
   "execution_count": 217,
   "metadata": {},
   "outputs": [
    {
     "data": {
      "image/png": "[encoded data removed]",
      "text/plain": [
       "<Figure size 432x288 with 1 Axes>"
      ]
     },
     "metadata": {
      "needs_background": "light"
     },
     "output_type": "display_data"
    }
   ],
   "source": [
    "for l in model.act_stds: plt.plot(l[:10])\n",
    "plt.legend(range(6));"
   ]
  },
  {
   "cell_type": "markdown",
   "metadata": {},
   "source": [
    "#### The first standard deviation is close ish to one, but then the next standard deviations just keep getting lower"
   ]
  },
  {
   "cell_type": "markdown",
   "metadata": {},
   "source": [
    "What's happening - our final layers are **getting no gradients!** "
   ]
  },
  {
   "cell_type": "code",
   "execution_count": null,
   "metadata": {},
   "outputs": [],
   "source": []
  }
 ],
 "metadata": {
  "kernelspec": {
   "display_name": "Python 3",
   "language": "python",
   "name": "python3"
  },
  "language_info": {
   "codemirror_mode": {
    "name": "ipython",
    "version": 3
   },
   "file_extension": ".py",
   "mimetype": "text/x-python",
   "name": "python",
   "nbconvert_exporter": "python",
   "pygments_lexer": "ipython3",
   "version": "3.7.6"
  }
 },
 "nbformat": 4,
 "nbformat_minor": 4
}
