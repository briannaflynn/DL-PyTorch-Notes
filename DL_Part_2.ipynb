{
 "cells": [
  {
   "cell_type": "markdown",
   "metadata": {},
   "source": [
    "# Notes Part 2"
   ]
  },
  {
   "cell_type": "markdown",
   "metadata": {},
   "source": [
    "Overfitting - does *not* mean that you're training loss is lower than validation loss! \n",
    "\n",
    "A well fit will almost always have training loss lower than the validation loss.\n",
    "\n",
    "Overfitting means - you're actually seeing your validation loss gettting worse."
   ]
  },
  {
   "cell_type": "markdown",
   "metadata": {},
   "source": [
    "### Five steps to avoid overfitting\n",
    "\n",
    "More data\n",
    "\n",
    "Data augmentation \n",
    "\n",
    "Generalizable architectures\n",
    "\n",
    "Regularization\n",
    "\n",
    "Reduce architecture complexity"
   ]
  },
  {
   "cell_type": "markdown",
   "metadata": {},
   "source": [
    "### Steps to a basic modern CNN model\n",
    "\n",
    "Matmul\n",
    "\n",
    "Relu / Init\n",
    "\n",
    "FC Forward\n",
    "\n",
    "FC backward\n",
    "\n",
    "Train loop\n",
    "\n",
    "Conv\n",
    "\n",
    "Optim\n",
    "\n",
    "Batch-Norm\n",
    "\n",
    "ResNet"
   ]
  },
  {
   "cell_type": "markdown",
   "metadata": {},
   "source": [
    "If you want to develop your own library in Jupyter notebooks, follow notebook2script.py"
   ]
  },
  {
   "cell_type": "code",
   "execution_count": null,
   "metadata": {},
   "outputs": [],
   "source": []
  }
 ],
 "metadata": {
  "kernelspec": {
   "display_name": "Python 3",
   "language": "python",
   "name": "python3"
  },
  "language_info": {
   "codemirror_mode": {
    "name": "ipython",
    "version": 3
   },
   "file_extension": ".py",
   "mimetype": "text/x-python",
   "name": "python",
   "nbconvert_exporter": "python",
   "pygments_lexer": "ipython3",
   "version": "3.7.6"
  }
 },
 "nbformat": 4,
 "nbformat_minor": 4
}
